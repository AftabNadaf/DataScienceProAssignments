{
 "cells": [
  {
   "cell_type": "markdown",
   "id": "0b8cd90b-b7b0-46a4-b81f-18a405386e95",
   "metadata": {},
   "source": [
    "For Loop :\n"
   ]
  },
  {
   "cell_type": "markdown",
   "id": "155a70e2-c855-4069-92bb-a9f8d7f88fa6",
   "metadata": {},
   "source": [
    "1)Write a Python program to print numbers from 1 to 10 using a for loop."
   ]
  },
  {
   "cell_type": "code",
   "execution_count": 1,
   "id": "60abe58e-2a2b-4a7c-a330-f64775153c5b",
   "metadata": {},
   "outputs": [
    {
     "name": "stdout",
     "output_type": "stream",
     "text": [
      "1\n",
      "2\n",
      "3\n",
      "4\n",
      "5\n",
      "6\n",
      "7\n",
      "8\n",
      "9\n",
      "10\n"
     ]
    }
   ],
   "source": [
    "for i in range(1,11):\n",
    "    print(i)   # the loop iterates from 1 to 10 and at every iteration it will print the counting\n",
    "    "
   ]
  },
  {
   "cell_type": "markdown",
   "id": "f8cd6158-edb3-40f8-abbc-81d2cf900fac",
   "metadata": {},
   "source": [
    "2)Explain the difference between a for loop and a while loop in Python"
   ]
  },
  {
   "cell_type": "code",
   "execution_count": null,
   "id": "7091bb5d-8d3c-4ec8-bc5b-e6225175ad30",
   "metadata": {},
   "outputs": [],
   "source": [
    "ANS=> python both for loop and while is used for repitative task but they have different structure and syntax.\n",
    "--->For Loop:-In a for loop, you specify an iterable (such as a list, tuple, string, or range) and\n",
    "the loop variable takes on each value from the iterable in sequence.\n",
    "in for loop variable is automatically initialize and incremented based on element in iterable.\n",
    "\n",
    "\n",
    "  --->While Loop:- n a while loop, you specify a condition, and the loop continues executing as long as the condition is True\n",
    "    . in while loop we have to manually initialize and update the loop control variable within the loop block.\n",
    "\n",
    "while condition:  \n",
    "    "
   ]
  },
  {
   "cell_type": "markdown",
   "id": "2200a482-4a95-4c0d-949a-b8662f7b1e81",
   "metadata": {},
   "source": [
    "3)Write a Python program to calculate the sum of all numbers from 1 to 100 using a for loop."
   ]
  },
  {
   "cell_type": "code",
   "execution_count": 2,
   "id": "24f5f150-8c8e-430c-83db-98f5cd87498a",
   "metadata": {},
   "outputs": [
    {
     "name": "stdin",
     "output_type": "stream",
     "text": [
      "Enter the range of the counting:  5\n"
     ]
    },
    {
     "name": "stdout",
     "output_type": "stream",
     "text": [
      "The sum of the numbers from 1 to n is: 15\n"
     ]
    }
   ],
   "source": [
    "# Prompt the user to enter the range of numbers they want to sum\n",
    "n = int(input(\"Enter the range of the counting: \"))\n",
    "\n",
    "# Initialize a variable 'add' to keep track of the running sum\n",
    "add = 0\n",
    "\n",
    "# Use a for loop to iterate through numbers from 1 to 'n'\n",
    "# The 'range(1, n+1)' generates numbers starting from 1 up to and including 'n'\n",
    "for i in range(1, n+1):\n",
    "    # Add the current value 'i' to the running sum 'add'\n",
    "    add = add + i\n",
    "\n",
    "# Print the result, which is the sum of numbers from 1 to 'n'\n",
    "print(\"The sum of the numbers from 1 to n is:\", add)"
   ]
  },
  {
   "cell_type": "markdown",
   "id": "b328aada-0d4f-46c1-9151-8a7567dc57f3",
   "metadata": {},
   "source": [
    "4)How do you iterate through a list using a for loop in Python?"
   ]
  },
  {
   "cell_type": "code",
   "execution_count": 3,
   "id": "515d2758-2cb2-4fc6-ad9e-1652fb52a9ec",
   "metadata": {},
   "outputs": [
    {
     "name": "stdout",
     "output_type": "stream",
     "text": [
      "1\n",
      "2\n",
      "3\n",
      "4\n",
      "5\n",
      "6\n",
      "7\n",
      "8\n",
      "9\n",
      "10\n"
     ]
    },
    {
     "data": {
      "text/plain": [
       "1"
      ]
     },
     "execution_count": 3,
     "metadata": {},
     "output_type": "execute_result"
    }
   ],
   "source": [
    "# Create a list called 'lis' containing some numbers\n",
    "lis = [1, 2, 3, 4, 5, 6, 7, 8, 9, 10]\n",
    "\n",
    "# Use a for loop to iterate through the elements of the 'lis' list\n",
    "# During each iteration, the loop variable 'i' will take on the value of the current element\n",
    "for i in lis:\n",
    "    # Inside the loop, print the current element 'i'\n",
    "    print(i)\n",
    "1"
   ]
  },
  {
   "cell_type": "markdown",
   "id": "6650cc57-42a6-4a71-8b26-6f5a82f0fd05",
   "metadata": {},
   "source": [
    "5)Write a Python program to find the product of all elements in a list using a for loop."
   ]
  },
  {
   "cell_type": "code",
   "execution_count": 4,
   "id": "f926ad1a-fe60-4014-881c-6a4094e1cee2",
   "metadata": {},
   "outputs": [
    {
     "name": "stdout",
     "output_type": "stream",
     "text": [
      "The product of the numbers in the list is: 3628800\n"
     ]
    }
   ],
   "source": [
    "# Create a list called 'lis' containing some numbers\n",
    "lis = [1, 2, 3, 4, 5, 6, 7, 8, 9, 10]\n",
    "\n",
    "# Initialize a variable 'prod' to store the product of the numbers, starting with 1\n",
    "prod = 1\n",
    "\n",
    "# Use a for loop to iterate through the elements of the 'lis' list\n",
    "# During each iteration, the loop variable 'i' will take on the value of the current element\n",
    "for i in lis:\n",
    "    # Inside the loop, multiply the current element 'i' with the running product 'prod'\n",
    "    prod = prod * i\n",
    "\n",
    "# Print the result, which is the product of all the numbers in the list\n",
    "print(\"The product of the numbers in the list is:\", prod)"
   ]
  },
  {
   "cell_type": "markdown",
   "id": "cf74e2b5-fc90-4406-9393-c0c7fb83e56b",
   "metadata": {},
   "source": [
    "6)Create a Python program that prints all even numbers from 1 to 20 using a for loop"
   ]
  },
  {
   "cell_type": "code",
   "execution_count": 5,
   "id": "47420cb5-a872-48c5-9914-872566db28b6",
   "metadata": {},
   "outputs": [
    {
     "name": "stdin",
     "output_type": "stream",
     "text": [
      "Enter the range of the numbers:  6\n"
     ]
    },
    {
     "name": "stdout",
     "output_type": "stream",
     "text": [
      "2\n",
      "4\n",
      "6\n"
     ]
    }
   ],
   "source": [
    "# Prompt the user to enter the range of numbers they want to check for even numbers\n",
    "n = int(input(\"Enter the range of the numbers: \"))\n",
    "\n",
    "# Use a for loop to iterate through numbers from 1 to 'n'\n",
    "# The 'range(1, n+1)' generates numbers starting from 1 up to and including 'n'\n",
    "for i in range(1, n+1):\n",
    "    # Check if the current number 'i' is even\n",
    "    if i % 2 == 0:\n",
    "        # If 'i' is even, print it\n",
    "        print(i)"
   ]
  },
  {
   "cell_type": "markdown",
   "id": "aab657a8-29e4-4147-9e47-8fdd37d579be",
   "metadata": {},
   "source": [
    "7)Write a Python program that calculates the factorial of a number using a for loop."
   ]
  },
  {
   "cell_type": "code",
   "execution_count": 6,
   "id": "66562411-4c85-43b1-98a2-946a940f3bfc",
   "metadata": {},
   "outputs": [
    {
     "name": "stdin",
     "output_type": "stream",
     "text": [
      "Enter the range of the numbers:-  9\n"
     ]
    },
    {
     "name": "stdout",
     "output_type": "stream",
     "text": [
      "The factorial of the number 9 is:- 362880\n"
     ]
    }
   ],
   "source": [
    "n=int(input(\"Enter the range of the numbers:- \"))\n",
    "fact=1\n",
    "\n",
    "for i in range(1,n+1):\n",
    "    fact=fact*i\n",
    "    \n",
    "print(f\"The factorial of the number {n} is:- {fact}\")"
   ]
  },
  {
   "cell_type": "markdown",
   "id": "fe7467e3-0833-4b6c-b498-9049b89d0249",
   "metadata": {},
   "source": [
    "8)How can you iterate through the characters of a string using a for loop in Python?"
   ]
  },
  {
   "cell_type": "code",
   "execution_count": 7,
   "id": "a0517905-8501-48b3-aee2-d9b882fa80e5",
   "metadata": {},
   "outputs": [
    {
     "name": "stdout",
     "output_type": "stream",
     "text": [
      "h\n",
      "e\n",
      "l\n",
      "l\n",
      "o\n",
      " \n",
      "w\n",
      "o\n",
      "r\n",
      "l\n",
      "d\n",
      "!\n"
     ]
    }
   ],
   "source": [
    "# Define a string called 'string' containing some text\n",
    "string = \"hello world!\"\n",
    "\n",
    "# Use a for loop to iterate through the characters in the 'string'\n",
    "# During each iteration, the loop variable 'i' will take on the value of the current character\n",
    "for i in string:\n",
    "    # Inside the loop, print the current character 'i'\n",
    "    print(i)"
   ]
  },
  {
   "cell_type": "markdown",
   "id": "eb8d507b-d090-4d0a-ab86-86fa02767353",
   "metadata": {},
   "source": [
    "9). Write a Python program to find the largest number in a list using a for loop."
   ]
  },
  {
   "cell_type": "code",
   "execution_count": 8,
   "id": "94717137-e1c2-483a-8f7b-12da0ad047f3",
   "metadata": {},
   "outputs": [
    {
     "name": "stdout",
     "output_type": "stream",
     "text": [
      "The largest number from the given list '[123, 876, 65, 435, 98, 1, 2, 3, 900]' is: 900\n"
     ]
    }
   ],
   "source": [
    "# Define a list called 'lis' containing some numbers\n",
    "lis = [123, 876, 65, 435, 98, 1, 2, 3, 900]\n",
    "\n",
    "# Initialize a variable 'max_number' to store the maximum value, initially set to the first element in the list\n",
    "max_number = lis[0]\n",
    "\n",
    "# Use a for loop to iterate through the elements of the 'lis' list\n",
    "for number in lis:\n",
    "    # Check if the current 'number' is greater than the current maximum 'max_number'\n",
    "    if number > max_number:\n",
    "        # If 'number' is greater, update 'max_number' with the new maximum value found\n",
    "        max_number = number\n",
    "\n",
    "# Print the largest number found in the list\n",
    "print(f\"The largest number from the given list '{lis}' is: {max_number}\")"
   ]
  },
  {
   "cell_type": "markdown",
   "id": "6f4224c6-be10-4c97-8d7e-90c6cd360554",
   "metadata": {},
   "source": [
    "10) Create a Python program that prints the Fibonacci sequence up to a specified limit using a for loop."
   ]
  },
  {
   "cell_type": "code",
   "execution_count": 9,
   "id": "e783c214-2bf6-496c-81aa-716fd810c0b6",
   "metadata": {},
   "outputs": [
    {
     "name": "stdin",
     "output_type": "stream",
     "text": [
      "Enter the limit of the given number:  12\n"
     ]
    },
    {
     "name": "stdout",
     "output_type": "stream",
     "text": [
      "The Fibonacci numbers up to 12 are:\n",
      "0 1 1 2 3 5 8 13 21 34 55 89 144 "
     ]
    }
   ],
   "source": [
    "# Define a function 'fibonacci' that generates the Fibonacci sequence up to a specified 'limit'\n",
    "def fibonacci(limit):\n",
    "    fib_seq = []  # Initialize an empty list to store the Fibonacci sequence\n",
    "\n",
    "    a, b = 0, 1  # Initialize the first two Fibonacci numbers\n",
    "\n",
    "    # Use a for loop to generate Fibonacci numbers until reaching the 'limit'\n",
    "    for _ in range(limit + 1):\n",
    "        fib_seq.append(a)  # Append the current Fibonacci number 'a' to the sequence\n",
    "        a, b = b, a + b   # Update 'a' and 'b' to calculate the next Fibonacci number\n",
    "\n",
    "    return fib_seq  # Return the generated Fibonacci sequence\n",
    "\n",
    "# Input: Prompt the user to enter the limit for the Fibonacci sequence\n",
    "limit = int(input(\"Enter the limit of the given number: \"))\n",
    "\n",
    "# Call the 'fibonacci' function with the specified limit to generate the sequence\n",
    "sequence = fibonacci(limit)\n",
    "\n",
    "# Print the generated Fibonacci sequence\n",
    "print(f\"The Fibonacci numbers up to {limit} are:\")\n",
    "for num in sequence:\n",
    "    print(num, end=\" \")  # Print each number in the sequence separated by a space"
   ]
  },
  {
   "cell_type": "markdown",
   "id": "a0492a89-78b7-477f-af57-db05f2037405",
   "metadata": {},
   "source": [
    "11)Write a Python program to count the number of vowels in a given string using a for loop"
   ]
  },
  {
   "cell_type": "code",
   "execution_count": 1,
   "id": "39c51361-ed78-42cd-9819-0c1173d082ad",
   "metadata": {},
   "outputs": [
    {
     "name": "stdin",
     "output_type": "stream",
     "text": [
      "Enter the string:  aftab\n"
     ]
    },
    {
     "name": "stdout",
     "output_type": "stream",
     "text": [
      "The count of vowels in the string is: 2\n"
     ]
    }
   ],
   "source": [
    "# Prompt the user to enter a string\n",
    "string = input(\"Enter the string: \")\n",
    "\n",
    "# Define a string 'vowels' containing all the vowel characters (both lowercase and uppercase)\n",
    "vowels = \"aeiouAEIOU\"\n",
    "\n",
    "# Initialize a variable 'count' to keep track of the count of vowels, starting at 0\n",
    "count = 0\n",
    "\n",
    "# Use a for loop to iterate through each character 'char' in the input 'string'\n",
    "for char in string:\n",
    "    # Check if the current character 'char' is in the 'vowels' string\n",
    "    if char in vowels:\n",
    "        # If 'char' is a vowel, increment the 'count' by 1\n",
    "        count = count + 1\n",
    "\n",
    "# Print the count of vowels found in the string\n",
    "print(\"The count of vowels in the string is:\", count)"
   ]
  },
  {
   "cell_type": "markdown",
   "id": "dece064b-ae3c-4226-bed3-4d98ec571a1a",
   "metadata": {},
   "source": [
    "12)Create a Python program that generates a multiplication table for a given number using a for loop."
   ]
  },
  {
   "cell_type": "code",
   "execution_count": 2,
   "id": "953736b6-44d6-42a3-8614-10d8b8d173c8",
   "metadata": {},
   "outputs": [
    {
     "name": "stdin",
     "output_type": "stream",
     "text": [
      "Enter the number:  3\n"
     ]
    },
    {
     "name": "stdout",
     "output_type": "stream",
     "text": [
      "3  *  1  =  3\n",
      "3  *  2  =  6\n",
      "3  *  3  =  9\n",
      "3  *  4  =  12\n",
      "3  *  5  =  15\n",
      "3  *  6  =  18\n",
      "3  *  7  =  21\n",
      "3  *  8  =  24\n",
      "3  *  9  =  27\n",
      "3  *  10  =  30\n"
     ]
    }
   ],
   "source": [
    "# Prompt the user to enter a number\n",
    "n = int(input(\"Enter the number: \"))\n",
    "\n",
    "# Use a for loop to iterate from 1 to 10 (inclusive)\n",
    "for i in range(1, 11):\n",
    "    # Calculate the product of 'n' and 'i' and print it in a formatted way\n",
    "    print(n, ' * ', i, ' = ', n * i)"
   ]
  },
  {
   "cell_type": "markdown",
   "id": "f965c3a0-5caa-44ef-90c8-8b1a4c5feaaf",
   "metadata": {},
   "source": [
    "13)Write a Python program to reverse a list using a for loop."
   ]
  },
  {
   "cell_type": "code",
   "execution_count": 5,
   "id": "156a64b8-9d89-4517-b5ed-14ffd7bd4828",
   "metadata": {},
   "outputs": [
    {
     "name": "stdout",
     "output_type": "stream",
     "text": [
      "Original List: [1, 2, 3, 4, 5, 6, 7, 8, 9, 10]\n",
      "Reversed List: [10, 9, 8, 7, 6, 5, 4, 3, 2, 1]\n"
     ]
    }
   ],
   "source": [
    "# Define an original list 'listi' with elements\n",
    "listi = [1, 2, 3, 4, 5, 6, 7, 8, 9, 10]\n",
    "\n",
    "# Initialize an empty list 'lis' to store the reversed elements\n",
    "lis = []\n",
    "\n",
    "# Use a for loop to iterate through the original list 'listi' in reverse order\n",
    "# We start from the last index (len(listi) - 1) and go in reverse direction until the first index (-1)\n",
    "for i in range(len(listi) - 1, -1, -1):\n",
    "    # Append the current element from 'listi' to the 'lis' list\n",
    "    lis.append(listi[i])\n",
    "\n",
    "# Print the original list and the reversed list\n",
    "print(\"Original List:\", listi)\n",
    "print(\"Reversed List:\", lis)"
   ]
  },
  {
   "cell_type": "markdown",
   "id": "7871946c-2a2f-4063-b741-bfc4a1fa7145",
   "metadata": {},
   "source": [
    "14)Write a Python program to find the common elements between two lists using a for loop."
   ]
  },
  {
   "cell_type": "code",
   "execution_count": 6,
   "id": "895b3988-dbb7-4e09-b64a-0db33734d927",
   "metadata": {},
   "outputs": [
    {
     "name": "stdout",
     "output_type": "stream",
     "text": [
      "The common elements from both lists are: [2, 4, 6, 8]\n"
     ]
    }
   ],
   "source": [
    "# Define two lists 'lis1' and 'lis2' with elements\n",
    "lis1 = [1, 2, 3, 4, 5, 6, 7, 8]\n",
    "lis2 = [2, 4, 6, 8, 10]\n",
    "\n",
    "# Initialize an empty list 'common_lis' to store the common elements\n",
    "common_lis = []\n",
    "\n",
    "# Use a for loop to iterate through elements in 'lis1'\n",
    "for i in lis1:\n",
    "    # Check if the current element 'i' is also in 'lis2'\n",
    "    if i in lis2:\n",
    "        # If 'i' is found in both lists, append it to 'common_lis'\n",
    "        common_lis.append(i)\n",
    "\n",
    "# Print the common elements found in both lists\n",
    "print(\"The common elements from both lists are:\", common_lis)"
   ]
  },
  {
   "cell_type": "markdown",
   "id": "cdf21783-e10f-4d93-9de6-33b2f1a5caf8",
   "metadata": {},
   "source": [
    "15)Explain how to use a for loop to iterate through the keys and values of a dictionary in Python."
   ]
  },
  {
   "cell_type": "code",
   "execution_count": 7,
   "id": "c816e866-2bcf-49af-949d-f08c052ed68e",
   "metadata": {},
   "outputs": [
    {
     "name": "stdout",
     "output_type": "stream",
     "text": [
      "name : James\n",
      "age : 19\n",
      "experience : 4 years\n"
     ]
    }
   ],
   "source": [
    "# we can iterate through key and values of a dictionary in python using the items() by for loop\n",
    "\n",
    "\n",
    "# Define a dictionary called 'dictio' with key-value pairs\n",
    "dictio = {\"name\": \"James\", \"age\": 19, \"experience\": \"4 years\"}\n",
    "\n",
    "# Use a for loop to iterate through the keys and values of the dictionary\n",
    "for key, value in dictio.items():\n",
    "    # Inside the loop, 'key' and 'value' represent each key-value pair from the dictionary\n",
    "    # Print the key and its corresponding value in a formatted way\n",
    "    print(key, \":\", value)"
   ]
  },
  {
   "cell_type": "markdown",
   "id": "9a150f51-57bd-47d4-92eb-8b330416e1a1",
   "metadata": {},
   "source": [
    "16)Write a Python program to find the GCD (Greatest Common Divisor) of two numbers using a for loop"
   ]
  },
  {
   "cell_type": "code",
   "execution_count": 8,
   "id": "7b587d60-a114-4fd8-9213-490cf1d425e4",
   "metadata": {},
   "outputs": [
    {
     "name": "stdin",
     "output_type": "stream",
     "text": [
      "Enter the first number:  2\n",
      "Enter the second number:  3\n"
     ]
    },
    {
     "name": "stdout",
     "output_type": "stream",
     "text": [
      "The GCD of 2 and 3 is: 1\n"
     ]
    }
   ],
   "source": [
    "# Function to find the GCD of two numbers using the Euclidean algorithm\n",
    "def find_gcd(a, b):\n",
    "    while b:\n",
    "        a, b = b, a % b\n",
    "    return a\n",
    "\n",
    "# Input: Prompt the user to enter two numbers\n",
    "num1 = int(input(\"Enter the first number: \"))\n",
    "num2 = int(input(\"Enter the second number: \"))\n",
    "\n",
    "# Call the find_gcd function to calculate the GCD\n",
    "gcd = find_gcd(num1, num2)\n",
    "\n",
    "# Print the GCD of the two numbers\n",
    "print(f\"The GCD of {num1} and {num2} is: {gcd}\")"
   ]
  },
  {
   "cell_type": "markdown",
   "id": "d2748927-1338-4f34-9979-a7236d06bfe2",
   "metadata": {},
   "source": [
    "17)Create a Python program that checks if a string is a palindrome using a for loop"
   ]
  },
  {
   "cell_type": "code",
   "execution_count": 9,
   "id": "a979db7c-7498-4eda-832e-f4048805ebb8",
   "metadata": {},
   "outputs": [
    {
     "name": "stdin",
     "output_type": "stream",
     "text": [
      "Enter the string:  aftab\n"
     ]
    },
    {
     "name": "stdout",
     "output_type": "stream",
     "text": [
      "The string is not a palindrome\n"
     ]
    }
   ],
   "source": [
    "# Prompt the user to enter a string\n",
    "string = input(\"Enter the string: \")\n",
    "\n",
    "# Initialize an empty list 'lis' to store individual characters from the string\n",
    "lis = []\n",
    "\n",
    "# Use a for loop to iterate through each character in the input string\n",
    "for i in string:\n",
    "    lis.append(i)  # Append each character to the 'lis' list\n",
    "\n",
    "# Reverse the 'lis' list to create a reversed string\n",
    "lis.reverse()\n",
    "\n",
    "# Join the reversed characters back into a single string\n",
    "final = ''.join(lis)\n",
    "\n",
    "# Check if the original string is equal to the reversed string (i.e., a palindrome)\n",
    "if string == final:\n",
    "    print(\"The string is a palindrome\")\n",
    "else:\n",
    "    print(\"The string is not a palindrome\")"
   ]
  },
  {
   "cell_type": "markdown",
   "id": "6118a5b4-047b-44bf-be48-d4432685c5ac",
   "metadata": {},
   "source": [
    "18)Write a Python program to remove duplicates from a list using a for loop"
   ]
  },
  {
   "cell_type": "code",
   "execution_count": 10,
   "id": "15aaf851-93db-4ad9-acf8-a88225e89be2",
   "metadata": {},
   "outputs": [
    {
     "name": "stdout",
     "output_type": "stream",
     "text": [
      "The list of unique items is: [1, 2, 3, 4, 5, 6, 7, 9, 10, 11]\n"
     ]
    }
   ],
   "source": [
    "# Define the original list 'lis' with duplicate elements\n",
    "lis = [1, 2, 3, 4, 5, 1, 3, 4, 6, 7, 3, 5, 4, 9, 10, 1, 11]\n",
    "\n",
    "# Initialize an empty list 'unique_lis' to store unique elements\n",
    "unique_lis = []\n",
    "\n",
    "# Use a for loop to iterate through each item in the original list 'lis'\n",
    "for item in lis:\n",
    "    # Check if the current item is not already in the 'unique_lis' list\n",
    "    if item not in unique_lis:\n",
    "        # If the item is not in the list, append it to 'unique_lis'\n",
    "        unique_lis.append(item)\n",
    "\n",
    "# Print the list containing unique items\n",
    "print(\"The list of unique items is:\", unique_lis)"
   ]
  },
  {
   "cell_type": "markdown",
   "id": "2c943cb1-f3a1-4f69-847c-0770bdb9c8ef",
   "metadata": {},
   "source": [
    "19)Create a Python program that counts the number of words in a sentence using a for loop."
   ]
  },
  {
   "cell_type": "code",
   "execution_count": 11,
   "id": "f696aaa8-8853-4d09-8354-cfc65ae824c4",
   "metadata": {},
   "outputs": [
    {
     "name": "stdin",
     "output_type": "stream",
     "text": [
      "Enter the string:  aftab\n"
     ]
    },
    {
     "name": "stdout",
     "output_type": "stream",
     "text": [
      "The total number of words in the string is: 1\n"
     ]
    }
   ],
   "source": [
    "# Prompt the user to enter a string\n",
    "string = input(\"Enter the string: \")\n",
    "\n",
    "# Split the input string into a list of words using whitespace as the delimiter\n",
    "lis = string.split()\n",
    "\n",
    "# Initialize a counter 'word_counter' to keep track of the number of words\n",
    "word_counter = 0\n",
    "\n",
    "# Use a for loop to iterate through each word in the list 'lis'\n",
    "for word in lis:\n",
    "    # Increment the 'word_counter' for each word encountered in the list\n",
    "    word_counter = word_counter + 1\n",
    "\n",
    "# Print the total count of words in the input string\n",
    "print(\"The total number of words in the string is:\", word_counter)"
   ]
  },
  {
   "cell_type": "markdown",
   "id": "7119ba8d-9172-43b6-824d-7c63e07c8205",
   "metadata": {},
   "source": [
    "20) Write a Python program to find the sum of all odd numbers from 1 to 50 using a for loop."
   ]
  },
  {
   "cell_type": "code",
   "execution_count": 12,
   "id": "badbe92a-ce5a-4fa8-8182-d96005f7832e",
   "metadata": {},
   "outputs": [
    {
     "name": "stdin",
     "output_type": "stream",
     "text": [
      "Enter the range of the numbers:-  5\n"
     ]
    },
    {
     "name": "stdout",
     "output_type": "stream",
     "text": [
      "The sum of the odd numbers upto n is:-  9\n"
     ]
    }
   ],
   "source": [
    "n=int(input(\"Enter the range of the numbers:- \"))\n",
    "add=0\n",
    "for i in range(1,n+1):\n",
    "    if(i%2!=0):\n",
    "        add=add+i\n",
    "        \n",
    "print(\"The sum of the odd numbers upto n is:- \",add)"
   ]
  },
  {
   "cell_type": "markdown",
   "id": "2dd08cf9-2f86-43da-b0ad-a2a8aaa9928a",
   "metadata": {},
   "source": [
    "21)Write a Python program that checks if a given year is a leap year using a for loop"
   ]
  },
  {
   "cell_type": "code",
   "execution_count": 13,
   "id": "46e4d0ab-92c6-410c-b757-232cc5c767b6",
   "metadata": {},
   "outputs": [
    {
     "name": "stdin",
     "output_type": "stream",
     "text": [
      "Enter the year to check the year is leap year or not:-  2004\n"
     ]
    },
    {
     "name": "stdout",
     "output_type": "stream",
     "text": [
      "The year 2004 is a leap year\n"
     ]
    }
   ],
   "source": [
    "year=int(input(\"Enter the year to check the year is leap year or not:- \"))\n",
    "\n",
    "if (year%4==0 and year%100!=0) or (year%40==0):\n",
    "    print(f\"The year {year} is a leap year\")\n",
    "else:\n",
    "    print(f\"The year {year} is not a leap year\")"
   ]
  },
  {
   "cell_type": "markdown",
   "id": "65dead0c-7701-4ac9-98c8-13a453480732",
   "metadata": {},
   "source": [
    "22)Create a Python program that calculates the square root of a number using a for loop"
   ]
  },
  {
   "cell_type": "code",
   "execution_count": 14,
   "id": "1598652d-8b40-4e05-add8-4fa90f1f7c86",
   "metadata": {},
   "outputs": [
    {
     "name": "stdin",
     "output_type": "stream",
     "text": [
      "Enter a number to calculate its square root:  5\n"
     ]
    },
    {
     "name": "stdout",
     "output_type": "stream",
     "text": [
      "The square root of 5.0 is approximately 2.236068\n"
     ]
    }
   ],
   "source": [
    "# Function to calculate the square root using the Newton-Raphson method\n",
    "def square_root(number, epsilon=1e-6, max_iterations=100):\n",
    "    guess = number / 2.0  # Initial guess (starting from half of the number)\n",
    "\n",
    "    for _ in range(max_iterations):\n",
    "        next_guess = 0.5 * (guess + number / guess)  # Calculate the next guess\n",
    "        if abs(next_guess - guess) < epsilon:\n",
    "            return next_guess  # If the guess is close enough to the actual square root, return it\n",
    "        guess = next_guess\n",
    "\n",
    "    return guess  # Return the final guess if max_iterations reached\n",
    "\n",
    "# Input: Prompt the user to enter a number\n",
    "number = float(input(\"Enter a number to calculate its square root: \"))\n",
    "\n",
    "# Calculate the square root using the square_root function\n",
    "result = square_root(number)\n",
    "\n",
    "# Print the calculated square root\n",
    "print(f\"The square root of {number} is approximately {result:.6f}\")"
   ]
  },
  {
   "cell_type": "markdown",
   "id": "4562641d-c79b-41bd-b6b9-cc67b4339719",
   "metadata": {},
   "source": [
    "23).Write a Python program to find the LCM (Least Common Multiple) of two numbers using a for loop."
   ]
  },
  {
   "cell_type": "code",
   "execution_count": 15,
   "id": "4990c5c1-97d0-4347-befb-c6d7c1dec5cf",
   "metadata": {},
   "outputs": [
    {
     "name": "stdin",
     "output_type": "stream",
     "text": [
      "Enter the first number:  3\n",
      "Enter the second number:  2\n"
     ]
    },
    {
     "name": "stdout",
     "output_type": "stream",
     "text": [
      "The LCM of 3 and 2 is: 6\n"
     ]
    }
   ],
   "source": [
    "# Input: Prompt the user to enter two numbers\n",
    "n1 = int(input(\"Enter the first number: \"))\n",
    "n2 = int(input(\"Enter the second number: \"))\n",
    "\n",
    "# Determine the greater number among n1 and n2\n",
    "if n1 > n2:\n",
    "    greater = n1\n",
    "else:\n",
    "    greater = n2\n",
    "\n",
    "# Use a while loop to find the LCM\n",
    "while True:\n",
    "    # Check if 'greater' is divisible by both n1 and n2\n",
    "    if greater % n1 == 0 and greater % n2 == 0:\n",
    "        lcm = greater  # If divisible, 'greater' is the LCM\n",
    "        break\n",
    "    \n",
    "    greater += 1  # Increment 'greater' to check the next number\n",
    "\n",
    "# Print the LCM of the two numbers\n",
    "print(f\"The LCM of {n1} and {n2} is: {lcm}\")"
   ]
  },
  {
   "cell_type": "markdown",
   "id": "d1ac1ba5-1d4b-4420-a5c8-a2d3e60117fc",
   "metadata": {},
   "source": [
    "if - else:--------"
   ]
  },
  {
   "cell_type": "markdown",
   "id": "b6980121-a572-4f85-a3e6-41f1b2f2d452",
   "metadata": {},
   "source": [
    "1) Write a Python program to check if a number is positive, negative, or zero using an if-else statement"
   ]
  },
  {
   "cell_type": "code",
   "execution_count": 16,
   "id": "3ac94417-90ba-4af1-93b6-ab7ac8729e78",
   "metadata": {},
   "outputs": [
    {
     "name": "stdin",
     "output_type": "stream",
     "text": [
      "Enter the number to check if it is positive, negative, or zero:  4\n"
     ]
    },
    {
     "name": "stdout",
     "output_type": "stream",
     "text": [
      "4 is a positive number\n"
     ]
    }
   ],
   "source": [
    "# Prompt the user to enter an integer and store it in the variable 'n'\n",
    "n = int(input(\"Enter the number to check if it is positive, negative, or zero: \"))\n",
    "\n",
    "# Check if 'n' is equal to 0\n",
    "if n == 0:\n",
    "    # If 'n' is equal to 0, print that it is zero\n",
    "    print(f\"{n} is zero\")\n",
    "\n",
    "# Check if 'n' is greater than 0\n",
    "elif n > 0:\n",
    "    # If 'n' is greater than 0, print that it is a positive number\n",
    "    print(f\"{n} is a positive number\")\n",
    "\n",
    "# If 'n' is neither 0 nor greater than 0, it must be negative\n",
    "else:\n",
    "    # If 'n' is not 0 or greater than 0, print that it is a negative number\n",
    "    print(f\"{n} is a negative number\")"
   ]
  },
  {
   "cell_type": "markdown",
   "id": "3e0b5375-385f-4f41-adb0-98100db62af2",
   "metadata": {},
   "source": [
    "2)Create a Python program that checks if a given number is even or odd using an if-else statement"
   ]
  },
  {
   "cell_type": "code",
   "execution_count": 17,
   "id": "7fd880cf-b1c8-4e0b-9af4-e8f5115a8a79",
   "metadata": {},
   "outputs": [
    {
     "name": "stdin",
     "output_type": "stream",
     "text": [
      "Enter the number to check if it is even or odd:  4\n"
     ]
    },
    {
     "name": "stdout",
     "output_type": "stream",
     "text": [
      "4 is an even number\n"
     ]
    }
   ],
   "source": [
    "# Prompt the user to enter an integer and store it in the variable 'n'\n",
    "n = int(input(\"Enter the number to check if it is even or odd: \"))\n",
    "\n",
    "# Check if 'n' is divisible by 2 (i.e., it leaves no remainder when divided by 2)\n",
    "if n % 2 == 0:\n",
    "    # If 'n' is divisible by 2, it is an even number; so, print that it is even\n",
    "    print(f\"{n} is an even number\")\n",
    "    \n",
    "# If 'n' is not divisible by 2 (i.e., it leaves a remainder when divided by 2)\n",
    "else:\n",
    "    # If 'n' is not divisible by 2, it is an odd number; so, print that it is odd\n",
    "    print(f\"{n} is an odd number\")"
   ]
  },
  {
   "cell_type": "markdown",
   "id": "fe6d7d43-65b0-40ad-90f6-041cae178a5a",
   "metadata": {},
   "source": [
    "3)How can you use nested if-else statements in Python, and provide an example?"
   ]
  },
  {
   "cell_type": "code",
   "execution_count": 18,
   "id": "b021e475-515a-4110-8d97-a6b94603c9ef",
   "metadata": {},
   "outputs": [
    {
     "name": "stdin",
     "output_type": "stream",
     "text": [
      "Enter the marks of the student to check its grade:-  99\n"
     ]
    },
    {
     "name": "stdout",
     "output_type": "stream",
     "text": [
      "Grade A\n"
     ]
    }
   ],
   "source": [
    "\"\"\"\n",
    "Nested if-else statements in Python are used to create a more complex \n",
    "decision-making structure within another if or else block. \n",
    "This allows you to evaluate multiple conditions sequentially, with each inner\n",
    "if-else block being dependent on the condition(s) of its outer block.\n",
    "Nested if-else statements can be used to handle various scenarios and make\n",
    "your code more flexible.\n",
    "\n",
    "\"\"\"\n",
    "\n",
    "# for e.g:--\n",
    "\n",
    "marks=float(input(\"Enter the marks of the student to check its grade:- \"))\n",
    "\n",
    "if marks>=90:\n",
    "    print(\"Grade A\")\n",
    "    \n",
    "else:\n",
    "    if marks>=80:\n",
    "        print(\"Grade B\")\n",
    "    \n",
    "    elif marks>=70:\n",
    "        print(\"Grade C\")\n",
    "        \n",
    "    elif marks>=60:\n",
    "        print(\"Grade D\")\n",
    "        \n",
    "    elif marks>=50:\n",
    "        print(\"Grade E\")\n",
    "        \n",
    "    elif marks>=40:\n",
    "        print(\"Grade E1\")\n",
    "        \n",
    "    else:\n",
    "        print(\"Fail\")\n"
   ]
  },
  {
   "cell_type": "markdown",
   "id": "3ecabd54-28dd-4693-9dad-71f316be78be",
   "metadata": {},
   "source": [
    "4)Write a Python program to determine the largest of three numbers using if-else."
   ]
  },
  {
   "cell_type": "code",
   "execution_count": 19,
   "id": "146545f2-8a0e-4cf9-b723-a690e6620900",
   "metadata": {},
   "outputs": [
    {
     "name": "stdin",
     "output_type": "stream",
     "text": [
      "Enter the first number:  2\n",
      "Enter the second number:  3\n",
      "Enter the third number:  4\n"
     ]
    },
    {
     "name": "stdout",
     "output_type": "stream",
     "text": [
      "4 is greater than 3 and 2\n"
     ]
    }
   ],
   "source": [
    "# Prompt the user to enter the first number and store it in variable 'a'\n",
    "a = int(input(\"Enter the first number: \"))\n",
    "\n",
    "# Prompt the user to enter the second number and store it in variable 'b'\n",
    "b = int(input(\"Enter the second number: \"))\n",
    "\n",
    "# Prompt the user to enter the third number and store it in variable 'c'\n",
    "c = int(input(\"Enter the third number: \"))\n",
    "\n",
    "# Check if 'a' is greater than or equal to both 'b' and 'c'\n",
    "if a >= b and a >= c:\n",
    "    # If 'a' is the greatest, print a message indicating it is greater than 'b' and 'c'\n",
    "    print(f\"{a} is greater than {b} and {c}\")\n",
    "    \n",
    "# If 'a' is not the greatest, check if 'b' is greater than or equal to 'c'    \n",
    "elif b >= a and b >= c:\n",
    "    # If 'b' is the greatest, print a message indicating it is greater than 'c' and 'a'\n",
    "    print(f\"{b} is greater than {c} and {a}\")\n",
    "    \n",
    "# If neither 'a' nor 'b' is the greatest, it means 'c' is the greatest\n",
    "else:\n",
    "    # Print a message indicating that 'c' is greater than 'b' and 'a'\n",
    "    print(f\"{c} is greater than {b} and {a}\")"
   ]
  },
  {
   "cell_type": "markdown",
   "id": "650be996-f9ed-4001-854c-bd9b9a96c990",
   "metadata": {},
   "source": [
    "5)Write a Python program that calculates the absolute value of a number using if-else."
   ]
  },
  {
   "cell_type": "code",
   "execution_count": 20,
   "id": "a5d045a0-61ea-423d-a0f7-a3a2bfd058b5",
   "metadata": {},
   "outputs": [
    {
     "name": "stdin",
     "output_type": "stream",
     "text": [
      "Enter the number:  2\n"
     ]
    },
    {
     "name": "stdout",
     "output_type": "stream",
     "text": [
      "The number 2 is already in its absolute form\n"
     ]
    }
   ],
   "source": [
    "# Prompt the user to enter a number and store it in variable 'n'\n",
    "n = int(input(\"Enter the number: \"))\n",
    "\n",
    "# Check if 'n' is less than 0 (negative)\n",
    "if n < 0:\n",
    "    # Calculate the absolute value of 'n' using the 'abs' function\n",
    "    absolute = abs(n)\n",
    "    \n",
    "    # Print a message indicating the absolute value of 'n'\n",
    "    print(f\"The absolute value of {n} is {absolute}\")\n",
    "    \n",
    "# If 'n' is non-negative (zero or positive)\n",
    "else:\n",
    "    # Print a message stating that 'n' is already in its absolute form\n",
    "    print(f\"The number {n} is already in its absolute form\")"
   ]
  },
  {
   "cell_type": "markdown",
   "id": "df7f403e-053d-4e9a-828e-2ca0540dfdce",
   "metadata": {},
   "source": [
    "6) Create a Python program that checks if a given character is a vowel or consonant using if-else."
   ]
  },
  {
   "cell_type": "code",
   "execution_count": 21,
   "id": "deeae0b4-bc36-4973-9558-f365a6eecc6e",
   "metadata": {},
   "outputs": [
    {
     "name": "stdin",
     "output_type": "stream",
     "text": [
      "Enter a valid alphabet character:-  a\n"
     ]
    },
    {
     "name": "stdout",
     "output_type": "stream",
     "text": [
      " 'a' is a vowel\n"
     ]
    }
   ],
   "source": [
    "ch=input(\"Enter a valid alphabet character:- \")\n",
    "vowels=\"AEIOUaeiou\"\n",
    "\n",
    "if ch in vowels:\n",
    "    print(f\" '{ch}' is a vowel\")\n",
    "\n",
    "else:\n",
    "    print(f\" '{ch}' is a consonant\")"
   ]
  },
  {
   "cell_type": "markdown",
   "id": "07b2f4b2-c817-4917-9917-bf0fe2859940",
   "metadata": {},
   "source": [
    "7)Write a Python program to determine if a user is eligible to vote based on their age using if-else."
   ]
  },
  {
   "cell_type": "code",
   "execution_count": 22,
   "id": "53a4130e-4575-454a-ae26-85fc4e4ae3cf",
   "metadata": {},
   "outputs": [
    {
     "name": "stdin",
     "output_type": "stream",
     "text": [
      "Enter the age of the person:  55\n"
     ]
    },
    {
     "name": "stdout",
     "output_type": "stream",
     "text": [
      "The person can vote!\n"
     ]
    }
   ],
   "source": [
    "# Prompt the user to enter the age of the person and store it in the 'age' variable\n",
    "age = int(input(\"Enter the age of the person: \"))\n",
    "\n",
    "# Check if 'age' is greater than or equal to 18\n",
    "if age >= 18:\n",
    "    # If 'age' is 18 or older, print a message indicating that the person can vote\n",
    "    print(\"The person can vote!\")\n",
    "    \n",
    "# If 'age' is less than 18\n",
    "else:\n",
    "    # Print a message indicating that the person is not eligible for voting\n",
    "    print(\"The person is not eligible for voting!\")"
   ]
  },
  {
   "cell_type": "markdown",
   "id": "d081dea4-b987-44f4-a04e-5d4e2dfecb94",
   "metadata": {},
   "source": [
    "8)Create a Python program that calculates the discount amount based on the purchase amount using if-else"
   ]
  },
  {
   "cell_type": "code",
   "execution_count": 23,
   "id": "84c7f9a6-99d4-4893-ba65-1ab85c7dd2e7",
   "metadata": {},
   "outputs": [
    {
     "name": "stdin",
     "output_type": "stream",
     "text": [
      "Enter the amount to check your discounted price:  55\n"
     ]
    },
    {
     "name": "stdout",
     "output_type": "stream",
     "text": [
      "Discount amount with discount rate 0%: 0 Rupees\n",
      "Total bill: 55 Rupees\n"
     ]
    }
   ],
   "source": [
    "amount = int(input(\"Enter the amount to check your discounted price: \"))\n",
    "\n",
    "if amount <= 5000:\n",
    "    rate = 0  # No discount for amounts less than or equal to 5000 Rupees\n",
    "    \n",
    "elif amount <= 20000:\n",
    "    rate = 0.2  # 20% discount for amounts between 5000 and 20000 Rupees\n",
    "    \n",
    "elif amount <= 40000:\n",
    "    rate = 0.3  # 30% discount for amounts between 20000 and 40000 Rupees\n",
    "    \n",
    "else:\n",
    "    rate = 0.4  # 40% discount for amounts greater than 40000 Rupees\n",
    "\n",
    "# Calculate the discounted price and total bill\n",
    "discounted_price = amount * rate\n",
    "total_bill = amount - discounted_price\n",
    "\n",
    "print(f\"Discount amount with discount rate {rate*100}%: {discounted_price} Rupees\")\n",
    "print(f\"Total bill: {total_bill} Rupees\")"
   ]
  },
  {
   "cell_type": "markdown",
   "id": "19169c28-d0a1-4e59-9574-f602194f6565",
   "metadata": {},
   "source": [
    "9)Write a Python program to check if a number is within a specified range using if-else."
   ]
  },
  {
   "cell_type": "code",
   "execution_count": 25,
   "id": "5ef304a8-4f77-4d77-95d7-3dc9759d1a49",
   "metadata": {},
   "outputs": [
    {
     "name": "stdin",
     "output_type": "stream",
     "text": [
      "Enter the number:  15\n"
     ]
    },
    {
     "name": "stdout",
     "output_type": "stream",
     "text": [
      "15 lies between the range 10-100\n"
     ]
    }
   ],
   "source": [
    "# Define the upper and lower limits of the range\n",
    "upper_limit = 100\n",
    "lower_limit = 10\n",
    "\n",
    "# Prompt the user to enter a number and store it in the variable 'n'\n",
    "n = int(input(\"Enter the number: \"))\n",
    "\n",
    "# Check if 'n' is within the specified range\n",
    "if n >= lower_limit and n <= upper_limit:\n",
    "    # If 'n' is within the range, print a message indicating so\n",
    "    print(f\"{n} lies between the range {lower_limit}-{upper_limit}\")\n",
    "else:\n",
    "    # If 'n' is outside the range, print a message indicating so\n",
    "    print(f\"{n} number is out of the range\")"
   ]
  },
  {
   "cell_type": "markdown",
   "id": "eb4a803c-ed50-4f9f-ad1c-3ad724bf7a33",
   "metadata": {},
   "source": [
    "10)Create a Python program that determines the grade of a student based on their score using if-else"
   ]
  },
  {
   "cell_type": "code",
   "execution_count": 26,
   "id": "014767a7-821a-43dc-b6d0-f2d9d284faa3",
   "metadata": {},
   "outputs": [
    {
     "name": "stdin",
     "output_type": "stream",
     "text": [
      "Enter the marks of the student:  55\n"
     ]
    },
    {
     "name": "stdout",
     "output_type": "stream",
     "text": [
      "Grade E1\n"
     ]
    }
   ],
   "source": [
    "# Prompt the user to enter the marks of the student as a floating-point number\n",
    "marks = float(input(\"Enter the marks of the student: \"))\n",
    "\n",
    "# Check the marks against grade criteria, starting with the highest grade\n",
    "\n",
    "# If marks are 90 or higher, assign 'Grade A'\n",
    "if marks >= 90:\n",
    "    print(\"Grade A\")\n",
    "    \n",
    "# If marks are between 80 and 89 (inclusive), assign 'Grade B'\n",
    "elif marks >= 80:\n",
    "    print(\"Grade B\")\n",
    "    \n",
    "# If marks are between 70 and 79 (inclusive), assign 'Grade C'\n",
    "elif marks >= 70:\n",
    "    print(\"Grade C\")\n",
    "    \n",
    "# If marks are between 60 and 69 (inclusive), assign 'Grade D'\n",
    "elif marks >= 60:\n",
    "    print(\"Grade D\")\n",
    "    \n",
    "# If marks are between 50 and 59 (inclusive), assign 'Grade E1'\n",
    "elif marks >= 50:\n",
    "    print(\"Grade E1\")\n",
    "    \n",
    "# If marks are between 40 and 49 (inclusive), assign 'Grade E'\n",
    "elif marks >= 40:\n",
    "    print(\"Grade E\")\n",
    "    \n",
    "# If marks are below 40, assign 'FAIL!'\n",
    "else:\n",
    "    print(\"FAIL!\")"
   ]
  },
  {
   "cell_type": "markdown",
   "id": "42abfdba-28da-405c-8eca-0b8a708762c2",
   "metadata": {},
   "source": [
    "11)Write a Python program to check if a string is empty or not using if-else."
   ]
  },
  {
   "cell_type": "code",
   "execution_count": 27,
   "id": "b31b2979-35ba-4ff6-a5bb-81aec7e0e69c",
   "metadata": {},
   "outputs": [
    {
     "name": "stdin",
     "output_type": "stream",
     "text": [
      "Enter the string:  aftab\n"
     ]
    },
    {
     "name": "stdout",
     "output_type": "stream",
     "text": [
      "The string 'aftab' is not an empty string\n"
     ]
    }
   ],
   "source": [
    "# Prompt the user to enter a string and store it in the variable 'inp_str'\n",
    "inp_str = input(\"Enter the string: \")\n",
    "\n",
    "# Calculate the length of the input string using the 'len' function\n",
    "length = len(inp_str)\n",
    "\n",
    "# Check if the length of the input string is equal to 0\n",
    "if length == 0:\n",
    "    # If the length is 0, print a message indicating that the string is empty\n",
    "    print(f\"The string '{inp_str}' is an empty string\")\n",
    "    \n",
    "# If the length is not 0\n",
    "else:\n",
    "    # Print a message indicating that the string is not empty\n",
    "    print(f\"The string '{inp_str}' is not an empty string\")"
   ]
  },
  {
   "cell_type": "markdown",
   "id": "76540c2d-3572-4dec-9517-fbc0e8d55d25",
   "metadata": {},
   "source": [
    "12) Create a Python program that identifies the type of a triangle (e.g., equilateral, isosceles, or scalene) based on input values using if-else."
   ]
  },
  {
   "cell_type": "code",
   "execution_count": 28,
   "id": "0319b441-74b1-47b1-ada3-184ed3aba937",
   "metadata": {},
   "outputs": [
    {
     "name": "stdin",
     "output_type": "stream",
     "text": [
      "Enter the length of the first side of the triangle:  123\n",
      "Enter the length of the second side of the triangle:  321\n",
      "Enter the length of the third side of the triangle:  111\n"
     ]
    },
    {
     "name": "stdout",
     "output_type": "stream",
     "text": [
      "Scalene triangle!\n"
     ]
    }
   ],
   "source": [
    "# Prompt the user to enter the lengths of the three sides of the triangle\n",
    "side1 = float(input(\"Enter the length of the first side of the triangle: \"))\n",
    "side2 = float(input(\"Enter the length of the second side of the triangle: \"))\n",
    "side3 = float(input(\"Enter the length of the third side of the triangle: \"))\n",
    "\n",
    "# Check the type of triangle based on side lengths\n",
    "\n",
    "# If all three sides are equal, it's an equilateral triangle\n",
    "if side1 == side2 == side3:\n",
    "    print(\"Equilateral triangle!\")\n",
    "\n",
    "# If at least two sides are equal (but not all three), it's an isosceles triangle\n",
    "elif side1 == side2 or side1 == side3 or side2 == side3:\n",
    "    print(\"Isosceles triangle!\")\n",
    "\n",
    "# If no sides are equal, it's a scalene triangle\n",
    "else:\n",
    "    print(\"Scalene triangle!\")"
   ]
  },
  {
   "cell_type": "markdown",
   "id": "620677d5-03ac-4ca7-9d5b-825a0d044f2c",
   "metadata": {},
   "source": [
    "13). Write a Python program to determine the day of the week based on a user-provided number using if-else"
   ]
  },
  {
   "cell_type": "code",
   "execution_count": 29,
   "id": "66efcb4f-8a65-4166-a5bc-c65abdd97ffc",
   "metadata": {},
   "outputs": [
    {
     "name": "stdin",
     "output_type": "stream",
     "text": [
      "Enter a number (1-7) to determine the day of the week:  5\n"
     ]
    },
    {
     "name": "stdout",
     "output_type": "stream",
     "text": [
      "The day corresponding to 5 is Thursday.\n"
     ]
    }
   ],
   "source": [
    "# Prompt the user to enter a number representing a day of the week\n",
    "day_number = int(input(\"Enter a number (1-7) to determine the day of the week: \"))\n",
    "\n",
    "# Use if-else statements to determine the day based on the user's input\n",
    "if day_number == 1:\n",
    "    day_name = \"Sunday\"\n",
    "elif day_number == 2:\n",
    "    day_name = \"Monday\"\n",
    "elif day_number == 3:\n",
    "    day_name = \"Tuesday\"\n",
    "elif day_number == 4:\n",
    "    day_name = \"Wednesday\"\n",
    "elif day_number == 5:\n",
    "    day_name = \"Thursday\"\n",
    "elif day_number == 6:\n",
    "    day_name = \"Friday\"\n",
    "elif day_number == 7:\n",
    "    day_name = \"Saturday\"\n",
    "else:\n",
    "    day_name = \"Invalid input\"\n",
    "\n",
    "# Print the determined day of the week\n",
    "print(f\"The day corresponding to {day_number} is {day_name}.\")"
   ]
  },
  {
   "cell_type": "markdown",
   "id": "816fa250-9b16-4276-8eed-7f9b040a2bba",
   "metadata": {},
   "source": [
    "14) Create a Python program that checks if a given year is a leap year using both if-else and a function."
   ]
  },
  {
   "cell_type": "code",
   "execution_count": 30,
   "id": "9871b498-e437-4c9a-8fa9-f2dfcdc7ccd5",
   "metadata": {},
   "outputs": [
    {
     "name": "stdin",
     "output_type": "stream",
     "text": [
      "Enter the year:-  2004\n"
     ]
    },
    {
     "name": "stdout",
     "output_type": "stream",
     "text": [
      "The 2004 is a Leap year\n"
     ]
    }
   ],
   "source": [
    "def is_leapyear(year):\n",
    "    if (year%4==0 and year%100!=0) or year%400==0:\n",
    "        return True\n",
    "    else:\n",
    "        return False\n",
    "        \n",
    "year=int(input(\"Enter the year:- \"))\n",
    "if is_leapyear(year):\n",
    "    print(f\"The {year} is a Leap year\")\n",
    "    \n",
    "else:\n",
    "    print(f\"The {year} is not an leap year\")"
   ]
  },
  {
   "cell_type": "markdown",
   "id": "db623550-4c47-4dbf-a154-f9bfb8bb4133",
   "metadata": {},
   "source": [
    "15) How do you use the \"assert\" statement in Python to add debugging checks within if-else blocks?"
   ]
  },
  {
   "cell_type": "code",
   "execution_count": 32,
   "id": "ff8c2cde-8b6a-4b05-a78b-2e6785f0c64d",
   "metadata": {},
   "outputs": [
    {
     "name": "stdin",
     "output_type": "stream",
     "text": [
      "Enter the number:-  12\n"
     ]
    },
    {
     "name": "stdout",
     "output_type": "stream",
     "text": [
      "12 is greater than 5.\n",
      "This line is executed regardless of the assertion.\n"
     ]
    }
   ],
   "source": [
    "\"\"\"\n",
    "In Python, the assert statement is used to add debugging checks within if-else\n",
    "blocks and other parts of your code to ensure that certain conditions hold true.\n",
    "The assert statement is typically used for debugging purposes and is often \n",
    "disabled in production code for performance reasons. When an assert statement \n",
    "is encountered, Python checks whether the given condition is true, and if it's \n",
    "not, it raises an AssertionError exception, which can help identify and debug \n",
    "issues.\n",
    "\"\"\"\n",
    "\n",
    "\n",
    "x = int(input(\"Enter the number:- \"))\n",
    "\n",
    "# Check if 'x' is greater than 5 using assert\n",
    "assert x > 5, \"x should be greater than 5\"\n",
    "\n",
    "\n",
    "if x <= 5:\n",
    "    print(f\"{x} is not greater than 5.\")\n",
    "else:\n",
    "    print(f\"{x} is greater than 5.\")\n",
    "\n",
    "# The code continues to execute after the assert statement\n",
    "print(\"This line is executed regardless of the assertion.\")"
   ]
  },
  {
   "cell_type": "markdown",
   "id": "52636563-052e-4406-9371-50fdc74c7343",
   "metadata": {},
   "source": [
    "16)Create a Python program that determines the eligibility of a person for a senior citizen discount based on age using if-else."
   ]
  },
  {
   "cell_type": "code",
   "execution_count": 33,
   "id": "8ce5830e-f635-4d59-8fcd-90e89e768c01",
   "metadata": {},
   "outputs": [
    {
     "name": "stdin",
     "output_type": "stream",
     "text": [
      "Enter your age:  22\n"
     ]
    },
    {
     "name": "stdout",
     "output_type": "stream",
     "text": [
      "Sorry, you are not eligible for a senior citizen discount.\n"
     ]
    }
   ],
   "source": [
    "# Prompt the user to enter their age\n",
    "age = int(input(\"Enter your age: \"))\n",
    "\n",
    "# Define the minimum age for senior citizen eligibility\n",
    "senior_citizen_age = 60\n",
    "\n",
    "# Check if the age meets the eligibility criteria\n",
    "if age >= senior_citizen_age:\n",
    "    print(\"Congratulations! You are eligible for a senior citizen discount.\")\n",
    "else:\n",
    "    print(\"Sorry, you are not eligible for a senior citizen discount.\")"
   ]
  },
  {
   "cell_type": "markdown",
   "id": "a57fe868-8d76-4030-abfb-36129165963b",
   "metadata": {},
   "source": [
    "17)Write a Python program to categorize a given character as uppercase, lowercase, or neither using if-else"
   ]
  },
  {
   "cell_type": "code",
   "execution_count": 34,
   "id": "185d1bcd-1e6a-468b-bceb-ebc1b4e8498d",
   "metadata": {},
   "outputs": [
    {
     "name": "stdin",
     "output_type": "stream",
     "text": [
      "Enter the character:  a\n"
     ]
    },
    {
     "name": "stdout",
     "output_type": "stream",
     "text": [
      "'a' is a lowercase character\n"
     ]
    }
   ],
   "source": [
    "# Prompt the user to enter a character\n",
    "ch = input(\"Enter the character: \")\n",
    "\n",
    "# Check if the character is uppercase using 'isupper()'\n",
    "if ch.isupper():\n",
    "    # If 'ch' is uppercase, print a message indicating it's an uppercase character\n",
    "    print(f\"'{ch}' is an uppercase character\")\n",
    "    \n",
    "# Check if the character is lowercase using 'islower()'\n",
    "elif ch.islower():\n",
    "    # If 'ch' is lowercase, print a message indicating it's a lowercase character\n",
    "    print(f\"'{ch}' is a lowercase character\")\n",
    "    \n",
    "# If 'ch' is neither uppercase nor lowercase\n",
    "else:\n",
    "    # Print a message indicating that the input is not a valid character\n",
    "    print(\"Enter a valid character!\")"
   ]
  },
  {
   "cell_type": "markdown",
   "id": "286cc09c-c571-4f21-9621-6348978caf77",
   "metadata": {},
   "source": [
    "18)Write a Python program to determine the roots of a quadratic equation using if-else."
   ]
  },
  {
   "cell_type": "code",
   "execution_count": 35,
   "id": "466c54cf-1b25-43c6-a6d4-ac2ce6970258",
   "metadata": {},
   "outputs": [
    {
     "name": "stdin",
     "output_type": "stream",
     "text": [
      "Enter the coefficient 'a':  2\n",
      "Enter the coefficient 'b':  3\n",
      "Enter the coefficient 'c':  4\n"
     ]
    },
    {
     "name": "stdout",
     "output_type": "stream",
     "text": [
      "The roots are complex: -0.75 + 1.1989578808281798i and -0.75 - 1.1989578808281798i\n"
     ]
    }
   ],
   "source": [
    "# Prompt the user to enter the coefficients of the quadratic equation\n",
    "a = float(input(\"Enter the coefficient 'a': \"))\n",
    "b = float(input(\"Enter the coefficient 'b': \"))\n",
    "c = float(input(\"Enter the coefficient 'c': \"))\n",
    "\n",
    "# Calculate the discriminant (the value inside the square root)\n",
    "discriminant = b**2 - 4*a*c\n",
    "\n",
    "# Check if the discriminant is positive, negative, or zero\n",
    "if discriminant > 0:\n",
    "    # Two real and distinct roots\n",
    "    root1 = (-b + discriminant**0.5) / (2*a)\n",
    "    root2 = (-b - discriminant**0.5) / (2*a)\n",
    "    print(f\"The roots are real and distinct: {root1} and {root2}\")\n",
    "elif discriminant == 0:\n",
    "    # One real root (a repeated root)\n",
    "    root1 = -b / (2*a)\n",
    "    print(f\"There is one real and repeated root: {root1}\")\n",
    "else:\n",
    "    # Complex roots (no real roots)\n",
    "    real_part = -b / (2*a)\n",
    "    imaginary_part = (-discriminant)**0.5 / (2*a)\n",
    "    print(f\"The roots are complex: {real_part} + {imaginary_part}i and {real_part} - {imaginary_part}i\")"
   ]
  },
  {
   "cell_type": "markdown",
   "id": "2199540f-d141-4bf5-a4a0-b589b6b6cad3",
   "metadata": {},
   "source": [
    "19)Create a Python program that checks if a given year is a century year or not using if-else."
   ]
  },
  {
   "cell_type": "code",
   "execution_count": 36,
   "id": "8310ba53-8dd7-4991-9339-aeb0aa7199cb",
   "metadata": {},
   "outputs": [
    {
     "name": "stdin",
     "output_type": "stream",
     "text": [
      "Enter the year to check if it is a century year or not:  2004\n"
     ]
    },
    {
     "name": "stdout",
     "output_type": "stream",
     "text": [
      "The year 2004 is not a century year\n"
     ]
    }
   ],
   "source": [
    "# Prompt the user to enter a year\n",
    "year = int(input(\"Enter the year to check if it is a century year or not: \"))\n",
    "\n",
    "# Check if the year is a century year\n",
    "# A century year is divisible by 100 without leaving a remainder\n",
    "if year % 100 == 0:\n",
    "    # If the year is divisible by 100, print a message indicating it's a century year\n",
    "    print(f\"The year {year} is a century year\")\n",
    "else:\n",
    "    # If the year is not divisible by 100, print a message indicating it's not a century year\n",
    "    print(f\"The year {year} is not a century year\")"
   ]
  },
  {
   "cell_type": "markdown",
   "id": "b41a2219-87b6-47ac-9706-7e2bc0ee39c9",
   "metadata": {},
   "source": [
    "20)Write a Python program to determine if a given number is a perfect square using if-else."
   ]
  },
  {
   "cell_type": "code",
   "execution_count": 37,
   "id": "47e3c088-4c68-4169-9f46-ca85dc3c0c00",
   "metadata": {},
   "outputs": [
    {
     "name": "stdin",
     "output_type": "stream",
     "text": [
      "Enter the number:-  12\n"
     ]
    },
    {
     "name": "stdout",
     "output_type": "stream",
     "text": [
      "The number 12 is not a perfect square\n"
     ]
    }
   ],
   "source": [
    "n = int(input(\"Enter the number:- \"))  # Takes user input and converts it to an integer\n",
    "\n",
    "if n > 0:  # Checks if the input number is positive\n",
    "    squareroot = int(n ** 0.5)  # Calculates the integer square root of the input number\n",
    "\n",
    "    # Checks if the square of the integer square root equals the input number\n",
    "    if squareroot * squareroot == n:\n",
    "        print(f\"The number {n} is a perfect square\")\n",
    "    else:\n",
    "        print(f\"The number {n} is not a perfect square\")\n",
    "else:\n",
    "    # If the input number is not positive, it's considered negative and not a perfect square\n",
    "    print(f\"{n} is a negative number and not a perfect square\")"
   ]
  },
  {
   "cell_type": "markdown",
   "id": "3c436bb6-1eed-494e-825e-b12ccee80371",
   "metadata": {},
   "source": [
    "21)Explain the purpose of the \"continue\" and \"break\" statements within if-else loops.\n",
    "\n",
    "Ans21:- 1.Break=The \"break\" statement is used to prematurely exit a loop when a certain condition is met. \n",
    "It is typically used to terminate the entire loop, not just the current iteration.When the \"break\" statement is encountered within a loop, \n",
    "the program immediately exits the loop.\n",
    "\n",
    "2.Continue=The \"continue\" statement is used to skip the current iteration of a loop and proceed to the next iteration.\n",
    "It allows you to skip specific code within a loop for certain conditions without exiting the loop entirely.\n",
    "\n"
   ]
  },
  {
   "cell_type": "markdown",
   "id": "2473467c-778f-46e4-a3d7-932e98d0db8e",
   "metadata": {},
   "source": [
    "22)Create a Python program that calculates the BMI (Body Mass Index) of a person based on their weight and height using if-else."
   ]
  },
  {
   "cell_type": "code",
   "execution_count": 38,
   "id": "921e9857-d041-4213-92ab-09ca00cbc242",
   "metadata": {},
   "outputs": [
    {
     "name": "stdin",
     "output_type": "stream",
     "text": [
      "Enter your weight in kilograms:  98\n",
      "Enter your height in meters:  6\n"
     ]
    },
    {
     "name": "stdout",
     "output_type": "stream",
     "text": [
      "Your BMI is 2.72\n",
      "You are categorized as 'Underweight'\n"
     ]
    }
   ],
   "source": [
    "# Input weight in kilograms and height in meters\n",
    "weight = float(input(\"Enter your weight in kilograms: \"))\n",
    "height = float(input(\"Enter your height in meters: \"))\n",
    "\n",
    "# Calculate BMI\n",
    "bmi = weight / (height ** 2)\n",
    "\n",
    "# Determine BMI category using if-else statements\n",
    "if bmi < 18.5:\n",
    "    category = \"Underweight\"\n",
    "elif 18.5 <= bmi < 24.9:\n",
    "    category = \"Normal Weight\"\n",
    "elif 25 <= bmi < 29.9:\n",
    "    category = \"Overweight\"\n",
    "else:\n",
    "    category = \"Obese\"\n",
    "\n",
    "# Display the calculated BMI and category\n",
    "print(f\"Your BMI is {bmi:.2f}\")\n",
    "print(f\"You are categorized as '{category}'\")"
   ]
  },
  {
   "cell_type": "markdown",
   "id": "eacbc94c-3582-4a5e-865c-b873eb434e69",
   "metadata": {},
   "source": [
    "23)How can you use the \"filter()\" function with if-else statements to filter elements from a list?"
   ]
  },
  {
   "cell_type": "code",
   "execution_count": 39,
   "id": "9c0f3e69-0bb1-409d-87ff-28f93def9814",
   "metadata": {},
   "outputs": [
    {
     "name": "stdout",
     "output_type": "stream",
     "text": [
      "The list of even numbers filter out from the list: [2, 4, 6, 8, 10, 12, 14, 16, 18, 20]\n"
     ]
    }
   ],
   "source": [
    "\"\"\"\n",
    "Filter function filters a sequence of elements based on a given predicate(a\n",
    "function that returns a boolean value) and returns a new sequence containing \n",
    "only the elements that meet the predicate\n",
    "\n",
    "syntax:---\n",
    "\n",
    "filter(predicate,iterable)\n",
    "\n",
    "the iterable can be list ,tuple or any other iterable objects\n",
    "\n",
    "\"\"\"\n",
    "# for  example:----\n",
    "\n",
    "# Define a custom function 'iseven' that takes an element 'x' and returns True if it's even, False otherwise.\n",
    "def iseven(x):\n",
    "    if x % 2 == 0:\n",
    "        return True\n",
    "    return False\n",
    "\n",
    "# Create a list 'lis' containing a sequence of numbers.\n",
    "lis = [1, 2, 3, 4, 5, 6, 7, 8, 9, 10, 11, 12, 13, 14, 15, 16, 17, 18, 19, 20]\n",
    "\n",
    "# Use the 'filter()' function to filter even numbers from the 'lis' list.\n",
    "# The 'iseven' function is used as the predicate to determine whether an element is even or not.\n",
    "filtered_lis = list(filter(iseven, lis))\n",
    "\n",
    "# Print the filtered list of even numbers.\n",
    "print(\"The list of even numbers filter out from the list:\", filtered_lis)"
   ]
  },
  {
   "cell_type": "markdown",
   "id": "995ca4fd-f611-424c-a73b-f371aec1b61a",
   "metadata": {},
   "source": [
    "24)Write a Python program to determine if a given number is prime or not using if-else."
   ]
  },
  {
   "cell_type": "code",
   "execution_count": 40,
   "id": "82fabffb-38e0-4136-b4ed-8eaeb8cb4821",
   "metadata": {},
   "outputs": [
    {
     "name": "stdin",
     "output_type": "stream",
     "text": [
      "Enter the number to check whether it is a prime number or not:  22\n"
     ]
    },
    {
     "name": "stdout",
     "output_type": "stream",
     "text": [
      "22 is not a prime number\n"
     ]
    }
   ],
   "source": [
    "# Define a function isprime that takes an integer n as input\n",
    "def isprime(n):\n",
    "    # Check if n is equal to 0 or 1, which are not prime numbers\n",
    "    if n == 0 or n == 1:\n",
    "        return False\n",
    "    \n",
    "    # Use a for loop to check for factors of n from 2 to n-1\n",
    "    for i in range(2, n):\n",
    "        # If n is divisible by any number in this range, it's not prime\n",
    "        if n % i == 0:\n",
    "            return False\n",
    "    \n",
    "    # If none of the previous conditions were met, n is prime\n",
    "    return True\n",
    "\n",
    "# Take user input for the number to be checked\n",
    "n = int(input(\"Enter the number to check whether it is a prime number or not: \"))\n",
    "\n",
    "# Call the isprime function and check its return value\n",
    "if isprime(n):\n",
    "    # If isprime returns True, print that the number is prime\n",
    "    print(f\"{n} is a prime number\")\n",
    "else:\n",
    "    # If isprime returns False, print that the number is not prime\n",
    "    print(f\"{n} is not a prime number\")"
   ]
  },
  {
   "cell_type": "markdown",
   "id": "4e00bdf5-5441-4d4f-a073-a4f8eed068e4",
   "metadata": {},
   "source": [
    "map:"
   ]
  },
  {
   "cell_type": "markdown",
   "id": "1ae1f422-eec4-4e1b-8c46-4d4b161064e0",
   "metadata": {},
   "source": [
    "1). Explain the purpose of the map() function in Python and provide an example of how it can be used to apply a function to each element of an iterable."
   ]
  },
  {
   "cell_type": "code",
   "execution_count": 1,
   "id": "fe9778fb-59ac-4b39-b100-822c46b306c4",
   "metadata": {},
   "outputs": [
    {
     "name": "stdout",
     "output_type": "stream",
     "text": [
      "Original list:-  [1, 2, 3, 4, 5, 6, 7]\n",
      "Modified list:-  [3, 4, 5, 6, 7, 8, 9]\n"
     ]
    }
   ],
   "source": [
    "\"\"\"\"\n",
    "The map function are called as high order functions because as they take other\n",
    "function as argumments\n",
    "\n",
    "The map function applies a function to each element in a sequence and return a\n",
    "new sequence containing the trasformed elements\n",
    "\n",
    "Syntax:---- map(function,iterable)\n",
    "\n",
    "the function argument is applied to each iterables ina a sequence and the iterable\n",
    "argument can be list,tuple and other iterable object\n",
    "\n",
    "\"\"\"\n",
    "\n",
    "# for example:-------\n",
    "\n",
    "# Create a list called 'lis' containing the numbers 1 through 7.\n",
    "lis = [1, 2, 3, 4, 5, 6, 7]\n",
    "\n",
    "# Use the 'map' function to apply a lambda function to each element in the 'lis' list.\n",
    "# The lambda function takes each element 'x' from the 'lis' list and adds 2 to it.\n",
    "# The result is a new list where each element is 2 greater than the corresponding element in the 'lis' list.\n",
    "newlis = list(map(lambda x: x + 2, lis))\n",
    "\n",
    "# Print the original list 'lis'.\n",
    "print(\"Original list:- \", lis)\n",
    "\n",
    "# Print the modified list 'newlis'.\n",
    "print(\"Modified list:- \", newlis)"
   ]
  },
  {
   "cell_type": "markdown",
   "id": "7703e7b0-63dd-4420-bfb6-a95d46a86ffc",
   "metadata": {},
   "source": [
    "2)Write a Python program that uses the map() function to square each element of a list of numbers."
   ]
  },
  {
   "cell_type": "code",
   "execution_count": 2,
   "id": "1034f912-694f-41f0-8a39-8caad68281b6",
   "metadata": {},
   "outputs": [
    {
     "name": "stdout",
     "output_type": "stream",
     "text": [
      "Original List:-  [10, 20, 30, 40, 50, 60, 70, 80, 90, 100]\n",
      "Squared List:-  [100, 400, 900, 1600, 2500, 3600, 4900, 6400, 8100, 10000]\n"
     ]
    }
   ],
   "source": [
    "# Create a list called 'lis' containing the numbers 10 through 100 in increments of 10.\n",
    "lis = [10, 20, 30, 40, 50, 60, 70, 80, 90, 100]\n",
    "\n",
    "# Use the 'map' function to apply a lambda function to each element in the 'lis' list.\n",
    "# The lambda function takes each element 'x' from the 'lis' list and calculates its square (x**2).\n",
    "# The result is a new list where each element is the square of the corresponding element in the 'lis' list.\n",
    "mylis = list(map(lambda x: x**2, lis))\n",
    "\n",
    "# Print the original list 'lis'.\n",
    "print(\"Original List:- \", lis)\n",
    "\n",
    "# Print the squared list 'mylis'.\n",
    "print(\"Squared List:- \", mylis)"
   ]
  },
  {
   "cell_type": "markdown",
   "id": "343da9d7-79b9-4e83-8311-cf81e29c99af",
   "metadata": {},
   "source": [
    "3)How does the map() function differ from a list comprehension in Python, and when would you choose one over the other?\n",
    "\n",
    "Ans3:- The map() function and list comprehensions are both used in Python for applying a function to each element of an\n",
    "iterable (e.g., a list) and generating a new iterable as a result.\n",
    "However, they differ in their syntax, use cases, and readability."
   ]
  },
  {
   "cell_type": "markdown",
   "id": "df8d09eb-bed4-4eee-9ad9-f73bb478ef84",
   "metadata": {},
   "source": [
    "4)Create a Python program that uses the map() function to convert a list of names to uppercase."
   ]
  },
  {
   "cell_type": "code",
   "execution_count": 3,
   "id": "6e758a45-1882-45d5-896d-9c089324ba31",
   "metadata": {},
   "outputs": [
    {
     "name": "stdout",
     "output_type": "stream",
     "text": [
      "Original name list:- \n",
      "['ayush', 'sudhanshu', 'bhumi', 'bhavya', 'ayushi', 'chandan']\n",
      "Upper case name list:- \n",
      "['AYUSH', 'SUDHANSHU', 'BHUMI', 'BHAVYA', 'AYUSHI', 'CHANDAN']\n"
     ]
    }
   ],
   "source": [
    "# Create a list called 'lis' containing several names as strings.\n",
    "lis = [\"ayush\", \"sudhanshu\", \"bhumi\", \"bhavya\", \"ayushi\", \"chandan\"]\n",
    "\n",
    "# Use the 'map' function to apply a lambda function to each element in the 'lis' list.\n",
    "# The lambda function takes each string 'x' from the 'lis' list and converts it to uppercase using the 'upper()' method.\n",
    "# The result is a new list where each string element is converted to uppercase.\n",
    "newlis = list(map(lambda x: x.upper(), lis))\n",
    "\n",
    "# Print the original name list 'lis'.\n",
    "print(\"Original name list:- \")\n",
    "print(lis)\n",
    "\n",
    "# Print the uppercase name list 'newlis'.\n",
    "print(\"Upper case name list:- \")\n",
    "print(newlis)"
   ]
  },
  {
   "cell_type": "markdown",
   "id": "eacb51bf-33f6-4991-a395-e53871f35c20",
   "metadata": {},
   "source": [
    "5)Write a Python program that uses the map() function to calculate the length of each word in a list of strings."
   ]
  },
  {
   "cell_type": "code",
   "execution_count": 4,
   "id": "f51b2541-386a-40e8-917b-ae5b1e574333",
   "metadata": {},
   "outputs": [
    {
     "name": "stdout",
     "output_type": "stream",
     "text": [
      "Length of names:-  [8, 11, 2, 2, 3, 9]\n",
      "Dictionary of name and their length:-- \n",
      "{'pwskills': 8, 'Datascience': 11, 'ml': 2, 'Dl': 2, 'LLM': 3, 'fullstack': 9}\n"
     ]
    }
   ],
   "source": [
    "# Create a list called 'lis' containing several strings (names).\n",
    "lis = [\"pwskills\", \"Datascience\", \"ml\", \"Dl\", \"LLM\", \"fullstack\"]\n",
    "\n",
    "# Use the 'map' function to apply a lambda function to each element in the 'lis' list.\n",
    "# The lambda function takes each string 'x' from the 'lis' list and calculates its length using the 'len()' function.\n",
    "# The result is a new list where each element is the length of the corresponding string in the 'lis' list.\n",
    "newlis = list(map(lambda x: len(x), lis))\n",
    "\n",
    "# Print the lengths of the names.\n",
    "print(\"Length of names:- \", newlis)\n",
    "\n",
    "# Use the 'zip' function to pair the elements from the 'lis' list and the 'newlis' list and create key-value pairs.\n",
    "# Then, use the 'dict()' constructor to convert these pairs into a dictionary.\n",
    "result_dict = dict(zip(lis, newlis))\n",
    "\n",
    "# Print the resulting dictionary, where the keys are the names and the values are their corresponding lengths.\n",
    "print(\"Dictionary of name and their length:-- \")\n",
    "print(result_dict)"
   ]
  },
  {
   "cell_type": "markdown",
   "id": "44ab8240-9ddc-43d0-b291-04e974e7a54f",
   "metadata": {},
   "source": [
    "6)How can you use the map() function to apply a custom function to elements of multiple lists simultaneously in Python?"
   ]
  },
  {
   "cell_type": "code",
   "execution_count": 5,
   "id": "8da5059d-4eea-4689-a0aa-c04f56990cde",
   "metadata": {},
   "outputs": [
    {
     "name": "stdout",
     "output_type": "stream",
     "text": [
      "3 out of 1 list:-  [15, 18, 21]\n"
     ]
    }
   ],
   "source": [
    "\"\"\"\n",
    "we can use map() function to apply a custom function to multiple list \n",
    "by passing multiple list in the argument.\n",
    "\n",
    "\"\"\"\n",
    "\n",
    "# For example:---\n",
    "\n",
    "# Create three lists, lis1, lis2, and lis3, each containing three numeric elements.\n",
    "lis1 = [1, 2, 3]\n",
    "lis2 = [8, 9, 10]\n",
    "lis3 = [6, 7, 8]\n",
    "\n",
    "# Use the 'map' function to apply a lambda function to elements of all three lists simultaneously.\n",
    "# The lambda function takes three arguments, 'x', 'y', and 'z', which correspond to elements from lis1, lis2, and lis3.\n",
    "# It calculates the sum of these elements (x + y + z).\n",
    "# The result is a new list where each element is the sum of elements at the same index in lis1, lis2, and lis3.\n",
    "newlis = list(map(lambda x, y, z: x + y + z, lis1, lis2, lis3))\n",
    "\n",
    "# Print the result, which is a list containing the sums of corresponding elements from the three input lists.\n",
    "print(\"3 out of 1 list:- \", newlis)"
   ]
  },
  {
   "cell_type": "markdown",
   "id": "b25f68c7-dc8e-4a46-a870-ce8b0bdf6cd1",
   "metadata": {},
   "source": [
    "7)Create a Python program that uses map() to convert a list of temperatures from Celsius to Fahrenheit."
   ]
  },
  {
   "cell_type": "code",
   "execution_count": 6,
   "id": "6b22567e-0a82-41ba-9cbd-c8b22d6da367",
   "metadata": {},
   "outputs": [
    {
     "name": "stdout",
     "output_type": "stream",
     "text": [
      "Temperature in Celsius:-  [42, 43, 32, 21, 47, 22, 20, 10]\n",
      "Temperature in Fahrenheit:-  [107.6, 109.4, 89.6, 69.8, 116.6, 71.6, 68.0, 50.0]\n"
     ]
    }
   ],
   "source": [
    "# Create a list called 'celsius' containing temperatures in Celsius.\n",
    "celsius = [42, 43, 32, 21, 47, 22, 20, 10]\n",
    "\n",
    "# Use the 'map' function to apply a lambda function to each temperature in the 'celsius' list.\n",
    "# The lambda function takes each temperature 'x' from the 'celsius' list and converts it to Fahrenheit using the formula (x*1.8)+32.\n",
    "# The 'round()' function is used to round the result to two decimal places.\n",
    "# The result is a new list where each element is the corresponding temperature in Fahrenheit.\n",
    "farhenite = list(map(lambda x: round((x * 1.8) + 32, 2), celsius))\n",
    "\n",
    "# Print the original temperature list in Celsius.\n",
    "print(\"Temperature in Celsius:- \", celsius)\n",
    "\n",
    "# Print the temperature list converted to Fahrenheit.\n",
    "print(\"Temperature in Fahrenheit:- \", farhenite)"
   ]
  },
  {
   "cell_type": "markdown",
   "id": "5189a13e-56e2-4e55-ab64-5767306e1517",
   "metadata": {},
   "source": [
    "8)Write a Python program that uses the map() function to round each element of a list of floating-point numbers to the nearest integer."
   ]
  },
  {
   "cell_type": "code",
   "execution_count": 7,
   "id": "23fe88eb-6da8-4ebd-b460-54ba0be6d81b",
   "metadata": {},
   "outputs": [
    {
     "name": "stdout",
     "output_type": "stream",
     "text": [
      "Original Float Numbers: [3.14, 2.718, 1.618, 4.669, 5.55]\n",
      "Rounded Numbers: [3, 3, 2, 5, 6]\n"
     ]
    }
   ],
   "source": [
    "# Create a list of floating-point numbers.\n",
    "float_numbers = [3.14, 2.718, 1.618, 4.669, 5.55]\n",
    "\n",
    "# Use the 'map' function to apply the 'round()' function to each element in the list.\n",
    "# The 'round()' function rounds each number to the nearest integer.\n",
    "rounded_numbers = list(map(round, float_numbers))\n",
    "\n",
    "# Print the original list of floating-point numbers.\n",
    "print(\"Original Float Numbers:\", float_numbers)\n",
    "\n",
    "# Print the list of rounded integers.\n",
    "print(\"Rounded Numbers:\", rounded_numbers)"
   ]
  },
  {
   "cell_type": "markdown",
   "id": "1360aa91-5b49-4e35-b255-5b8f70bf4954",
   "metadata": {},
   "source": [
    "Reduce:----"
   ]
  },
  {
   "cell_type": "markdown",
   "id": "0b43ecc2-53c0-4314-b323-5e39a106e02f",
   "metadata": {},
   "source": [
    "1) What is the reduce() function in Python, and what module should you import to use it? Provide an example of its basic usage"
   ]
  },
  {
   "cell_type": "code",
   "execution_count": 8,
   "id": "76196a1b-9509-439e-bd08-3623f3347b5d",
   "metadata": {},
   "outputs": [
    {
     "name": "stdout",
     "output_type": "stream",
     "text": [
      "55\n"
     ]
    }
   ],
   "source": [
    "\"\"\"\n",
    "The reduce() function is a higher order function that applies a function to a\n",
    "sequence and return a single value it is a part of the functools modules in\n",
    "python.\n",
    "\n",
    "Syntax:--- reduce(function,iterable)\n",
    "\n",
    "The reduce function applies the function to the first two elements in the iterables\n",
    "and then applies the function to the result and the next element, and so on the \n",
    "reduce function returns the final list.\n",
    "\n",
    "\"\"\"\n",
    "# for example:----\n",
    "# Import the 'reduce' function from the 'functools' module.\n",
    "from functools import reduce\n",
    "\n",
    "# Create a list called 'numbers' containing integers from 1 to 10.\n",
    "numbers = [1, 2, 3, 4, 5, 6, 7, 8, 9, 10]\n",
    "\n",
    "# Use the 'reduce' function to apply a lambda function to accumulate the sum of all elements in the 'numbers' list.\n",
    "# The lambda function takes two arguments 'x' and 'y' and returns their sum (x + y).\n",
    "# The 'reduce' function iteratively applies this lambda function to the elements of the list, accumulating the sum.\n",
    "add = reduce(lambda x, y: x + y, numbers)\n",
    "\n",
    "# Print the result, which is the sum of all elements in the 'numbers' list.\n",
    "print(add)"
   ]
  },
  {
   "cell_type": "markdown",
   "id": "bd801075-c202-4db9-bc3a-4dbf1148b212",
   "metadata": {},
   "source": [
    "2)Write a Python program that uses the reduce() function to find the product of all elements in a list"
   ]
  },
  {
   "cell_type": "code",
   "execution_count": 9,
   "id": "088a1895-d86f-44fc-8a79-24b7bbe5cca6",
   "metadata": {},
   "outputs": [
    {
     "name": "stdout",
     "output_type": "stream",
     "text": [
      "120\n"
     ]
    }
   ],
   "source": [
    "# Import the 'reduce' function from the 'functools' module.\n",
    "from functools import reduce\n",
    "\n",
    "# Create a list called 'lis' containing integers.\n",
    "lis = [1, 2, 3, 4, 5]\n",
    "\n",
    "# Use the 'reduce' function to apply a lambda function to calculate the product of all elements in the 'lis' list.\n",
    "# The lambda function takes two arguments 'x' and 'y' and returns their product (x * y).\n",
    "# The 'reduce' function iteratively applies this lambda function to the elements of the list, accumulating the product.\n",
    "prod = reduce(lambda x, y: x * y, lis)\n",
    "\n",
    "# Print the result, which is the product of all elements in the 'lis' list.\n",
    "print(prod)"
   ]
  },
  {
   "cell_type": "markdown",
   "id": "0ef7efa5-49e8-4dec-89d5-d2d8397677a5",
   "metadata": {},
   "source": [
    "3)Create a Python program that uses reduce() to find the maximum element in a list of numbers."
   ]
  },
  {
   "cell_type": "code",
   "execution_count": 10,
   "id": "004238b4-32d3-4648-bb69-dbf4f68b01a5",
   "metadata": {},
   "outputs": [
    {
     "name": "stdout",
     "output_type": "stream",
     "text": [
      "The maximum number out of the list is:-  1234\n"
     ]
    }
   ],
   "source": [
    "# Import the 'reduce' function from the 'functools' module.\n",
    "from functools import reduce\n",
    "\n",
    "# Create a list called 'lis' containing a series of numbers.\n",
    "lis = [123, 897, 456, 23, 900, 1234]\n",
    "\n",
    "# Use the 'reduce()' function to find the maximum element in the 'lis' list.\n",
    "# The 'reduce()' function takes two arguments: a lambda function and the list 'lis'.\n",
    "# The lambda function takes two arguments 'x' and 'y' and returns 'x' if 'x' is greater than 'y', otherwise 'y'.\n",
    "# The 'reduce()' function applies this lambda function iteratively to the elements in the 'lis' list.\n",
    "# It starts with the first two elements, finds the maximum, and continues comparing the maximum with the next element until it finds the overall maximum.\n",
    "maximum = reduce(lambda x, y: x if x > y else y, lis)\n",
    "\n",
    "# Print the maximum number found in the 'lis' list.\n",
    "print(\"The maximum number out of the list is:- \", maximum)"
   ]
  },
  {
   "cell_type": "markdown",
   "id": "3cfc3427-5da8-4344-a277-c5c3d9eb559f",
   "metadata": {},
   "source": [
    "4) How can you use the reduce() function to concatenate a list of strings into a single string?"
   ]
  },
  {
   "cell_type": "code",
   "execution_count": 11,
   "id": "1f38ac93-584f-4671-9a17-8fe85edab3e1",
   "metadata": {},
   "outputs": [
    {
     "name": "stdout",
     "output_type": "stream",
     "text": [
      "hii how are you\n"
     ]
    }
   ],
   "source": [
    "# Import the 'reduce' function from the 'functools' module.\n",
    "from functools import reduce\n",
    "\n",
    "# Create a list called 'lis' containing a series of strings.\n",
    "lis = [\"hii\", \" \", \"how\", \" \", \"are\", \" \", \"you\"]\n",
    "\n",
    "# Use the 'reduce()' function to concatenate the strings in the 'lis' list.\n",
    "# The 'reduce()' function takes two arguments: a lambda function and the list 'lis'.\n",
    "# The lambda function takes two strings, 'x' and 'y', and returns their concatenation using the '+' operator.\n",
    "# The 'reduce()' function applies this lambda function iteratively to the elements in the 'lis' list.\n",
    "# It starts with the first two strings, concatenates them, and continues concatenating the result with the next string until it creates a single concatenated string.\n",
    "final = reduce(lambda x, y: x + y, lis)\n",
    "\n",
    "# Print the final concatenated string.\n",
    "print(final)"
   ]
  },
  {
   "cell_type": "markdown",
   "id": "c8198b1f-386c-417d-90d3-cb423ec8852c",
   "metadata": {},
   "source": [
    "5)Write a Python program that calculates the factorial of a number using the reduce() function"
   ]
  },
  {
   "cell_type": "code",
   "execution_count": 12,
   "id": "1d6bc44d-6b2f-4652-b2fc-c4cab759a4df",
   "metadata": {},
   "outputs": [
    {
     "name": "stdin",
     "output_type": "stream",
     "text": [
      "Enter the number to find its factorial:-  22\n"
     ]
    },
    {
     "name": "stdout",
     "output_type": "stream",
     "text": [
      "The factorial of 22! is :- 1124000727777607680000\n"
     ]
    }
   ],
   "source": [
    "# Import the `reduce` function from the `functools` module\n",
    "from functools import reduce\n",
    "\n",
    "# Define a function called `factorial` that calculates the factorial of a number `n`\n",
    "def factorial(n):\n",
    "    # Base case: if n is 0, return 1 (0! = 1 by convention)\n",
    "    if n == 0:\n",
    "        return 1\n",
    "    \n",
    "    # Use the `reduce` function to multiply all numbers in the range from 1 to n\n",
    "    # The `lambda` function multiplies two numbers `x` and `y`\n",
    "    # The `reduce` function accumulates the result of these multiplications\n",
    "    return reduce(lambda x, y: x * y, range(1, n + 1))\n",
    "\n",
    "# Get an integer input from the user and store it in the variable `num`\n",
    "num = int(input(\"Enter the number to find its factorial:- \"))\n",
    "\n",
    "# Call the `factorial` function with the user-provided number and store the result in `fact`\n",
    "fact = factorial(num)\n",
    "\n",
    "# Print the result, indicating the factorial of the input number\n",
    "print(f\"The factorial of {num}! is :- {fact}\")"
   ]
  },
  {
   "cell_type": "markdown",
   "id": "29394127-df28-4e39-a93f-2697d744c2f7",
   "metadata": {},
   "source": [
    "6)Create a Python program that uses reduce() to find the GCD (Greatest Common Divisor) of a list of numbers."
   ]
  },
  {
   "cell_type": "code",
   "execution_count": 13,
   "id": "962a5275-09ee-4bc7-a1a1-af9900fe8a53",
   "metadata": {},
   "outputs": [
    {
     "name": "stdout",
     "output_type": "stream",
     "text": [
      "The GCD of [12, 18, 24, 36] is: 6\n"
     ]
    }
   ],
   "source": [
    "# Import necessary modules\n",
    "from functools import reduce  # Import the reduce function from functools\n",
    "import math  # Import the math module for the gcd function\n",
    "\n",
    "# Define a function to find the GCD (Greatest Common Divisor) of two numbers\n",
    "def find_gcd(x, y):\n",
    "    return math.gcd(x, y)\n",
    "\n",
    "# Define a function to find the GCD of a list of numbers\n",
    "def gcd_of_list(lis):\n",
    "    # Check if the list is empty\n",
    "    if len(lis) == 0:\n",
    "        return None  # Return None if the list is empty\n",
    "    \n",
    "    # Check if there's only one number in the list\n",
    "    elif len(lis) == 1:\n",
    "        return lis[0]  # Return the single number as it's its own GCD\n",
    "    \n",
    "    else:\n",
    "        # Use the reduce function to apply the find_gcd function to the list of numbers\n",
    "        # reduce(func, seq) applies the func cumulatively to the items of the sequence, reducing the sequence to a single result.\n",
    "        # In this case, it finds the GCD of the numbers in the list sequentially.\n",
    "        return reduce(find_gcd, lis)\n",
    "\n",
    "# List of numbers for which you want to find the GCD\n",
    "lis = [12, 18, 24, 36]\n",
    "\n",
    "# Calculate the GCD of the list of numbers using the gcd_of_list function\n",
    "gcd = gcd_of_list(lis)\n",
    "\n",
    "# Print the result\n",
    "print(f\"The GCD of {lis} is: {gcd}\")"
   ]
  },
  {
   "cell_type": "markdown",
   "id": "b9067eea-1cf3-4eb6-8572-81c8d04e52aa",
   "metadata": {},
   "source": [
    "7)Write a Python program that uses the reduce() function to find the sum of the digits of a given number."
   ]
  },
  {
   "cell_type": "code",
   "execution_count": 14,
   "id": "4231be9c-c25a-459d-a8a1-a4e97fb71dcb",
   "metadata": {},
   "outputs": [
    {
     "name": "stdin",
     "output_type": "stream",
     "text": [
      "Enter a number:  12\n"
     ]
    },
    {
     "name": "stdout",
     "output_type": "stream",
     "text": [
      "The sum of the digits in 12 is: 3\n"
     ]
    }
   ],
   "source": [
    "from functools import reduce\n",
    "\n",
    "# Function to convert a character to an integer and sum it\n",
    "def sum_digits(x, y):\n",
    "    return int(x) + int(y)\n",
    "\n",
    "# Input: A number as a string\n",
    "number_str = input(\"Enter a number: \")\n",
    "\n",
    "# Check if the input is a valid number\n",
    "if number_str.isdigit():\n",
    "    # Convert the number to a list of its digits as strings\n",
    "    digits = list(number_str)\n",
    "    \n",
    "    # Use reduce to sum the digits\n",
    "    result = reduce(sum_digits, digits)\n",
    "    \n",
    "    print(f\"The sum of the digits in {number_str} is: {result}\")\n",
    "else:\n",
    "    print(\"Invalid input. Please enter a valid number.\")"
   ]
  },
  {
   "cell_type": "markdown",
   "id": "d3f4cc01-a754-4593-aa4c-62cbf3b6f956",
   "metadata": {},
   "source": [
    "Filter:---"
   ]
  },
  {
   "cell_type": "markdown",
   "id": "2f7d088a-c1c7-4aee-9bd3-fe3cba52ba9a",
   "metadata": {},
   "source": [
    "1)Explain the purpose of the filter() function in Python and provide an example of how it can be used to filter elements from an iterable"
   ]
  },
  {
   "cell_type": "code",
   "execution_count": 15,
   "id": "0383b59f-0f1d-46b9-879a-a967b2e2afb8",
   "metadata": {},
   "outputs": [
    {
     "name": "stdout",
     "output_type": "stream",
     "text": [
      "[2, 4, 6, 8, 10]\n"
     ]
    }
   ],
   "source": [
    "\"\"\"\n",
    "\n",
    "The filter function filters a sequence of elements based on a given predicate(a\n",
    "function that returns a boolean value) and returns a new sequence containing\n",
    "only the elements that meet the predicate.\n",
    "\n",
    "filter function is a high order function because it uses other function as argument\n",
    "\n",
    "Syntax:--- filter(predicate,iterable)\n",
    "\n",
    "\"\"\"\n",
    "\n",
    "# for example:---\n",
    "\n",
    "# Create a list called `lis` containing integers from 1 to 10\n",
    "lis = [1, 2, 3, 4, 5, 6, 7, 8, 9, 10]\n",
    "\n",
    "# Use the `filter` function to create a new list `newlis` that contains only even numbers\n",
    "# The `lambda` function defines the filtering criteria; it checks if a number `x` is even (x % 2 == 0)\n",
    "newlis = list(filter(lambda x: x % 2 == 0, lis))\n",
    "\n",
    "# Print the list `newlis` containing only even numbers\n",
    "print(newlis)"
   ]
  },
  {
   "cell_type": "markdown",
   "id": "46f323ed-9a84-4fcc-9dc1-ae2688d74bfd",
   "metadata": {},
   "source": [
    "2)Write a Python program that uses the filter() function to select even numbers from a list of integers."
   ]
  },
  {
   "cell_type": "code",
   "execution_count": 16,
   "id": "94548a32-ef8e-4cbf-bfb5-c553570f6199",
   "metadata": {},
   "outputs": [
    {
     "name": "stdout",
     "output_type": "stream",
     "text": [
      "The list of even numbers from the original list is:-  [12, 88, 42, 64, 78, 90, 22, 24]\n"
     ]
    }
   ],
   "source": [
    "# Define a list called 'lis' with some integer values.\n",
    "lis = [12, 15, 65, 88, 42, 64, 78, 90, 21, 22, 24]\n",
    "\n",
    "# Use the 'filter' function to create a new list called 'newlis' that contains only even numbers from the 'lis' list.\n",
    "# The 'lambda' function here is used as the filtering criterion, checking if each element (denoted as 'x') in 'lis' is even.\n",
    "newlis = list(filter(lambda x: x % 2 == 0, lis))\n",
    "\n",
    "# Print the result, indicating that it's the list of even numbers from the original list.\n",
    "print(\"The list of even numbers from the original list is:- \", newlis)"
   ]
  },
  {
   "cell_type": "markdown",
   "id": "64af6d96-9e44-4ba0-a24a-9c83c459585f",
   "metadata": {},
   "source": [
    "3)Create a Python program that uses the filter() function to select names that start with a specific letter from a list of strings"
   ]
  },
  {
   "cell_type": "code",
   "execution_count": 17,
   "id": "e1226626-9eae-4307-800d-1f9d589824f7",
   "metadata": {},
   "outputs": [
    {
     "name": "stdout",
     "output_type": "stream",
     "text": [
      "['pwskills', 'program', 'power']\n"
     ]
    }
   ],
   "source": [
    "# Define a list called 'lis' with some strings.\n",
    "lis = [\"pwskills\", \"program\", \"Data\", \"science\", \"power\"]\n",
    "\n",
    "# Use the 'filter' function to create a new list called 'newlis' that contains only strings that start with the letter 'p'.\n",
    "# The 'lambda' function here is used as the filtering criterion, checking if each element (denoted as 'x') in 'lis' starts with the letter 'p'.\n",
    "newlis = list(filter(lambda x: x.startswith('p'), lis))\n",
    "\n",
    "# Print the result, which is the list of strings from the original list that start with 'p'.\n",
    "print(newlis)"
   ]
  },
  {
   "cell_type": "markdown",
   "id": "844235e9-a412-42d6-80d1-6267271c6457",
   "metadata": {},
   "source": [
    "4)Write a Python program that uses the filter() function to select prime numbers from a list of integers."
   ]
  },
  {
   "cell_type": "code",
   "execution_count": 18,
   "id": "bda0f4c7-af26-4b31-a2f6-033b60682fe7",
   "metadata": {},
   "outputs": [
    {
     "name": "stdout",
     "output_type": "stream",
     "text": [
      "[2, 3, 5, 7, 11, 13, 17, 19, 23, 29]\n"
     ]
    }
   ],
   "source": [
    "# Define a function called `isprime` to check if a number is prime\n",
    "def isprime(num):\n",
    "    # Check if the number is less than or equal to 1; such numbers are not prime\n",
    "    if num <= 1:\n",
    "        return False\n",
    "    \n",
    "    # Iterate through numbers from 2 to (num - 1) to check for factors\n",
    "    for i in range(2, num):\n",
    "        # If `num` is divisible by `i`, it's not prime, so return False\n",
    "        if num % i == 0:\n",
    "            return False\n",
    "    \n",
    "    # If no factors were found, the number is prime, so return True\n",
    "    return True\n",
    "\n",
    "# Create a list called `lis` containing some numbers\n",
    "lis = [1, 2, 3, 4, 5, 6, 7, 8, 9, 10, 11, 12, 13, 14, 15, 16, 17, 18, 19, 20, 21, 23, 25, 27, 29]\n",
    "\n",
    "# Use the `filter` function to create a new list `newlis` containing only prime numbers\n",
    "# The `isprime` function is used as the filter function to determine which elements to include\n",
    "newlis = list(filter(isprime, lis))\n",
    "\n",
    "# Print the list of prime numbers\n",
    "print(newlis)"
   ]
  },
  {
   "cell_type": "markdown",
   "id": "ed5c9dc3-3f65-4ae6-9b99-8be2fb9663bd",
   "metadata": {},
   "source": [
    "5) How can you use the filter() function to remove None values from a list in Python?"
   ]
  },
  {
   "cell_type": "code",
   "execution_count": 19,
   "id": "1618ca9c-ab48-43ac-9207-6505470a0a96",
   "metadata": {},
   "outputs": [
    {
     "name": "stdout",
     "output_type": "stream",
     "text": [
      "The list after removing None values:-  [1, 3, 4, 5, 6]\n"
     ]
    }
   ],
   "source": [
    "# Define a list 'lis' containing a mix of values, including None.\n",
    "lis = [1, None, 3, None, 4, 5, 6, None]\n",
    "\n",
    "# Use the 'filter' function to create a new list 'newlis' that contains only non-None values.\n",
    "# The lambda function here checks if each element 'x' in 'lis' is not equal to None using 'x is not None'.\n",
    "newlis = list(filter(lambda x: x is not None, lis))\n",
    "\n",
    "# Print the result, which is the list 'newlis' after removing the None values.\n",
    "print(\"The list after removing None values:- \", newlis)"
   ]
  },
  {
   "cell_type": "markdown",
   "id": "1c5c2adc-5ebe-4547-9532-7710c53ba86d",
   "metadata": {},
   "source": [
    "6) Create a Python program that uses filter() to select words longer than a certain length from a list of strings."
   ]
  },
  {
   "cell_type": "code",
   "execution_count": 20,
   "id": "aeb3f812-d03b-4489-8caf-f5941407351b",
   "metadata": {},
   "outputs": [
    {
     "name": "stdout",
     "output_type": "stream",
     "text": [
      "['pwskill', 'data', 'Science', 'machine']\n"
     ]
    }
   ],
   "source": [
    "# Define a list 'lis' containing a collection of strings.\n",
    "lis = [\"pwskill\", \"Hey\", \"How\", \"are\", \"you\", \"data\", \"Science\", \"machine\"]\n",
    "\n",
    "# Define a variable 'length' with a value of 3.\n",
    "length = 3\n",
    "\n",
    "# Use the 'filter' function to create a new list 'newlis' that contains only strings longer than the specified 'length'.\n",
    "# The lambda function checks if the length of each string 'x' in 'lis' is greater than 'length'.\n",
    "newlis = list(filter(lambda x: len(x) > length, lis))\n",
    "\n",
    "# Print the result, which is the list 'newlis' containing strings longer than 'length'.\n",
    "print(newlis)"
   ]
  },
  {
   "cell_type": "markdown",
   "id": "5ee5f4a8-066f-48fb-879d-21a4a3bbac88",
   "metadata": {},
   "source": [
    "7)Write a Python program that uses the filter() function to select elements greater than a specified threshold from a list of values."
   ]
  },
  {
   "cell_type": "code",
   "execution_count": 21,
   "id": "5b209944-6533-4586-8a61-386a42c19658",
   "metadata": {},
   "outputs": [
    {
     "name": "stdout",
     "output_type": "stream",
     "text": [
      "[20, 30, 40, 50, 60, 70, 80, 90, 100]\n"
     ]
    }
   ],
   "source": [
    "# Define a list 'lis' containing a collection of numeric values.\n",
    "lis = [1, 2, 3, 4, 5, 6, 7, 8, 9, 10, 20, 30, 40, 50, 60, 70, 80, 90, 100]\n",
    "\n",
    "# Define the 'value' variable to specify the threshold for filtering.\n",
    "value = 10\n",
    "\n",
    "# Use the 'filter' function to create a new list 'newlis' that contains elements greater than the specified 'value'.\n",
    "# The lambda function here checks if each element 'x' in 'lis' is greater than 'value'.\n",
    "newlis = list(filter(lambda x: x > value, lis))\n",
    "\n",
    "# Print the result, which is the list of elements greater than 'value'.\n",
    "print(newlis)"
   ]
  },
  {
   "cell_type": "markdown",
   "id": "7895cd12-0ef6-45fe-8f6d-100a04928322",
   "metadata": {},
   "source": [
    "Recursion:---"
   ]
  },
  {
   "cell_type": "markdown",
   "id": "84f05027-e6aa-4534-bec5-a480a6ea448e",
   "metadata": {},
   "source": [
    "1)Explain the concept of recursion in Python. How does it differ from iteration?"
   ]
  },
  {
   "cell_type": "markdown",
   "id": "997cdf46-fd8b-4c3c-b60e-682695e5948a",
   "metadata": {},
   "source": [
    "\"\"\"\n",
    "\n",
    "Recursion:- Recursion is a programming technique where a function calls itself\n",
    "to solve a smaller instance of the same problem. In other words, a problem \n",
    "is divided into smaller, similar subproblems until a base case is reached, and \n",
    "then the solutions to the subproblems are combined to solve the original problem.\n",
    "\n",
    "\n",
    "Iteration:- Iteration is a programming construct where a block of code is\n",
    "repeatedly executed until a specified condition is met. It involves using loops,\n",
    "such as for and while, to perform repetitive tasks.\n",
    "\n",
    "\"\"\""
   ]
  },
  {
   "cell_type": "markdown",
   "id": "58621836-11cd-4091-9864-ab405dd894b7",
   "metadata": {},
   "source": [
    "2)Write a Python program to calculate the factorial of a number using recursion."
   ]
  },
  {
   "cell_type": "code",
   "execution_count": 24,
   "id": "c0bbbaac-afb5-43d9-9cdc-f1fe1f9a27ed",
   "metadata": {},
   "outputs": [
    {
     "name": "stdin",
     "output_type": "stream",
     "text": [
      "Enter the number to find its factorial:  12\n"
     ]
    },
    {
     "name": "stdout",
     "output_type": "stream",
     "text": [
      "The factorial of 12 is: 479001600\n"
     ]
    }
   ],
   "source": [
    "# Define a recursive function 'fact' to calculate the factorial of a number.\n",
    "def fact(num):\n",
    "    # Base case: If num is 0 or 1, return 1 because 0! = 1 and 1! = 1.\n",
    "    if num <= 1:\n",
    "        return 1\n",
    "    \n",
    "    # Recursive case: Factorial of num = num * factorial of (num-1)\n",
    "    return num * fact(num - 1)\n",
    "\n",
    "# Prompt the user to enter a number for which to find the factorial.\n",
    "num = int(input(\"Enter the number to find its factorial: \"))\n",
    "\n",
    "# Call the 'fact' function to calculate the factorial for the entered number.\n",
    "result = fact(num)\n",
    "\n",
    "# Print the result, which is the factorial of the entered number.\n",
    "print(f\"The factorial of {num} is: {result}\")"
   ]
  },
  {
   "cell_type": "markdown",
   "id": "7cc7797c-bb9b-4bd0-a92d-15dafce29e72",
   "metadata": {},
   "source": [
    "3)Create a recursive Python function to find the nth Fibonacci number."
   ]
  },
  {
   "cell_type": "code",
   "execution_count": 25,
   "id": "ead02f30-291d-4927-8cab-2ff1118e72f3",
   "metadata": {},
   "outputs": [
    {
     "name": "stdin",
     "output_type": "stream",
     "text": [
      "Enter the term to find its Fibonacci number:  12\n"
     ]
    },
    {
     "name": "stdout",
     "output_type": "stream",
     "text": [
      "The Fibonacci of 12th term is: 144\n"
     ]
    }
   ],
   "source": [
    "# Define a recursive function 'fib' to find the nth Fibonacci number.\n",
    "def fib(n):\n",
    "    # Base case: If n is 0 or 1, return n because F(0) = 0 and F(1) = 1.\n",
    "    if n <= 1:\n",
    "        return n\n",
    "    \n",
    "    # Recursive case: F(n) = F(n-1) + F(n-2)\n",
    "    return fib(n - 1) + fib(n - 2)\n",
    "\n",
    "# Prompt the user to enter the term (n) for which to find the Fibonacci number.\n",
    "n = int(input(\"Enter the term to find its Fibonacci number: \"))\n",
    "\n",
    "# Call the 'fib' function to find the Fibonacci number for the input term.\n",
    "res = fib(n)\n",
    "\n",
    "# Print the result, which is the Fibonacci number for the entered term.\n",
    "print(f\"The Fibonacci of {n}th term is: {res}\")"
   ]
  },
  {
   "cell_type": "markdown",
   "id": "9b89f5da-e0ae-4333-9aba-7a251437093a",
   "metadata": {},
   "source": [
    "4)Write a recursive Python function to calculate the sum of all elements in a list."
   ]
  },
  {
   "cell_type": "code",
   "execution_count": 26,
   "id": "357ead29-887f-4f2a-be79-69cfb551b2e3",
   "metadata": {},
   "outputs": [
    {
     "name": "stdout",
     "output_type": "stream",
     "text": [
      "The sum of the elements of the list is: 28\n"
     ]
    }
   ],
   "source": [
    "# Define a recursive function 'add' to calculate the sum of elements in a list.\n",
    "def add(lis):\n",
    "    # Base case: If the list is empty, return 0.\n",
    "    if not lis:\n",
    "        return 0\n",
    "    \n",
    "    # Recursive case: Add the first element to the sum of the rest of the list.\n",
    "    return lis[0] + add(lis[1:])\n",
    "\n",
    "# Define a list 'lis' containing a collection of integers.\n",
    "lis = [1, 2, 3, 4, 5, 6, 7]\n",
    "\n",
    "# Call the 'add' function to calculate the sum of elements in the list.\n",
    "res = add(lis)\n",
    "\n",
    "# Print the result, which is the sum of elements in the list.\n",
    "print(\"The sum of the elements of the list is:\", res)"
   ]
  },
  {
   "cell_type": "markdown",
   "id": "183e54b5-697b-4382-a21a-d097d015362c",
   "metadata": {},
   "source": [
    "5)How can you prevent a recursive function from running indefinitely, causing a stack overflow error?\n",
    "\n",
    "Ans 5:-- To prevent a recursive function from running indefinitely and causing a stack overflow error, ensure that\n",
    "there's a well-defined base case that will stop the recursion. The base case should be reached for all possible inputs,\n",
    "ensuring the function eventually terminates. Additionally, carefully control and limit the recursive depth to avoid excessive stack usage"
   ]
  },
  {
   "cell_type": "markdown",
   "id": "6f6de6c9-3186-499d-ba9f-bb2e652b7042",
   "metadata": {},
   "source": [
    "6)Create a recursive Python function to find the greatest common divisor (GCD) of two numbers using the Euclidean algorithm."
   ]
  },
  {
   "cell_type": "code",
   "execution_count": 27,
   "id": "0185a174-5161-47b4-801b-fbbdb61935a9",
   "metadata": {},
   "outputs": [
    {
     "name": "stdin",
     "output_type": "stream",
     "text": [
      "Enter the first number:-  2\n",
      "Enter the second number:-  3\n"
     ]
    },
    {
     "name": "stdout",
     "output_type": "stream",
     "text": [
      "The greatest common divisor of 2 and 3 is 1\n"
     ]
    }
   ],
   "source": [
    "# Define a function called `gcd` to calculate the greatest common divisor (GCD) of two numbers, `a` and `b`\n",
    "def gcd(a, b):\n",
    "    # Base case: if `b` is 0, the GCD is `a`\n",
    "    if b == 0:\n",
    "        return a\n",
    "    \n",
    "    # Recursive case: Calculate the GCD using the Euclidean algorithm\n",
    "    # The GCD of `a` and `b` is the same as the GCD of `b` and the remainder of `a` divided by `b` (a % b)\n",
    "    return gcd(b, a % b)\n",
    "\n",
    "# Get two integer inputs from the user and store them in `num1` and `num2`\n",
    "num1 = int(input(\"Enter the first number:- \"))\n",
    "num2 = int(input(\"Enter the second number:- \"))\n",
    "\n",
    "# Call the `gcd` function with the user-provided numbers and store the result in `res`\n",
    "res = gcd(num1, num2)\n",
    "\n",
    "# Print the result, indicating the GCD of the two input numbers\n",
    "print(f\"The greatest common divisor of {num1} and {num2} is {res}\")"
   ]
  },
  {
   "cell_type": "markdown",
   "id": "90fbee6b-4ee0-45a8-a1f0-b72069d6af91",
   "metadata": {},
   "source": [
    "7)Write a recursive Python function to reverse a string."
   ]
  },
  {
   "cell_type": "code",
   "execution_count": 28,
   "id": "fc45d1aa-5985-48fb-b8e3-078128bbe963",
   "metadata": {},
   "outputs": [
    {
     "name": "stdin",
     "output_type": "stream",
     "text": [
      "Enter the string:-  aftab\n"
     ]
    },
    {
     "name": "stdout",
     "output_type": "stream",
     "text": [
      "The reverse of the string 'aftab' is 'batfa'\n"
     ]
    }
   ],
   "source": [
    "# Define a recursive function called `reverse_str` to reverse a string\n",
    "def reverse_str(string):\n",
    "    # Base case: If the length of the string is less than or equal to 1, return the string itself\n",
    "    if len(string) <= 1:\n",
    "        return string\n",
    "    \n",
    "    # Recursive case:\n",
    "    # Call `reverse_str` with the substring `string[1:]` (all characters except the first one),\n",
    "    # and then append the first character `string[0]` at the end\n",
    "    return reverse_str(string[1:]) + string[0]\n",
    "\n",
    "# Get a string input from the user and store it in `inp_str`\n",
    "inp_str = input(\"Enter the string:- \")\n",
    "\n",
    "# Call the `reverse_str` function with the user-provided string and store the result in `res`\n",
    "res = reverse_str(inp_str)\n",
    "\n",
    "# Print the result, indicating the reversed string\n",
    "print(f\"The reverse of the string '{inp_str}' is '{res}'\")"
   ]
  },
  {
   "cell_type": "markdown",
   "id": "6a169092-c662-4203-9bb8-082c934bd61d",
   "metadata": {},
   "source": [
    "8)Create a recursive Python function to calculate the power of a number (x^n)"
   ]
  },
  {
   "cell_type": "code",
   "execution_count": 29,
   "id": "779dd725-733f-4294-b06b-4c7f65803775",
   "metadata": {},
   "outputs": [
    {
     "name": "stdin",
     "output_type": "stream",
     "text": [
      "Enter the number (base):-  12\n",
      "Enter the power (exponent):-  22\n"
     ]
    },
    {
     "name": "stdout",
     "output_type": "stream",
     "text": [
      "12^22 is equal to 552061438912436417593344\n"
     ]
    }
   ],
   "source": [
    "# Define a recursive function called `power` to calculate x^n, where x is the base and n is the exponent\n",
    "def power(x, n):\n",
    "    # Base case: If n is 0, return 1 (x^0 is defined as 1)\n",
    "    if n == 0:\n",
    "        return 1\n",
    "    \n",
    "    # Recursive case:\n",
    "    # Calculate x^n by multiplying x with the result of (x^(n-1))\n",
    "    return x * power(x, n - 1)\n",
    "\n",
    "# Get an integer input for the base 'x' from the user\n",
    "x = int(input(\"Enter the number (base):- \"))\n",
    "\n",
    "# Get an integer input for the exponent 'n' from the user\n",
    "n = int(input(\"Enter the power (exponent):- \"))\n",
    "\n",
    "# Call the `power` function with the user-provided values of 'x' and 'n' and store the result in 'res'\n",
    "res = power(x, n)\n",
    "\n",
    "# Print the result, indicating the exponentiation\n",
    "print(f\"{x}^{n} is equal to {res}\")"
   ]
  },
  {
   "cell_type": "markdown",
   "id": "5831532d-f23f-4de2-bbb1-b1f228cac98f",
   "metadata": {},
   "source": [
    "9)Write a recursive Python function to find all permutations of a given string."
   ]
  },
  {
   "cell_type": "code",
   "execution_count": 30,
   "id": "64cdc9d9-b880-4c51-a46f-10b1b4166f0d",
   "metadata": {},
   "outputs": [
    {
     "name": "stdout",
     "output_type": "stream",
     "text": [
      "Permutations of abc are: ['abc', 'acb', 'bac', 'bca', 'cab', 'cba']\n"
     ]
    }
   ],
   "source": [
    "def get_permutations(string):\n",
    "    # Base case: If the string has only one character, return it as a single-item list.\n",
    "    if len(string) == 1:\n",
    "        return [string]\n",
    "\n",
    "    # Initialize a list to store permutations.\n",
    "    permutations = []\n",
    "\n",
    "    # Iterate through each character in the string.\n",
    "    for i in range(len(string)):\n",
    "        # Select the current character as the first character.\n",
    "        current_char = string[i]\n",
    "\n",
    "        # Generate the remaining string by excluding the current character.\n",
    "        remaining_string = string[:i] + string[i + 1:]\n",
    "\n",
    "        # Recursively find permutations of the remaining string.\n",
    "        sub_permutations = get_permutations(remaining_string)\n",
    "\n",
    "        # Combine the current character with each permutation of the remaining string.\n",
    "        for sub_permutation in sub_permutations:\n",
    "            permutations.append(current_char + sub_permutation)\n",
    "\n",
    "    return permutations\n",
    "\n",
    "# Example usage:\n",
    "input_string = \"abc\"\n",
    "result = get_permutations(input_string)\n",
    "print(\"Permutations of\", input_string, \"are:\", result)"
   ]
  },
  {
   "cell_type": "markdown",
   "id": "eea29a4e-de6b-4d9e-b359-4bfffc55e9d5",
   "metadata": {},
   "source": [
    "10)Write a recursive Python function to check if a string is a palindrome."
   ]
  },
  {
   "cell_type": "code",
   "execution_count": 31,
   "id": "3a7133ed-5f6d-40f3-9851-13bb66c13c1e",
   "metadata": {},
   "outputs": [
    {
     "name": "stdout",
     "output_type": "stream",
     "text": [
      "'racecar' is a palindrome.\n"
     ]
    }
   ],
   "source": [
    "def is_palindrome(string):\n",
    "    # Base case: If the string has 0 or 1 character, it's a palindrome.\n",
    "    if len(string) <= 1:\n",
    "        return True\n",
    "    \n",
    "    # Check if the first and last characters are the same.\n",
    "    if string[0] != string[-1]:\n",
    "        return False\n",
    "    \n",
    "    # Recursive case: Check if the substring between the first and last characters is a palindrome.\n",
    "    return is_palindrome(string[1:-1])\n",
    "\n",
    "# Example usage:\n",
    "input_string = \"racecar\"\n",
    "result = is_palindrome(input_string)\n",
    "if result:\n",
    "    print(f\"'{input_string}' is a palindrome.\")\n",
    "else:\n",
    "    print(f\"'{input_string}' is not a palindrome.\")"
   ]
  },
  {
   "cell_type": "markdown",
   "id": "595053cf-6056-4ecc-9c8c-05c4732f1d53",
   "metadata": {},
   "source": [
    "11)Create a recursive Python function to generate all possible combinations of a list of elements"
   ]
  },
  {
   "cell_type": "code",
   "execution_count": 32,
   "id": "62d2a50f-8f82-483d-92a6-205572e3f71b",
   "metadata": {},
   "outputs": [
    {
     "name": "stdout",
     "output_type": "stream",
     "text": [
      "All possible combinations: [[], [4], [3], [3, 4], [2], [2, 4], [2, 3], [2, 3, 4], [1], [1, 4], [1, 3], [1, 3, 4], [1, 2], [1, 2, 4], [1, 2, 3], [1, 2, 3, 4]]\n"
     ]
    }
   ],
   "source": [
    "def generate_combinations(lst):\n",
    "    if not lst:\n",
    "        return [[]]  # Return an empty list as the base case.\n",
    "\n",
    "    first_element = lst[0]\n",
    "    rest_of_elements = lst[1:]\n",
    "\n",
    "    # Recursive call to get combinations without the first element.\n",
    "    combinations_without_first = generate_combinations(rest_of_elements)\n",
    "\n",
    "    # Combine the first element with each combination without it.\n",
    "    combinations_with_first = []\n",
    "    for combination in combinations_without_first:\n",
    "        combinations_with_first.append([first_element] + combination)\n",
    "\n",
    "    # Return combinations with and without the first element.\n",
    "    return combinations_without_first + combinations_with_first\n",
    "\n",
    "# Example usage:\n",
    "my_list = [1, 2, 3,4]\n",
    "result = generate_combinations(my_list)\n",
    "print(\"All possible combinations:\", result)"
   ]
  },
  {
   "cell_type": "markdown",
   "id": "fb4d21e2-bd18-4be2-921c-271611479ddb",
   "metadata": {},
   "source": [
    "Basics of function:----"
   ]
  },
  {
   "cell_type": "markdown",
   "id": "53038bc2-0e52-424b-a576-bd93627c2f90",
   "metadata": {},
   "source": [
    "1) What is a function in Python, and why is it used?\n",
    "\n",
    "Ans1:- In Python, a function is a reusable block of code that performs a specific task or set of tasks. \n",
    "Functions are used to organize code into manageable and modular pieces, \n",
    "making it easier to understand, maintain, and reuse. Here's why functions are used in Python"
   ]
  },
  {
   "cell_type": "markdown",
   "id": "89a6c139-256b-466a-849b-4a101138a37b",
   "metadata": {},
   "source": [
    "2)How do you define a function in Python? Provide an example"
   ]
  },
  {
   "cell_type": "code",
   "execution_count": 33,
   "id": "bcb7d675-68ff-41b0-a43b-63886f44f8ca",
   "metadata": {},
   "outputs": [
    {
     "name": "stdout",
     "output_type": "stream",
     "text": [
      "The result of adding 1, 2, and 3 is: 6\n"
     ]
    }
   ],
   "source": [
    "\"\"\"\n",
    "\n",
    "n Python, you can define a function using the def keyword\n",
    "\n",
    "Syntax:-- \n",
    "\n",
    "def functionname(parameteres):\n",
    "     function body\n",
    "     return result\n",
    "     \n",
    "\"\"\"\n",
    "\n",
    "# for example\n",
    "\n",
    "# Define a function named 'add' that takes three parameters: x, y, and z.\n",
    "def add(x, y, z):\n",
    "    # The function computes the sum of x, y, and z and returns the result.\n",
    "    return x + y + z\n",
    "\n",
    "# Call the 'add' function with arguments 1, 2, and 3 and store the result.\n",
    "result = add(1, 2, 3)\n",
    "\n",
    "# Print the result.\n",
    "print(\"The result of adding 1, 2, and 3 is:\", result)"
   ]
  },
  {
   "cell_type": "markdown",
   "id": "0fc63648-ad34-446a-a203-bae71d6b08de",
   "metadata": {},
   "source": [
    "3)Explain the difference between a function definition and a function call.\n",
    "\n",
    "Ans3:\n",
    "\n",
    "function defination:- -->A function definition is the process of creating and specifying the behavior of a function.\n",
    "-->It starts with the def keyword followed by the function name, a pair of parentheses (), and a colon : to define the function's name and parameters.\n",
    "\n",
    "-->Inside the function definition, you provide the implementation of the function, specifying what it does when called.\n",
    "\n",
    "-->The function definition creates a blueprint or a template for the function's behavior, but it does not execute the code within the function.\n",
    "\n",
    "function call:-\n",
    "--> A function call is the act of invoking or executing a defined function with specific arguments or inputs.\n",
    "\n",
    "--> It is done by using the function's name followed by a pair of parentheses () containing the arguments (if any) required by the function.\n",
    "\n",
    "--> When a function is called, the code within the function's definition is executed, and the function may return a result or perform a specific task."
   ]
  },
  {
   "cell_type": "markdown",
   "id": "bad485b2-92de-43dd-a88d-0672bf8b6444",
   "metadata": {},
   "source": [
    "4)Write a Python program that defines a function to calculate the sum of two numbers and then calls the function"
   ]
  },
  {
   "cell_type": "code",
   "execution_count": 34,
   "id": "6a8835b2-c42f-4bc7-94e1-c3ef2993d920",
   "metadata": {},
   "outputs": [
    {
     "name": "stdin",
     "output_type": "stream",
     "text": [
      "Enter the first number:  12\n",
      "Enter the second number:  22\n"
     ]
    },
    {
     "name": "stdout",
     "output_type": "stream",
     "text": [
      "The sum of 12 and 22 is: 34\n"
     ]
    }
   ],
   "source": [
    "# Define a function named 'add' that takes two parameters: a and b.\n",
    "def add(a, b):\n",
    "    # The function computes the sum of a and b and returns the result.\n",
    "    return a + b\n",
    "\n",
    "# Prompt the user to enter the first number and convert it to an integer.\n",
    "a = int(input(\"Enter the first number: \"))\n",
    "\n",
    "# Prompt the user to enter the second number and convert it to an integer.\n",
    "b = int(input(\"Enter the second number: \"))\n",
    "\n",
    "# Call the 'add' function with the values entered by the user as arguments and store the result.\n",
    "res = add(a, b)\n",
    "\n",
    "# Print the result using f-strings.\n",
    "print(f\"The sum of {a} and {b} is: {res}\")"
   ]
  },
  {
   "cell_type": "markdown",
   "id": "d85d1d76-7811-4932-8ed3-7778961098e8",
   "metadata": {},
   "source": [
    "5)What is a function signature, and what information does it typically include?\n",
    "\n",
    "Ans5:- A function signature is a concise and standardized way of representing essential information about a function in programming. \n",
    "It provides a high-level summary of the\n",
    "function's characteristics and is typically found in function documentation, code comments, or function declarations. The information included in a function signature can vary depending on the programming language and coding conventions.includes the information like:\n",
    "\n",
    "1 function name 2 parameteres/arguments 3 return type 4 modifiers/annotations"
   ]
  },
  {
   "cell_type": "markdown",
   "id": "0efc4aba-9419-489f-b028-6280e0d0c430",
   "metadata": {},
   "source": [
    "6)Create a Python function that takes two arguments and returns their product."
   ]
  },
  {
   "cell_type": "code",
   "execution_count": 35,
   "id": "e93c9610-88ae-491e-9caf-92290a30c615",
   "metadata": {},
   "outputs": [
    {
     "name": "stdin",
     "output_type": "stream",
     "text": [
      "Enter the first number:  1\n",
      "Enter the second number:  2\n"
     ]
    },
    {
     "name": "stdout",
     "output_type": "stream",
     "text": [
      "The product of 1 and 2 is: 2\n"
     ]
    }
   ],
   "source": [
    "# Define a function named 'product' that takes two parameters: a and b.\n",
    "def product(a, b):\n",
    "    # The function computes the product of a and b and returns the result.\n",
    "    return a * b\n",
    "\n",
    "# Prompt the user to enter the first number and convert it to an integer.\n",
    "a = int(input(\"Enter the first number: \"))\n",
    "\n",
    "# Prompt the user to enter the second number and convert it to an integer.\n",
    "b = int(input(\"Enter the second number: \"))\n",
    "\n",
    "# Call the 'product' function with the values entered by the user as arguments and store the result.\n",
    "res = product(a, b)\n",
    "\n",
    "# Print the result using f-strings.\n",
    "print(f\"The product of {a} and {b} is: {res}\")"
   ]
  },
  {
   "cell_type": "markdown",
   "id": "153ed07d-2aae-42bd-b785-65f429ebe09b",
   "metadata": {},
   "source": [
    "Function parameteres and arguments:---"
   ]
  },
  {
   "cell_type": "markdown",
   "id": "bc5d6443-fcb4-486a-bf40-8813d1835e11",
   "metadata": {},
   "source": [
    "1)Explain the concepts of formal parameters and actual arguments in Python functions.\n",
    "\n",
    "1 Formal parameters are placeholders or variables defined in the function's paramete\n",
    "r list, and they serve as a way to receive input values when the function is called.\n",
    "\n",
    "def add(x, y): # 'x' and 'y' are formal parameters return x + y\n",
    "\n",
    "2 Actual arguments are the values or expressions that are passed into a function when it is called\n",
    "\n",
    "result = add(3, 5) # '3' and '5' are actual arguments passed to the 'add' function"
   ]
  },
  {
   "cell_type": "markdown",
   "id": "71ee3a87-7ca7-4849-8980-e118fbddb8cb",
   "metadata": {},
   "source": [
    "2)Write a Python program that defines a function with default argument values."
   ]
  },
  {
   "cell_type": "code",
   "execution_count": 38,
   "id": "d027f4cf-8eea-460b-ad25-61c864a3077a",
   "metadata": {},
   "outputs": [
    {
     "name": "stdout",
     "output_type": "stream",
     "text": [
      "Greeting: helloworld!\n"
     ]
    }
   ],
   "source": [
    "# Define a function named 'greet' with two parameters, 'a' and 'b', both of which have default values.\n",
    "def greet(a=\"hello\", b=\"world!\"):\n",
    "    # The function concatenates the values of 'a' and 'b' and returns the result.\n",
    "    return a + b\n",
    "\n",
    "# Call the 'greet' function without providing any arguments.\n",
    "result = greet()\n",
    "\n",
    "# Print the result.\n",
    "print(\"Greeting:\", result)"
   ]
  },
  {
   "cell_type": "markdown",
   "id": "e5d4cba6-b842-4043-a7db-3405a5c5cf90",
   "metadata": {},
   "source": [
    "3)How do you use keyword arguments in Python function calls? Provide an example."
   ]
  },
  {
   "cell_type": "code",
   "execution_count": 39,
   "id": "c4d98f65-7b00-4f64-97f8-9e22004ad296",
   "metadata": {},
   "outputs": [
    {
     "name": "stdout",
     "output_type": "stream",
     "text": [
      "Hi John\n",
      "Hello Rocky\n"
     ]
    }
   ],
   "source": [
    "# Define a function 'greet' with two parameters, 'name' and 'greeting'.\n",
    "def greet(name, greeting):\n",
    "    # The function prints a greeting message by combining 'name' and 'greeting'.\n",
    "    print(f\"{greeting} {name}\")\n",
    "\n",
    "# Call the 'greet' function with keyword arguments.\n",
    "greet(name=\"John\", greeting=\"Hi\")  # Using keyword arguments to specify parameter values.\n",
    "greet(name=\"Rocky\", greeting=\"Hello\")  # Another call with different values."
   ]
  },
  {
   "cell_type": "markdown",
   "id": "6eeca13e-cf8a-45fe-823a-6c6a0f214e33",
   "metadata": {},
   "source": [
    "4)Create a Python function that accepts a variable number of arguments and calculates their sum."
   ]
  },
  {
   "cell_type": "code",
   "execution_count": 40,
   "id": "8a8cbd29-cb26-4637-983e-77b9df13fa75",
   "metadata": {},
   "outputs": [
    {
     "name": "stdout",
     "output_type": "stream",
     "text": [
      "The sum of the numbers is: 55\n"
     ]
    }
   ],
   "source": [
    "# Define a function 'add' that accepts a variable number of arguments using '*args'.\n",
    "def add(*args):\n",
    "    # Initialize a variable 'total' to store the sum of the arguments.\n",
    "    total = 0\n",
    "    \n",
    "    # Iterate through each argument in 'args'.\n",
    "    for num in args:\n",
    "        # Add the current argument 'num' to the 'total'.\n",
    "        total += num\n",
    "    \n",
    "    # Return the calculated total sum.\n",
    "    return total\n",
    "\n",
    "# Call the 'add' function with a list of numbers.\n",
    "result = add(1, 2, 3, 4, 5, 6, 7, 8, 9, 10)\n",
    "\n",
    "# Print the result.\n",
    "print(\"The sum of the numbers is:\", result)"
   ]
  },
  {
   "cell_type": "markdown",
   "id": "b8f070cf-40b6-4ba1-8afd-dfdecc9bc4f7",
   "metadata": {},
   "source": [
    "5)What is the purpose of the *args and **kwargs syntax in function parameter lists?"
   ]
  },
  {
   "cell_type": "code",
   "execution_count": 41,
   "id": "12c1e9a2-5cf4-4ea9-81e9-4e1e146b7da3",
   "metadata": {},
   "outputs": [
    {
     "name": "stdout",
     "output_type": "stream",
     "text": [
      "Output for the args function:----------\n",
      "1\n",
      "2\n",
      "3\n",
      "four\n",
      "Output for the kwargs function:----------\n",
      "name: Alice\n",
      "age: 30\n",
      "city: Wonderland\n"
     ]
    }
   ],
   "source": [
    "# *args\n",
    "\n",
    "def print_args(*args):\n",
    "    for arg in args:\n",
    "        print(arg)\n",
    "        \n",
    "        \n",
    "# **kwargs        \n",
    "def print_kwargs(**kwargs):\n",
    "    for key, value in kwargs.items():\n",
    "        print(f\"{key}: {value}\")\n",
    "        \n",
    "print(\"Output for the args function:----------\")        \n",
    "print_args(1, 2, 3, \"four\")   # function call for args\n",
    "\n",
    "print(\"Output for the kwargs function:----------\")        \n",
    "\n",
    "print_kwargs(name=\"Alice\", age=30, city=\"Wonderland\")  # function call for kwargs"
   ]
  },
  {
   "cell_type": "markdown",
   "id": "ba8693bc-10f0-419c-b603-51a9129651e1",
   "metadata": {},
   "source": [
    "Return values and scoping:----"
   ]
  },
  {
   "cell_type": "markdown",
   "id": "22bc533d-4e25-4513-8465-dd3e186809d4",
   "metadata": {},
   "source": [
    "1) Describe the role of the return statement in Python functions and provide examples"
   ]
  },
  {
   "cell_type": "code",
   "execution_count": 42,
   "id": "2079202a-c86d-4819-afcc-bb37b9c501f1",
   "metadata": {},
   "outputs": [
    {
     "name": "stdin",
     "output_type": "stream",
     "text": [
      "Enter the number for finding its factorial:  12\n"
     ]
    },
    {
     "name": "stdout",
     "output_type": "stream",
     "text": [
      "The factorial of 12 is 479001600\n"
     ]
    }
   ],
   "source": [
    "\"\"\"\n",
    "In Python, the return statement is used within functions to specify the value\n",
    "that the function should produce as its output or result. When a function is \n",
    "called, it may perform some operations and calculations, and the return \n",
    "statement allows it to send back a value to the caller. This returned value\n",
    "can then be used in other parts of the program.\n",
    "\n",
    "\"\"\"\n",
    "\n",
    "# for example\n",
    "\n",
    "# Define a function called 'fact' that takes an integer 'n' as an argument.\n",
    "def fact(n):\n",
    "    # Initialize a variable 'fact' to 1. This will be used to store the factorial.\n",
    "    fact = 1\n",
    "    \n",
    "    # Use a 'for' loop to iterate through numbers from 1 to 'n' (inclusive).\n",
    "    for i in range(1, n + 1):\n",
    "        # Multiply 'fact' by the current value of 'i'.\n",
    "        fact *= i\n",
    "        \n",
    "    # Return the calculated factorial value.\n",
    "    return fact\n",
    "\n",
    "# Prompt the user to input a number for which they want to calculate the factorial.\n",
    "n = int(input(\"Enter the number for finding its factorial: \"))\n",
    "\n",
    "# Call the 'fact' function with the user-provided 'n' and store the result in 'res'.\n",
    "res = fact(n)\n",
    "\n",
    "# Print the result, showing the calculated factorial for the input number.\n",
    "print(f\"The factorial of {n} is {res}\")"
   ]
  },
  {
   "cell_type": "markdown",
   "id": "5b39c4b2-8088-4fd4-88eb-856323b488c0",
   "metadata": {},
   "source": [
    "2)Explain the concept of variable scope in Python, including local and global variables.\n",
    "\n",
    "Ans2:- in Python, variable scope refers to the region or part of the code where a variable can be accessed or modified. \n",
    "Understanding variable scope is essential because it determines how variables are treated within different parts of a program.\n",
    "\n",
    "1 Local variables\n",
    "\n",
    "-->Local variables are declared and defined within a specific block of code, typically within a function.\n",
    "\n",
    "-->They are only accessible and meaningful within that block or function where they are defined.\n",
    "\n",
    "-->Local variables have limited scope and are usually created when a function is called and destroyed when the function exits.\n",
    "\n",
    "-->Attempting to access a local variable from outside its defining block will result in a NameError.\n",
    "\n",
    "2 Global variable\n",
    "\n",
    "-->Global variables are declared outside of any function or block, making them accessible from any part of the code, including within functions.\n",
    "\n",
    "-->They have a global scope, meaning they are available throughout the entire program.\n",
    "\n",
    "-->Modifying a global variable within a function requires using the global keyword to indicate that you are working with the global\n",
    "variable and not creating a new local variable with the same name."
   ]
  },
  {
   "cell_type": "markdown",
   "id": "28aeb448-aeea-4f30-b234-52e5ce7218ab",
   "metadata": {},
   "source": [
    "3)Write a Python program that demonstrates the use of global variables within functions."
   ]
  },
  {
   "cell_type": "code",
   "execution_count": 43,
   "id": "fda71518-bd92-435a-b894-a83429b4cd24",
   "metadata": {},
   "outputs": [
    {
     "name": "stdout",
     "output_type": "stream",
     "text": [
      "Initial global variable value: 10\n",
      "Modified global variable value: 20\n",
      "Global variable is 20\n"
     ]
    }
   ],
   "source": [
    "# Declare a global variable\n",
    "global_var = 10\n",
    "\n",
    "# Define a function that modifies the global variable\n",
    "def modify_global_var():\n",
    "    global global_var  # Declare that we are using the global variable\n",
    "    global_var = 20\n",
    "\n",
    "# Define a function that reads the global variable\n",
    "def read_global_var():\n",
    "    print(f\"Global variable is {global_var}\")\n",
    "\n",
    "# Print the initial value of the global variable\n",
    "print(\"Initial global variable value:\", global_var)\n",
    "\n",
    "# Call the function to modify the global variable\n",
    "modify_global_var()\n",
    "\n",
    "# Print the modified global variable\n",
    "print(\"Modified global variable value:\", global_var)\n",
    "\n",
    "# Call the function to read the global variable\n",
    "read_global_var()"
   ]
  },
  {
   "cell_type": "markdown",
   "id": "bc56eb46-59bb-4a05-ac7a-990238244bbc",
   "metadata": {},
   "source": [
    "4)Create a Python function that calculates the factorial of a number and returns it."
   ]
  },
  {
   "cell_type": "code",
   "execution_count": 44,
   "id": "18da9ebe-d64b-4a9f-afdd-49534bd241c7",
   "metadata": {},
   "outputs": [
    {
     "name": "stdin",
     "output_type": "stream",
     "text": [
      "Enter the number to find its factorial:  2\n"
     ]
    },
    {
     "name": "stdout",
     "output_type": "stream",
     "text": [
      "The factorial of 2 is 2\n"
     ]
    }
   ],
   "source": [
    "# Define a function called `factorial` to calculate the factorial of a number 'n'\n",
    "def factorial(n):\n",
    "    fact = 1  # Initialize a variable `fact` to store the factorial and set it to 1 initially\n",
    "    for i in range(1, n + 1):  # Iterate through numbers from 1 to 'n'\n",
    "        fact *= i  # Multiply 'fact' by the current value of 'i'\n",
    "    return fact  # Return the calculated factorial\n",
    "\n",
    "# Get an integer input from the user and store it in the variable 'num'\n",
    "num = int(input(\"Enter the number to find its factorial: \"))\n",
    "\n",
    "# Call the 'factorial' function with the user-provided number 'num' and store the result in 'res'\n",
    "res = factorial(num)\n",
    "\n",
    "# Print the result, indicating the factorial of the input number\n",
    "print(f\"The factorial of {num} is {res}\")"
   ]
  },
  {
   "cell_type": "markdown",
   "id": "2e63d36a-900d-4943-ae3b-fdc534dbde5a",
   "metadata": {},
   "source": [
    "5)How can you access variables defined outside a function from within the function?"
   ]
  },
  {
   "cell_type": "code",
   "execution_count": 45,
   "id": "50fe49b9-75da-4a17-88fd-60b8db63e474",
   "metadata": {},
   "outputs": [
    {
     "name": "stdout",
     "output_type": "stream",
     "text": [
      "Global variable inside the function: 200\n",
      "Global variable outside the function: 200\n"
     ]
    }
   ],
   "source": [
    "\"\"\"\n",
    "You can access variables defined outside a function from within the function \n",
    "by explicitly indicating that you want to use the global variable. In Python, \n",
    "you can use the global keyword to inform the interpreter that you are referring\n",
    "to a global variable, rather than creating a new local variable with the same \n",
    "name.\n",
    "\n",
    "\"\"\"\n",
    "\n",
    "# for example\n",
    "\n",
    "# Define a global variable 'var' and set its value to 200\n",
    "var = 200\n",
    "\n",
    "# Define a function 'access_global'\n",
    "def access_global():\n",
    "    # Use the 'global' keyword to indicate that we are accessing the global variable 'var'\n",
    "    global var\n",
    "    \n",
    "    # Print the value of the global variable 'var' from within the function\n",
    "    print(\"Global variable inside the function:\", var)\n",
    "\n",
    "# Call the 'access_global' function\n",
    "access_global()\n",
    "\n",
    "# Print the value of the global variable 'var' from outside the function\n",
    "print(\"Global variable outside the function:\", var)"
   ]
  },
  {
   "cell_type": "markdown",
   "id": "8f48ec1f-8661-461d-b29f-993c91a3d4be",
   "metadata": {},
   "source": [
    "Lambda functions and high-order functions--"
   ]
  },
  {
   "cell_type": "markdown",
   "id": "684a7779-c049-46bc-b0fd-da2807858a44",
   "metadata": {},
   "source": [
    "1)What are lambda functions in Python, and when are they typically used?\n",
    "\n",
    "Ans1:- In Python, a lambda function, also known as an anonymous function, is a small, unnamed,\n",
    "and inline function defined using the lambda keyword. Lambda functions are typically used when you need a simple function\n",
    "for a short period of time, and you don't want to define a full-fledged function using the def keyword. They are particularly \n",
    "useful in situations where you need to pass a function as an argument to another function, such as in higher-order functions like\n",
    "map, filter, and sorted.\n",
    "\n",
    "lambda argument : expression\n",
    "\n",
    "where,\n",
    "\n",
    "-->lambda:- lambda keyword is used to define a lambda function\n",
    "\n",
    "--> argument:- The input arguments or parameteres that lambda function takes\n",
    "\n",
    "-->expression:- the expression or calculations that lambda function performs"
   ]
  },
  {
   "cell_type": "markdown",
   "id": "8bb2a660-20eb-434b-b641-d241cce850f1",
   "metadata": {},
   "source": [
    "2)Write a Python program that uses lambda functions to sort a list of tuples based on the second element."
   ]
  },
  {
   "cell_type": "code",
   "execution_count": 46,
   "id": "51879b83-3742-4dcc-b2f7-e121dfc95222",
   "metadata": {},
   "outputs": [
    {
     "name": "stdout",
     "output_type": "stream",
     "text": [
      "('ayush', 19)\n",
      "('alice', 20)\n",
      "('jhon', 34)\n",
      "('charan', 43)\n"
     ]
    }
   ],
   "source": [
    "# Define a list of tuples called 'data' where each tuple contains a name and an age.\n",
    "data = [(\"alice\", 20), (\"jhon\", 34), (\"charan\", 43), (\"ayush\", 19)]\n",
    "\n",
    "# Use the 'sorted' function to sort the 'data' list based on the second element (age) of each tuple.\n",
    "# The 'key' argument is set to a lambda function 'lambda x: x[1]' which extracts the second element (age) for comparison during sorting.\n",
    "sorted_data = sorted(data, key=lambda x: x[1])\n",
    "\n",
    "# Iterate through the sorted list and print each item.\n",
    "for item in sorted_data:\n",
    "    print(item)"
   ]
  },
  {
   "cell_type": "markdown",
   "id": "e6d37bac-ba70-42d1-b066-73ee5a6be688",
   "metadata": {},
   "source": [
    "3) Explain the concept of higher-order functions in Python, and provide an example."
   ]
  },
  {
   "cell_type": "code",
   "execution_count": 47,
   "id": "dbe14505-36e3-4f98-9c59-d5a40826c44b",
   "metadata": {},
   "outputs": [
    {
     "name": "stdout",
     "output_type": "stream",
     "text": [
      "The result of addition operation: 9\n",
      "The result of subtraction operation: -2\n",
      "The result of multiplication operation: 36\n"
     ]
    }
   ],
   "source": [
    "\"\"\"\n",
    "In Python, a higher-order function is a function that can take one or more \n",
    "functions as arguments and/or can return a function as its result. Essentially,\n",
    "higher-order functions treat functions as first-class citizens, just like any \n",
    "other data type (e.g., integers, strings). They enable you to abstract and \n",
    "manipulate code by passing behavior (functions) as arguments or returning them\n",
    "as results. This concept is a fundamental aspect of functional programming.\n",
    "\"\"\"\n",
    "\n",
    "# for example\n",
    "\n",
    "# Define a higher-order function 'apply_operation' that takes three arguments:\n",
    "# 1. 'op' - a binary operation function (e.g., addition, subtraction, multiplication)\n",
    "# 2. 'a' - the first operand\n",
    "# 3. 'b' - the second operand\n",
    "def apply_operation(op, a, b):\n",
    "    # Call the 'op' function with 'a' and 'b' to perform the specified operation.\n",
    "    result = op(a, b)\n",
    "    # Return the result of the operation.\n",
    "    return result\n",
    "\n",
    "# Define a binary operation function 'addition' to add two numbers.\n",
    "def addition(a, b):\n",
    "    return a + b\n",
    "\n",
    "# Define a binary operation function 'subtraction' to subtract the second number from the first.\n",
    "def subtraction(a, b):\n",
    "    return a - b\n",
    "\n",
    "# Define a binary operation function 'multiply' to multiply two numbers.\n",
    "def multiply(a, b):\n",
    "    return a * b\n",
    "\n",
    "# Use the 'apply_operation' function to apply different operations to pairs of numbers.\n",
    "res1 = apply_operation(addition, 4, 5)        # Calls 'addition(4, 5)' -> Result: 9\n",
    "res2 = apply_operation(subtraction, 3, 5)     # Calls 'subtraction(3, 5)' -> Result: -2\n",
    "res3 = apply_operation(multiply, 4, 9)        # Calls 'multiply(4, 9)' -> Result: 36\n",
    "\n",
    "# Print the results of the operations.\n",
    "print(\"The result of addition operation:\", res1)       # Output: The result of addition operation: 9\n",
    "print(\"The result of subtraction operation:\", res2)    # Output: The result of subtraction operation: -2\n",
    "print(\"The result of multiplication operation:\", res3) # Output: The result of multiplication operation: 36"
   ]
  },
  {
   "cell_type": "markdown",
   "id": "9cd46f64-5f88-475d-a878-b0cf56be0b75",
   "metadata": {},
   "source": [
    "4) Create a Python function that takes a list of numbers and a function as arguments, applying the function to each element in the list."
   ]
  },
  {
   "cell_type": "code",
   "execution_count": 48,
   "id": "eda4423c-c8e3-44e2-aa19-9fbe8d8eaf7b",
   "metadata": {},
   "outputs": [
    {
     "name": "stdout",
     "output_type": "stream",
     "text": [
      "Original List: [1, 2, 3, 4, 5, 6, 7, 8, 9]\n",
      "Modified List: [1, 4, 9, 16, 25, 36, 49, 64, 81]\n"
     ]
    }
   ],
   "source": [
    "# Define an original list 'lis' containing integers.\n",
    "lis = [1, 2, 3, 4, 5, 6, 7, 8, 9]\n",
    "\n",
    "# Use the 'map()' function to apply a lambda function to each element of the 'lis' list.\n",
    "# The lambda function calculates the square of each element (x**2).\n",
    "newlis = list(map(lambda x: x**2, lis))\n",
    "\n",
    "# Print the original list.\n",
    "print(\"Original List:\", lis)  # Output: Original List: [1, 2, 3, 4, 5, 6, 7, 8, 9]\n",
    "\n",
    "# Print the modified list (the squares of the elements).\n",
    "print(\"Modified List:\", newlis)  # Output: Modified List: [1, 4, 9, 16, 25, 36, 49, 64, 81]"
   ]
  },
  {
   "cell_type": "markdown",
   "id": "328fa0ed-7c08-4a2e-a854-e90851f84365",
   "metadata": {},
   "source": [
    "Built-in Functions:"
   ]
  },
  {
   "cell_type": "markdown",
   "id": "955c3ac9-9a4d-47ed-8f8f-52edf4cbcc3a",
   "metadata": {},
   "source": [
    "1)Describe the role of built-in functions like len(), max(), and min() in Python.\n",
    "\n",
    "1 len()= The len() function is used to determine the length or the number of items in an iterable or a container.\n",
    "\n",
    "2 max()= The max() function is used to find the maximum element from a collection of values.\n",
    "\n",
    "3 min()= The min() function is used to find the minimum element from a collection of values."
   ]
  },
  {
   "cell_type": "markdown",
   "id": "719d39c3-dbee-48e9-8fe0-3715a358d853",
   "metadata": {},
   "source": [
    "2)Write a Python program that uses the map() function to apply a function to each element of a list."
   ]
  },
  {
   "cell_type": "code",
   "execution_count": 49,
   "id": "7b0bfbf4-5e1b-49ca-ac58-67081fa2a799",
   "metadata": {},
   "outputs": [
    {
     "name": "stdout",
     "output_type": "stream",
     "text": [
      "Original List: [1, 2, 3, 4, 5, 6, 7, 8, 9]\n",
      "Modified List: [1, 4, 9, 16, 25, 36, 49, 64, 81]\n"
     ]
    }
   ],
   "source": [
    "# Define an original list 'lis' containing integers.\n",
    "lis = [1, 2, 3, 4, 5, 6, 7, 8, 9]\n",
    "\n",
    "# Use the 'map()' function to apply a lambda function to each element of the 'lis' list.\n",
    "# The lambda function calculates the square of each element (x**2).\n",
    "newlis = list(map(lambda x: x**2, lis))\n",
    "\n",
    "# Print the original list.\n",
    "print(\"Original List:\", lis)  # Output: Original List: [1, 2, 3, 4, 5, 6, 7, 8, 9]\n",
    "\n",
    "# Print the modified list (the squares of the elements).\n",
    "print(\"Modified List:\", newlis)  # Output: Modified List: [1, 4, 9, 16, 25, 36, 49, 64, 81]"
   ]
  },
  {
   "cell_type": "markdown",
   "id": "7b6564e3-ada1-4057-bc06-5c31517932dc",
   "metadata": {},
   "source": [
    "3)How does the filter() function work in Python, and when would you use it?\n",
    "\n",
    "Filter function filters a sequence of elements based on a given predicate(a function that returns a boolean value) \n",
    "and returns a new sequence containing only the elements that meet the predicate\n",
    "\n",
    "syntax:---\n",
    "\n",
    "filter(predicate,iterable)\n",
    "\n",
    "the iterable can be list ,tuple or any other iterable objects\n",
    "\n",
    "you should consider using the filter() function in Python when you need to filter elements from an iterable\n",
    "(such as a list, tuple, or other iterable objects) based on a specific condition or criterion."
   ]
  },
  {
   "cell_type": "markdown",
   "id": "2f7619ae-c375-45b1-baef-f333cd837f55",
   "metadata": {},
   "source": [
    "4)Create a Python program that uses the reduce() function to find the product of all elements in a list."
   ]
  },
  {
   "cell_type": "markdown",
   "id": "cfb05041-a974-4d67-b266-718564ecbeb0",
   "metadata": {},
   "source": [
    "# Import the 'reduce' function from the 'functools' module\n",
    "from functools import reduce\n",
    "\n",
    "# Define a list of numbers\n",
    "lis = [1, 2, 3, 4, 5, 6, 7, 8]\n",
    "\n",
    "# Use the 'reduce()' function to compute the product of all elements in the list\n",
    "# The lambda function 'lambda x, y: x * y' defines how two elements should be combined (multiplied) at each step.\n",
    "final = reduce(lambda x, y: x * y, lis)\n",
    "\n",
    "# Print the result, which is the product of all elements in the list\n",
    "print(\"The product of the elements in the list is:\", final)"
   ]
  },
  {
   "cell_type": "markdown",
   "id": "e7d7bc5f-40b4-4122-a955-23a06d45bf5e",
   "metadata": {},
   "source": [
    "Function Documentation and Best Practices:--"
   ]
  },
  {
   "cell_type": "markdown",
   "id": "4676937b-5195-4107-a9d5-bc125f0710b6",
   "metadata": {},
   "source": [
    "1)Explain the purpose of docstrings in Python functions and how to write them.\n",
    "\n",
    "Ans1:- In Python, a docstring is a string literal that appears as the first statement in a module, function, class, or method definition. Docstrings serve the purpose of documenting the purpose, usage, and behavior of your code. They are used to provide information about the code to other developers (including your future self) and can be accessed programmatically for documentation generation tools\n",
    "\n",
    "--> purpose\n",
    "\n",
    "1 Documentation 2 Readability 3 interactive help\n",
    "\n",
    "Docstrings are typically enclosed in triple-quotes (either single or double), and they are placed immediately after the definition of a function, class, or module\n",
    "\n",
    "def sum(a,b): \"\"\" adding two numbers and returning the result \"\"\" return a+b"
   ]
  },
  {
   "cell_type": "markdown",
   "id": "cd16c29f-aa8d-47bc-bbf0-b59cfd0241a0",
   "metadata": {},
   "source": [
    "2) Describe some best practices for naming functions and variables in Python, including naming conventions and guidelines.\n",
    "\n",
    "Ans2:- -->Use Descriptive Names: Choose names that clearly convey the purpose or meaning of the variable or function.\n",
    "\n",
    "-->Follow Naming Conventions: . Variable and function names should be lowercase with underscores (snake_case). . Class names should be in CamelCase (CapitalizedWords). . Use Meaningful Variable Names: Use names like counter instead of single letters like c.\n",
    "\n",
    "-->Be Consistent: Maintain a consistent naming style throughout your codebase.\n",
    "\n",
    "-->Avoid Reserved Words: Don't use Python's reserved words (e.g., class, def, if) as variable or function names.\n",
    "\n",
    "-->Use Verb-Noun for Functions: Function names should typically start with a verb followed by a noun (e.g., calculate_area).\n",
    "\n",
    "-->Use Plural for Collections: Use plural names for lists and collections (e.g., students for a list of student objects).\n",
    "\n",
    "-->Constants in Uppercase: Constants should be in ALL_CAPS with underscores (e.g., MAX_VALUE).\n",
    "\n",
    "-->Avoid Ambiguous Abbreviations: Avoid abbreviations that might be unclear to others (e.g., use temperature instead of temp).\n",
    "\n",
    "-->Use PEP 8 Guidelines: Follow the PEP 8 style guide for Python code, which provides detailed naming conventions and style recommendations.\n",
    "\n",
    "-->Avoid Single-Character Names: Except for common iterators (e.g., i, j in loops), avoid single-character variable names.\n",
    "\n",
    "-->Document Unusual Names: If you use non-standard or unusual names, document their meaning in comments or docstrings.\n",
    "\n",
    "-->Use Verb-Noun for Methods: Method names in classes should follow the same verb-noun convention as functions.\n",
    "\n",
    "-->Avoid Confusing Similar Names: Avoid using names that are similar to built-in functions or modules (e.g., don't name a variable math).\n",
    "\n",
    "-->Use Clear and Consistent Prefixes/Suffixes: Use prefixes or suffixes to indicate the type of variable (e.g., user_list for a list of users).\n",
    "\n",
    "-->Use Capitalized Constants: Use capital letters for constant variables that should not be modified."
   ]
  },
  {
   "cell_type": "code",
   "execution_count": null,
   "id": "cb2335f8-81cb-4fec-919d-c2bf946fb2bd",
   "metadata": {},
   "outputs": [],
   "source": []
  }
 ],
 "metadata": {
  "kernelspec": {
   "display_name": "Python 3 (ipykernel)",
   "language": "python",
   "name": "python3"
  },
  "language_info": {
   "codemirror_mode": {
    "name": "ipython",
    "version": 3
   },
   "file_extension": ".py",
   "mimetype": "text/x-python",
   "name": "python",
   "nbconvert_exporter": "python",
   "pygments_lexer": "ipython3",
   "version": "3.12.1"
  }
 },
 "nbformat": 4,
 "nbformat_minor": 5
}
