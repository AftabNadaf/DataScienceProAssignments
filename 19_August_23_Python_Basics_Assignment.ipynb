{
 "cells": [
  {
   "cell_type": "code",
   "execution_count": 19,
   "id": "bef65e5d-ef5e-4aed-8aaf-00e9da0db0a4",
   "metadata": {},
   "outputs": [
    {
     "data": {
      "text/plain": [
       "'ASSIGNMENT 1(Week One) -> Python Basics Assignment\\n   Name : Aftab Nadaf\\n   Date : 19th Aug 2023\\n'"
      ]
     },
     "execution_count": 19,
     "metadata": {},
     "output_type": "execute_result"
    }
   ],
   "source": [
    "\"\"\"ASSIGNMENT 1(Week One) -> Python Basics Assignment\n",
    "   Name : Aftab Nadaf\n",
    "   Date : 19th Aug 2023\n",
    "\"\"\""
   ]
  },
  {
   "cell_type": "code",
   "execution_count": 1,
   "id": "63294041-6943-48db-8e6f-8e17001179d1",
   "metadata": {},
   "outputs": [
    {
     "name": "stdout",
     "output_type": "stream",
     "text": [
      "After swapping:\n",
      "x = 10\n",
      "y = 5\n"
     ]
    }
   ],
   "source": [
    "\"\"\"\n",
    "1.Declare two variables, `x` and `y`, and assign them integer values.\n",
    "Swap the values of these variables without using any temporary\n",
    "variable.\n",
    "\"\"\"\n",
    "\n",
    "x = 5\n",
    "y = 10\n",
    "\n",
    "x = x + y      # first the value of x become 15 (x=10+5 => 15)\n",
    "y = x - y      # then the value of y become  5  (y=15-10 => 5)\n",
    "x = x - y      # then the value of x become 10  (x=15-5 => 10)\n",
    "\n",
    "# so, value of x and y is swaped without using third variable\n",
    "\n",
    "print(\"After swapping:\")\n",
    "print(\"x =\", x)\n",
    "print(\"y =\", y)"
   ]
  },
  {
   "cell_type": "code",
   "execution_count": 3,
   "id": "a18702ff-4337-4aac-8dc8-64036f7ffa10",
   "metadata": {},
   "outputs": [
    {
     "name": "stdin",
     "output_type": "stream",
     "text": [
      "Enter the length of the area: 10\n",
      "Enter the width of the area: 10\n"
     ]
    },
    {
     "name": "stdout",
     "output_type": "stream",
     "text": [
      "The area of rectangle is:-  100.0 sq.m\n"
     ]
    }
   ],
   "source": [
    "\"\"\"\n",
    "2. Create a program that calculates the area of a rectangle. Take the\n",
    "length and width as inputs from the user and store them in variables.\n",
    "Calculate and display the area.\n",
    "\"\"\"\n",
    "\n",
    "length=float(input(\"Enter the length of the area:\"))   #taking length as input\n",
    "width=float(input(\"Enter the width of the area:\"))     #taking width as input\n",
    "\n",
    "# area of rectangle formulae\n",
    "area=length*width\n",
    "print(\"The area of rectangle is:- \",area,\"sq.m\")"
   ]
  },
  {
   "cell_type": "code",
   "execution_count": 4,
   "id": "32b00a45-b6a3-4a27-8c8f-500f362e4a41",
   "metadata": {},
   "outputs": [
    {
     "name": "stdin",
     "output_type": "stream",
     "text": [
      "Enter the temperature of your city in celsius: 27\n"
     ]
    },
    {
     "name": "stdout",
     "output_type": "stream",
     "text": [
      "The  temperature of the city in the celsius is:- 27.0 °c\n",
      "The  temperature of the city in the farhenite is:- 80.6 °f\n"
     ]
    }
   ],
   "source": [
    "\"\"\"\n",
    "3. Write a Python program that converts temperature from Celsius to\n",
    "Fahrenheit. Take the temperature in Celsius as input, store it in a\n",
    "variable, convert it to Fahrenheit, and display the result.\n",
    "\"\"\"\n",
    "\n",
    "celsius=float(input(\"Enter the temperature of your city in celsius:\"))\n",
    "\n",
    "# coverting the temperature from celcius to farhenite formulae\n",
    "farhenite=(celsius*1.8)+32\n",
    "\n",
    "print(\"The  temperature of the city in the celsius is:-\",celsius,\"°c\")\n",
    "print(\"The  temperature of the city in the farhenite is:-\",round(farhenite,2),\"°f\") \n",
    "# round(Builtin function) is used to roundoff the number upto two decimal digit"
   ]
  },
  {
   "cell_type": "code",
   "execution_count": 10,
   "id": "cb3140bb-984c-4a8c-ac6a-762a8fda162e",
   "metadata": {},
   "outputs": [
    {
     "name": "stdin",
     "output_type": "stream",
     "text": [
      "Enter the string:  Aftab\n"
     ]
    },
    {
     "name": "stdout",
     "output_type": "stream",
     "text": [
      "The length of the string is: 5\n"
     ]
    }
   ],
   "source": [
    "\"\"\"\n",
    "4. Write a Python program that takes a string as input and prints the\n",
    "length of the string.\n",
    "\"\"\"\n",
    "\n",
    "string = input(\"Enter the string: \")\n",
    "length = len(string)\n",
    "print(\"The length of the string is:\", length)\n"
   ]
  },
  {
   "cell_type": "code",
   "execution_count": 11,
   "id": "cbe0e92a-58ae-4ee5-95d2-9cbf4735c1ad",
   "metadata": {},
   "outputs": [
    {
     "name": "stdin",
     "output_type": "stream",
     "text": [
      "Enter a sentence:  My name is Aftab\n"
     ]
    },
    {
     "name": "stdout",
     "output_type": "stream",
     "text": [
      "Number of vowels in the sentence: 5\n"
     ]
    }
   ],
   "source": [
    "\"\"\"\n",
    "5.Create a program that takes a sentence from the user and counts the\n",
    "number of vowels (a, e, i, o, u) in the string.\n",
    "\"\"\"\n",
    "\n",
    "sentence = input(\"Enter a sentence: \")\n",
    "\n",
    "# Initialize a variable to keep track of the vowel count\n",
    "vowel_count = 0\n",
    "\n",
    "# Define a set of vowels for easy checking\n",
    "vowels = \"aeiouAEIOU\"\n",
    "\n",
    "# Iterate through each character in the sentence\n",
    "for char in sentence:\n",
    "    # Check if the character is a vowel\n",
    "    if char in vowels:\n",
    "        vowel_count += 1\n",
    "\n",
    "print(\"Number of vowels in the sentence:\", vowel_count)"
   ]
  },
  {
   "cell_type": "code",
   "execution_count": 12,
   "id": "c6db8455-3ada-4859-9de6-3d8356daa9f4",
   "metadata": {},
   "outputs": [
    {
     "name": "stdin",
     "output_type": "stream",
     "text": [
      "Enter the string:  Aftab\n"
     ]
    },
    {
     "name": "stdout",
     "output_type": "stream",
     "text": [
      "the reverse of the given string is:  batfA\n"
     ]
    }
   ],
   "source": [
    "\"\"\"\n",
    "6.Given a string, reverse the order of characters using string slicing and\n",
    "print the reversed string.\n",
    "\"\"\"\n",
    "st=input(\"Enter the string: \")\n",
    "\n",
    "reverse=st[::-1]\n",
    "\n",
    "print(\"the reverse of the given string is: \",reverse)"
   ]
  },
  {
   "cell_type": "code",
   "execution_count": 13,
   "id": "845cb441-c1e3-4d56-83c6-ea4475bb9a3c",
   "metadata": {},
   "outputs": [
    {
     "name": "stdin",
     "output_type": "stream",
     "text": [
      "Enter a string:  MADAM\n"
     ]
    },
    {
     "name": "stdout",
     "output_type": "stream",
     "text": [
      "The string is a palindrome.\n"
     ]
    }
   ],
   "source": [
    "\"\"\"\n",
    "7.Write a program that takes a string as input and checks if it is a\n",
    "palindrome (reads the same forwards and backwards).\n",
    "\"\"\"\n",
    "\n",
    "# Function to check if a string is a palindrome\n",
    "def is_palindrome(s):\n",
    "    # Remove spaces and convert the string to lowercase\n",
    "    s = s.replace(\" \", \"\").lower()\n",
    "    \n",
    "    # Compare the string with its reverse\n",
    "    return s == s[::-1]\n",
    "\n",
    "# Take a string input from the user\n",
    "input_string = input(\"Enter a string: \")\n",
    "\n",
    "# Check if it is a palindrome\n",
    "if is_palindrome(input_string):\n",
    "    print(\"The string is a palindrome.\")\n",
    "else:\n",
    "    print(\"The string is not a palindrome.\")"
   ]
  },
  {
   "cell_type": "code",
   "execution_count": 15,
   "id": "aa72a01b-d3b6-491b-967e-cb41da5260a6",
   "metadata": {},
   "outputs": [
    {
     "name": "stdin",
     "output_type": "stream",
     "text": [
      "Enter a string:  A F T A B\n"
     ]
    },
    {
     "name": "stdout",
     "output_type": "stream",
     "text": [
      "Modified string without spaces: AFTAB\n"
     ]
    }
   ],
   "source": [
    "\"\"\"\n",
    "8.Create a program that takes a string as input and removes all the\n",
    "spaces from it. Print the modified string without spaces.\"\"\"\n",
    "\n",
    "input_string = input(\"Enter a string: \")\n",
    "\n",
    "# Remove spaces from the input string\n",
    "modified_string = input_string.replace(\" \", \"\")\n",
    "\n",
    "print(\"Modified string without spaces:\", modified_string)\n"
   ]
  },
  {
   "cell_type": "code",
   "execution_count": null,
   "id": "8dd8ff6d-8ea3-4344-8ef6-f7752dc31e8c",
   "metadata": {},
   "outputs": [],
   "source": []
  }
 ],
 "metadata": {
  "kernelspec": {
   "display_name": "Python 3 (ipykernel)",
   "language": "python",
   "name": "python3"
  },
  "language_info": {
   "codemirror_mode": {
    "name": "ipython",
    "version": 3
   },
   "file_extension": ".py",
   "mimetype": "text/x-python",
   "name": "python",
   "nbconvert_exporter": "python",
   "pygments_lexer": "ipython3",
   "version": "3.11.5"
  }
 },
 "nbformat": 4,
 "nbformat_minor": 5
}
