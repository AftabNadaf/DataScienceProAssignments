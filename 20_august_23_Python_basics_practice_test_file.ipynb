{
 "cells": [
  {
   "cell_type": "code",
   "execution_count": 1,
   "id": "8e28986a-44b9-4092-82c4-5229bea164cd",
   "metadata": {},
   "outputs": [
    {
     "name": "stdin",
     "output_type": "stream",
     "text": [
      "enter any string:-  aftab\n"
     ]
    },
    {
     "name": "stdout",
     "output_type": "stream",
     "text": [
      "the string after reversing it is:-  batfa\n"
     ]
    }
   ],
   "source": [
    "\"\"\"Q1.Write a program to reverse a string.\"\"\"\n",
    "st=input(\"enter any string:- \")\n",
    "\n",
    "reverse_string=st[::-1]\n",
    "\n",
    "print(\"the string after reversing it is:- \",reverse_string)"
   ]
  },
  {
   "cell_type": "code",
   "execution_count": 2,
   "id": "8009c394-518d-459d-85bf-08f33774ee04",
   "metadata": {},
   "outputs": [
    {
     "name": "stdin",
     "output_type": "stream",
     "text": [
      "enter the string:-  aftab\n"
     ]
    },
    {
     "name": "stdout",
     "output_type": "stream",
     "text": [
      "it is not palindrome string\n"
     ]
    }
   ],
   "source": [
    "\"\"\"Q2. Check if a string is a palindrome\"\"\"\n",
    "st=input(\"enter the string:- \")\n",
    "\n",
    "reverse_str=st[::-1]\n",
    "\n",
    "if(reverse_str==st):\n",
    "    print(\"it is palindrome string\")\n",
    "    \n",
    "else:\n",
    "    print(\"it is not palindrome string\")\n",
    "\n",
    "\n"
   ]
  },
  {
   "cell_type": "code",
   "execution_count": 5,
   "id": "a79505bf-5df2-43a3-bb32-efab511752c4",
   "metadata": {},
   "outputs": [
    {
     "name": "stdin",
     "output_type": "stream",
     "text": [
      "enter any string:-  aftab\n"
     ]
    },
    {
     "name": "stdout",
     "output_type": "stream",
     "text": [
      "the string in uppercase:-  AFTAB\n"
     ]
    }
   ],
   "source": [
    "\"\"\"Q3. Convert a string to uppercase\"\"\"\n",
    "st=input(\"enter any string:- \")\n",
    "\n",
    "upper_string=st.upper()\n",
    "print(\"the string in uppercase:- \",upper_string)\n"
   ]
  },
  {
   "cell_type": "code",
   "execution_count": 6,
   "id": "84f29cf1-1f87-443c-88d6-9311edc99058",
   "metadata": {},
   "outputs": [
    {
     "name": "stdin",
     "output_type": "stream",
     "text": [
      "enter any string:-  aftab\n"
     ]
    },
    {
     "name": "stdout",
     "output_type": "stream",
     "text": [
      "the string in lowercase:-  aftab\n"
     ]
    }
   ],
   "source": [
    "\"\"\"Q4. Convert a string to lowercase\"\"\"\n",
    "st=input(\"enter any string:- \")\n",
    "\n",
    "lower_string=st.lower()\n",
    "print(\"the string in lowercase:- \",lower_string)\n",
    "\n"
   ]
  },
  {
   "cell_type": "code",
   "execution_count": 7,
   "id": "56030a01-d2bd-4ced-898a-4cefd49fcdcc",
   "metadata": {},
   "outputs": [
    {
     "name": "stdin",
     "output_type": "stream",
     "text": [
      "Enter the string:-  aftab\n"
     ]
    },
    {
     "name": "stdout",
     "output_type": "stream",
     "text": [
      "the count of vowels in a sstring is:-  2\n"
     ]
    }
   ],
   "source": [
    "\"\"\"Q5. Count the number of vowels in a string\"\"\"\n",
    "st=input(\"Enter the string:- \")\n",
    "count=0\n",
    "vowels='aeiouAEIOU'\n",
    "for char in st:\n",
    "    if char in vowels:\n",
    "        count=count+1\n",
    "        \n",
    "print(\"the count of vowels in a sstring is:- \",count)\n"
   ]
  },
  {
   "cell_type": "code",
   "execution_count": 8,
   "id": "48b61ea1-08bb-40aa-add1-438c54dd9698",
   "metadata": {},
   "outputs": [
    {
     "name": "stdin",
     "output_type": "stream",
     "text": [
      "Enter the string:-  aftab\n"
     ]
    },
    {
     "name": "stdout",
     "output_type": "stream",
     "text": [
      "the count of consonants in a string is:-  3\n"
     ]
    }
   ],
   "source": [
    "\"\"\"Q6. Count the number of consonants in a string\"\"\"\n",
    "st=input(\"Enter the string:- \")\n",
    "count=0\n",
    "vowels='aeiouAEIOU'                 # except the vowels in the alphabet all are consonant so we use not in vowels\n",
    "st=st.replace(\" \",\"\")              # The space is replaced by blank because it is counting the space also\n",
    "for char in st:\n",
    "    if char not in vowels:\n",
    "        count=count+1\n",
    "        \n",
    "print(\"the count of consonants in a string is:- \",count)\n",
    "\n",
    "\n",
    "\n"
   ]
  },
  {
   "cell_type": "code",
   "execution_count": 9,
   "id": "1e350832-fd99-4a8d-982c-f5bb81cc7d6d",
   "metadata": {},
   "outputs": [
    {
     "name": "stdin",
     "output_type": "stream",
     "text": [
      "Enter the string:-  a f t a b\n"
     ]
    },
    {
     "name": "stdout",
     "output_type": "stream",
     "text": [
      "The string after removing whitespace:-  aftab\n"
     ]
    }
   ],
   "source": [
    "\"\"\"Q7. Remove all whitespaces from a string\"\"\"\n",
    "def remove_whitespace(input_string):\n",
    "    return input_string.replace(\" \",\"\")\n",
    "\n",
    "\n",
    "user_input=input(\"Enter the string:- \")\n",
    "output=remove_whitespace(user_input)\n",
    "print(\"The string after removing whitespace:- \",output)\n",
    "\n",
    "\n"
   ]
  },
  {
   "cell_type": "code",
   "execution_count": 10,
   "id": "7cd51a43-684b-450c-b269-3fa05814af8b",
   "metadata": {},
   "outputs": [
    {
     "name": "stdin",
     "output_type": "stream",
     "text": [
      "Enter the string:-  aftab\n"
     ]
    },
    {
     "name": "stdout",
     "output_type": "stream",
     "text": [
      "Length: 5\n"
     ]
    }
   ],
   "source": [
    "\"\"\"Q8. Find the length of a string without using the len() function\"\"\"\n",
    "def string_len(input_string):\n",
    "    count = 0\n",
    "    for _ in input_string:     # this loop will iterate through  each character\n",
    "        count += 1\n",
    "    return count\n",
    "\n",
    "# Example usage\n",
    "user_input=input(\"Enter the string:- \")\n",
    "length = string_len(user_input)\n",
    "print(\"Length:\", length)\n",
    "\n",
    "\n"
   ]
  },
  {
   "cell_type": "code",
   "execution_count": 12,
   "id": "762c6fa2-370b-411e-a472-93988cdca4d3",
   "metadata": {},
   "outputs": [
    {
     "name": "stdin",
     "output_type": "stream",
     "text": [
      "Enter the string:-  aftab\n",
      "Enter the word:-  aftab\n"
     ]
    },
    {
     "name": "stdout",
     "output_type": "stream",
     "text": [
      "The string contains the 'aftab' \n"
     ]
    }
   ],
   "source": [
    "\"\"\"Q9. Check if a string contains a specific word\"\"\"\n",
    "def checking_word(input_string, specific_word):\n",
    "    return specific_word in input_string\n",
    "\n",
    "\n",
    "user_input = input(\"Enter the string:- \")\n",
    "word = input(\"Enter the word:- \")\n",
    "if checking_word(user_input,word):\n",
    "    print(f\"The string contains the '{word}' \")\n",
    "else:\n",
    "    print(f\"the string did not contain '{word}' \")\n"
   ]
  },
  {
   "cell_type": "code",
   "execution_count": 15,
   "id": "b50e789c-c29c-4e63-9771-48ed5fa2df3b",
   "metadata": {},
   "outputs": [
    {
     "name": "stdin",
     "output_type": "stream",
     "text": [
      "Enter a string:  hello how are you\n",
      "Enter the word you want to replace:  hello\n",
      "Enter the new word:  hi\n"
     ]
    },
    {
     "name": "stdout",
     "output_type": "stream",
     "text": [
      "Updated string: hi how are you\n"
     ]
    }
   ],
   "source": [
    "\"\"\"Q10. Replace a word in a string with another word\"\"\"\n",
    "def replace_word(input_string, old_word, new_word):\n",
    "    return input_string.replace(old_word, new_word)\n",
    "\n",
    "\n",
    "user_input = input(\"Enter a string: \")\n",
    "word1 = input(\"Enter the word you want to replace: \")\n",
    "word2 = input(\"Enter the new word: \")\n",
    "\n",
    "output_string = replace_word(user_input, word1, word2)\n",
    "print(\"Updated string:\", output_string)\n"
   ]
  },
  {
   "cell_type": "code",
   "execution_count": 16,
   "id": "622988ec-6158-4ac9-9763-c8de094afbd6",
   "metadata": {},
   "outputs": [
    {
     "name": "stdin",
     "output_type": "stream",
     "text": [
      "Enter a string:  aftab\n",
      "Enter the word to count:  a\n"
     ]
    },
    {
     "name": "stdout",
     "output_type": "stream",
     "text": [
      "The word 'a' appears 0 times in the string.\n"
     ]
    }
   ],
   "source": [
    "\"\"\"Q11. Count the occurrences of a word in a string\"\"\"\n",
    "def counting_word_occurrences(input_string, target_word):\n",
    "    words = input_string.split()\n",
    "    count = 0\n",
    "    for word in words:\n",
    "        if word == target_word:\n",
    "            count += 1\n",
    "    return count\n",
    "\n",
    "\n",
    "user_input= input(\"Enter a string: \")\n",
    "counter_word = input(\"Enter the word to count: \")\n",
    "\n",
    "occurrences = counting_word_occurrences(user_input, counter_word)\n",
    "print(f\"The word '{counter_word}' appears {occurrences} times in the string.\")\n"
   ]
  },
  {
   "cell_type": "code",
   "execution_count": 3,
   "id": "3a8ad783-adc1-48a3-ac5b-a060f3d2f0f0",
   "metadata": {},
   "outputs": [
    {
     "name": "stdin",
     "output_type": "stream",
     "text": [
      "Enter any string:   This is an example string for testing\n",
      "Enter the word to find its first occurrence:  example\n"
     ]
    },
    {
     "name": "stdout",
     "output_type": "stream",
     "text": [
      "The first occurrence of 'example' starts at index 12\n"
     ]
    }
   ],
   "source": [
    "\"\"\"Q12. Find the first occurrence of a word in a string\"\"\"\n",
    "def first_occurrence_index(input_string, word):\n",
    "    index = input_string.find(word)\n",
    "    return index\n",
    "\n",
    "# User input\n",
    "user_input = input(\"Enter any string: \")\n",
    "word = input(\"Enter the word to find its first occurrence: \")\n",
    "\n",
    "# Call the function and store the result in final_count\n",
    "final_count = first_occurrence_index(user_input, word)\n",
    "\n",
    "# Check if the word was found or not\n",
    "if final_count != -1:\n",
    "    print(f\"The first occurrence of '{word}' starts at index {final_count}\")\n",
    "else:\n",
    "    print(f\"'{word}' not found in the string\")\n",
    "\n",
    "\n"
   ]
  },
  {
   "cell_type": "code",
   "execution_count": 4,
   "id": "9448a2ea-0870-40a9-9b01-5594d02a8ca4",
   "metadata": {},
   "outputs": [
    {
     "name": "stdin",
     "output_type": "stream",
     "text": [
      "Enter any string:-  this is a example string for testing\n",
      "Enter word to find its last occurence in the string:-  example\n"
     ]
    },
    {
     "name": "stdout",
     "output_type": "stream",
     "text": [
      "The last occurence of 'example' ends with index 10\n"
     ]
    }
   ],
   "source": [
    "\"\"\"Q13. Find the last occurrence of a word in a string\"\"\"\n",
    "def last_occurrence_finder(input_string,word):\n",
    "    index=input_string.rfind(word)\n",
    "    return index\n",
    "\n",
    "user_input=input(\"Enter any string:- \")\n",
    "word=input(\"Enter word to find its last occurence in the string:- \")\n",
    "\n",
    "final_output=last_occurrence_finder(user_input,word)\n",
    "\n",
    "if last_occurrence_finder!=-1:\n",
    "    print(f\"The last occurence of '{word}' ends with index {final_output}\")\n",
    "    \n",
    "else:\n",
    "    print(f\"'{word}' not found in a string\")\n",
    "\n",
    "\n",
    "\n",
    "\n",
    "\n",
    "\n",
    "\n",
    "\n",
    "\n",
    "\n",
    "\n",
    "\n"
   ]
  },
  {
   "cell_type": "code",
   "execution_count": 5,
   "id": "26d5280e-4dd9-4f85-93f2-2c8855ee35e3",
   "metadata": {},
   "outputs": [
    {
     "name": "stdin",
     "output_type": "stream",
     "text": [
      "Enter the string:-  this is sample string\n"
     ]
    },
    {
     "name": "stdout",
     "output_type": "stream",
     "text": [
      "The string after spliting looks like:-  ['this', 'is', 'sample', 'string']\n",
      "The type of output is:-  <class 'list'>\n"
     ]
    }
   ],
   "source": [
    "\"\"\"Q14. Split a string into a list of words\"\"\"\n",
    "def split_string(input_string):\n",
    "    spliting=input_string.split()\n",
    "    return spliting\n",
    "\n",
    "user_input=input(\"Enter the string:- \")\n",
    "\n",
    "output=split_string(user_input)\n",
    "\n",
    "print(\"The string after spliting looks like:- \",output)\n",
    "print(\"The type of output is:- \",type(output))\n",
    "\n",
    "\n"
   ]
  },
  {
   "cell_type": "code",
   "execution_count": 6,
   "id": "9c2e64f1-3a0b-4da6-810e-f5f4ffc8914f",
   "metadata": {},
   "outputs": [
    {
     "name": "stdout",
     "output_type": "stream",
     "text": [
      "The string is 'hey how are you'\n"
     ]
    }
   ],
   "source": [
    "\"\"\"Q15. Join a list of words into a string\"\"\"\n",
    "li=[\"hey\",\"how\",\"are\",\"you\"]\n",
    "\n",
    "join_string=\" \".join(li)   # \" \" this is a seperator used between words\n",
    "print(f\"The string is '{join_string}'\") \n",
    "\n",
    "\n"
   ]
  },
  {
   "cell_type": "code",
   "execution_count": 8,
   "id": "30051c21-e1b2-4984-9848-7ea51191a6c7",
   "metadata": {},
   "outputs": [
    {
     "name": "stdin",
     "output_type": "stream",
     "text": [
      "Enter any string:-  hey how are you\n"
     ]
    },
    {
     "name": "stdout",
     "output_type": "stream",
     "text": [
      "The modified string is 'hey_how_are_you'\n"
     ]
    }
   ],
   "source": [
    "\"\"\"Q16. Convert a string where words are separated by spaces to one where words are separated by underscores\"\"\"\n",
    "def space_to_underscore(input_string):\n",
    "    modified_string=input_string.replace(\" \",\"_\")\n",
    "    return modified_string\n",
    "\n",
    "user_input=input(\"Enter any string:- \")\n",
    "output=space_to_underscore(user_input)\n",
    "\n",
    "print(f\"The modified string is '{output}'\")\n"
   ]
  },
  {
   "cell_type": "code",
   "execution_count": 9,
   "id": "fbc1e45c-e5e6-4e4c-949d-74a9836139f2",
   "metadata": {},
   "outputs": [
    {
     "name": "stdin",
     "output_type": "stream",
     "text": [
      "Enter string:-  hello\n",
      "Enter the word or phrase:-  hello\n"
     ]
    },
    {
     "name": "stdout",
     "output_type": "stream",
     "text": [
      "Yes the string startswith 'hello'\n"
     ]
    }
   ],
   "source": [
    "\"\"\"Q17. Check if a string starts with a specific word or phrase\"\"\"\n",
    "user_input=input(\"Enter string:- \")\n",
    "word=input(\"Enter the word or phrase:- \")\n",
    "\n",
    "if user_input.startswith(word):\n",
    "    print(f\"Yes the string startswith '{word}'\")\n",
    "    \n",
    "else:\n",
    "    print(f\"No string does not startswith '{word}'\")\n"
   ]
  },
  {
   "cell_type": "code",
   "execution_count": 10,
   "id": "f0e873fc-deee-4a66-a064-9b32e6808edc",
   "metadata": {},
   "outputs": [
    {
     "name": "stdin",
     "output_type": "stream",
     "text": [
      "Enter string:-  hello aftab\n",
      "Enter the word or phrase:-  aftab\n"
     ]
    },
    {
     "name": "stdout",
     "output_type": "stream",
     "text": [
      "Yes the string endswith 'aftab'\n"
     ]
    }
   ],
   "source": [
    "\"\"\"Q18. Check if a string ends with a specific word or phrase\"\"\"\n",
    "user_input=input(\"Enter string:- \")\n",
    "word=input(\"Enter the word or phrase:- \")\n",
    "\n",
    "if user_input.endswith(word):\n",
    "    print(f\"Yes the string endswith '{word}'\")\n",
    "    \n",
    "else:\n",
    "    print(f\"No string does not endswith '{word}'\")\n",
    "    \n",
    "\n",
    "\n"
   ]
  },
  {
   "cell_type": "code",
   "execution_count": 11,
   "id": "53b2222c-ca56-4c9f-96fa-bf02dcfc5713",
   "metadata": {},
   "outputs": [
    {
     "name": "stdin",
     "output_type": "stream",
     "text": [
      "enter the string:-  hello i am aftab\n"
     ]
    },
    {
     "name": "stdout",
     "output_type": "stream",
     "text": [
      "The modified string is:-  Hello I Am Aftab\n"
     ]
    }
   ],
   "source": [
    "\"\"\"Q19. Convert a string to title case\"\"\"\n",
    "user_input=input(\"enter the string:- \")\n",
    "\n",
    "modified_string=user_input.title()\n",
    "\n",
    "print(\"The modified string is:- \",modified_string)\n",
    "\n",
    "\n",
    "\n"
   ]
  },
  {
   "cell_type": "code",
   "execution_count": 12,
   "id": "696a9fe6-d05b-4e86-bb70-cfc714bff7bf",
   "metadata": {},
   "outputs": [
    {
     "name": "stdin",
     "output_type": "stream",
     "text": [
      "Enter string:-  example for longest string\n"
     ]
    },
    {
     "name": "stdout",
     "output_type": "stream",
     "text": [
      "The longest word from a sting is 'example' having a length 7\n"
     ]
    }
   ],
   "source": [
    "\"\"\"Q20. Find the longest word in a string\"\"\"\n",
    "def max_finder(input_string):\n",
    "    splits=user_input.split()\n",
    "    maximum=max(splits,key=len)\n",
    "    return maximum\n",
    "\n",
    "user_input=input(\"Enter string:- \")\n",
    "output=max_finder(user_input)\n",
    "length=len(output)\n",
    "\n",
    "\n",
    "print(f\"The longest word from a sting is '{output}' having a length {length}\")\n",
    "\n",
    "\n"
   ]
  },
  {
   "cell_type": "code",
   "execution_count": 13,
   "id": "7e9fc669-69be-4341-b4cf-c0e169f22fd6",
   "metadata": {},
   "outputs": [
    {
     "name": "stdin",
     "output_type": "stream",
     "text": [
      "Enter string:-  finding shortest string\n"
     ]
    },
    {
     "name": "stdout",
     "output_type": "stream",
     "text": [
      "The shortest word from a sting is 'string' having a length 6\n"
     ]
    }
   ],
   "source": [
    "\"\"\"Q21. Find the shortest word in a string\"\"\"\n",
    "def min_finder(input_string):\n",
    "    splits=user_input.split()\n",
    "    minimum=min(splits,key=len)\n",
    "    return minimum\n",
    "\n",
    "user_input=input(\"Enter string:- \")\n",
    "output=min_finder(user_input)\n",
    "length=len(output)\n",
    "\n",
    "\n",
    "print(f\"The shortest word from a sting is '{output}' having a length {length}\")\n",
    "\n",
    "\n"
   ]
  },
  {
   "cell_type": "code",
   "execution_count": 14,
   "id": "9632cc08-94bb-4229-b838-3f29e66f0af1",
   "metadata": {},
   "outputs": [
    {
     "name": "stdin",
     "output_type": "stream",
     "text": [
      "enter any string:-  hello iam aftab\n"
     ]
    },
    {
     "name": "stdout",
     "output_type": "stream",
     "text": [
      "First string:-  hello iam aftab\n",
      "Reversed string:-  aftab iam hello\n"
     ]
    }
   ],
   "source": [
    "\"\"\"Q22. Reverse the order of words in a string\"\"\"\n",
    "def reverse_string(input_string):\n",
    "    splits=input_string.split()\n",
    "    reversing=splits[::-1]\n",
    "    joining=\" \".join(reversing)\n",
    "    return joining\n",
    "\n",
    "user_input=input(\"enter any string:- \")\n",
    "output=reverse_string(user_input)\n",
    "\n",
    "print(\"First string:- \",user_input)\n",
    "print(\"Reversed string:- \",output)\n",
    "\n",
    "\n"
   ]
  },
  {
   "cell_type": "code",
   "execution_count": 15,
   "id": "ea5e818c-695e-4ef0-a49e-ea4e2efafb3f",
   "metadata": {},
   "outputs": [
    {
     "name": "stdin",
     "output_type": "stream",
     "text": [
      "Enter any string:-  aftab123\n"
     ]
    },
    {
     "name": "stdout",
     "output_type": "stream",
     "text": [
      "The string is alphanumeric\n"
     ]
    }
   ],
   "source": [
    "\"\"\"Q23. Check if a string is alphanumeric\"\"\"\n",
    "user_input=input(\"Enter any string:- \")\n",
    "\n",
    "if user_input.isalnum():\n",
    "    print(\"The string is alphanumeric\")\n",
    "else:\n",
    "    print(\"No string is not alphanumeric\")\n",
    "    \n",
    "\n",
    "\n"
   ]
  },
  {
   "cell_type": "code",
   "execution_count": 16,
   "id": "11f074f1-e57e-4f8c-986f-c264985b366a",
   "metadata": {},
   "outputs": [
    {
     "name": "stdin",
     "output_type": "stream",
     "text": [
      "Enter the string:-  aftab123\n"
     ]
    },
    {
     "name": "stdout",
     "output_type": "stream",
     "text": [
      "The extracted digits from a strring is:-  123\n"
     ]
    }
   ],
   "source": [
    "\"\"\"Q24. Extract all digits from a string\"\"\"\n",
    "def extract_digits(input_string):\n",
    "    digits = [char for char in input_string if char.isdigit()]\n",
    "    return \"\".join(digits)\n",
    "\n",
    "text_with_digits = input(\"Enter the string:- \")\n",
    "extracted_digits = extract_digits(text_with_digits)\n",
    "\n",
    "print(\"The extracted digits from a strring is:- \",extracted_digits)\n",
    "\n",
    "\n"
   ]
  },
  {
   "cell_type": "code",
   "execution_count": 17,
   "id": "783b7d86-a269-4d13-948e-ae26b4e67488",
   "metadata": {},
   "outputs": [
    {
     "name": "stdin",
     "output_type": "stream",
     "text": [
      "Enter any string:-  aftab123\n"
     ]
    },
    {
     "name": "stdout",
     "output_type": "stream",
     "text": [
      "The extracted aplphabets are:- 'a f t a b'\n"
     ]
    }
   ],
   "source": [
    "\"\"\"Q25. Extract all alphabets from a string\"\"\"\n",
    "\n",
    "def alpha_extractor(input_string):\n",
    "    alphabets=[char for char in input_string if char.isalpha()]\n",
    "    return \" \".join(alphabets)\n",
    "\n",
    "user_input=input(\"Enter any string:- \")\n",
    "final_output=alpha_extractor(user_input)\n",
    "\n",
    "print(f\"The extracted aplphabets are:- '{final_output}'\")\n",
    "    \n"
   ]
  },
  {
   "cell_type": "code",
   "execution_count": 18,
   "id": "3e4e59f5-2eaa-49dc-adbe-1829ab49e091",
   "metadata": {},
   "outputs": [
    {
     "name": "stdin",
     "output_type": "stream",
     "text": [
      "Enter any string:-  Aftab\n"
     ]
    },
    {
     "name": "stdout",
     "output_type": "stream",
     "text": [
      "the count of uppercase letters in the string is:- 1\n"
     ]
    }
   ],
   "source": [
    "\"\"\"Q26. Count the number of uppercase letters in a string\"\"\"\n",
    "\n",
    "def uppercase_counter(input_string):\n",
    "    count=0\n",
    "    for char in input_string:\n",
    "        if char.isupper():\n",
    "            count+=1\n",
    "            \n",
    "    return count\n",
    "\n",
    "user_input=input(\"Enter any string:- \")\n",
    "output=uppercase_counter(user_input)\n",
    "\n",
    "print(f\"the count of uppercase letters in the string is:- {output}\")\n"
   ]
  },
  {
   "cell_type": "code",
   "execution_count": 19,
   "id": "08d87dd0-ac28-4604-b5ff-51d5e8c18cfa",
   "metadata": {},
   "outputs": [
    {
     "name": "stdin",
     "output_type": "stream",
     "text": [
      "Enter any string:-  AFtab\n"
     ]
    },
    {
     "name": "stdout",
     "output_type": "stream",
     "text": [
      "the count of lowercase letters in the string is:-  3\n"
     ]
    }
   ],
   "source": [
    "\"\"\"Q27. Count the number of lowercase letters in a string\"\"\"\n",
    "\n",
    "def lowercase_counter(input_string):\n",
    "    count=0\n",
    "    for char in input_string:\n",
    "        if char.islower():\n",
    "            count+=1\n",
    "            \n",
    "    return count\n",
    "\n",
    "user_input=input(\"Enter any string:- \")\n",
    "output=lowercase_counter(user_input)\n",
    "\n",
    "print(f\"the count of lowercase letters in the string is:-  {output}\")\n"
   ]
  },
  {
   "cell_type": "code",
   "execution_count": 20,
   "id": "19b2e00f-f216-4691-80ce-0da017217d3e",
   "metadata": {},
   "outputs": [
    {
     "name": "stdin",
     "output_type": "stream",
     "text": [
      "Enter any string:-  aftab nadaf\n"
     ]
    },
    {
     "name": "stdout",
     "output_type": "stream",
     "text": [
      "Original string:- 'aftab nadaf'\n",
      "Modified string:- 'AFTAB NADAF'\n"
     ]
    }
   ],
   "source": [
    "\"\"\"Q28. Swap the case of each character in a string\"\"\"\n",
    "\n",
    "def swaping_case(input_string):\n",
    "    swaped_string=input_string.swapcase()\n",
    "    return swaped_string\n",
    "\n",
    "user_input=input(\"Enter any string:- \")\n",
    "output=swaping_case(user_input)\n",
    "\n",
    "print(f\"Original string:- '{user_input}'\")\n",
    "print(f\"Modified string:- '{output}'\")\n"
   ]
  },
  {
   "cell_type": "code",
   "execution_count": 21,
   "id": "60ab2fa1-7722-4bdd-a389-37204c392d87",
   "metadata": {},
   "outputs": [
    {
     "name": "stdin",
     "output_type": "stream",
     "text": [
      "Enter any string:-  remove specific string\n",
      "Enter the targeted word:-  remove\n"
     ]
    },
    {
     "name": "stdout",
     "output_type": "stream",
     "text": [
      "Original string:- 'remove specific string'\n",
      "Modified string after removing the 'remove' is:- 'specific string'\n"
     ]
    }
   ],
   "source": [
    "\"\"\"Q29. Remove a specific word from a string\"\"\"\n",
    "\n",
    "def word_remover(input_string,specific_word):\n",
    "    words=input_string.split()\n",
    "    string_without_word=[word for word in words if word!=specific_word]\n",
    "    return \" \".join(string_without_word)\n",
    "\n",
    "user_input=input(\"Enter any string:- \")\n",
    "target_word=input(\"Enter the targeted word:- \")\n",
    "\n",
    "final_output=word_remover(user_input,target_word)\n",
    "\n",
    "print(f\"Original string:- '{user_input}'\")\n",
    "print(f\"Modified string after removing the '{target_word}' is:- '{final_output}'\")\n",
    "\n"
   ]
  },
  {
   "cell_type": "code",
   "execution_count": 22,
   "id": "83ba2232-aef5-4def-9a72-ae8854324c49",
   "metadata": {},
   "outputs": [
    {
     "name": "stdin",
     "output_type": "stream",
     "text": [
      "Enter the email address:-  aftabnadaf@1111\n"
     ]
    },
    {
     "name": "stdout",
     "output_type": "stream",
     "text": [
      "'aftabnadaf@1111' is not a valid email address.\n"
     ]
    }
   ],
   "source": [
    "\"\"\"Q30. Check if a string is a valid email address\"\"\"\n",
    "\n",
    "import re   # we have to import the re module to find the patterns in the Email address \n",
    "\n",
    "def is_valid_email(email):\n",
    "    pattern = r\"^[a-zA-Z0-9._%+-]+@[a-zA-Z0-9.-]+\\.[a-zA-Z]{2,}$\"   # this is our pattern \n",
    "    return re.match(pattern, email) \n",
    "\n",
    "email_address =input(\"Enter the email address:- \")\n",
    "if is_valid_email(email_address):\n",
    "    print(f\"'{email_address}' is a valid email address.\")\n",
    "else:\n",
    "    print(f\"'{email_address}' is not a valid email address.\")\n"
   ]
  },
  {
   "cell_type": "code",
   "execution_count": 23,
   "id": "d95e735b-9cef-4597-8de0-40d1d384bcbc",
   "metadata": {},
   "outputs": [
    {
     "name": "stdin",
     "output_type": "stream",
     "text": [
      "Enter a valid email address:-  aftabnadaf123@gmail.com\n"
     ]
    },
    {
     "name": "stdout",
     "output_type": "stream",
     "text": [
      "The username is:-  aftabnadaf123\n"
     ]
    }
   ],
   "source": [
    "\"\"\"Q31. Extract the username from an email address string\"\"\"\n",
    "\n",
    "def extract_name(input_string):\n",
    "    spliting=input_string.split(\"@\")\n",
    "    username=spliting[0]\n",
    "    return username\n",
    "\n",
    "user_input=input(\"Enter a valid email address:- \")\n",
    "\n",
    "output=extract_name(user_input)\n",
    "\n",
    "print(\"The username is:- \",output)\n"
   ]
  },
  {
   "cell_type": "code",
   "execution_count": 24,
   "id": "d526b659-7a64-49ae-9064-2a3c4d6238e1",
   "metadata": {},
   "outputs": [
    {
     "name": "stdin",
     "output_type": "stream",
     "text": [
      "Enter a valid email address:-  aftabnadaf123@gmail.com\n"
     ]
    },
    {
     "name": "stdout",
     "output_type": "stream",
     "text": [
      "The domain name is:-  gmail\n"
     ]
    }
   ],
   "source": [
    "\"\"\"Q32. Extract the domain name from an email address string\"\"\"\n",
    "\n",
    "def domain_name(input_string):\n",
    "    spliting=input_string.split(\"@\")\n",
    "    username=spliting[1]\n",
    "    domain=username.split(\".\")[0]\n",
    "    return domain\n",
    "\n",
    "user_input=input(\"Enter a valid email address:- \")\n",
    "\n",
    "output=domain_name(user_input)\n",
    "\n",
    "print(\"The domain name is:- \",output)\n"
   ]
  },
  {
   "cell_type": "code",
   "execution_count": 25,
   "id": "04cc5173-7042-4891-a711-08294b4c1d87",
   "metadata": {},
   "outputs": [
    {
     "name": "stdin",
     "output_type": "stream",
     "text": [
      "Enter any string:-  hello           aftab    how     are     you  \n"
     ]
    },
    {
     "name": "stdout",
     "output_type": "stream",
     "text": [
      "Original string is 'hello           aftab    how     are     you  '\n",
      "Modified string is 'hello aftab how are you'\n"
     ]
    }
   ],
   "source": [
    "\"\"\"Q33. Replace multiple spaces in a string with a single space\"\"\"\n",
    "\n",
    "user_input=input(\"Enter any string:- \")\n",
    "spliting=user_input.split()\n",
    "\n",
    "removing_multiple_space=\" \".join(spliting)\n",
    "\n",
    "print(f\"Original string is '{user_input}'\")\n",
    "print(f\"Modified string is '{removing_multiple_space}'\")\n"
   ]
  },
  {
   "cell_type": "code",
   "execution_count": 27,
   "id": "3600973d-8d1b-4613-82f0-ff888ce90dbd",
   "metadata": {},
   "outputs": [
    {
     "name": "stdin",
     "output_type": "stream",
     "text": [
      "Enter a URL:  https://www.example.com\n"
     ]
    },
    {
     "name": "stdout",
     "output_type": "stream",
     "text": [
      "The input is a valid URL.\n"
     ]
    }
   ],
   "source": [
    "\"\"\"Q34. Check if a string is a valid URL\"\"\"\n",
    "from urllib.parse import urlparse\n",
    "\n",
    "def is_valid_url(url):\n",
    "    try:\n",
    "        result = urlparse(url)\n",
    "        return all([result.scheme, result.netloc])\n",
    "    except ValueError:\n",
    "        return False\n",
    "\n",
    "# User input\n",
    "user_input = input(\"Enter a URL: \")\n",
    "\n",
    "# Check if the input is a valid URL\n",
    "if is_valid_url(user_input):\n",
    "    print(\"The input is a valid URL.\")\n",
    "else:\n",
    "    print(\"The input is not a valid URL.\")\n",
    "\n",
    "\n",
    "\n"
   ]
  },
  {
   "cell_type": "code",
   "execution_count": 28,
   "id": "10fa0a5f-d311-4830-a714-ded7eea4c69d",
   "metadata": {},
   "outputs": [
    {
     "name": "stdin",
     "output_type": "stream",
     "text": [
      "Enter the valid URL:-  https://www.example.com\n"
     ]
    },
    {
     "name": "stdout",
     "output_type": "stream",
     "text": [
      "The protocol name from the url is 'https'\n"
     ]
    }
   ],
   "source": [
    "\"\"\"Q35. Extract the protocol (http or https) from a URL string\"\"\"\n",
    "\n",
    "input_string=input(\"Enter the valid URL:- \")\n",
    "\n",
    "spliting=input_string.split(\":\")\n",
    "protocol=spliting[0]\n",
    "\n",
    "print(f\"The protocol name from the url is '{protocol}'\")\n"
   ]
  },
  {
   "cell_type": "code",
   "execution_count": 29,
   "id": "4ff34478-d956-4d22-8448-80289aac4e80",
   "metadata": {},
   "outputs": [
    {
     "name": "stdin",
     "output_type": "stream",
     "text": [
      "Enter the string:-  hello\n"
     ]
    },
    {
     "name": "stdout",
     "output_type": "stream",
     "text": [
      "the 'h' occurs 1 times\n",
      "the 'e' occurs 1 times\n",
      "the 'l' occurs 2 times\n",
      "the 'o' occurs 1 times\n"
     ]
    }
   ],
   "source": [
    "\"\"\"Q36. Find the frequency of each character in a string\"\"\"\n",
    "\n",
    "def frequency_counter(input_string):\n",
    "    frequency={}\n",
    "    for char in input_string:\n",
    "        if char in frequency:\n",
    "            frequency[char]+=1\n",
    "        else:\n",
    "            frequency[char]=1\n",
    "            \n",
    "    return frequency\n",
    "\n",
    "user_input=input(\"Enter the string:- \")\n",
    "\n",
    "char_freq=frequency_counter(user_input)\n",
    "\n",
    "\n",
    "for char,freq in char_freq.items():\n",
    "    print(f\"the '{char}' occurs {freq} times\")\n",
    "    \n"
   ]
  },
  {
   "cell_type": "code",
   "execution_count": 31,
   "id": "554f636c-0025-4a05-9c26-7a62c99c2abd",
   "metadata": {},
   "outputs": [
    {
     "name": "stdin",
     "output_type": "stream",
     "text": [
      "Enter the string af!tab!@#\n"
     ]
    },
    {
     "name": "stdout",
     "output_type": "stream",
     "text": [
      "aftab\n"
     ]
    }
   ],
   "source": [
    "\"\"\"Q37. Remove all punctuation from a string\"\"\"\n",
    "\n",
    "import string\n",
    "\n",
    "def remove_punctuation(input_string):\n",
    "    return ''.join(char for char in input_string if char not in string.punctuation)\n",
    "\n",
    "input_string = input(\"Enter the string\")\n",
    "cleaned_string = remove_punctuation(input_string)\n",
    "print(cleaned_string)\n"
   ]
  },
  {
   "cell_type": "code",
   "execution_count": 33,
   "id": "b2b57d60-eee1-4f5e-a372-714e9e7d9fdb",
   "metadata": {},
   "outputs": [
    {
     "name": "stdin",
     "output_type": "stream",
     "text": [
      "Enter the string:-  1234\n"
     ]
    },
    {
     "name": "stdout",
     "output_type": "stream",
     "text": [
      "yes string only contains digit\n"
     ]
    }
   ],
   "source": [
    "\"\"\"Q38. Check if a string contains only digits\"\"\"\n",
    "\n",
    "st=input(\"Enter the string:- \")\n",
    "\n",
    "if st.isdigit():\n",
    "    print(\"yes string only contains digit\")\n",
    "    \n",
    "else:\n",
    "    print(\"string is not in a numeric  form\")\n"
   ]
  },
  {
   "cell_type": "code",
   "execution_count": 34,
   "id": "6d3d4380-0420-47fd-aceb-d625512a92df",
   "metadata": {},
   "outputs": [
    {
     "name": "stdin",
     "output_type": "stream",
     "text": [
      "Enter the string:-  aftab\n"
     ]
    },
    {
     "name": "stdout",
     "output_type": "stream",
     "text": [
      "yes string only contains alphabets\n"
     ]
    }
   ],
   "source": [
    "\"\"\"Q39. Check if a string contains only alphabets\"\"\"\n",
    "\n",
    "st=input(\"Enter the string:- \")\n",
    "\n",
    "if st.isalpha():\n",
    "    print(\"yes string only contains alphabets\")\n",
    "    \n",
    "else:\n",
    "    print(\"string also contains characters and numbers other than alphabet\")\n"
   ]
  },
  {
   "cell_type": "code",
   "execution_count": 35,
   "id": "3620b671-ccbe-4c6c-a34a-1d21b5b3429a",
   "metadata": {},
   "outputs": [
    {
     "name": "stdin",
     "output_type": "stream",
     "text": [
      "enter any string:-  aftab\n"
     ]
    },
    {
     "name": "stdout",
     "output_type": "stream",
     "text": [
      "['aftab']\n"
     ]
    }
   ],
   "source": [
    "\"\"\"Q40. Convert a string to a list of characters\"\"\"\n",
    "\n",
    "user_input=input(\"enter any string:- \")\n",
    "list_of_words=user_input.split()\n",
    "print(list_of_words)\n"
   ]
  },
  {
   "cell_type": "code",
   "execution_count": 36,
   "id": "128497dd-d5dc-4166-b1e4-3615142ddfd1",
   "metadata": {},
   "outputs": [
    {
     "name": "stdin",
     "output_type": "stream",
     "text": [
      "Enter first string:-  listen\n",
      "Enter second string:-  silent\n"
     ]
    },
    {
     "name": "stdout",
     "output_type": "stream",
     "text": [
      "The strings are anagrams\n"
     ]
    }
   ],
   "source": [
    "\"\"\"Q41. Check if two strings are anagrams\"\"\"\n",
    "\n",
    "def anagram_checker(str1,str2):\n",
    "    return (sorted(str1)==sorted(str2))\n",
    "\n",
    "string1=input(\"Enter first string:- \")\n",
    "string2=input(\"Enter second string:- \")\n",
    "\n",
    "final_output=anagram_checker(string1,string2)\n",
    "\n",
    "if final_output:\n",
    "    print(\"The strings are anagrams\")\n",
    "    \n",
    "else:\n",
    "    print(\"The string are not anagrams\")\n",
    "            \n"
   ]
  },
  {
   "cell_type": "code",
   "execution_count": 37,
   "id": "55ac80f9-afcf-4259-91b5-d0b42d7d85ba",
   "metadata": {},
   "outputs": [
    {
     "name": "stdin",
     "output_type": "stream",
     "text": [
      "Enter the string to encrypt:-  Hello, World! 123\n"
     ]
    },
    {
     "name": "stdout",
     "output_type": "stream",
     "text": [
      "Original: Hello, World! 123\n",
      "Encrypted: Khoor, Zruog! 456\n"
     ]
    }
   ],
   "source": [
    "\"\"\"Q42. Encode a string using a Caesar cipher\"\"\"\n",
    "\n",
    "def caesar_cipher_encrypt(text, shift, shift_letters=True, shift_digits=True):\n",
    "    encrypted_text = ''\n",
    "    for char in text:\n",
    "        if char.isalpha() and shift_letters:\n",
    "            base = ord('a') if char.islower() else ord('A')\n",
    "            shifted_char = chr((ord(char) - base + shift) % 26 + base)\n",
    "            encrypted_text += shifted_char\n",
    "        elif char.isdigit() and shift_digits:\n",
    "            shifted_digit = chr((ord(char) - ord('0') + shift) % 10 + ord('0'))\n",
    "            encrypted_text += shifted_digit\n",
    "        else:\n",
    "            encrypted_text += char\n",
    "    return encrypted_text\n",
    "\n",
    "plain_text = input(\"Enter the string to encrypt:- \")\n",
    "shift_amount = 3\n",
    "encrypted_text = caesar_cipher_encrypt(plain_text, shift_amount)\n",
    "print(\"Original:\", plain_text)\n",
    "print(\"Encrypted:\", encrypted_text)\n"
   ]
  },
  {
   "cell_type": "code",
   "execution_count": 38,
   "id": "5f437ae1-4a4a-4d8a-9b5b-92eae7a62c9c",
   "metadata": {},
   "outputs": [
    {
     "name": "stdin",
     "output_type": "stream",
     "text": [
      "Enter the string to decrypt:-  khoor zruog\n"
     ]
    },
    {
     "name": "stdout",
     "output_type": "stream",
     "text": [
      "Encrypted: khoor zruog\n",
      "Decrypted: hello world\n"
     ]
    }
   ],
   "source": [
    "\"\"\"Q43. Decode a Caesar cipher encoded string\"\"\"\n",
    "\n",
    "def caesar_cipher_decrypt(encrypted_text, shift, shift_letters=True, shift_digits=True):\n",
    "    decrypted_text = ''\n",
    "    for char in encrypted_text:\n",
    "        if char.isalpha() and shift_letters:\n",
    "            base = ord('a') if char.islower() else ord('A')\n",
    "            decrypted_char = chr((ord(char) - base - shift) % 26 + base)\n",
    "            decrypted_text += decrypted_char\n",
    "        elif char.isdigit() and shift_digits:\n",
    "            decrypted_digit = chr((ord(char) - ord('0') - shift) % 10 + ord('0'))\n",
    "            decrypted_text += decrypted_digit\n",
    "        else:\n",
    "            decrypted_text += char\n",
    "    return decrypted_text\n",
    "\n",
    "encrypted_text = input(\"Enter the string to decrypt:- \")\n",
    "shift_amount = 3\n",
    "decrypted_text = caesar_cipher_decrypt(encrypted_text, shift_amount)\n",
    "print(\"Encrypted:\", encrypted_text)\n",
    "print(\"Decrypted:\", decrypted_text)\n"
   ]
  },
  {
   "cell_type": "code",
   "execution_count": 39,
   "id": "8fe3218c-066d-403d-a1db-fc73a41ccd3a",
   "metadata": {},
   "outputs": [
    {
     "name": "stdout",
     "output_type": "stream",
     "text": [
      "The most frequent word is 'this' with frequency 3.\n"
     ]
    }
   ],
   "source": [
    "\"\"\"Q44. Find the most frequent word in a string\"\"\"\n",
    "\n",
    "import re\n",
    "from collections import Counter\n",
    "\n",
    "def most_frequent_word(input_string):\n",
    "    words = re.findall(r'\\w+', input_string.lower())  # Find all words in the string\n",
    "    word_counter = Counter(words)\n",
    "    most_common_word = word_counter.most_common(1)\n",
    "    return most_common_word[0] if most_common_word else None\n",
    "\n",
    "input_string = \"This is a test string. This string is a test. Test is this.\"\n",
    "result = most_frequent_word(input_string)\n",
    "\n",
    "if result:\n",
    "    most_common_word, frequency = result\n",
    "    print(f\"The most frequent word is '{most_common_word}' with frequency {frequency}.\")\n",
    "else:\n",
    "    print(\"No words found in the input.\")\n"
   ]
  },
  {
   "cell_type": "code",
   "execution_count": 41,
   "id": "43595b86-05b8-4956-ac08-afa16b099017",
   "metadata": {},
   "outputs": [
    {
     "name": "stdout",
     "output_type": "stream",
     "text": [
      "bagalkot\n",
      "Aftab\n",
      "from\n",
      "nadaf\n"
     ]
    }
   ],
   "source": [
    "\"\"\"Q45. Find all unique words in a string\"\"\"\n",
    "\n",
    "user_input=\"Aftab nadaf from bagalkot\"\n",
    "\n",
    "spliting=user_input.split() # first we split the string into the words of the list\n",
    "set_words=set(spliting)  # then converting the list into the set to get all the unique elements from the string\n",
    "\n",
    "for i in set_words:  # itersting through each element from the set and printing it\n",
    "    print(i)\n",
    "    \n"
   ]
  },
  {
   "cell_type": "code",
   "execution_count": 45,
   "id": "565bd133-4f53-426c-9594-d69532157000",
   "metadata": {},
   "outputs": [
    {
     "name": "stdout",
     "output_type": "stream",
     "text": [
      "The word 'satata' has 3 syllables.\n"
     ]
    }
   ],
   "source": [
    "\"\"\"Q46. Count the number of syllables in a string\"\"\"\n",
    "\n",
    "def count_syllables(word):\n",
    "    vowels = \"aeiouAEIOU\"\n",
    "    count = 0\n",
    "    prev_char = None\n",
    "\n",
    "    for char in word:\n",
    "        if char in vowels and prev_char not in vowels:\n",
    "            count += 1\n",
    "        prev_char = char\n",
    "\n",
    "    if word.endswith('e'):\n",
    "        count -= 1\n",
    "\n",
    "    return max(1, count)  # Minimum syllable count is 1\n",
    "\n",
    "input_word = \"satata\"\n",
    "syllable_count = count_syllables(input_word)\n",
    "print(f\"The word '{input_word}' has {syllable_count} syllables.\")\n"
   ]
  },
  {
   "cell_type": "code",
   "execution_count": 46,
   "id": "27a6fa7e-59e9-44a2-af72-864d4dfbeee5",
   "metadata": {},
   "outputs": [
    {
     "name": "stdin",
     "output_type": "stream",
     "text": [
      "Enter the string:  aft$ab\n"
     ]
    },
    {
     "name": "stdout",
     "output_type": "stream",
     "text": [
      "'aft$ab' contains special characters.\n"
     ]
    }
   ],
   "source": [
    "\"\"\"Q47. Check if a string contains any special characters\"\"\"\n",
    "\n",
    "# Import the 'string' module, which contains a string constant 'punctuation' containing all punctuation characters.\n",
    "import string\n",
    "\n",
    "# Define a function called 'contains_special_characters' that takes an 'input_string' as an argument.\n",
    "def contains_special_characters(input_string):\n",
    "    # Iterate through each character 'char' in the input string.\n",
    "    for char in input_string:\n",
    "        # Check if the current character 'char' is in the 'string.punctuation' set.\n",
    "        if char in string.punctuation:\n",
    "            # If a punctuation character is found, immediately return True.\n",
    "            return True\n",
    "    # If no punctuation character is found after looping through the entire string, return False.\n",
    "    return False\n",
    "\n",
    "# Prompt the user to enter a string and store it in the variable 'test_string'.\n",
    "test_string = input(\"Enter the string: \")\n",
    "\n",
    "# Call the 'contains_special_characters' function with the 'test_string' and check its result.\n",
    "if contains_special_characters(test_string):\n",
    "    # If the function returns True, print a message indicating that the string contains special characters.\n",
    "    print(f\"'{test_string}' contains special characters.\")\n",
    "else:\n",
    "    # If the function returns False, print a message indicating that the string does not contain special characters.\n",
    "    print(f\"'{test_string}' does not contain special characters.\")\n"
   ]
  },
  {
   "cell_type": "code",
   "execution_count": 48,
   "id": "d67a2b3c-815b-4b58-bac9-dc024af03477",
   "metadata": {},
   "outputs": [
    {
     "name": "stdin",
     "output_type": "stream",
     "text": [
      "Enter the string:  This is a sample sentence.\n",
      "Enter the index of the word:  2\n"
     ]
    },
    {
     "name": "stdout",
     "output_type": "stream",
     "text": [
      "This is sample sentence.\n"
     ]
    }
   ],
   "source": [
    "\"\"\"Q48. Remove the nth word from a string\"\"\"\n",
    "\n",
    "# Define a function called 'remove_word' that takes two arguments:\n",
    "# 'input_string' is the string from which a word will be removed,\n",
    "# 'n' is the index of the word to remove.\n",
    "def remove_word(input_string, n):\n",
    "    # Split the input string into a list of words, using whitespace as the separator.\n",
    "    spliting = input_string.split()\n",
    "    \n",
    "    # Remove the word at the specified index 'n' using the 'pop' method, which also returns the removed word.\n",
    "    removing = spliting.pop(n)\n",
    "    \n",
    "    # Join the remaining words back into a single string with spaces between them.\n",
    "    joining_string = \" \".join(spliting)\n",
    "    \n",
    "    # Return the resulting string with the specified word removed.\n",
    "    return joining_string\n",
    "\n",
    "# Prompt the user to enter a string and store it in the variable 'user_input'.\n",
    "user_input = input(\"Enter the string: \")\n",
    "\n",
    "# Prompt the user to enter the index of the word they want to remove and convert it to an integer.\n",
    "n_index = int(input(\"Enter the index of the word: \"))\n",
    "\n",
    "# Call the 'remove_word' function with the 'user_input' and 'n_index' as arguments, and store the result in 'final_output'.\n",
    "final_output = remove_word(user_input, n_index)\n",
    "\n",
    "# Print the final output, which is the input string with the specified word removed.\n",
    "print(final_output)\n"
   ]
  },
  {
   "cell_type": "code",
   "execution_count": 52,
   "id": "240b50af-35b9-4119-8083-dd528dc30e6a",
   "metadata": {},
   "outputs": [
    {
     "name": "stdin",
     "output_type": "stream",
     "text": [
      "Enter any string:   This is a test.\n",
      "Enter the value or word to be entered in the string:  wonderful\n",
      "Enter the index for inserting the value:  3\n"
     ]
    },
    {
     "name": "stdout",
     "output_type": "stream",
     "text": [
      "This is a wonderful test.\n"
     ]
    }
   ],
   "source": [
    "\"\"\"Q49. Insert a word at the nth position in a string\"\"\"\n",
    "\n",
    "# Define a function called 'inserting_word' that takes three arguments:\n",
    "# 'input_string' is the string in which a word will be inserted.\n",
    "# 'n' is the index at which the word will be inserted.\n",
    "# 'value' is the word to be inserted.\n",
    "def inserting_word(input_string, n, value):\n",
    "    # Split the input string into a list of words, using whitespace as the separator.\n",
    "    splitting = input_string.split()\n",
    "    \n",
    "    # Use the 'insert' method to insert the specified 'value' at the specified index 'n' in the list.\n",
    "    # Note that 'insert' modifies the list in place and returns 'None'.\n",
    "    splitting.insert(n, value)\n",
    "    \n",
    "    # Join the modified list of words back into a single string with spaces between them.\n",
    "    joining_string = \" \".join(splitting)\n",
    "    \n",
    "    # Return the resulting string with the new word inserted.\n",
    "    return joining_string\n",
    "\n",
    "# Prompt the user to enter a string and store it in the variable 'user_input'.\n",
    "user_input = input(\"Enter any string: \")\n",
    "\n",
    "# Prompt the user to enter the word they want to insert and store it in the variable 'input_value'.\n",
    "input_value = input(\"Enter the value or word to be entered in the string: \")\n",
    "\n",
    "# Prompt the user to enter the index at which they want to insert the word and convert it to an integer.\n",
    "nth_index = int(input(\"Enter the index for inserting the value: \"))\n",
    "\n",
    "# Call the 'inserting_word' function with the 'user_input', 'nth_index', and 'input_value' as arguments,\n",
    "# and store the result in 'output'.\n",
    "output = inserting_word(user_input, nth_index, input_value)\n",
    "\n",
    "# Print the final output, which is the input string with the specified word inserted at the specified index.\n",
    "print(output)\n",
    "\n",
    "\n"
   ]
  },
  {
   "cell_type": "code",
   "execution_count": 53,
   "id": "512b544a-1c2e-4ab8-87b0-cf64e31a86e0",
   "metadata": {},
   "outputs": [
    {
     "name": "stdout",
     "output_type": "stream",
     "text": [
      "[['1', 'john', 'doe', '28', 'it_sector', '30000$', 'male', 'los_santos']]\n"
     ]
    }
   ],
   "source": [
    "\"\"\"Q50. Convert a CSV string to a list of lists\"\"\"\n",
    "\n",
    "# Create an empty list to store the final output.\n",
    "final_list = []\n",
    "\n",
    "# Define a string 'x' containing comma-separated values.\n",
    "x = '1,john,doe,28,it_sector,30000$,male,los_santos'\n",
    "\n",
    "# Split the string 'x' into a list using ',' as the delimiter.\n",
    "output = x.split(',')\n",
    "\n",
    "# Append the resulting list 'output' to the 'final_list'.\n",
    "final_list.append(output)\n",
    "\n",
    "# Print the 'final_list', which contains the split values from the string 'x'.\n",
    "print(final_list)\n"
   ]
  },
  {
   "cell_type": "code",
   "execution_count": 62,
   "id": "a6983298-3348-47a3-b8f8-d75cb3910504",
   "metadata": {},
   "outputs": [
    {
     "name": "stdout",
     "output_type": "stream",
     "text": [
      "[1, 2, 3, 4, 5, 6, 7, 8, 9, 10]\n",
      "Type is:-  <class 'list'>\n"
     ]
    }
   ],
   "source": [
    "\"\"\"Q1. Create a list with integers from 1 to 10\"\"\"\n",
    "\n",
    "lis=[1,2,3,4,5,6,7,8,9,10]\n",
    "print(lis)\n",
    "print(\"Type is:- \",type(lis))"
   ]
  },
  {
   "cell_type": "code",
   "execution_count": 63,
   "id": "63883e3f-387a-4928-b5fc-f0bbe08aedf4",
   "metadata": {},
   "outputs": [
    {
     "name": "stdout",
     "output_type": "stream",
     "text": [
      "The count of elements in the list is:-  17\n"
     ]
    }
   ],
   "source": [
    "\"\"\"Q2. Find the length of a list without using the len() function\"\"\"\n",
    "\n",
    "def len_counter(list1):\n",
    "    count=0\n",
    "    for _ in list1:\n",
    "        count+=1\n",
    "    return count\n",
    "\n",
    "list1=[1,2,3,4,5,6,7,8,9,10,11,12,13,14,15,16,\"pwskills\"]\n",
    "\n",
    "output=len_counter(list1)\n",
    "print(\"The count of elements in the list is:- \",output)\n",
    "    \n"
   ]
  },
  {
   "cell_type": "code",
   "execution_count": 64,
   "id": "96c12aca-ffd5-42a4-83bf-b25bd94831b8",
   "metadata": {},
   "outputs": [
    {
     "name": "stdout",
     "output_type": "stream",
     "text": [
      "[1, 2, 3, 4, 5, 6, 7, 8]\n"
     ]
    },
    {
     "data": {
      "text/plain": [
       "[1, 2, 3, 4, 5, 6, 7, 8]"
      ]
     },
     "execution_count": 64,
     "metadata": {},
     "output_type": "execute_result"
    }
   ],
   "source": [
    "\"\"\"Q3. Append an element to the end of a list\"\"\"\n",
    "\n",
    "lis=[1,2,3,4,5,6,7]\n",
    "lis1=lis.append(8)\n",
    "print(lis)\n",
    "[1, 2, 3, 4, 5, 6, 7, 8]\n"
   ]
  },
  {
   "cell_type": "code",
   "execution_count": 66,
   "id": "e253fe54-5a7b-4747-87f8-f74a914b00bf",
   "metadata": {},
   "outputs": [
    {
     "name": "stdout",
     "output_type": "stream",
     "text": [
      "['aftab', 'data science', 'pwskills', 'large language model', 'machine learning', 'deep learning']\n"
     ]
    }
   ],
   "source": [
    "\"\"\"Q4. Insert an element at a specific index in a list\"\"\"\n",
    "\n",
    "my_lis=[\"aftab\",\"data science\",\"pwskills\",\"machine learning\",\"deep learning\"]\n",
    "\n",
    "my_lis.insert(3,\"large language model\") # it will insert the  element at the third index\n",
    "print(my_lis)   # updated list\n"
   ]
  },
  {
   "cell_type": "code",
   "execution_count": 69,
   "id": "6955d5b8-8d54-4e43-9cda-267b25bc61e0",
   "metadata": {},
   "outputs": [
    {
     "name": "stdout",
     "output_type": "stream",
     "text": [
      "['yellow', 'red', 'blue', 'green', 'purple']\n"
     ]
    }
   ],
   "source": [
    "\"\"\"Q5. Remove an element from a list by its value\"\"\"\n",
    "\n",
    "our_lis=[\"yellow\",\"red\",\"blue\",\"green\",\"purple\",\"pink\"]\n",
    "our_lis.remove(\"pink\")   # it will remove the elemennt 'pink' from the list\n",
    "print(our_lis)           # updated list\n",
    "\n"
   ]
  },
  {
   "cell_type": "code",
   "execution_count": 72,
   "id": "5f51489d-341b-405f-9e9b-fa037bd17404",
   "metadata": {},
   "outputs": [
    {
     "name": "stdout",
     "output_type": "stream",
     "text": [
      "['hii', 'hello', 'how', 'are', 'you']\n"
     ]
    }
   ],
   "source": [
    "\"\"\"Q6. Remove an element from a list by its index\"\"\"\n",
    "\n",
    "listt=[\"hii\",\"hello\",\"how\",12,\"are\",\"you\"]\n",
    "listt.pop(3)   # it will remove the element at the third index and by default it will remove the last element from the list\n",
    "\n",
    "# printing the updated list\n",
    "print(listt)\n"
   ]
  },
  {
   "cell_type": "code",
   "execution_count": 73,
   "id": "0201a53d-f26e-4109-a4e4-a9d1f0591363",
   "metadata": {},
   "outputs": [
    {
     "name": "stdin",
     "output_type": "stream",
     "text": [
      "Enter the element to check it is present in the list or not:-  9\n"
     ]
    },
    {
     "name": "stdout",
     "output_type": "stream",
     "text": [
      "Yes it is present in the given list\n"
     ]
    }
   ],
   "source": [
    "\"\"\"Q7. Check if an element exists in a list\"\"\"\n",
    "\n",
    "lis1=[1,2,3,4,5,6,7,8,9,10]\n",
    "element=int(input(\"Enter the element to check it is present in the list or not:- \"))\n",
    "\n",
    "if element in lis1:\n",
    "    print(\"Yes it is present in the given list\")\n",
    "else:\n",
    "    print(\"no the element is not present in the list\")\n"
   ]
  },
  {
   "cell_type": "code",
   "execution_count": 76,
   "id": "81890e20-7420-4e63-ac70-c2e56e19a88a",
   "metadata": {},
   "outputs": [
    {
     "name": "stdout",
     "output_type": "stream",
     "text": [
      "the index of the first occur element is:-  3\n"
     ]
    }
   ],
   "source": [
    "\"\"\"Q8. Find the index of the first occurrence of an element in a list\"\"\"\n",
    "\n",
    "elec=[\"mobile\",\"macbook\",\"ps4\",\"speaker\",\"headphones\",\"speaker\"]\n",
    "indexing=elec.index(\"speaker\")\n",
    "print(\"the index of the first occur element is:- \",indexing)\n"
   ]
  },
  {
   "cell_type": "code",
   "execution_count": 77,
   "id": "8b250791-24f5-4250-a0ce-58c1ab8e21f3",
   "metadata": {},
   "outputs": [
    {
     "name": "stdin",
     "output_type": "stream",
     "text": [
      "Enter the element:-  4\n"
     ]
    },
    {
     "name": "stdout",
     "output_type": "stream",
     "text": [
      "The element 4 appears 2 times in the list\n"
     ]
    }
   ],
   "source": [
    "\"\"\"Q9. Count the occurrences of an element in a list\"\"\"\n",
    "\n",
    "lis=[1,2,3,4,5,6,7,8,9,10,2,2,5,6,8,3,5,2,3,4,46,7,8,3,67,2]\n",
    "element=int(input(\"Enter the element:- \"))\n",
    "counter=lis.count(element)   # it will give count of the particular elemnt in the list\n",
    "print(f\"The element {element} appears {counter} times in the list\")\n"
   ]
  },
  {
   "cell_type": "code",
   "execution_count": 78,
   "id": "22f8cba8-cd62-4558-b99a-fed97752c1b7",
   "metadata": {},
   "outputs": [
    {
     "name": "stdout",
     "output_type": "stream",
     "text": [
      "Original list:-  ['pen', 'pencil', 'Eraser', 'sharpner', 'whitener', 'highlighter']\n",
      "Modified list:-  ['highlighter', 'whitener', 'sharpner', 'Eraser', 'pencil', 'pen']\n"
     ]
    }
   ],
   "source": [
    "\"\"\"Q10. Reverse the order of elements in a list\"\"\"\n",
    "\n",
    "lis=[\"pen\",\"pencil\",\"Eraser\",\"sharpner\",\"whitener\",\"highlighter\"]\n",
    "reversed_list=lis[::-1]    # it will reverse the string\n",
    "print(\"Original list:- \",lis)\n",
    "print(\"Modified list:- \",reversed_list)\n"
   ]
  },
  {
   "cell_type": "code",
   "execution_count": 79,
   "id": "77768c68-f42c-48b0-acaa-5aac0be53ad8",
   "metadata": {},
   "outputs": [
    {
     "name": "stdout",
     "output_type": "stream",
     "text": [
      "[1, 2, 2, 4, 4, 5, 6, 6, 7, 12, 89, 89, 220, 423, 876]\n"
     ]
    }
   ],
   "source": [
    "\"\"\"Q11. Sort a list in ascending order\"\"\"\n",
    "\n",
    "lis=[2,5,2,4,6,1,7,4,6,89,12,89,220,876,423]\n",
    "lis.sort()  # by default it will sort the values in ascending order (by default reverse=False)\n",
    "print(lis)\n"
   ]
  },
  {
   "cell_type": "code",
   "execution_count": 80,
   "id": "fdd7231e-3ead-4a9c-8e14-eb87c91910c4",
   "metadata": {},
   "outputs": [
    {
     "name": "stdout",
     "output_type": "stream",
     "text": [
      "[876, 423, 220, 89, 89, 12, 7, 6, 6, 5, 4, 4, 2, 2, 1]\n"
     ]
    }
   ],
   "source": [
    "\"\"\"Q12. Sort a list in descending order\"\"\"\n",
    "\n",
    "lis=[2,5,2,4,6,1,7,4,6,89,12,89,220,876,423]\n",
    "lis.sort(reverse=True)  # for sorting in descending order we have to pass a  parametere reverse=True\n",
    "print(lis)\n"
   ]
  },
  {
   "cell_type": "code",
   "execution_count": 81,
   "id": "27ee9f46-7f75-4cc1-88c1-de03a342bbcd",
   "metadata": {},
   "outputs": [
    {
     "name": "stdout",
     "output_type": "stream",
     "text": [
      "[2, 4, 6, 8, 10, 12, 14, 16, 18, 20]\n"
     ]
    },
    {
     "data": {
      "text/plain": [
       "[2, 4, 6, 8, 10, 12, 14, 16, 18, 20]"
      ]
     },
     "execution_count": 81,
     "metadata": {},
     "output_type": "execute_result"
    }
   ],
   "source": [
    "\"\"\"Q13. Create a list of even numbers from 1 to 20\"\"\"\n",
    "\n",
    "# we are doing this question using the list comprehension\n",
    "lis=[i for i in range(1,21) if i%2==0]\n",
    "print(lis)\n",
    "[2, 4, 6, 8, 10, 12, 14, 16, 18, 20]\n"
   ]
  },
  {
   "cell_type": "code",
   "execution_count": 82,
   "id": "243f807b-c2a1-44c2-a529-9816fa0a39b0",
   "metadata": {},
   "outputs": [
    {
     "name": "stdout",
     "output_type": "stream",
     "text": [
      "[1, 3, 5, 7, 9, 11, 13, 15, 17, 19]\n"
     ]
    }
   ],
   "source": [
    "\"\"\"Q14. Create a list of odd numbers from 1 to 20\"\"\"\n",
    "\n",
    "# we are doing this question using the list comprehension\n",
    "lis=[i for i in range(1,21) if i%2!=0]\n",
    "print(lis)\n"
   ]
  },
  {
   "cell_type": "code",
   "execution_count": 83,
   "id": "3acfd223-72e4-46d3-9465-c585da0c6018",
   "metadata": {},
   "outputs": [
    {
     "name": "stdout",
     "output_type": "stream",
     "text": [
      "The addition of the [10, 10, 10, 21, 21, 10] is : 82 \n"
     ]
    }
   ],
   "source": [
    "\"\"\"Q15. Find the sum of all elements in a list\"\"\"\n",
    "\n",
    "lis=[10,10,10,21,21,10]\n",
    "# for doing sum of all elements in the list we will using for loop\n",
    "add=0\n",
    "# loop  will iterate through all the element in the list \n",
    "for i in lis:\n",
    "    add=add+i  # it will store the sum in every iteration\n",
    "    \n",
    "print(f\"The addition of the {lis} is : {add} \")\n"
   ]
  },
  {
   "cell_type": "code",
   "execution_count": 84,
   "id": "5deaa6ca-09c7-4406-9efd-3112c35c7e7f",
   "metadata": {},
   "outputs": [
    {
     "name": "stdout",
     "output_type": "stream",
     "text": [
      "Maximum number from [18978, 907388, 4874235, 189974271, 72148414124, 874714694867124, 89786] is:-  874714694867124\n"
     ]
    }
   ],
   "source": [
    "\"\"\"Q16. Find the maximum value in a list\"\"\"\n",
    "\n",
    "lis=[18978,907388,4874235,189974271,72148414124,874714694867124,89786]\n",
    "maximum=max(lis)   # finding the max value from the list using max() function\n",
    "print(f\"Maximum number from {lis} is:- \",maximum)\n"
   ]
  },
  {
   "cell_type": "code",
   "execution_count": 86,
   "id": "655d087c-cc8e-486b-a246-fca7948a710c",
   "metadata": {},
   "outputs": [
    {
     "name": "stdout",
     "output_type": "stream",
     "text": [
      "Minimum number from [18978, 907388, 4874235, 189974271, 72148414124, 874714694867124, 89786] is:-  18978\n"
     ]
    }
   ],
   "source": [
    "\"\"\"Q17. Find the minimum value in a list\"\"\"\n",
    "\n",
    "lis=[18978,907388,4874235,189974271,72148414124,874714694867124,89786]\n",
    "minimum=min(lis)   # finding the min value from the list using the min() function\n",
    "print(f\"Minimum number from {lis} is:- \",minimum)\n"
   ]
  },
  {
   "cell_type": "code",
   "execution_count": 87,
   "id": "871bc17f-6f9a-44f7-9cc2-0d5d931f8f9b",
   "metadata": {},
   "outputs": [
    {
     "name": "stdout",
     "output_type": "stream",
     "text": [
      "[1, 4, 9, 16, 25, 36, 49, 64, 81, 100]\n"
     ]
    }
   ],
   "source": [
    "\"\"\"Q18. Create a list of squares of numbers from 1 to 10\"\"\"\n",
    "\n",
    "# for solving this question we will use list comprehension\n",
    "lis=[(i**2) for i in range(1,11)]\n",
    "print(lis)\n"
   ]
  },
  {
   "cell_type": "code",
   "execution_count": 88,
   "id": "4f689db8-77ee-4b00-8164-e2272b47c72e",
   "metadata": {},
   "outputs": [
    {
     "name": "stdin",
     "output_type": "stream",
     "text": [
      "Enter how many random numbers you want:-  5\n"
     ]
    },
    {
     "name": "stdout",
     "output_type": "stream",
     "text": [
      "[4, 3, 6, 4, 8]\n"
     ]
    }
   ],
   "source": [
    "\"\"\"Q19. Create a list of random numbers\"\"\"\n",
    "\n",
    "import random  # random is the library used to generate the random integer between given ranges\n",
    "\n",
    "lis=[]  # created an empty list\n",
    "n=int(input(\"Enter how many random numbers you want:- \"))  # numbers of random number\n",
    "for i in range(n):\n",
    "    lis.append(random.randint(2,9)) # randint generate random numbers between given parametere (2,9)\n",
    "print(lis)\n"
   ]
  },
  {
   "cell_type": "code",
   "execution_count": 89,
   "id": "9ace4d63-83d2-47db-89b1-f832f29265d2",
   "metadata": {},
   "outputs": [
    {
     "name": "stdout",
     "output_type": "stream",
     "text": [
      "Original list:-  [1, 2, 3, 4, 7, 51, 4, 12, 2, 45, 6, 8, 90, 5, 3, 5, 6, 7, 8, 5]\n",
      "Modified list:-  {1, 2, 3, 4, 5, 6, 7, 8, 12, 45, 51, 90}\n"
     ]
    }
   ],
   "source": [
    "\"\"\"Q20. Remove duplicates from a list\"\"\"\n",
    "\n",
    "lis=[1,2,3,4,7,51,4,12,2,45,6,8,90,5,3,5,6,7,8,5]\n",
    "# using set comprehension\n",
    "my_set={i for i in lis}  # set only contains unique elements because set does not allow duplicacy\n",
    "print(\"Original list:- \",lis)\n",
    "print(\"Modified list:- \",my_set)\n"
   ]
  },
  {
   "cell_type": "code",
   "execution_count": 90,
   "id": "01e2142f-2822-4f61-b481-4c3d202a0a99",
   "metadata": {},
   "outputs": [
    {
     "name": "stdout",
     "output_type": "stream",
     "text": [
      "[4, 5, 9, 10]\n"
     ]
    }
   ],
   "source": [
    "\"\"\"Q21. Find the common elements between two lists\"\"\"\n",
    "\n",
    "lis1=[1,2,3,4,5,6,7,8,9,10]\n",
    "lis2=[4,5,10,9,12,13,14,15,16,17]\n",
    "lis3=[]\n",
    "\n",
    "for i in lis1:   # elements in the lis1\n",
    "    if i in lis2: # if elements of lis1 in lis2 then append to lis3 else pass\n",
    "        lis3.append(i)\n",
    "        \n",
    "print(lis3)  # common elements between both lists\n"
   ]
  },
  {
   "cell_type": "code",
   "execution_count": 91,
   "id": "9d276bd4-a05d-4c8e-b655-84f4786b8900",
   "metadata": {},
   "outputs": [
    {
     "name": "stdout",
     "output_type": "stream",
     "text": [
      "The difference between two list is:-  [5, 6, 7]\n"
     ]
    }
   ],
   "source": [
    "\"\"\"Q22. Find the difference between two lists\"\"\"\n",
    "\n",
    "lis1=[1,2,3,4,5,6,7]\n",
    "lis2=[1,2,3,4,9,10,11]\n",
    "\n",
    "# first we have to convert both the list into the sets to find the difference using the inbuilt function difference()\n",
    "\n",
    "set1=set(lis1)\n",
    "set2=set(lis2)\n",
    "\n",
    "lis3=set1.difference(set2) # haves in set1 but not in set2\n",
    "print(\"The difference between two list is:- \",list(lis3))\n"
   ]
  },
  {
   "cell_type": "code",
   "execution_count": 92,
   "id": "bf27914e-7c7c-4a34-9504-9c98be63d109",
   "metadata": {},
   "outputs": [
    {
     "name": "stdout",
     "output_type": "stream",
     "text": [
      "[1, 2, 3, 4, 5, 6, 7, 1, 2, 3, 4, 9, 10, 11]\n"
     ]
    }
   ],
   "source": [
    "\"\"\"Q23. Merge two lists\"\"\"\n",
    "\n",
    "lis1=[1,2,3,4,5,6,7]\n",
    "lis2=[1,2,3,4,9,10,11]\n",
    "\n",
    "# we can merge two list using extend function\n",
    "\n",
    "lis1.extend(lis2)\n",
    "print(lis1)\n"
   ]
  },
  {
   "cell_type": "code",
   "execution_count": 93,
   "id": "1e33e5ca-13c4-4640-b9cd-49396db96cd0",
   "metadata": {},
   "outputs": [
    {
     "name": "stdout",
     "output_type": "stream",
     "text": [
      "[2, 8, 10, 12, 14, 16, 180, 200]\n"
     ]
    }
   ],
   "source": [
    "\"\"\"Q24. Multiply all elements in a list by 2\"\"\"\n",
    "\n",
    "lis=[1,4,5,6,7,8,90,100]\n",
    "new_lis=[i*2 for i in lis]  # list comprehension\n",
    "print(new_lis)\n"
   ]
  },
  {
   "cell_type": "code",
   "execution_count": 94,
   "id": "ef976563-99bb-4023-988c-b10e24bacaed",
   "metadata": {},
   "outputs": [
    {
     "name": "stdout",
     "output_type": "stream",
     "text": [
      "Even number list from old list:-  [2, 4, 6, 8, 90]\n"
     ]
    }
   ],
   "source": [
    "\"\"\"Q25. Filter out all even numbers from a list\"\"\"\n",
    "\n",
    "lis=[1,2,3,4,5,6,7,8,90,11,43,3383,83]\n",
    "even_lis=[]\n",
    "for i in lis:  # elements of lis\n",
    "    if i%2==0: # if elements of lis are even then append in even_lis else pass\n",
    "        even_lis.append(i)\n",
    "print(\"Even number list from old list:- \",even_lis)\n"
   ]
  },
  {
   "cell_type": "code",
   "execution_count": 95,
   "id": "926cd28b-96e8-4374-9bd3-6cbc978160a0",
   "metadata": {},
   "outputs": [
    {
     "name": "stdout",
     "output_type": "stream",
     "text": [
      "Original list:-  ['1', '2', '3', '4', '10']\n",
      "Modified list:-  [1, 2, 3, 4, 10]\n"
     ]
    }
   ],
   "source": [
    "\"\"\"Q26. Convert a list of strings to a list of integers\"\"\"\n",
    "\n",
    "lis=[\"1\",\"2\",\"3\",\"4\",\"10\"] # list of the string integers\n",
    "new_lis=[int(i) for i in lis] # converting the string into int using list comprehension\n",
    "print(\"Original list:- \",lis) # original list\n",
    "print(\"Modified list:- \",new_lis) # printing the new lis\n"
   ]
  },
  {
   "cell_type": "code",
   "execution_count": 96,
   "id": "1e91bd40-d93a-4d4a-bd9d-baa410d2c6b0",
   "metadata": {},
   "outputs": [
    {
     "name": "stdout",
     "output_type": "stream",
     "text": [
      "Original string:-  [1, 2, 3, 4, 5, 6, 7, 8, 9, 10]\n",
      "Modifiednlist:-  ['1', '2', '3', '4', '5', '6', '7', '8', '9', '10']\n"
     ]
    }
   ],
   "source": [
    "\"\"\"Q27. Convert a list of integers to a list of strings\"\"\"\n",
    "\n",
    "lis=[1,2,3,4,5,6,7,8,9,10]  # list of the integer\n",
    "new_lis=[str(i) for i in lis] # converting the integer into string\n",
    "print(\"Original string:- \",lis)  \n",
    "print(\"Modifiednlist:- \",new_lis)\n"
   ]
  },
  {
   "cell_type": "code",
   "execution_count": 97,
   "id": "dbaaff6f-e4c0-4946-9de2-760732934c4e",
   "metadata": {},
   "outputs": [
    {
     "name": "stdout",
     "output_type": "stream",
     "text": [
      "The flattened list is:-  [1, 2, 3, 3, 4, 5, 78, 90, 101, 102, 103]\n"
     ]
    }
   ],
   "source": [
    "\"\"\"Q28. Flatten a nested list\"\"\"\n",
    "\n",
    "def flatten_list(nested):  # flattening the list means to convert the nested lists into a single list\n",
    "    flattened=[]  # created an empty list\n",
    "    for items in nested: # items contains in the nested list\n",
    "        # isinstance checks the datatype of the item like (item,list) it is list or not\n",
    "        if isinstance(items,list):   # if item is list then extend it in flattend list\n",
    "            flattened.extend(flatten_list(items))\n",
    "        else:          # if it is only single item then append it in flattened item\n",
    "            flattened.append(items)\n",
    "    return flattened  # return the flattened because we have created the function\n",
    "\n",
    "nested_list=[[1,2,3],[3,4,5],78,90,[101,102,103]]  # nested list\n",
    "\n",
    "final_output=flatten_list(nested_list)\n",
    "print(\"The flattened list is:- \",final_output) # printing the result"
   ]
  },
  {
   "cell_type": "code",
   "execution_count": 98,
   "id": "5fe50d3e-6fad-46c8-896a-5047b1ecff63",
   "metadata": {},
   "outputs": [
    {
     "name": "stdout",
     "output_type": "stream",
     "text": [
      "The fibonacci number list is:-  [0, 1, 1, 2, 3, 5, 8, 13, 21, 34]\n"
     ]
    }
   ],
   "source": [
    "\"\"\"Q29. Create a list of the first 10 Fibonacci numbers\"\"\"\n",
    "\n",
    "def fibonacci_num(n):  # created a function\n",
    "    fib_lis=[0,1]      # created a list of first two fibonacci numbers\n",
    "    for i in range(2,n):  # iterating the i in the range of (2,n)\n",
    "        fib2=fib_lis[i-1]+fib_lis[i-2]   # formula or logic to solve the fibonacci problem\n",
    "        fib_lis.append(fib2) # appending the nex fib numbers in the fib_lis\n",
    "    return fib_lis           # returning the fib lis because we have created a functions\n",
    "\n",
    "n=10      # n is for how many fib numbers user wants in a list\n",
    "final_list=fibonacci_num(n)\n",
    "print(\"The fibonacci number list is:- \",final_list)\n",
    "        \n"
   ]
  },
  {
   "cell_type": "code",
   "execution_count": 99,
   "id": "deeee9f9-3ea2-4f80-9feb-e5ed975b05eb",
   "metadata": {},
   "outputs": [
    {
     "name": "stdout",
     "output_type": "stream",
     "text": [
      "True\n",
      "False\n"
     ]
    }
   ],
   "source": [
    "\"\"\"Q30. Check if a list is sorted\"\"\"\n",
    "\n",
    "# for ascending order\n",
    "def is_sorted(lis):  # created a function\n",
    "    return all(lis[i]<=lis[i+1] for i in range(len(lis)-1)) # we have to check the list sorted in a ascending order \n",
    "\n",
    "unsorted_lis=[65,3,7,23,10,85]\n",
    "sorted_lis=[10,20,20,30,40,900,10023,90023]\n",
    "\n",
    "print(is_sorted(sorted_lis)) \n",
    "print(is_sorted(unsorted_lis))\n"
   ]
  },
  {
   "cell_type": "code",
   "execution_count": 100,
   "id": "6deb50e0-2756-4bbc-bc9e-963f1ebb72a2",
   "metadata": {},
   "outputs": [
    {
     "name": "stdout",
     "output_type": "stream",
     "text": [
      "[3, 4, 5, 6, 1, 2]\n"
     ]
    }
   ],
   "source": [
    "\"\"\"Q31. Rotate a list to the left by n positions\"\"\"\n",
    "\n",
    "def rotate_left(lis,n):\n",
    "    n=n%len(lis)    # to ensure the n is within the length of list\n",
    "    \n",
    "    rotated=lis[n:]+lis[:n]\n",
    "    return rotated\n",
    "\n",
    "my_lis=[1,2,3,4,5,6]\n",
    "n=2\n",
    "\n",
    "final_list=rotate_left(my_lis,n)\n",
    "print(final_list)\n"
   ]
  },
  {
   "cell_type": "code",
   "execution_count": 101,
   "id": "a3c88fd4-f327-49ca-9627-8b3fc1bb6dfa",
   "metadata": {},
   "outputs": [
    {
     "name": "stdout",
     "output_type": "stream",
     "text": [
      "[5, 6, 1, 2, 3, 4]\n"
     ]
    }
   ],
   "source": [
    "\"\"\"Q32. Rotate a list to the right by n positions\"\"\"\n",
    "\n",
    "def rotate_right(lis,n):\n",
    "    n=n%len(lis)\n",
    "    rotated=lis[-n:]+lis[:-n]\n",
    "    return rotated\n",
    "my_lis=[1,2,3,4,5,6]\n",
    "n=2\n",
    "final_lis=rotate_right(my_lis,n)\n",
    "print(final_lis)\n"
   ]
  },
  {
   "cell_type": "code",
   "execution_count": 102,
   "id": "574cf732-26a1-45ff-b3c1-c418dd9c0639",
   "metadata": {},
   "outputs": [
    {
     "name": "stdout",
     "output_type": "stream",
     "text": [
      "[2, 3, 5, 7, 11, 13, 17, 19, 23, 29, 31, 37, 41, 43, 47]\n"
     ]
    }
   ],
   "source": [
    "\"\"\"Q33. Create a list of prime numbers up to 50\"\"\"\n",
    "\n",
    "l=[]  # created an empty list\n",
    "for i in range(2,50+1): # iterating i from the range 2 to 51\n",
    "    for j in range(2,i):  # iterating the j int the range of 2 to i(value of i depends upoun the iteration of above loop)\n",
    "        if(i%j==0):      # if i%j==0 then break the second loop \n",
    "            break\n",
    "    else:\n",
    "        l.append(i) # append the i in the list 'l'\n",
    "print(l) # print the list of the prime numbers\n"
   ]
  },
  {
   "cell_type": "code",
   "execution_count": 105,
   "id": "78984e50-fdb4-4edd-b38e-e574963032d3",
   "metadata": {},
   "outputs": [
    {
     "name": "stdin",
     "output_type": "stream",
     "text": [
      "Enter the size of the chunks:-  2\n"
     ]
    },
    {
     "name": "stdout",
     "output_type": "stream",
     "text": [
      "Chunked list:-  [[1, 2], [3, 4], [5, 6], [7, 8], [9, 10]]\n"
     ]
    }
   ],
   "source": [
    "\"\"\"Q34. Split a list into chunks of size n\"\"\"\n",
    "def list_into_chunks(lis,n):  # creating the function\n",
    "    return [lis[i:i+n] for i in range(0,len(lis),n)] # it will return a list splits into the chunks of the size 'n'\n",
    "\n",
    "original_lis=[1,2,3,4,5,6,7,8,9,10]\n",
    "chunks=int(input(\"Enter the size of the chunks:- \"))  # size of chunk\n",
    "\n",
    "final_lis=list_into_chunks(original_lis,chunks)\n",
    "print(\"Chunked list:- \",final_lis)\n",
    "            \n",
    "\n"
   ]
  },
  {
   "cell_type": "code",
   "execution_count": 106,
   "id": "b8cd3b20-279d-432b-9ab2-e23608d7ccf7",
   "metadata": {},
   "outputs": [
    {
     "name": "stdout",
     "output_type": "stream",
     "text": [
      "The second largest number is:-  92\n"
     ]
    }
   ],
   "source": [
    "\"\"\"Q35. Find the second largest number in a list\"\"\"\n",
    "\n",
    "def second_largest(lis):   # created a function\n",
    "    if len(lis)<2:  # giving the condition the list must contains elements more than two\n",
    "        print(\"The list must contain more than two element\")\n",
    "    \n",
    "    sorting_number=sorted(lis,reverse=True) # in descending order\n",
    "    second_max=sorting_number[1]   # taking the second max element in the consideration\n",
    "    return second_max    # returning the second max because we have created a function  \n",
    "\n",
    "my_lis=[23,84,1,7,92,3333333,5,6,2,90,54,78,89]\n",
    "final_lis=second_largest(my_lis)\n",
    "\n",
    "print(\"The second largest number is:- \",final_lis)\n"
   ]
  },
  {
   "cell_type": "code",
   "execution_count": 107,
   "id": "fee06246-cb17-4c0c-a9f2-9e74f2da21f1",
   "metadata": {},
   "outputs": [
    {
     "name": "stdout",
     "output_type": "stream",
     "text": [
      "Original list:-  [12, 13, 14, 22]\n",
      "Modified list:-  [144, 169, 196, 484]\n"
     ]
    }
   ],
   "source": [
    "\"\"\"Q36. Replace every element in a list with its square\"\"\"\n",
    "\n",
    "lis=[12,13,14,22]  # created a list\n",
    "\n",
    "my_lis=[x**2 for x in lis]    # created a list comprehension to replace the elements in the lis with its square\n",
    "print(\"Original list:- \",lis)\n",
    "print(\"Modified list:- \",my_lis)\n"
   ]
  },
  {
   "cell_type": "code",
   "execution_count": 108,
   "id": "c7665949-a89c-40ab-989a-7c30a15965a5",
   "metadata": {},
   "outputs": [
    {
     "name": "stdout",
     "output_type": "stream",
     "text": [
      "{'apple': 0, 'banana': 1, 'cherry': 2, 'date': 3}\n"
     ]
    }
   ],
   "source": [
    "\"\"\"Q37. Convert a list to a dictionary where list elements become keys and their indices become values\"\"\"\n",
    "\n",
    "original_list = ['apple', 'banana', 'cherry', 'date']\n",
    "\n",
    "result_dict = {}  # created an empty dictionary \n",
    "\n",
    "for keys,values in enumerate(original_list):  # iterating the keys and values in a list using the enumerate() function\n",
    "    result_dict[values] = keys  # it will give values of list as keys and indices of list as values of dictionary\n",
    "\n",
    "print(result_dict)\n"
   ]
  },
  {
   "cell_type": "code",
   "execution_count": 109,
   "id": "316be925-7028-42bc-9866-88b57a751a71",
   "metadata": {},
   "outputs": [
    {
     "name": "stdout",
     "output_type": "stream",
     "text": [
      "Randomly shuffled list:-  [4, 7, 9, 3, 6, 1, 10, 5, 2, 8]\n"
     ]
    }
   ],
   "source": [
    "\"\"\"Q38. Shuffle the elements of a list randomly\"\"\"\n",
    "\n",
    "import random   # importing the library 'random'  to shuffle the elements of the list randomly\n",
    "lis=[1,2,3,4,5,6,7,8,9,10]\n",
    "random.shuffle(lis) # shuffling the elements using shuffle() function\n",
    "print(\"Randomly shuffled list:- \",lis)\n"
   ]
  },
  {
   "cell_type": "code",
   "execution_count": 110,
   "id": "d3ea0251-e3f0-4c1b-963d-005142775ab8",
   "metadata": {},
   "outputs": [
    {
     "name": "stdout",
     "output_type": "stream",
     "text": [
      "[1, 2, 6, 24, 120, 720, 5040, 40320, 362880, 3628800]\n"
     ]
    }
   ],
   "source": [
    "\"\"\"Q39. Create a list of the first 10 factorial numbers\"\"\"\n",
    "\n",
    "def factorial(n):  # created a function\n",
    "    if n==0:     # if n==0 then return 1\n",
    "        return 1\n",
    "    else:\n",
    "        return (n*factorial(n-1)) # else use this formula\n",
    "    \n",
    "first_10_fact=[factorial(i) for i in range(1,10+1)]  # store the first 10 factorial number using list comprehension\n",
    "print(first_10_fact)\n"
   ]
  },
  {
   "cell_type": "code",
   "execution_count": 111,
   "id": "756fbf09-7be5-4f02-9bdf-95a94e2cba4b",
   "metadata": {},
   "outputs": [
    {
     "name": "stdout",
     "output_type": "stream",
     "text": [
      "more than one comman elements\n",
      "Common element:-  [1, 2, 3]\n"
     ]
    }
   ],
   "source": [
    "\"\"\"Q40. Check if two lists have at least one element in common\"\"\"\n",
    "\n",
    "# created two lists \n",
    "lis1=[1,2,3,4,5,6,7,8,9,10]\n",
    "lis2=[1,2,3,11,12,13,14,15]\n",
    "\n",
    "# converting both the list into set by typecasting()\n",
    "set1=set(lis1)\n",
    "set2=set(lis2)\n",
    "\n",
    "# using the inbuilt function of set intersection() to find common elements\n",
    "diff=set1.intersection(set2)\n",
    "\n",
    "if len(list(diff))==1: # if len of common elements is 1\n",
    "    print(\"yes there is at least one common element\")\n",
    "    print(list(diff))\n",
    "else:    \n",
    "    print(\"more than one comman elements\")\n",
    "    print(\"Common element:- \",list(diff))\n"
   ]
  },
  {
   "cell_type": "code",
   "execution_count": 113,
   "id": "c0945902-46fe-4292-b284-e8f256eced96",
   "metadata": {},
   "outputs": [
    {
     "name": "stdout",
     "output_type": "stream",
     "text": [
      "[]\n"
     ]
    }
   ],
   "source": [
    "\"\"\"Q41. Remove all elements from a list\"\"\"\n",
    "lis=[1,2,3,4,5,6,7,8,9,10]  # created a list\n",
    "lis.clear() # using the inbuilt function of list clear() to remove all elements from the list\n",
    "print(lis)\n",
    "\n"
   ]
  },
  {
   "cell_type": "code",
   "execution_count": 114,
   "id": "a3adae5c-b56c-4013-a3f3-4c592944eb7c",
   "metadata": {},
   "outputs": [
    {
     "name": "stdout",
     "output_type": "stream",
     "text": [
      "[0, 0, 0, 67, 98]\n"
     ]
    }
   ],
   "source": [
    "\"\"\"Q42. Replace negative numbers in a list with 0\"\"\"\n",
    "\n",
    "lis=[-23,-90,-45,67,98]  # created a list of positive and negative integers\n",
    "\n",
    "my_lis=[x if x>=0 else 0 for x in lis] # using list comprehension to print number as it is if it is positive number and if it is negative then replace it with 0 \n",
    "\n",
    "print(my_lis)\n"
   ]
  },
  {
   "cell_type": "code",
   "execution_count": 115,
   "id": "2f6c1e8d-5ffb-4e6f-bf78-c45cf64a76b6",
   "metadata": {},
   "outputs": [
    {
     "name": "stdout",
     "output_type": "stream",
     "text": [
      "['full', 'stack', 'data', 'science', 'pro', 'batch']\n"
     ]
    }
   ],
   "source": [
    "\"\"\"Q43. Convert a string into a list of words\"\"\"\n",
    "\n",
    "string=\"full stack data science pro batch\"\n",
    "\n",
    "list_of_word=string.split() # spliting the words in a string into the list\n",
    "print(list_of_word)\n"
   ]
  },
  {
   "cell_type": "code",
   "execution_count": 116,
   "id": "4e8aa0bb-bc29-481d-9b3b-f6aa0f575521",
   "metadata": {},
   "outputs": [
    {
     "name": "stdout",
     "output_type": "stream",
     "text": [
      "full stack data science pro batch\n"
     ]
    }
   ],
   "source": [
    "\"\"\"Q44. Convert a list of words into a string\"\"\"\n",
    "\n",
    "lis=['full', 'stack', 'data', 'science', 'pro', 'batch']\n",
    "string=' '.join(lis)   # joining the words of the list by \" \" in string\n",
    "print(string)\n"
   ]
  },
  {
   "cell_type": "code",
   "execution_count": 117,
   "id": "646b6ae0-f938-4d02-a2ef-426323cf9de9",
   "metadata": {},
   "outputs": [
    {
     "name": "stdout",
     "output_type": "stream",
     "text": [
      "[1, 2, 4, 8, 16, 32, 64, 128, 256, 512]\n"
     ]
    }
   ],
   "source": [
    "\"\"\"Q45. Create a list of the first n powers of 2\"\"\"\n",
    "\n",
    "n = 10  # range of the powers of 2\n",
    "powers_of_2 = [2 ** i for i in range(n)] # list comprehension stores the first n powers of 2\n",
    "\n",
    "print(powers_of_2)\n"
   ]
  },
  {
   "cell_type": "code",
   "execution_count": 118,
   "id": "330581c0-7064-4483-a8cb-ae7bf1522100",
   "metadata": {},
   "outputs": [
    {
     "name": "stdout",
     "output_type": "stream",
     "text": [
      "Longest string in the list is:-  science\n"
     ]
    }
   ],
   "source": [
    "\"\"\"Q46. Find the longest string in a list of strings\"\"\"\n",
    "\n",
    "lis=[\"full\",\"stack\",\"data\",\"science\",\"pro\",\"batch\"]  # created a list of words\n",
    "\n",
    "longest_string=max(lis,key=len)  # finding the longest word in the list on the basis of len() function\n",
    "print(\"Longest string in the list is:- \",longest_string)\n"
   ]
  },
  {
   "cell_type": "code",
   "execution_count": 119,
   "id": "91e1879c-c1db-4835-8b18-4f82159b114b",
   "metadata": {},
   "outputs": [
    {
     "name": "stdout",
     "output_type": "stream",
     "text": [
      "shortet string in the list is:-  pro\n"
     ]
    }
   ],
   "source": [
    "\"\"\"Q47. Find the longest string in a list of strings\"\"\"\n",
    "\n",
    "lis=[\"full\",\"stack\",\"data\",\"science\",\"pro\",\"batch\"]    # created a list of the words\n",
    "\n",
    "shortest_string=min(lis,key=len)    # finding the shortest word in a list on the basis of len() function\n",
    "print(\"shortet string in the list is:- \",shortest_string)\n"
   ]
  },
  {
   "cell_type": "code",
   "execution_count": 120,
   "id": "f553330c-f9bd-4acf-9221-7eb64ac2606a",
   "metadata": {},
   "outputs": [
    {
     "name": "stdin",
     "output_type": "stream",
     "text": [
      "Enter the triangular numbers you want:-  2\n"
     ]
    },
    {
     "name": "stdout",
     "output_type": "stream",
     "text": [
      "[1, 3]\n"
     ]
    }
   ],
   "source": [
    "\"\"\"Q48. Create a list of the first n triangular numbers\"\"\"\n",
    "\n",
    "def triangular_number_list(n):  # created a function\n",
    "    triangular_list=[]   # creating the empty list to append the triangular number in it\n",
    "    for i in range(1,n+1):   # iterating the i in the range of(1,n+1)\n",
    "        triangular_number=i*(i+1)//2  # formula\n",
    "        triangular_list.append(triangular_number)  # appending the triangular number in the list\n",
    "    return triangular_list    # returning the triangular list because we have created a function\n",
    "n=int(input(\"Enter the triangular numbers you want:- \"))   #taking input from user how many triangular number we want\n",
    "\n",
    "final_output=triangular_number_list(n)\n",
    "\n",
    "print(final_output)  # printing the final output or list\n"
   ]
  },
  {
   "cell_type": "code",
   "execution_count": 121,
   "id": "9fcea6ed-2008-4bcb-9a40-50459f42f9f5",
   "metadata": {},
   "outputs": [
    {
     "name": "stdout",
     "output_type": "stream",
     "text": [
      "The subsequence is present.\n"
     ]
    }
   ],
   "source": [
    "\"\"\"Q49. Check if a list contains another list as a subsequence\"\"\"\n",
    "\n",
    "def is_subsequence(sub, lst):\n",
    "    sub_len = len(sub)\n",
    "    lst_len = len(lst)\n",
    "\n",
    "    if sub_len == 0:\n",
    "        return True  # An empty list is always a subsequence\n",
    "\n",
    "    sub_index = 0  # Index for the subsequence\n",
    "\n",
    "    for element in lst:\n",
    "        if element == sub[sub_index]:\n",
    "            sub_index += 1  # Move to the next element in the subsequence\n",
    "\n",
    "            if sub_index == sub_len:\n",
    "                return True  # Entire subsequence found\n",
    "\n",
    "    return False  # Subsequence not found\n",
    "\n",
    "# Example usage:\n",
    "main_list = [1, 2, 3, 4, 5, 6, 7]\n",
    "subsequence = [2, 4, 6]\n",
    "\n",
    "result = is_subsequence(subsequence, main_list)\n",
    "\n",
    "if result:\n",
    "    print(\"The subsequence is present.\")\n",
    "else:\n",
    "    print(\"The subsequence is not present.\")\n"
   ]
  },
  {
   "cell_type": "code",
   "execution_count": 125,
   "id": "aaed5c1e-9a32-4088-abff-8f4fe0e2b41c",
   "metadata": {},
   "outputs": [
    {
     "name": "stdout",
     "output_type": "stream",
     "text": [
      "List after swapping elements:\n",
      "[1, 4, 3, 2, 5]\n"
     ]
    }
   ],
   "source": [
    "\"\"\"Q50. Swap two elements in a list by their indices\"\"\"\n",
    "\n",
    "# creating a list\n",
    "my_list = [1, 2, 3, 4, 5]\n",
    "\n",
    "# Indices of the elements to be swapped\n",
    "index1 = 1\n",
    "index2 = 3\n",
    "\n",
    "# Perform the swapping operation\n",
    "my_list[index1], my_list[index2] = my_list[index2], my_list[index1] # this means (replacing the element of index 1 with 3 and vice-versa)\n",
    "\n",
    "# printing the modified list\n",
    "print(\"List after swapping elements:\")\n",
    "print(my_list)\n",
    "\n",
    "\n",
    "\n"
   ]
  },
  {
   "cell_type": "code",
   "execution_count": 127,
   "id": "f542accd-29e2-49a0-8b3e-a6d40ca7b82f",
   "metadata": {},
   "outputs": [
    {
     "name": "stdout",
     "output_type": "stream",
     "text": [
      "(1, 2, 3, 4, 5)\n"
     ]
    }
   ],
   "source": [
    "\n",
    "\"\"\"Q1. Create a tuple with integers from 1 to 5\"\"\"\n",
    "\n",
    "# creating a tuple having counting from 1 to 5\n",
    "tupl=(1,2,3,4,5)\n",
    "# tuples are created by using parenthisis\n",
    "print(tupl)\n"
   ]
  },
  {
   "cell_type": "code",
   "execution_count": 131,
   "id": "87de0f7b-031f-4216-80f0-8023aac304f1",
   "metadata": {},
   "outputs": [
    {
     "name": "stdout",
     "output_type": "stream",
     "text": [
      "the third element in the tuple is:-  5\n"
     ]
    }
   ],
   "source": [
    "\"\"\"Q2. Access the third element of a tuple\"\"\"\n",
    "\n",
    "tupl=(1,3,5,6,7,8,9,10)\n",
    "# we can access the third element of the tuple by its indexing\n",
    "print(\"the third element in the tuple is:- \",tupl[2])\n"
   ]
  },
  {
   "cell_type": "code",
   "execution_count": 132,
   "id": "ea23a85c-377c-48f8-acf0-4d9e0b6d8e34",
   "metadata": {},
   "outputs": [
    {
     "name": "stdout",
     "output_type": "stream",
     "text": [
      "the length of the tuple is:-  14\n"
     ]
    }
   ],
   "source": [
    "\"\"\"Q3. Find the length of a tuple without using the len() function\"\"\"\n",
    "\n",
    "# first creating a tuple\n",
    "tupl=(1,2,3,4,5,6,7,8,9,10,11,12,13,12)\n",
    "# instead of using len() function we can use '_'(underscore) which will iterate through each element\n",
    "# declare a variable called counter to count the len of tupl\n",
    "counter=0\n",
    "for _ in tupl:\n",
    "    counter+=1\n",
    "print(\"the length of the tuple is:- \",counter)\n"
   ]
  },
  {
   "cell_type": "code",
   "execution_count": 133,
   "id": "61fe5fff-d3d0-4ce6-8c52-bda2fccf2ce2",
   "metadata": {},
   "outputs": [
    {
     "name": "stdout",
     "output_type": "stream",
     "text": [
      "The count of the given elemnent is:-  2\n"
     ]
    }
   ],
   "source": [
    "\"\"\"Q4. Count the occurrences of an element in a tuple.\"\"\"\n",
    "\n",
    "# create a tuple\n",
    "tupl=(1,2,3,4,5,6,7,8,9,10,11,12,13,12,3,5,6,4,5,6,4,5,6,4,6,55,6)\n",
    "# count() function returns the count of the particular element\n",
    "counter=tupl.count(3)\n",
    "# printing the counter\n",
    "print(\"The count of the given elemnent is:- \",counter)\n"
   ]
  },
  {
   "cell_type": "code",
   "execution_count": 134,
   "id": "1961bf9f-52f5-41c6-bda2-485f0ffd5841",
   "metadata": {},
   "outputs": [
    {
     "name": "stdout",
     "output_type": "stream",
     "text": [
      "The index of the given element is:-  10\n"
     ]
    }
   ],
   "source": [
    "\"\"\"Q5. Find the index of the first occurrence of an element in a tuple\"\"\"\n",
    "\n",
    "# create a tuple\n",
    "tupl=(1,2,3,4,5,6,7,8,9,10,11,12,13,12,3,5,6,4,5,6,4,5,6,4,6,55,6)\n",
    "# the index() function returns the index of given elements as parametere\n",
    "index_of_element=tupl.index(11)\n",
    "# printing the index of the given element\n",
    "print(\"The index of the given element is:- \",index_of_element)\n"
   ]
  },
  {
   "cell_type": "code",
   "execution_count": 135,
   "id": "544cb130-dfa6-451f-ad64-5006a032467c",
   "metadata": {},
   "outputs": [
    {
     "name": "stdin",
     "output_type": "stream",
     "text": [
      "Enter the element to check it is present in the tuple or not:-  10\n"
     ]
    },
    {
     "name": "stdout",
     "output_type": "stream",
     "text": [
      "Yes! it is present\n"
     ]
    }
   ],
   "source": [
    "\"\"\"Q6. Check if an element exists in a tuple\"\"\"\n",
    "\n",
    "# creating the tuple\n",
    "tupl=(1,2,3,4,5,6,7,8,9,10)\n",
    "# the we use if else condition to see the element exist in the tuple or not\n",
    "# taking element input from user\n",
    "n=int(input(\"Enter the element to check it is present in the tuple or not:- \"))\n",
    "\n",
    "if n in tupl:\n",
    "    print(\"Yes! it is present\")\n",
    "else:\n",
    "    print(\"No! it is not present in the tuple\")\n",
    "          \n"
   ]
  },
  {
   "cell_type": "code",
   "execution_count": 136,
   "id": "bbe744f5-b2e2-483b-ab43-69953d8f365a",
   "metadata": {},
   "outputs": [
    {
     "name": "stdout",
     "output_type": "stream",
     "text": [
      "Before typecasting the type is:-  <class 'tuple'>\n",
      "After typecasting the type is:-  <class 'list'>\n"
     ]
    }
   ],
   "source": [
    "\"\"\"Q7. Convert a tuple to a list\"\"\"\n",
    "\n",
    "# first creating the tuple\n",
    "tupl=(1,2,3,4,5,6,7,8)\n",
    "# then converting it into a list using typecasting(converting one datatype to another)\n",
    "lis=list(tupl)\n",
    "print(\"Before typecasting the type is:- \",type(tupl))\n",
    "print(\"After typecasting the type is:- \",type(lis))\n"
   ]
  },
  {
   "cell_type": "code",
   "execution_count": 137,
   "id": "81fe2f73-067a-4baf-9aaf-843cf64ae719",
   "metadata": {},
   "outputs": [
    {
     "name": "stdout",
     "output_type": "stream",
     "text": [
      "Before typecasting the type is:-  <class 'list'>\n",
      "After typecasting the type is:-  <class 'tuple'>\n"
     ]
    }
   ],
   "source": [
    "\"\"\"Q8. Convert a tuple to a list\"\"\"\n",
    "\n",
    "# first creating the list\n",
    "my_lis=[1,2,3,4,5,6,7,8]\n",
    "# then converting the list into tuple using typecasting(converting one datatype to another)\n",
    "my_tupl=tuple(my_lis)\n",
    "print(\"Before typecasting the type is:- \",type(my_lis))\n",
    "print(\"After typecasting the type is:- \",type(my_tupl))\n"
   ]
  },
  {
   "cell_type": "code",
   "execution_count": 138,
   "id": "9e1e87f3-4a27-4508-8772-5d8e8d95c859",
   "metadata": {},
   "outputs": [
    {
     "name": "stdout",
     "output_type": "stream",
     "text": [
      "var1: 10\n",
      "var2: 20\n",
      "var3: 30\n",
      "var4: 40\n",
      "var5: 50\n"
     ]
    }
   ],
   "source": [
    "\"\"\"Q9. Unpack the elements of a tuple into variables\"\"\"\n",
    "\n",
    "# Step 1: Create a tuple\n",
    "my_tupl = (10, 20, 30,40,50)\n",
    "\n",
    "# Step 2: Unpack the elements of the tuple into variables\n",
    "var1, var2, var3,var4,var5 = my_tupl\n",
    "\n",
    "# Step 3: Print the variables\n",
    "print(\"var1:\", var1)\n",
    "print(\"var2:\", var2)\n",
    "print(\"var3:\", var3)\n",
    "print(\"var4:\", var4)\n",
    "print(\"var5:\", var5)\n"
   ]
  },
  {
   "cell_type": "code",
   "execution_count": 139,
   "id": "06801c44-025d-4eb3-a1b1-696bde46c707",
   "metadata": {},
   "outputs": [
    {
     "name": "stdout",
     "output_type": "stream",
     "text": [
      "(2, 4, 6, 8, 10)\n"
     ]
    }
   ],
   "source": [
    "\"\"\"Q10. Create a tuple of even numbers from 1 to 10\"\"\"\n",
    "\n",
    "# step1: doing a tuple comprehension means giving loop and conditions in the single tuple itself\n",
    "tupl=tuple((x for x in range(1,11) if x%2==0))\n",
    "# for performing the tuple comprehension we have to wrap the generator fuction around the ttuple()\n",
    "# step2: printing the tuple\n",
    "print(tupl)\n"
   ]
  },
  {
   "cell_type": "code",
   "execution_count": 140,
   "id": "97cff273-2693-4f6d-a0b8-6b56a370a499",
   "metadata": {},
   "outputs": [
    {
     "name": "stdout",
     "output_type": "stream",
     "text": [
      "(1, 3, 5, 7, 9)\n"
     ]
    }
   ],
   "source": [
    "\"\"\"Q11. Create a tuple of odd numbers from 1 to 10\"\"\"\n",
    "\n",
    "# step1: doing a tuple comprehension means giving loop and conditions in the single tuple itself\n",
    "tupl=tuple((x for x in range(1,11) if x%2!=0))\n",
    "# for performing the tuple comprehension we have to wrap the generator fuction around the ttuple()\n",
    "# step2: printing the tuple\n",
    "print(tupl)\n"
   ]
  },
  {
   "cell_type": "code",
   "execution_count": 141,
   "id": "ac5fff19-d2a7-435f-9785-0ac71393044a",
   "metadata": {},
   "outputs": [
    {
     "name": "stdout",
     "output_type": "stream",
     "text": [
      "The concated  tuple is:-  (1, 2, 3, 4, 5, 6, 7, 8, 9, 10, 11, 12)\n"
     ]
    }
   ],
   "source": [
    "\"\"\"Q.12 Concatenate two tuples\"\"\"\n",
    "\n",
    "# creating the two tuple\n",
    "tupl1=(1,2,3,4,5,6)\n",
    "tupl2=(7,8,9,10,11,12)\n",
    "\n",
    "# concating both the tuple with the help of addition '+' symbol\n",
    "tupl3=tupl1+tupl2\n",
    "# printing the concated tuple\n",
    "print(\"The concated  tuple is:- \",tupl3)\n"
   ]
  },
  {
   "cell_type": "code",
   "execution_count": 142,
   "id": "e83ec56a-9038-4c50-864c-f1085fe09e62",
   "metadata": {},
   "outputs": [
    {
     "name": "stdout",
     "output_type": "stream",
     "text": [
      "Modified tuple:-  (1, 2, 3, 1, 2, 3, 1, 2, 3)\n"
     ]
    }
   ],
   "source": [
    "\"\"\"Q13. Repeat a tuple three times\"\"\"\n",
    "\n",
    "# step1: first create a tuple\n",
    "tupl=(1,2,3)\n",
    "#step2: then use star sign to three times the tuple \n",
    "tip=tupl*3\n",
    "# step:3 then print the modified tuple\n",
    "print(\"Modified tuple:- \",tip)\n"
   ]
  },
  {
   "cell_type": "code",
   "execution_count": 143,
   "id": "ccb8ecb7-06d3-4143-aef8-d282fa2b74da",
   "metadata": {},
   "outputs": [
    {
     "name": "stdout",
     "output_type": "stream",
     "text": [
      "it (1, 2, 3, 4, 5, 6, 7, 8, 9, 10) is not empty tuple\n",
      "it is () empty tuple\n"
     ]
    }
   ],
   "source": [
    "\"\"\"Q14. Check if a tuple is empty\"\"\"\n",
    "\n",
    "# step1: create a tuple\n",
    "tupl1=(1,2,3,4,5,6,7,8,9,10)\n",
    "tupl2=()\n",
    "\n",
    "# created the two tuple one having the eelement and another is empty\n",
    "# checking length of the tuple\n",
    "\n",
    "length1=len(tupl1)\n",
    "length2=len(tupl2)\n",
    "# checking the empty of h=filled with conditional statement\n",
    "if(length1>=1):\n",
    "    print(f\"it {tupl1} is not empty tuple\")\n",
    "\n",
    "if (length2<1):\n",
    "    print(f\"it is {tupl2} empty tuple\")\n"
   ]
  },
  {
   "cell_type": "code",
   "execution_count": 144,
   "id": "2a9f8d68-daf0-4250-a83f-65c557ed8303",
   "metadata": {},
   "outputs": [
    {
     "name": "stdout",
     "output_type": "stream",
     "text": [
      "The nested tuple:-  (1, 2, 3, (8, 9, 3), (1, 6, 7))\n"
     ]
    }
   ],
   "source": [
    "\"\"\"Q15. Create a nested tuple\"\"\"\n",
    "\n",
    "# step1: creating a nested tuple(tuple inside the tuple)\n",
    "tupl=(1,2,3,(8,9,3),(1,6,7))\n",
    "# the nested tuple  is created \n",
    "# step2: printing it\n",
    "print(\"The nested tuple:- \",tupl)\n"
   ]
  },
  {
   "cell_type": "code",
   "execution_count": 145,
   "id": "0676dcc6-633f-4abe-8773-9a52e8a56918",
   "metadata": {},
   "outputs": [
    {
     "name": "stdout",
     "output_type": "stream",
     "text": [
      "The first element is:-  1\n"
     ]
    }
   ],
   "source": [
    "\"\"\"Q16. Access the first element of a nested tuple\"\"\"\n",
    "\n",
    "# step1: created a nested tuple\n",
    "tupl=((1,2,3),(8,9,3),(1,6,7))\n",
    "# by using indexing of element we access the first element of the nested tuple\n",
    "element=y=tupl[0][0]\n",
    "# printing the first element\n",
    "print(\"The first element is:- \",element)\n"
   ]
  },
  {
   "cell_type": "code",
   "execution_count": 146,
   "id": "995844cb-84c3-4a11-a9a1-3b1e5939447a",
   "metadata": {},
   "outputs": [
    {
     "name": "stdout",
     "output_type": "stream",
     "text": [
      "The tuple is:-  (1,)\n",
      "Type:-  <class 'tuple'>\n"
     ]
    }
   ],
   "source": [
    "\"\"\"Q17. Create a tuple with a single element\"\"\"\n",
    "\n",
    "# creating the tuple with single element is like\n",
    "tupl=(1,)\n",
    "print(\"The tuple is:- \",tupl)\n",
    "print(\"Type:- \",type(tupl))\n",
    "# type function will give the datatype of the data given as parametere"
   ]
  },
  {
   "cell_type": "code",
   "execution_count": 147,
   "id": "8a055aa9-9000-4d66-b2dd-4a163f177a24",
   "metadata": {},
   "outputs": [
    {
     "name": "stdout",
     "output_type": "stream",
     "text": [
      "tuple1 == tuple2: False\n",
      "tuple1 != tuple2: True\n",
      "tuple1 < tuple2: True\n",
      "tuple1 <= tuple2: True\n",
      "tuple1 > tuple2: False\n",
      "tuple1 >= tuple2: False\n"
     ]
    }
   ],
   "source": [
    "\"\"\"Q18. Compare two tuples\"\"\"\n",
    "\n",
    "# Step 1: Create two tuples\n",
    "tupl1 = (100,200,300,500)\n",
    "tupl2 = (100,200,300,100000)\n",
    "\n",
    "# Step 2: Compare the two tuples using comparison operators\n",
    "print(\"tuple1 == tuple2:\", tupl1 == tupl2)  # Equality check\n",
    "print(\"tuple1 != tuple2:\", tupl1 != tupl2)  # Inequality check\n",
    "print(\"tuple1 < tuple2:\", tupl1 < tupl2)    # Less than check\n",
    "print(\"tuple1 <= tuple2:\", tupl1 <= tupl2)  # Less than equals to check\n",
    "print(\"tuple1 > tuple2:\", tupl1 > tupl2)    # Greater than check\n",
    "print(\"tuple1 >= tuple2:\", tupl1 >= tupl2)  # Greater than equals to check\n"
   ]
  },
  {
   "cell_type": "code",
   "execution_count": 149,
   "id": "a8fb2915-bf13-4b0f-94de-9a8847b224ff",
   "metadata": {},
   "outputs": [
    {
     "name": "stdout",
     "output_type": "stream",
     "text": [
      "<class 'tuple'>\n"
     ]
    }
   ],
   "source": [
    "\"\"\"Q19. Delete a tuple\"\"\"\n",
    "\n",
    "# Step 1: Create a tuple\n",
    "tupl=(1, 2, 3, 4, 5)\n",
    "\n",
    "# Step 2: Deleting the tuple using the 'del' statement\n",
    "del tupl\n",
    "\n",
    "# Step 3: Try to access the tuple (will gave   a NameError)\n",
    "print(tuple)\n"
   ]
  },
  {
   "cell_type": "code",
   "execution_count": 150,
   "id": "5d021947-6a43-4bd7-8b0b-c0834c6742aa",
   "metadata": {},
   "outputs": [
    {
     "name": "stdout",
     "output_type": "stream",
     "text": [
      "The sliced part of the tuple is:-  (3, 4, 5, 6, 7, 8)\n"
     ]
    }
   ],
   "source": [
    "\"\"\"Q20. Slice a tuple\"\"\"\n",
    "\n",
    "# step1: crrating the tuple\n",
    "tupl=(1,2,3,4,5,6,7,8,9,10,11)\n",
    "# we can slice the tuple using indexes and colon ':'\n",
    "sliced_part=tupl[2:8]\n",
    "print(\"The sliced part of the tuple is:- \",sliced_part)\n"
   ]
  },
  {
   "cell_type": "code",
   "execution_count": 151,
   "id": "305a8d6e-934e-4b4f-86fd-a26844da6a6d",
   "metadata": {},
   "outputs": [
    {
     "name": "stdout",
     "output_type": "stream",
     "text": [
      "The maximum value in the tuple is:-  1421441\n"
     ]
    }
   ],
   "source": [
    "\"\"\"Q21. Find the maximum value in a tuple\"\"\"\n",
    "\n",
    "# step1: creating the tuple\n",
    "tupl=(12,3,4,5,890,123456,86554,1421441,5686)\n",
    "# step2: checking the maximum value using the max() function\n",
    "max_value=max(tupl)\n",
    "# step3: printing the maximum value\n",
    "print(\"The maximum value in the tuple is:- \",max_value)"
   ]
  },
  {
   "cell_type": "code",
   "execution_count": 152,
   "id": "5799f479-9642-41e5-a02d-8e1bb1fe7571",
   "metadata": {},
   "outputs": [
    {
     "name": "stdout",
     "output_type": "stream",
     "text": [
      "The minimum value in the tuple is:-  3\n"
     ]
    }
   ],
   "source": [
    "\"\"\"Q22. Find the minimum value in a tuple\"\"\"\n",
    "\n",
    "# step1: creating the tuple\n",
    "tupl=(12,3,4,5,890,123456,86554,1421441,5686)\n",
    "# step2: checking the minimum value using the min() function\n",
    "min_value=min(tupl)\n",
    "# step3: printing the minimum value\n",
    "print(\"The minimum value in the tuple is:- \",min_value)\n"
   ]
  },
  {
   "cell_type": "code",
   "execution_count": 153,
   "id": "322d832d-656b-4074-ba1b-71911ce386fe",
   "metadata": {},
   "outputs": [
    {
     "name": "stdout",
     "output_type": "stream",
     "text": [
      "Tuple of characters: ('p', 'w', 's', 'k', 'i', 'l', 'l', 's', ' ', 'f', 's', 'd', 's')\n"
     ]
    }
   ],
   "source": [
    "\"\"\"Q23. Convert a string to a tuple of characters\"\"\"\n",
    "\n",
    "# Step 1: Create a string\n",
    "string = \"pwskills fsds\"\n",
    "\n",
    "# Step 2: Convert the string to a tuple of characters\n",
    "characters_in_tuple = tuple(string)\n",
    "\n",
    "# Step 3: Print the tuple of characters\n",
    "print(\"Tuple of characters:\",characters_in_tuple)\n"
   ]
  },
  {
   "cell_type": "code",
   "execution_count": 154,
   "id": "5371d207-4d77-418c-ae1f-93d5e20f853d",
   "metadata": {},
   "outputs": [
    {
     "name": "stdout",
     "output_type": "stream",
     "text": [
      "Modified string:-  pwskills fsds\n"
     ]
    }
   ],
   "source": [
    "\"\"\"Q24. Convert a tuple of characters to a string\"\"\"\n",
    "\n",
    "# step1: creating the tuple of the characters\n",
    "tupl=('p', 'w', 's', 'k', 'i', 'l', 'l', 's', ' ', 'f', 's', 'd', 's')\n",
    "#step2: join the characters using join method\n",
    "string_of_character=''.join(tupl)\n",
    "# step3: modified string\n",
    "print(\"Modified string:- \",string_of_character)\n"
   ]
  },
  {
   "cell_type": "code",
   "execution_count": 155,
   "id": "1ae7b47b-523a-4969-80ad-e12fba2ed21a",
   "metadata": {},
   "outputs": [
    {
     "name": "stdout",
     "output_type": "stream",
     "text": [
      "(1, 2, 3, (4+5j), 'pwskills', 5.4)\n"
     ]
    }
   ],
   "source": [
    "\"\"\"Q25. Create a tuple from multiple data types\"\"\"\n",
    "\n",
    "# step1: ccreating the tuple having multiple datatype\n",
    "tupl=(1,2,3,4+5j,\"pwskills\",5.4)\n",
    "print(tupl)\n"
   ]
  },
  {
   "cell_type": "code",
   "execution_count": 156,
   "id": "df91beec-cbc9-471b-96b2-b9742dcc6b5c",
   "metadata": {},
   "outputs": [
    {
     "name": "stdout",
     "output_type": "stream",
     "text": [
      "tuple1 and tuple2 are identical: True\n",
      "tuple3 and tuple4 are identical: True\n",
      "tuple1 and tuple3 are identical: False\n",
      "tuple1 and tuple4 are identical: False\n"
     ]
    }
   ],
   "source": [
    "\"\"\"Q26. Check if two tuples are identical\"\"\"\n",
    "\n",
    "#step1: creating the tuple\n",
    "tupl1=(1,2,3)\n",
    "tupl2=(1,2,3)\n",
    "tupl3=(4,5,6)\n",
    "tupl4=(4,5,6)\n",
    "# comparing the tuples using equality operator\n",
    "are_identical1=(tupl1==tupl2)\n",
    "are_identical2=(tupl3==tupl4)\n",
    "are_identical3=(tupl1==tupl3)\n",
    "are_identical4=(tupl1==tupl4)\n",
    "\n",
    "# checking if the tuples are identical or not\n",
    "print(\"tuple1 and tuple2 are identical:\", are_identical1)\n",
    "print(\"tuple3 and tuple4 are identical:\", are_identical2)\n",
    "print(\"tuple1 and tuple3 are identical:\", are_identical3)\n",
    "print(\"tuple1 and tuple4 are identical:\", are_identical4)\n"
   ]
  },
  {
   "cell_type": "code",
   "execution_count": 157,
   "id": "c9cedb64-5e6b-4af6-8308-e2e93afacbd3",
   "metadata": {},
   "outputs": [
    {
     "name": "stdout",
     "output_type": "stream",
     "text": [
      "The sorted tuple:-  (1, 2, 3, 4, 6, 9, 10, 44, 53, 222, 987)\n"
     ]
    }
   ],
   "source": [
    "\"\"\"Q27. Sort the elements of a tuple\"\"\"\n",
    "\n",
    "#step1: creating the tuple\n",
    "tupl=(4,53,6,222,3,44,987,1,2,9,10)\n",
    "#step2 : change the tuple into the list and again convert the sorted list into the tuple\n",
    "new_tupl=tuple(sorted(tupl))\n",
    "# step3: print the sorted tuple in ascending order\n",
    "print(\"The sorted tuple:- \",new_tupl)\n"
   ]
  },
  {
   "cell_type": "code",
   "execution_count": 158,
   "id": "c1984be1-2058-44e3-943f-5c55bfbefe36",
   "metadata": {},
   "outputs": [
    {
     "name": "stdout",
     "output_type": "stream",
     "text": [
      "Modified tuple:-  ('1', '2', '3', '4', '5', '6', '7', '8', '9', '10')\n"
     ]
    }
   ],
   "source": [
    "\"\"\"Q28. Convert a tuple of integers to a tuple of strings\"\"\"\n",
    "\n",
    "#step1: creating the tuple of  integer\n",
    "tupl=(1,2,3,4,5,6,7,8,9,10)\n",
    "# step2: doing the tuple comprehension\n",
    "new_tupl=tuple(str(i) for i in tupl)\n",
    "# step3: printing the new_tuple\n",
    "print(\"Modified tuple:- \",new_tupl)\n"
   ]
  },
  {
   "cell_type": "code",
   "execution_count": 159,
   "id": "c578e499-c144-47bf-81a1-d660532aefbe",
   "metadata": {},
   "outputs": [
    {
     "name": "stdout",
     "output_type": "stream",
     "text": [
      "The modified tuple:-  (1, 2, 3, 4, 5, 6, 7, 8, 9, 10)\n"
     ]
    }
   ],
   "source": [
    "\"\"\"Q29. Convert a tuple of strings to a tuple of integers\"\"\"\n",
    "\n",
    "# step1: creating the tuple\n",
    "tupl=('1', '2', '3', '4', '5', '6', '7', '8', '9', '10')\n",
    "# step2: doing the tuple comprehension\n",
    "new_tupl=tuple(int(i) for i in tupl)\n",
    "# step3: printing the modified tuple\n",
    "print(\"The modified tuple:- \",new_tupl)\n"
   ]
  },
  {
   "cell_type": "code",
   "execution_count": 161,
   "id": "d1c2398e-aea9-4a40-8a00-e970b1b05413",
   "metadata": {},
   "outputs": [
    {
     "name": "stdout",
     "output_type": "stream",
     "text": [
      "The merged tuple:-  (1, 2, 3, 4, 5, 6, 7, 8, 9, 10)\n"
     ]
    }
   ],
   "source": [
    "\"\"\"Q30. Merge two tuples\"\"\"\n",
    "\n",
    "# step1: creating the tuples\n",
    "tupl1=(1,2,3,4,5,6)\n",
    "tupl2=(7,8,9,10)\n",
    "# step2: merging both the tuple using addition symbol '+'\n",
    "tupl3=tupl1+tupl2\n",
    "# step3: printing the merged tuple\n",
    "print(\"The merged tuple:- \",tupl3)\n"
   ]
  },
  {
   "cell_type": "code",
   "execution_count": 162,
   "id": "4d9ce9cf-4d8f-419c-80b5-79d6bc0168f1",
   "metadata": {},
   "outputs": [
    {
     "name": "stdout",
     "output_type": "stream",
     "text": [
      "The flattened tuple:-  (1, 2, 3, 4, 5, 6, 7, 8, 9, 10)\n"
     ]
    }
   ],
   "source": [
    "\"\"\"Q31. Flatten a nested tuple\"\"\"\n",
    "\n",
    "# step1: creating the function\n",
    "def flatten_tuple(tupl):\n",
    "    flat_lis=[]\n",
    "    for item in tupl:\n",
    "        if isinstance(item,tuple):\n",
    "            flat_lis.extend(flatten_tuple(item))\n",
    "        else:\n",
    "            flat_lis.append(item)\n",
    "    # returning the flat_lis after converting it from list from tuple\n",
    "    return tuple(flat_lis)\n",
    "\n",
    "my_tupl=(1,2,3,(4,5,6,7),(8,9,10))\n",
    "final_output=flatten_tuple(my_tupl)\n",
    "# printing the final output\n",
    "print(\"The flattened tuple:- \",final_output)\n"
   ]
  },
  {
   "cell_type": "code",
   "execution_count": 163,
   "id": "bfb7f03f-cb8a-4716-a545-e513d11c64e6",
   "metadata": {},
   "outputs": [
    {
     "name": "stdout",
     "output_type": "stream",
     "text": [
      "The tuple of first five numbers are:-  (2, 3, 5, 7, 11)\n"
     ]
    }
   ],
   "source": [
    "\"\"\"Q32. Create a tuple of the first 5 prime numbers\"\"\"\n",
    "\n",
    "# first of all  we have to perform all the operations in the list and at the end wwe have to typecast this list into a tuple\n",
    "# creating an empty list\n",
    "lis=[]\n",
    "for i in range(2,100):\n",
    "    for j in range(2,i):\n",
    "        if(i%j==0):\n",
    "            break\n",
    "    else:\n",
    "        lis.append(i)\n",
    "print(\"The tuple of first five numbers are:- \",tuple(lis)[:5])\n"
   ]
  },
  {
   "cell_type": "code",
   "execution_count": 164,
   "id": "a8237484-0566-4438-9de9-e3f663354675",
   "metadata": {},
   "outputs": [
    {
     "name": "stdout",
     "output_type": "stream",
     "text": [
      "palindrom_tuple is palindrome:-  True\n",
      "not_palindrom_tuple is palindrome:-  False\n"
     ]
    }
   ],
   "source": [
    "\"\"\"Q33. Check if a tuple is a palindrome\"\"\"\n",
    "\n",
    "# step1: creating the function\n",
    "def is_palindrome(tupl):\n",
    "    return tupl==tupl[::-1]\n",
    "\n",
    "# step2: creating two tuples and the test cases\n",
    "palindrome_tuple=(1,2,1)\n",
    "not_palindrome_tuple=(5,4,1)\n",
    "\n",
    "test_case1=is_palindrome(palindrome_tuple)\n",
    "test_case2=is_palindrome(not_palindrome_tuple)\n",
    "# step3: checking this test cases\n",
    "# palindrome means reads the same forwards and backwards\n",
    "print(\"palindrom_tuple is palindrome:- \",test_case1)\n",
    "print(\"not_palindrom_tuple is palindrome:- \",test_case2)\n"
   ]
  },
  {
   "cell_type": "code",
   "execution_count": 165,
   "id": "9166b23d-4851-4a41-b23c-74094eb9a72e",
   "metadata": {},
   "outputs": [
    {
     "name": "stdout",
     "output_type": "stream",
     "text": [
      "tuple:-  (1, 4, 9, 16, 25)\n"
     ]
    }
   ],
   "source": [
    "\"\"\"Q34. Create a tuple of squares of numbers from 1 to 5\"\"\"\n",
    "\n",
    "# step1: doing the tuple ccomprehension\n",
    "tupl=tuple(i**2 for i in range(1,6))\n",
    "# printing the tuple of squares of number from 1 to 5 is\n",
    "print(\"tuple:- \",tupl)\n"
   ]
  },
  {
   "cell_type": "code",
   "execution_count": 166,
   "id": "a3e331a9-a2d3-40de-a386-4d8a00baede3",
   "metadata": {},
   "outputs": [
    {
     "name": "stdout",
     "output_type": "stream",
     "text": [
      "Filtered tuple having only even number:-  (2, 4, 6, 8, 10, 12, 14, 16)\n"
     ]
    }
   ],
   "source": [
    "\"\"\"Q35. Filter out all even numbers from a tuple\"\"\"\n",
    "\n",
    "#step1: creating the tuple\n",
    "tupl=(1,2,3,4,5,6,7,8,9,10,11,12,13,14,15,16,17)\n",
    "# step2: doing the tuple comprehension for filtering even numbers from tuple\n",
    "new_tupl=tuple(i for i in tupl if i%2==0)\n",
    "# step3: printing the new tuple\n",
    "print(\"Filtered tuple having only even number:- \",new_tupl)\n"
   ]
  },
  {
   "cell_type": "code",
   "execution_count": 167,
   "id": "2f8b9af8-2098-432c-8aee-555d1a5fc5a2",
   "metadata": {},
   "outputs": [
    {
     "name": "stdout",
     "output_type": "stream",
     "text": [
      "Original tuple:-  (1, 2, 3, 4, 5, 6, 7, 8, 9, 10)\n",
      "Modified tuple:-  (2, 4, 6, 8, 10, 12, 14, 16, 18, 20)\n"
     ]
    }
   ],
   "source": [
    "\"\"\"Q36. Multiply all elements in a tuple by 2\"\"\"\n",
    "\n",
    "# step1: creating the tuple\n",
    "tupl=(1,2,3,4,5,6,7,8,9,10)\n",
    "# step2: doing the tuple  comprehension for multiplying every element with 2\n",
    "new_tupl=tuple(i*2 for i in tupl)\n",
    "# step3: printing the new tuple\n",
    "print(\"Original tuple:- \",tupl)\n",
    "print(\"Modified tuple:- \",new_tupl)\n"
   ]
  },
  {
   "cell_type": "code",
   "execution_count": 168,
   "id": "d5da70cc-3622-4b80-8ba8-836705f38476",
   "metadata": {},
   "outputs": [
    {
     "name": "stdout",
     "output_type": "stream",
     "text": [
      "The tuples of random numbers are:-  (71, 64, 10, 22, 23, 61, 59, 34, 59, 43)\n"
     ]
    }
   ],
   "source": [
    "\"\"\"Q37. Create a tuple of random numbers\"\"\"\n",
    "\n",
    "# step1: importing the library called random\n",
    "import random\n",
    "# step2: doing tuple comprehension\n",
    "tupl=tuple(random.randint(4,78) for _ in range(10))\n",
    "# randint() generate random integer between start and end point\n",
    "# step3: printing the tuple\n",
    "print(\"The tuples of random numbers are:- \",tupl)\n"
   ]
  },
  {
   "cell_type": "code",
   "execution_count": 169,
   "id": "4ec21edb-1047-4086-bf38-9502d34345cc",
   "metadata": {},
   "outputs": [
    {
     "name": "stdout",
     "output_type": "stream",
     "text": [
      "tupl1 is sorted:-  False\n",
      "tupl2 is sorted:-  True\n"
     ]
    }
   ],
   "source": [
    "\"\"\"Q38. Check if a tuple is sorted\"\"\"\n",
    "\n",
    "# sorting operation will done in ascending order\n",
    "#step1: creating a function\n",
    "def is_sorted(tupl):\n",
    "    return all (tupl[i]<=tupl[i+1] for i in range(len(tupl)-1))\n",
    "# creating two tuples\n",
    "tupl1=(1,2,388,34,23,2,4,1)\n",
    "tupl2=(1,2,3,4,5,6,7,8,9,10)\n",
    "# creating the two testcases\n",
    "testcase1=is_sorted(tupl1)\n",
    "testcase2=is_sorted(tupl2)\n",
    "\n",
    "# checking the test cases\n",
    "print(\"tupl1 is sorted:- \",testcase1)\n",
    "print(\"tupl2 is sorted:- \",testcase2)\n"
   ]
  },
  {
   "cell_type": "code",
   "execution_count": 170,
   "id": "f0a93d70-1444-4cdc-b3b2-c59cf027aa38",
   "metadata": {},
   "outputs": [
    {
     "name": "stdout",
     "output_type": "stream",
     "text": [
      "Fianl output after rotating left:-  (4, 5, 6, 1, 2, 3)\n"
     ]
    }
   ],
   "source": [
    "\"\"\"Q39. Rotate a tuple to the left by n positions\"\"\"\n",
    "\n",
    "# creating the function\n",
    "def rotate_left(tupl,n):\n",
    "    n=n%len(lis)    # to ensure the n is within the length of list\n",
    "    rotated=tupl[n:]+tupl[:n]\n",
    "    return rotated\n",
    "\n",
    "my_tupl=(1,2,3,4,5,6)\n",
    "n=3\n",
    "\n",
    "final=rotate_left(my_tupl,n)\n",
    "print(\"Fianl output after rotating left:- \",final)\n"
   ]
  },
  {
   "cell_type": "code",
   "execution_count": 171,
   "id": "6f66b29c-7d1d-4962-a719-41fca31150e3",
   "metadata": {},
   "outputs": [
    {
     "name": "stdout",
     "output_type": "stream",
     "text": [
      "Fianl output after rotating right:-  (5, 6, 1, 2, 3, 4)\n"
     ]
    }
   ],
   "source": [
    "\"\"\"Q40. Rotate a tuple to the right by n positions\"\"\"\n",
    "\n",
    "# creating the function\n",
    "def rotate_right(tupl,n):\n",
    "    n=n%len(lis)    # to ensure the n is within the length of list\n",
    "    rotated=tupl[-n:]+tupl[:-n]\n",
    "    return rotated\n",
    "\n",
    "my_tupl=(1,2,3,4,5,6)\n",
    "n=2\n",
    "\n",
    "final=rotate_right(my_tupl,n)\n",
    "print(\"Fianl output after rotating right:- \",final)\n",
    "    \n"
   ]
  },
  {
   "cell_type": "code",
   "execution_count": 172,
   "id": "e2a16992-fae6-4851-b0dd-c846d5b60831",
   "metadata": {},
   "outputs": [
    {
     "name": "stdout",
     "output_type": "stream",
     "text": [
      "The fibonacci number list is:-  (0, 1, 1, 2, 3)\n"
     ]
    }
   ],
   "source": [
    "\"\"\"Q41. Create a tuple of the first 5 Fibonacci numbers\"\"\"\n",
    "\n",
    "# step1: creating a function\n",
    "def fibonacci_num(n):\n",
    "    # first we perform operations in the list\n",
    "    fib_lis=[0,1]\n",
    "    for i in range(2,n):\n",
    "        fib2=fib_lis[i-1]+fib_lis[i-2]  # logic or formula\n",
    "        fib_lis.append(fib2)\n",
    "        # typecast list into tuple\n",
    "    return tuple(fib_lis)\n",
    "\n",
    "n=5\n",
    "final_list=fibonacci_num(n)\n",
    "print(\"The fibonacci number list is:- \",final_list)\n"
   ]
  },
  {
   "cell_type": "code",
   "execution_count": 175,
   "id": "86d2eae3-f94d-4f3b-ac9e-7f8323701d16",
   "metadata": {},
   "outputs": [
    {
     "name": "stdin",
     "output_type": "stream",
     "text": [
      "Enter elements separated by commas:  a b c d e\n"
     ]
    },
    {
     "name": "stdout",
     "output_type": "stream",
     "text": [
      "User input tuple: ('a b c d e',)\n"
     ]
    }
   ],
   "source": [
    "\"\"\"Q42. Create a tuple from user input\"\"\"\n",
    "\n",
    "# step1: taking a string input from user\n",
    "user_str = input(\"Enter elements separated by commas: \")\n",
    "\n",
    "# Splitting the input string into a list of strings\n",
    "user_list = user_str.split(',')\n",
    "\n",
    "# typecasted the list into the tuple\n",
    "user_tuple = tuple(user_list)\n",
    "\n",
    "# Printing the tuple input from user\n",
    "print(\"User input tuple:\", user_tuple)\n"
   ]
  },
  {
   "cell_type": "code",
   "execution_count": 176,
   "id": "ac4545d5-5cb6-409e-92bc-e570e0ca28be",
   "metadata": {},
   "outputs": [
    {
     "name": "stdout",
     "output_type": "stream",
     "text": [
      "Swaped tuple:-  (1, 7, 3, 4, 5, 6, 2, 8)\n"
     ]
    }
   ],
   "source": [
    "\"\"\"Q43. Swap two elements in a tuple\"\"\"\n",
    "\n",
    "# creating the list because tuple is immutable and cannot supports the item assignment\n",
    "lis=[1,2,3,4,5,6,7,8]\n",
    "\n",
    "# creating two variable for indexes whose values are interchange with each other\n",
    "a=1\n",
    "b=6\n",
    "\n",
    "# swapping the elements  means(element at index 1 is replaced by element at index 6)\n",
    "temp=lis[a]\n",
    "lis[a]=lis[b]\n",
    "lis[b]=temp\n",
    "# printing the swaped tuple typecasted from the list(lis)\n",
    "print(\"Swaped tuple:- \",tuple(lis))\n"
   ]
  },
  {
   "cell_type": "code",
   "execution_count": 177,
   "id": "93d4ca80-e245-42b9-aec6-e64afd38c679",
   "metadata": {},
   "outputs": [
    {
     "name": "stdout",
     "output_type": "stream",
     "text": [
      "Reversed tuple:-  (6, 5, 4, 3, 2, 1)\n"
     ]
    }
   ],
   "source": [
    "\"\"\"Q44. Reverse the elements of a tuple\"\"\"\n",
    "\n",
    "# create a tuple\n",
    "tupl=(1,2,3,4,5,6)\n",
    "# for reversing the tuple we using slicing and jumping technique\n",
    "reversed_tupl=tupl[::-1]\n",
    "# printing the reversed tuple\n",
    "print(\"Reversed tuple:- \",reversed_tupl)\n"
   ]
  },
  {
   "cell_type": "code",
   "execution_count": 1,
   "id": "ab165ffa-3e99-464b-b66e-673d8e14304d",
   "metadata": {},
   "outputs": [
    {
     "name": "stdin",
     "output_type": "stream",
     "text": [
      "Enter the range:-  10\n"
     ]
    },
    {
     "name": "stdout",
     "output_type": "stream",
     "text": [
      "modified tuple:-  (1, 2, 4, 8, 16, 32, 64, 128, 256, 512)\n"
     ]
    }
   ],
   "source": [
    "\"\"\"Q45. Create a tuple of the first n powers of 2\"\"\"\n",
    "\n",
    "# taking the 'n' input from the user\n",
    "\n",
    "n=int(input(\"Enter the range:- \"))\n",
    "\n",
    "# for printing the first n powers of 2 we have to do a tupl comprehension\n",
    "\n",
    "tupl=tuple(2**i for i in range(n))\n",
    "\n",
    "# printing the modified tuple\n",
    "\n",
    "print(\"modified tuple:- \",tupl)\n"
   ]
  },
  {
   "cell_type": "code",
   "execution_count": 2,
   "id": "bca66eae-7339-482f-9ec4-a38a13c95a0c",
   "metadata": {},
   "outputs": [
    {
     "name": "stdout",
     "output_type": "stream",
     "text": [
      "Longest string:-  science\n"
     ]
    }
   ],
   "source": [
    "\"\"\"Q46. Find the longest string in a tuple of strings\"\"\"\n",
    "\n",
    "# creating the tuple of the strings\n",
    "tupl=(\"full\",\"stack\",\"data\",\"science\",\"pro\")\n",
    "\n",
    "# checking the maximum string in the tuple using max() function\n",
    "\n",
    "maximum=max(tupl,key=len)\n",
    "\n",
    "# printing the longest string from the tuple\n",
    "\n",
    "print(\"Longest string:- \",maximum)\n"
   ]
  },
  {
   "cell_type": "code",
   "execution_count": 3,
   "id": "016fbd6d-a26a-4e58-b24f-6224a39a0592",
   "metadata": {},
   "outputs": [
    {
     "name": "stdout",
     "output_type": "stream",
     "text": [
      "Shortest string:-  pro\n"
     ]
    }
   ],
   "source": [
    "\"\"\"Q47. Find the shortest string in a tuple of strings\"\"\"\n",
    "\n",
    "# creating the tuple of the strings\n",
    "tupl=(\"full\",\"stack\",\"data\",\"science\",\"pro\")\n",
    "\n",
    "# checking the shortest string in the tuple using min() function\n",
    "\n",
    "minimum=min(tupl,key=len)\n",
    "\n",
    "# printing the shortest string from the tuple\n",
    "\n",
    "print(\"Shortest string:- \",minimum)\n"
   ]
  },
  {
   "cell_type": "code",
   "execution_count": 4,
   "id": "87814d59-fbad-415a-ac69-9775c61c69a7",
   "metadata": {},
   "outputs": [
    {
     "name": "stdin",
     "output_type": "stream",
     "text": [
      "Enter the triangular number you want:-  5\n"
     ]
    },
    {
     "name": "stdout",
     "output_type": "stream",
     "text": [
      "Triangular number:-  (1, 3, 6, 10, 15)\n"
     ]
    }
   ],
   "source": [
    "\"\"\"Q48. Create a tuple of the first n triangular numbers\"\"\"\n",
    "\n",
    "# creating the  function\n",
    "def triangular_number_tuple(n):\n",
    "    # performing operations in the list\n",
    "    triang_list=[]\n",
    "    for i in range(1,n+1):\n",
    "        triang_num=i * (i+1) // 2  # formula '//' gives floor vaue like 4.5 it gives 4\n",
    "        triang_list.append(triang_num)\n",
    "    # typecast the list into tuple\n",
    "    return tuple(triang_list)\n",
    "\n",
    "n=int(input(\"Enter the triangular number you want:- \"))\n",
    "final=triangular_number_tuple(n)\n",
    "# printing the tuple\n",
    "print(\"Triangular number:- \",final)\n"
   ]
  },
  {
   "cell_type": "code",
   "execution_count": 5,
   "id": "d982266d-948a-4695-a64c-636a8a2b5732",
   "metadata": {},
   "outputs": [
    {
     "name": "stdout",
     "output_type": "stream",
     "text": [
      "Main tuple contains subsequence tuple: True\n"
     ]
    }
   ],
   "source": [
    "\"\"\"Q49. Check if a tuple contains another tuple as a subsequence\"\"\"\n",
    "\n",
    "# creatin a function to check if a tuple contains another tuple as a subsequence\n",
    "def contain_subseq(tupl, sub_tuple):\n",
    "    sub_length = len(sub_tuple)\n",
    "    for i in range(len(tupl) - sub_length + 1):\n",
    "        if tupl[i:i+sub_length] == sub_tuple:\n",
    "            return True\n",
    "    return False\n",
    "\n",
    "# Main tuple\n",
    "my_tupl = (1, 2, 3, 4, 5, 6, 7, 8, 9)\n",
    "\n",
    "# Subsequence tuple\n",
    "sub_tuple = (3, 4, 5)\n",
    "\n",
    "# Check if the main tuple contains the subsequence tuple\n",
    "contains_subsequence = contain_subseq(my_tupl, sub_tuple)\n",
    "\n",
    "# Print the result\n",
    "print(\"Main tuple contains subsequence tuple:\", contains_subsequence)\n"
   ]
  },
  {
   "cell_type": "code",
   "execution_count": 6,
   "id": "640ab497-1120-412c-9bda-4188cb5f016e",
   "metadata": {},
   "outputs": [
    {
     "name": "stdin",
     "output_type": "stream",
     "text": [
      "Enter the value:-  10\n"
     ]
    },
    {
     "name": "stdout",
     "output_type": "stream",
     "text": [
      "Tuple of alternate '1s' and '0s':-  (0, 1, 0, 1, 0, 1, 0, 1, 0, 1)\n"
     ]
    }
   ],
   "source": [
    "\"\"\"Q50. Create a tuple of alternating 1s and 0s of length n\"\"\"\n",
    "\n",
    "# taking the 'n' input from user\n",
    "n=int(input(\"Enter the value:- \"))\n",
    "\n",
    "# Create a tuple of alternating 1s and 0s using a list comprehension\n",
    "alternate_tuple = tuple(i % 2 for i in range(n))\n",
    "\n",
    "# Print the tuple of alternate 1s and 0s\n",
    "print(\"Tuple of alternate '1s' and '0s':- \", alternate_tuple)\n"
   ]
  },
  {
   "cell_type": "code",
   "execution_count": 7,
   "id": "aa36bddf-ff14-42a5-9da6-26853963ad2d",
   "metadata": {},
   "outputs": [
    {
     "name": "stdout",
     "output_type": "stream",
     "text": [
      "{1, 2, 3, 4, 5}\n"
     ]
    }
   ],
   "source": [
    "\"\"\"Q1. Create a set with integers from 1 to 5\"\"\"\n",
    "\n",
    "# creating the set having the numbers 1 to 5\n",
    "\n",
    "set1={1,2,3,4,5}\n",
    "print(set1)\n",
    "# sets only contains the unique element means sets does not allow duplicacy\n"
   ]
  },
  {
   "cell_type": "code",
   "execution_count": 8,
   "id": "f252536c-6308-4cc1-975b-936d7c717457",
   "metadata": {},
   "outputs": [
    {
     "name": "stdout",
     "output_type": "stream",
     "text": [
      "Set:-  {1, 2, 3, 4, 5, 6, 7, 8, 9, 10}\n"
     ]
    }
   ],
   "source": [
    "\"\"\"Q2. Add an element to a set\"\"\"\n",
    "\n",
    "# step1: creating the set\n",
    "set1={1,2,3,4,5,6,7,8,9}\n",
    "# step2: adding the element in the set using add() function\n",
    "set1.add(10)\n",
    "# printing the modified set\n",
    "print(\"Set:- \",set1)\n"
   ]
  },
  {
   "cell_type": "code",
   "execution_count": 9,
   "id": "52064c5d-320a-464d-aac0-93f52ed09e78",
   "metadata": {},
   "outputs": [
    {
     "name": "stdout",
     "output_type": "stream",
     "text": [
      "Set:-  {1, 2, 3, 4, 6, 7, 8, 9, 10}\n"
     ]
    }
   ],
   "source": [
    "\"\"\"Q3. Remove an element from a set\"\"\"\n",
    "\n",
    "# step1: creating the set\n",
    "set1={1,2,3,4,5,6,7,8,9,10}\n",
    "#step2: Removing the element from the set using the remove() function \n",
    "set1.remove(5)\n",
    "# printing the modified set\n",
    "print(\"Set:- \",set1)\n"
   ]
  },
  {
   "cell_type": "code",
   "execution_count": 10,
   "id": "ee85f0d9-c3b3-4634-a846-75cdcd132424",
   "metadata": {},
   "outputs": [
    {
     "name": "stdin",
     "output_type": "stream",
     "text": [
      "Enter the element you want to check its existence:-  8\n"
     ]
    },
    {
     "name": "stdout",
     "output_type": "stream",
     "text": [
      "Yes! the element 8 exist in {1, 2, 3, 4, 5, 6, 7, 8, 9, 10}\n"
     ]
    }
   ],
   "source": [
    "\"\"\"Q4. Check if an element exists in a set\"\"\"\n",
    "\n",
    "#step1: creating the set\n",
    "set1={1,2,3,4,5,6,7,8,9,10}\n",
    "#step2: checking the existence of  the element in the set using the conditional statement\n",
    "n=int(input(\"Enter the element you want to check its existence:- \"))\n",
    "if n in set1:\n",
    "    print(f\"Yes! the element {n} exist in {set1}\")\n",
    "else:\n",
    "    print(f\"NO! the element {n} does not exist in {set1}\")\n"
   ]
  },
  {
   "cell_type": "code",
   "execution_count": 11,
   "id": "22231e7a-7153-4516-b5f1-39e8edce810c",
   "metadata": {},
   "outputs": [
    {
     "name": "stdout",
     "output_type": "stream",
     "text": [
      "The length of the {1, 2, 3, 4, 5, 6, 7, 8, 9, 10} is 10\n"
     ]
    }
   ],
   "source": [
    "\"\"\"Q5. Find the length of a set without using the len() function\"\"\"\n",
    "\n",
    "#step1: creating the set\n",
    "set1={1,2,3,4,5,6,7,8,9,10}\n",
    "# initialising the counter variable to get the count of each element in a set\n",
    "counter=0\n",
    "# '_'(underscore) is used to iterate through each element\n",
    "for _ in set1:\n",
    "    counter+=1\n",
    "# it will give the length of the set\n",
    "print(f\"The length of the {set1} is {counter}\")\n"
   ]
  },
  {
   "cell_type": "code",
   "execution_count": 12,
   "id": "58457d21-8570-4020-92ef-f5326a3ecd9e",
   "metadata": {},
   "outputs": [
    {
     "name": "stdout",
     "output_type": "stream",
     "text": [
      "Empty set:-  set()\n"
     ]
    }
   ],
   "source": [
    "\"\"\"Q6. Clear all elements from a set\"\"\"\n",
    "\n",
    "#step1: creating the set\n",
    "set1={1,2,3,4,5,6,7,8,9,10}\n",
    "\n",
    "# clearing the elements from the set using clear() function\n",
    "set1.clear()\n",
    "\n",
    "# printing the set\n",
    "print(\"Empty set:- \",set1)\n"
   ]
  },
  {
   "cell_type": "code",
   "execution_count": 13,
   "id": "44812211-357d-45c6-b0eb-98f31084e94a",
   "metadata": {},
   "outputs": [
    {
     "name": "stdout",
     "output_type": "stream",
     "text": [
      "Set of even numbers from 1 to 10:-  {2, 4, 6, 8, 10}\n"
     ]
    }
   ],
   "source": [
    "\"\"\"Q7. Create a set of even numbers from 1 to 10\"\"\"\n",
    "\n",
    "# first of all for doing that we have to do the set comprehension\n",
    "set1={i for i in range(1,11) if i%2==0}\n",
    "# printing the set containing even numbers from 1 to 10 \n",
    "print(\"Set of even numbers from 1 to 10:- \",set1)\n"
   ]
  },
  {
   "cell_type": "code",
   "execution_count": 14,
   "id": "d1a88fb0-b80a-4724-8c3b-bfbe6eee79f1",
   "metadata": {},
   "outputs": [
    {
     "name": "stdout",
     "output_type": "stream",
     "text": [
      "Set of odd numbers from 1 to 10:-  {1, 3, 5, 7, 9}\n"
     ]
    }
   ],
   "source": [
    "\"\"\"Q8. Create a set of odd numbers from 1 to 10\"\"\"\n",
    "\n",
    "# first of all for doing that we have to do the set comprehension\n",
    "set1={i for i in range(1,11) if i%2!=0}\n",
    "# printing the set containing odd numbers from 1 to 10 \n",
    "print(\"Set of odd numbers from 1 to 10:- \",set1)\n"
   ]
  },
  {
   "cell_type": "code",
   "execution_count": 15,
   "id": "11c44d53-e688-4421-9887-f77fda5a987b",
   "metadata": {},
   "outputs": [
    {
     "name": "stdout",
     "output_type": "stream",
     "text": [
      "The union of set1:- {1, 2, 3, 4, 5} and set2:- {4, 5, 6, 7, 8, 9, 10} is {1, 2, 3, 4, 5, 6, 7, 8, 9, 10}\n"
     ]
    }
   ],
   "source": [
    "\"\"\"Q9. Find the union of two sets\"\"\"\n",
    "\n",
    "#step1: creating the two sets\n",
    "set1={1,2,3,4,5}\n",
    "set2={4,5,6,7,8,9,10}\n",
    "# finding the union(means unique elements from both the set) by union() function\n",
    "set3=set1.union(set2)\n",
    "# printing the sets after performing the union\n",
    "print(f\"The union of set1:- {set1} and set2:- {set2} is {set3}\")"
   ]
  },
  {
   "cell_type": "code",
   "execution_count": 16,
   "id": "8e9a771c-8366-42d0-8131-ac4a036ca345",
   "metadata": {},
   "outputs": [
    {
     "name": "stdout",
     "output_type": "stream",
     "text": [
      "The intersection of set1:- {1, 2, 3, 4, 5} and set2:- {4, 5, 6, 7, 8, 9, 10} is {4, 5}\n"
     ]
    }
   ],
   "source": [
    "\"\"\"Q10. Find the intersection of two sets\"\"\"\n",
    "\n",
    "#step1: creating the two sets\n",
    "set1={1,2,3,4,5}\n",
    "set2={4,5,6,7,8,9,10}\n",
    "# finding the intersection(only common elements in both set) by intersection() function\n",
    "set3=set1.intersection(set2)\n",
    "# printing the set after performing the intersection()\n",
    "print(f\"The intersection of set1:- {set1} and set2:- {set2} is {set3}\")\n"
   ]
  },
  {
   "cell_type": "code",
   "execution_count": 17,
   "id": "8de98b4c-47b8-436b-90af-ea112011857a",
   "metadata": {},
   "outputs": [
    {
     "name": "stdout",
     "output_type": "stream",
     "text": [
      "The difference between the set1:- {1, 2, 3, 4, 5} and set2:- {4, 5, 6, 7, 8, 9, 10} is:- {1, 2, 3}\n"
     ]
    }
   ],
   "source": [
    "\"\"\"Q11. Find the difference between two sets\"\"\"\n",
    "\n",
    "#step1: creating the sets\n",
    "set1={1,2,3,4,5}\n",
    "set2={4,5,6,7,8,9,10}\n",
    "# finding the differenece between the two sets using difference() function\n",
    "set3=set1.difference(set2)\n",
    "# printing the differenece between the two sets\n",
    "print(f\"The difference between the set1:- {set1} and set2:- {set2} is:- {set3}\")\n"
   ]
  },
  {
   "cell_type": "code",
   "execution_count": 18,
   "id": "a3f9145e-f9e2-4b80-aa59-19eeb7132a87",
   "metadata": {},
   "outputs": [
    {
     "name": "stdout",
     "output_type": "stream",
     "text": [
      "Does set1:- {1, 2, 3} is subset of set2:- {1, 2, 3, 4, 5, 6}:-  True\n",
      "Does set2:- {1, 2, 3, 4, 5, 6} is subset of set1:- {1, 2, 3}:-  False\n"
     ]
    }
   ],
   "source": [
    "\"\"\"Q12. Check if a set is a subset of another set\"\"\"\n",
    "\n",
    "# craeting the two sets\n",
    "set1={1,2,3}\n",
    "set2={1,2,3,4,5,6}\n",
    "\n",
    "# checking the subset with both the set using issubset() function\n",
    "set1_sub_set2=set1.issubset(set2)\n",
    "set2_sub_set1=set2.issubset(set1)\n",
    "\n",
    "# printing the sets are subset of each other not\n",
    "print(f\"Does set1:- {set1} is subset of set2:- {set2}:- \",set1_sub_set2)\n",
    "print(f\"Does set2:- {set2} is subset of set1:- {set1}:- \",set2_sub_set1)"
   ]
  },
  {
   "cell_type": "code",
   "execution_count": 21,
   "id": "d24bbf49-0a2e-456b-9e36-6eec960e87c1",
   "metadata": {},
   "outputs": [
    {
     "name": "stdout",
     "output_type": "stream",
     "text": [
      "Does set1:- {1, 2, 3} is superset of set2:- {1, 2, 3, 4, 5, 6}:-  False\n",
      "Does set2:- {1, 2, 3, 4, 5, 6} is superset of set1:- {1, 2, 3}:-  True\n"
     ]
    }
   ],
   "source": [
    "\"\"\"Q13. Check if a set is a superset of another set\"\"\"\n",
    "\n",
    "# creating the two set\n",
    "set1={1,2,3}\n",
    "set2={1,2,3,4,5,6}\n",
    "\"\"\" A superset in math can be defined as a set of elements containing all\n",
    "of the elements of another set.\"\"\"\n",
    "\n",
    "# finding the superset between both set using issuperset() function\n",
    "set1_sup_set2=set1.issuperset(set2)\n",
    "set2_sup_set1=set2.issuperset(set1)\n",
    "\n",
    "# printing the sets are subset of each other not\n",
    "print(f\"Does set1:- {set1} is superset of set2:- {set2}:- \",set1_sup_set2)\n",
    "print(f\"Does set2:- {set2} is superset of set1:- {set1}:- \",set2_sup_set1)"
   ]
  },
  {
   "cell_type": "code",
   "execution_count": 22,
   "id": "f15429ec-42c3-405d-bb0a-ce87df3e27be",
   "metadata": {},
   "outputs": [
    {
     "name": "stdout",
     "output_type": "stream",
     "text": [
      "Set:-  {1, 2, 3, 4, 5, 6, 7, 8, 9, 10}\n"
     ]
    }
   ],
   "source": [
    "\"\"\"Q14. Create a set from a list\"\"\"\n",
    "\n",
    "#step1: creating the list\n",
    "lis=[1,2,3,4,5,6,7,8,9,10,1,3,6,8,9]\n",
    "# then typecasting the list into the set\n",
    "seti=set(lis)\n",
    "# printing the set\n",
    "# the set only prints the unique elements\n",
    "print(\"Set:- \",seti)"
   ]
  },
  {
   "cell_type": "code",
   "execution_count": 23,
   "id": "4a705cc3-8626-4717-a173-b3f2a8454d64",
   "metadata": {},
   "outputs": [
    {
     "name": "stdout",
     "output_type": "stream",
     "text": [
      "List:-  [1, 2, 3, 4, 5, 6, 7, 8, 9, 10]\n"
     ]
    }
   ],
   "source": [
    "\"\"\"Q15. Convert a set to a list\"\"\"\n",
    "\n",
    "# creating the set\n",
    "set1={1,2,3,4,5,6,7,8,9,10,1,3,4,6,7,9,8}\n",
    "# then typecasting the set into list\n",
    "lis=list(set1)\n",
    "# printing the list \n",
    "print(\"List:- \",lis)\n"
   ]
  },
  {
   "cell_type": "code",
   "execution_count": 24,
   "id": "e023cf73-794e-403f-b8ce-0e4e924abdd6",
   "metadata": {},
   "outputs": [
    {
     "name": "stdout",
     "output_type": "stream",
     "text": [
      "Random Element:-  9\n",
      "Modified set:-  {1, 2, 3, 4, 5, 6, 7, 8, 10}\n"
     ]
    }
   ],
   "source": [
    "\"\"\"Q16. Remove a random element from a set\"\"\"\n",
    "\n",
    "#step1: importing the library random for choosing a random number\n",
    "import random\n",
    "#step2: we have to create an set\n",
    "set1={1,2,3,4,5,6,7,8,9,10}\n",
    "# now choosing the random element from the list(set-->list)\n",
    "rand_element=random.choice(list(set1))\n",
    "# then removing the rand element from the set set1\n",
    "set1.remove(rand_element)\n",
    "# printing the set after removing the random element\n",
    "print(\"Random Element:- \",rand_element)\n",
    "print(\"Modified set:- \",set1)\n"
   ]
  },
  {
   "cell_type": "code",
   "execution_count": 25,
   "id": "803b2c9c-3927-4070-87b4-b9e4fcc346a4",
   "metadata": {},
   "outputs": [
    {
     "name": "stdout",
     "output_type": "stream",
     "text": [
      "Modified set:-  {3, 4, 5, 6, 7, 8, 9, 10, 11}\n"
     ]
    }
   ],
   "source": [
    "\"\"\"Q17. Pop an element from a set\"\"\"\n",
    "\n",
    "#step1: creating the set\n",
    "set1={2,3,4,5,6,7,8,9,10,11}\n",
    "#step2: The pop() method removes a random item from the set.\n",
    "set1.pop()\n",
    "# printing the set after removing the element by its index\n",
    "print(\"Modified set:- \",set1)\n"
   ]
  },
  {
   "cell_type": "code",
   "execution_count": 26,
   "id": "669d0b48-3766-4940-8e30-d1670bd9be28",
   "metadata": {},
   "outputs": [
    {
     "name": "stdout",
     "output_type": "stream",
     "text": [
      "There is no common elements between both the sets.\n"
     ]
    }
   ],
   "source": [
    "\"\"\"Q18. Check if two sets have no elements in common\"\"\"\n",
    "\n",
    "# Step 1: creating two sets\n",
    "set1 = {1, 2, 3, 4}\n",
    "set2 = {5, 6, 7, 8}\n",
    "\n",
    "# Step 2: Check if the intersection of the two sets is empty\n",
    "# The intersection is the set of elements which are common to both sets\n",
    "common_elements = set1.intersection(set2)\n",
    "\n",
    "# Step 3: Check if the common_elements set is empty\n",
    "if not common_elements:\n",
    "    print(\"There is no common elements between both the sets.\")\n",
    "else:\n",
    "    print(\"There is common elements between both the sets:\", common_elements)\n"
   ]
  },
  {
   "cell_type": "code",
   "execution_count": 27,
   "id": "cf0fb61f-672d-4947-9ce7-fa61484d1f0d",
   "metadata": {},
   "outputs": [
    {
     "name": "stdout",
     "output_type": "stream",
     "text": [
      "{1, 2, 5, 6, 7, 9}\n"
     ]
    }
   ],
   "source": [
    "\"\"\"Q19. Find the symmetric difference between two sets\"\"\"\n",
    "\n",
    "\"\"\"\n",
    "symmetric_difference() method returns a set that contains all items from both set,\n",
    "but not the items that are present in both sets.\n",
    "\"\"\"\n",
    "\n",
    "#step1: creating the two set\n",
    "set1 = {1, 2, 3, 4, 5}\n",
    "set2 = {6, 7, 3, 9, 4}\n",
    "# step2: finding the symmetric difference between the sets using symmetric_difference() function\n",
    "result=set1.symmetric_difference(set2)\n",
    "# printing the result\n",
    "print(result)\n"
   ]
  },
  {
   "cell_type": "code",
   "execution_count": 28,
   "id": "fef1dc2d-6eac-409b-9996-38e8a063f59d",
   "metadata": {},
   "outputs": [
    {
     "name": "stdout",
     "output_type": "stream",
     "text": [
      "Set1:-  {1, 2, 3, 4}\n",
      "Set2:-  {8, 5, 6, 7}\n",
      "updated set:-  {1, 2, 3, 4, 5, 6, 7, 8}\n"
     ]
    }
   ],
   "source": [
    "\"\"\"Q20. Update a set with elements from another set\"\"\"\n",
    "\n",
    "# creating the two sets\n",
    "set1={1,2,3,4}\n",
    "set2={5,6,7,8}\n",
    "print(\"Set1:- \",set1)\n",
    "print(\"Set2:- \",set2)\n",
    "\n",
    "# updating the elements of set2 in the set1 using update() function\n",
    "set1.update(set2)\n",
    "# printing the updated set\n",
    "print(\"updated set:- \",set1)\n"
   ]
  },
  {
   "cell_type": "code",
   "execution_count": 29,
   "id": "7d603e90-69b6-48db-a07f-eb304ab9058c",
   "metadata": {},
   "outputs": [
    {
     "name": "stdout",
     "output_type": "stream",
     "text": [
      "Set of first 5 prime numbers is:-  {2, 3, 5, 7, 11}\n"
     ]
    }
   ],
   "source": [
    "\"\"\"Q21. Create a set of the first 5 prime numbers\"\"\"\n",
    "\n",
    "#step1: creating the list\n",
    "lis=[]\n",
    "# then starting the  forloop having range(2,50) because 0 and 1 are not prime numbers\n",
    "for i in range(2,50):\n",
    "    # then create another loop that j in range(2,i)\n",
    "    for j in range(2,i):\n",
    "        # condition if i%j==0 then break because the  number(i) becomes 0 by doing the modulus with the numbers between range(2,i) is not a prime number  \n",
    "        if(i%j==0):\n",
    "            break\n",
    "      # this condition (i%j!=0) then the i is prime      \n",
    "    else:\n",
    "        lis.append(i)   # appending the prime number in a list\n",
    "        \n",
    "set1=set(lis[:5]) #  '[:5] ' because we only want the first 5 prime numbers\n",
    "# printing the set of first five prime numbers\n",
    "print(\"Set of first 5 prime numbers is:- \",set1)\n",
    "        \n"
   ]
  },
  {
   "cell_type": "code",
   "execution_count": 30,
   "id": "fe9c99dd-a900-46db-96e8-93656f98d0ad",
   "metadata": {},
   "outputs": [
    {
     "name": "stdout",
     "output_type": "stream",
     "text": [
      "The sets are identical.\n"
     ]
    }
   ],
   "source": [
    "\"\"\"Q22. Check if two sets are identical\"\"\"\n",
    "\n",
    "# Step 1: creating two sets\n",
    "set1 = {1, 2, 3, 4, 5}\n",
    "set2 = {3, 1, 5, 2, 4}  # order of element not matters in the sets\n",
    "\n",
    "# Step 2: Check if the sets are identical using the `==` equals to operator\n",
    "# Sets are unordered\n",
    "# The `==` operator compares the content of the sets.\n",
    "if set1 == set2:\n",
    "    print(\"The sets are identical.\")\n",
    "else:\n",
    "    print(\"The sets are not identical.\")\n"
   ]
  },
  {
   "cell_type": "code",
   "execution_count": 31,
   "id": "8f233c1b-4f80-4a1e-8699-5c48df9b10fb",
   "metadata": {},
   "outputs": [
    {
     "name": "stdout",
     "output_type": "stream",
     "text": [
      "Frozen set:-  frozenset({1, 2, 3, 4, 5})\n"
     ]
    }
   ],
   "source": [
    "\"\"\"Q23. Create a frozen set\"\"\"\n",
    "\n",
    "# create a list of element\n",
    "lis=[1,2,3,4,5]\n",
    "# then convert the list into the frozenset using the  frozenset()\n",
    "froz=frozenset(lis)\n",
    "# printing the frozenset\n",
    "print(\"Frozen set:- \",froz)\n"
   ]
  },
  {
   "cell_type": "code",
   "execution_count": 32,
   "id": "063cfb37-05ed-4c54-88e3-452802237660",
   "metadata": {},
   "outputs": [
    {
     "name": "stdout",
     "output_type": "stream",
     "text": [
      "set1:- {1, 2, 3, 4} is disjoint with set2:- {8, 5, 6, 7} :-  True\n",
      "set1:- {1, 2, 3, 4} is disjoint with set2:- {2, 4} :-  False\n"
     ]
    }
   ],
   "source": [
    "\"\"\"Q24. Check if a set is disjoint with another set\"\"\"\n",
    "\n",
    "# Two sets are said to be disjoint when their intersection is null\n",
    "\n",
    "#step3: creating the sets\n",
    "set1={1,2,3,4}\n",
    "set2={5,6,7,8}\n",
    "set3={2,4}\n",
    "\n",
    "# checking the disjoint between the sets using isdijoint() function\n",
    "set1_dj_set2=set1.isdisjoint(set2)\n",
    "set1_dj_set3=set1.isdisjoint(set3)\n",
    "\n",
    "# printing the result\n",
    "print(f\"set1:- {set1} is disjoint with set2:- {set2} :- \",set1_dj_set2)\n",
    "print(f\"set1:- {set1} is disjoint with set2:- {set3} :- \",set1_dj_set3)\n"
   ]
  },
  {
   "cell_type": "code",
   "execution_count": 33,
   "id": "b737f105-ba78-4777-addb-94159c28f4ae",
   "metadata": {},
   "outputs": [
    {
     "name": "stdout",
     "output_type": "stream",
     "text": [
      "Set:-  {1, 4, 9, 16, 25}\n"
     ]
    }
   ],
   "source": [
    "\"\"\"Q25. Create a set of squares of numbers from 1 to 5\"\"\"\n",
    "\n",
    "# step1: creatin the set comprehension for doing squares of number 1 to 5\n",
    "set1={i**2 for i in range(1,6)}\n",
    "# printing the set of squares of the number 1 to 5\n",
    "print(\"Set:- \",set1)\n"
   ]
  },
  {
   "cell_type": "code",
   "execution_count": 34,
   "id": "35c575bb-3c38-4438-8308-58e052a234f1",
   "metadata": {},
   "outputs": [
    {
     "name": "stdout",
     "output_type": "stream",
     "text": [
      "Original set:-  {1, 2, 3, 4, 5, 6, 7, 8, 9, 10, 11, 12, 13, 14, 15, 16, 17, 18, 19, 20}\n",
      "filtered even number set:-  {2, 4, 6, 8, 10, 12, 14, 16, 18, 20}\n"
     ]
    }
   ],
   "source": [
    "\"\"\"Q26. Filter out all even numbers from a set\"\"\"\n",
    "\n",
    "# creating the set\n",
    "set1={1,2,3,4,5,6,7,8,9,10,11,12,13,14,15,16,17,18,19,20}\n",
    "# then creating the empty list to append the filtered even numbers from the set\n",
    "lis=[]\n",
    "for i in set1:\n",
    "    if i%2==0:\n",
    "        lis.append(i)\n",
    "# then typecast the list into the set\n",
    "my_set=set(lis)\n",
    "# then print the set of filtered evene numbers from set1\n",
    "print(\"Original set:- \",set1)\n",
    "print(\"filtered even number set:- \",my_set)"
   ]
  },
  {
   "cell_type": "code",
   "execution_count": 35,
   "id": "e55d44dc-2ed1-4fdc-9807-9f6326976645",
   "metadata": {},
   "outputs": [
    {
     "name": "stdout",
     "output_type": "stream",
     "text": [
      "Original set:-  {1, 2, 3, 4, 5, 6, 7, 8, 9, 10}\n",
      "Modified set:-  {2, 4, 6, 8, 10, 12, 14, 16, 18, 20}\n"
     ]
    }
   ],
   "source": [
    "\"\"\"Q27. Multiply all elements in a set by 2\"\"\"\n",
    "\n",
    "# creating the set\n",
    "set1={1,2,3,4,5,6,7,8,9,10}\n",
    "# performing the set comprehension for multiplying each element of set with 2\n",
    "new_set={i*2 for i in set1}\n",
    "# printing the original and modified sets\n",
    "print(\"Original set:- \",set1)\n",
    "print(\"Modified set:- \",new_set)\n"
   ]
  },
  {
   "cell_type": "code",
   "execution_count": 37,
   "id": "dd4e8185-381e-47f0-9ceb-a0a66b0abcfe",
   "metadata": {},
   "outputs": [
    {
     "name": "stdin",
     "output_type": "stream",
     "text": [
      "Enter the range of the random number:-  10\n"
     ]
    },
    {
     "name": "stdout",
     "output_type": "stream",
     "text": [
      "Set of 10 random number is:-  {160, 192, 165, 43, 111, 143, 49, 116, 181, 157}\n"
     ]
    }
   ],
   "source": [
    "\"\"\"Q28. Create a set of random numbers\"\"\"\n",
    "\n",
    "# importinng the librrary 'random'\n",
    "import random\n",
    "# taking the user input that how many random numbers we want\n",
    "n=int(input(\"Enter the range of the random number:- \"))\n",
    "# creating the set called random_num_set\n",
    "random_num_set=set()\n",
    "# creating a loop which will iterate through each number in a range\n",
    "for _ in range(n):\n",
    "    random_num=random.randint(1,200)\n",
    "    # now adding the random numbers in a set\n",
    "    random_num_set.add(random_num)\n",
    "# printing the  set of random number\n",
    "print(f\"Set of {n} random number is:- \",random_num_set) \n"
   ]
  },
  {
   "cell_type": "code",
   "execution_count": 38,
   "id": "85328ea2-81b5-434c-b7ee-9d9daceec113",
   "metadata": {},
   "outputs": [
    {
     "name": "stdout",
     "output_type": "stream",
     "text": [
      "The set is empty\n"
     ]
    }
   ],
   "source": [
    "\"\"\"Q29. Check if a set is empty\"\"\"\n",
    "\n",
    "#step1: creating an empty set\n",
    "set1=set()\n",
    "\n",
    "# giving the conditional statement to check our set is empty or not\n",
    "if not set1:\n",
    "    print(\"The set is empty\")\n",
    "else:\n",
    "    print(\"The set is not empty\")\n"
   ]
  },
  {
   "cell_type": "code",
   "execution_count": 39,
   "id": "a00617bb-0e0c-4bef-822e-ba5059edc378",
   "metadata": {},
   "outputs": [
    {
     "name": "stdout",
     "output_type": "stream",
     "text": [
      "Nested Set: {frozenset({11, 12, 13, 14, 15}), frozenset({21, 22, 23, 24, 25})}\n"
     ]
    }
   ],
   "source": [
    "\"\"\"Q30. Create a nested set (hint: use frozenset)\"\"\"\n",
    "\n",
    "# Step 1: Create the two sets\n",
    "set1 = {11,12,13,14,15}\n",
    "set2 = {21,22,23,24,25}\n",
    "\n",
    "# Step 2: Create frozenset for the two sets\n",
    "frozen_set1 = frozenset(set1)\n",
    "frozen_set2 = frozenset(set2)\n",
    "\n",
    "# Step 3: Create the nested set using the frozensets\n",
    "nested_sets = {frozen_set1, frozen_set2}\n",
    "\n",
    "# Print the nested set\n",
    "print(\"Nested Set:\", nested_sets)\n"
   ]
  },
  {
   "cell_type": "code",
   "execution_count": 40,
   "id": "e3f26909-a64a-471b-8834-513ee3a37d02",
   "metadata": {},
   "outputs": [
    {
     "name": "stdout",
     "output_type": "stream",
     "text": [
      "Modified set:-  {1, 2, 3, 4, 5, 7, 8, 9, 10}\n"
     ]
    }
   ],
   "source": [
    "\"\"\"Q31. Remove an element from a set using the discard method\"\"\"\n",
    "\n",
    "#step1: creating the set\n",
    "set1={1,2,3,4,5,6,7,8,9,10}\n",
    "# removing the  element from the set using the discard() function\n",
    "# discard() will remove the element if it is exist in the set if it does not exist it will not raise an error\n",
    "set1.discard(6)\n",
    "# printing the modified set\n",
    "print(\"Modified set:- \",set1)\n"
   ]
  },
  {
   "cell_type": "code",
   "execution_count": 41,
   "id": "1de3ee19-5694-42dc-b429-a8ca325cc587",
   "metadata": {},
   "outputs": [
    {
     "name": "stdout",
     "output_type": "stream",
     "text": [
      "Set 1: {1, 2, 3, 4, 5, 6, 7}\n",
      "Set 2: {4, 5, 6, 7, 8, 9, 10}\n",
      "the set1 is subset of set2:-  False\n",
      "the set2 is superset of set1:-  False\n",
      "Intersection:-  {4, 5, 6, 7}\n",
      "Union:-  {1, 2, 3, 4, 5, 6, 7, 8, 9, 10}\n",
      "Elements in set1 but not in set2:-  {1, 2, 3}\n",
      "Elements in set2 but not in set1:-  {8, 9, 10}\n"
     ]
    }
   ],
   "source": [
    "\"\"\"Q32. Compare two sets\"\"\"\n",
    "\n",
    "# Step 1: Define two sets\n",
    "set1 = {1, 2, 3, 4, 5, 6, 7}\n",
    "set2 = {4, 5, 6, 7, 8, 9, 10}\n",
    "\n",
    "# Step 2: Use set operations to compare the sets\n",
    "# Check if set1 is a subset of set2\n",
    "is_subset = set1.issubset(set2)\n",
    "\n",
    "# Check if set2 is a subset of set1\n",
    "is_superset = set1.issuperset(set2)\n",
    "\n",
    "# Find the intersection of the sets\n",
    "intersection = set1.intersection(set2)\n",
    "\n",
    "# Find the union of the sets\n",
    "union = set1.union(set2)\n",
    "\n",
    "# Find the elements that are in set1 but not in set2\n",
    "difference1 = set1.difference(set2)\n",
    "\n",
    "# Find the elements that are in set2 but not in set1\n",
    "difference2 = set2.difference(set1)\n",
    "\n",
    "# Step 3: Print the results\n",
    "print(\"Set 1:\", set1)\n",
    "print(\"Set 2:\", set2)\n",
    "print(\"the set1 is subset of set2:- \", is_subset)\n",
    "print(\"the set2 is superset of set1:- \", is_superset)\n",
    "print(\"Intersection:- \", intersection)\n",
    "print(\"Union:- \", union)\n",
    "print(\"Elements in set1 but not in set2:- \", difference1)\n",
    "print(\"Elements in set2 but not in set1:- \", difference2)\n"
   ]
  },
  {
   "cell_type": "code",
   "execution_count": 42,
   "id": "1966db19-7c27-417e-befd-c4809bc85db1",
   "metadata": {},
   "outputs": [
    {
     "name": "stdin",
     "output_type": "stream",
     "text": [
      "Enter the string:-  aftab\n"
     ]
    },
    {
     "name": "stdout",
     "output_type": "stream",
     "text": [
      "The set from the string:-  {'f', 't', 'b', 'a'}\n"
     ]
    }
   ],
   "source": [
    "\"\"\"Q33. Create a set from a string\"\"\"\n",
    "\n",
    "# step1: taking the string input from a user\n",
    "string=input(\"Enter the string:- \")\n",
    "# creating the set a pass a parametere string in it\n",
    "char_set=set(string)\n",
    "# printing the set of the character\n",
    "print(\"The set from the string:- \",char_set)\n"
   ]
  },
  {
   "cell_type": "code",
   "execution_count": 43,
   "id": "cd4cf224-1ca1-43ff-a42b-f1e127bc17bb",
   "metadata": {},
   "outputs": [
    {
     "name": "stdout",
     "output_type": "stream",
     "text": [
      "Set of the integer:-  {1, 2, 3, 4, 5, 7}\n"
     ]
    }
   ],
   "source": [
    "\"\"\"Q34. Convert a set of strings to a set of integers\"\"\"\n",
    "\n",
    "# creating the set of strings to convert it in a integer\n",
    "str_set={\"1\",\"2\",\"3\",\"4\",\"5\",\"7\"}\n",
    "# doing the set comprehension to convert the set of strings to a integer\n",
    "new_set={int(i) for i in str_set}\n",
    "# printing the set of the integer\n",
    "print(\"Set of the integer:- \",new_set)\n"
   ]
  },
  {
   "cell_type": "code",
   "execution_count": 44,
   "id": "ba966317-584c-42b2-ae80-12a2ce8b0281",
   "metadata": {},
   "outputs": [
    {
     "name": "stdout",
     "output_type": "stream",
     "text": [
      "Set of the strings:-  {'7', '3', '5', '1', '2', '4'}\n"
     ]
    }
   ],
   "source": [
    "\"\"\"Q35. Convert a set of integers to a set of strings\"\"\"\n",
    "\n",
    "# creating the set of integers to convert it in a string\n",
    "str_set={1, 2, 3, 4, 5, 7}\n",
    "# doing the set comprehension to convert the set of integers to a strings\n",
    "new_set={str(i) for i in str_set}\n",
    "# printing the set of the integer\n",
    "print(\"Set of the strings:- \",new_set)\n"
   ]
  },
  {
   "cell_type": "code",
   "execution_count": 45,
   "id": "d2c12858-5dd1-415d-a6f2-1c1f11d766fb",
   "metadata": {},
   "outputs": [
    {
     "name": "stdout",
     "output_type": "stream",
     "text": [
      "Set:-  {1, 2, 3, 4, 5, 6, 7, 8, 9, 10}\n"
     ]
    }
   ],
   "source": [
    "\"\"\"Q36. Create a set from a tuple\"\"\"\n",
    "\n",
    "# creating the tuple\n",
    "tupl=(1,2,3,4,5,6,7,8,9,10)\n",
    "# typecasting the tuple into the set\n",
    "set1=set(tupl)\n",
    "# printing the set\n",
    "print(\"Set:- \",set1)\n"
   ]
  },
  {
   "cell_type": "code",
   "execution_count": 47,
   "id": "3088f3bc-3e65-4049-8576-e72e7c4653b7",
   "metadata": {},
   "outputs": [
    {
     "name": "stdout",
     "output_type": "stream",
     "text": [
      "Tuple:-  (1, 2, 3, 4, 5, 6, 7, 8, 9, 10)\n"
     ]
    }
   ],
   "source": [
    "\"\"\"Q37. Convert a set to a tuple\"\"\"\n",
    "\n",
    "# creating the set\n",
    "set1={1, 2, 3, 4, 5, 6, 7, 8, 9, 10}\n",
    "# typecasting the set into the tuple\n",
    "tupl=tuple(set1)\n",
    "# printing the tuple\n",
    "print(\"Tuple:- \",tupl)\n",
    "\n",
    "\n"
   ]
  },
  {
   "cell_type": "code",
   "execution_count": 48,
   "id": "d7d42d44-735d-44be-bfea-ad2c99f45cad",
   "metadata": {},
   "outputs": [
    {
     "name": "stdout",
     "output_type": "stream",
     "text": [
      "The maximum value from the set {112, 585345, 53645747457, 213123, 9780, 987} is:53645747457\n"
     ]
    }
   ],
   "source": [
    "\"\"\"Q38. Find the maximum value in a set\"\"\"\n",
    "\n",
    "# creating the set\n",
    "set1={112,585345,987,213123,53645747457,9780}\n",
    "# checking the maximum value from the set using max()\n",
    "max_value=max(set1)\n",
    "# printing the maximum value\n",
    "print(f\"The maximum value from the set {set1} is:{max_value}\")\n"
   ]
  },
  {
   "cell_type": "code",
   "execution_count": 49,
   "id": "418f4fbf-90a6-4d65-8fbb-61c86200d8e6",
   "metadata": {},
   "outputs": [
    {
     "name": "stdout",
     "output_type": "stream",
     "text": [
      "The minimum value from the set {112, 585345, 53645747457, 213123, 9780, 987} is:112\n"
     ]
    }
   ],
   "source": [
    "\"\"\"Q39. Find the minimum value in a set\"\"\"\n",
    "\n",
    "# creating the set\n",
    "set1={112,585345,987,213123,53645747457,9780}\n",
    "# checking the minimum value from the set using max()\n",
    "min_value=min(set1)\n",
    "# printing the minimum value\n",
    "print(f\"The minimum value from the set {set1} is:{min_value}\")\n"
   ]
  },
  {
   "cell_type": "code",
   "execution_count": 51,
   "id": "4961c986-7297-4b1d-a8a9-045e5cb96b03",
   "metadata": {},
   "outputs": [
    {
     "name": "stdin",
     "output_type": "stream",
     "text": [
      "Enter a comma-separated list of values:  a f t a b\n"
     ]
    },
    {
     "name": "stdout",
     "output_type": "stream",
     "text": [
      "Set created from user input: {'a f t a b'}\n"
     ]
    }
   ],
   "source": [
    "\"\"\"Q40. Create a set from user input\"\"\"\n",
    "\n",
    "# Get input from the user\n",
    "user_input = input(\"Enter a comma-separated list of values: \")\n",
    "\n",
    "# Split the input string into a list using a comma as the separator\n",
    "input_list = user_input.split(',')\n",
    "\n",
    "# Create a set from the list\n",
    "user_set = set(input_list)\n",
    "\n",
    "# Display the resulting set\n",
    "print(\"Set created from user input:\", user_set)\n"
   ]
  },
  {
   "cell_type": "code",
   "execution_count": 52,
   "id": "23d6253f-3f26-4627-be33-3a099a1aff31",
   "metadata": {},
   "outputs": [
    {
     "name": "stdout",
     "output_type": "stream",
     "text": [
      "intersection is not empty\n"
     ]
    }
   ],
   "source": [
    "\"\"\"Q41. Check if the intersection of two sets is empty\"\"\"\n",
    "\n",
    "# creating the two sets\n",
    "set1={1,2,3,4,5}\n",
    "set2={3,4,5,6,7,8}\n",
    "\n",
    "result=set1.intersection(set2)  # finding the intersection between both the sets\n",
    "\n",
    "if not result:   # if result is empty\n",
    "    print(\"intersection is empty\")\n",
    "else:             # if result is not empty\n",
    "    print(\"intersection is not empty\")\n"
   ]
  },
  {
   "cell_type": "code",
   "execution_count": 53,
   "id": "2e2212c3-8c59-4725-b59e-fdf2812ff561",
   "metadata": {},
   "outputs": [
    {
     "name": "stdout",
     "output_type": "stream",
     "text": [
      "The set of first five fibonacci numbers is:-  {0, 1, 2, 3, 5}\n"
     ]
    }
   ],
   "source": [
    "\"\"\"Q42. Create a set of the first 5 Fibonacci numbers\"\"\"\n",
    "\n",
    "# step1: creating the list of first two fibonacci numbers\n",
    "fib_lis=[0,1]\n",
    "for i in range(2,6):  # iterating the i in the range of(2,6)\n",
    "    next_fib=fib_lis[i-1]+fib_lis[i-2] # storing the next fib numbers in the next fib\n",
    "    fib_lis.append(next_fib)  # appending the next fib to fib lis\n",
    "fib_set=set(fib_lis)   # typecasting the list into the set\n",
    "print(\"The set of first five fibonacci numbers is:- \",fib_set)\n"
   ]
  },
  {
   "cell_type": "code",
   "execution_count": 54,
   "id": "c12cd54c-2ec2-4a98-9259-66f90d2ff64b",
   "metadata": {},
   "outputs": [
    {
     "name": "stdout",
     "output_type": "stream",
     "text": [
      "Original List:-  [1, 2, 3, 4, 5, 66, 7, 8, 9, 10, 2, 5, 7, 8, 9, 1, 4, 2, 5, 7, 8, 9, 10]\n",
      "Unique List:-  [1, 2, 3, 4, 5, 66, 7, 8, 9, 10]\n"
     ]
    }
   ],
   "source": [
    "\"\"\"Q43. Remove duplicates from a list using sets\"\"\"\n",
    "\n",
    "# creating the list\n",
    "lis=[1,2,3,4,5,66,7,8,9,10,2,5,7,8,9,1,4,2,5,7,8,9,10]\n",
    "# removing the duplicates from the list using the set\n",
    "unique_element=set(lis)\n",
    "# creating the list of all unique number \n",
    "unique_list=list(unique_element)\n",
    "# printing the original and unique list\n",
    "print(\"Original List:- \",lis)\n",
    "print(\"Unique List:- \",unique_list)\n"
   ]
  },
  {
   "cell_type": "code",
   "execution_count": 55,
   "id": "f299018e-96e9-43ff-912c-972e8d381af5",
   "metadata": {},
   "outputs": [
    {
     "name": "stdout",
     "output_type": "stream",
     "text": [
      "The sets have the same elements\n"
     ]
    }
   ],
   "source": [
    "\"\"\"Q44. Check if two sets have the same elements, regardless of their count\"\"\"\n",
    "\n",
    "# Define two sets with the same elements, regardless of count\n",
    "set1 = {1, 2, 3, 4, 5}\n",
    "set2 = {5, 4, 3, 2, 1}\n",
    "\n",
    "# Check if the sets have the same elements\n",
    "if set1 == set2:\n",
    "    print(\"The sets have the same elements\")\n",
    "else:\n",
    "    print(\"The sets do not have the same elements.\")"
   ]
  },
  {
   "cell_type": "code",
   "execution_count": 59,
   "id": "a401d359-088b-4148-a9e5-7adc272c3667",
   "metadata": {},
   "outputs": [
    {
     "name": "stdin",
     "output_type": "stream",
     "text": [
      "Enter the range of the powers:-  18\n"
     ]
    },
    {
     "name": "stdout",
     "output_type": "stream",
     "text": [
      "power of 2:-  {32, 1, 2, 64, 4, 128, 256, 512, 8, 1024, 2048, 4096, 32768, 65536, 8192, 131072, 16, 16384}\n"
     ]
    }
   ],
   "source": [
    "\"\"\"Q45. Create a set of the first n powers of 2\"\"\"\n",
    "\n",
    "# creating the set  comprehension for first 'n' powers of 2\n",
    "n=int(input(\"Enter the range of the powers:- \"))  # taking the 'n' input from the user\n",
    "my_set={2**i for i in range(n)}\n",
    "# printing the set in sorted form\n",
    "print(\"power of 2:- \",my_set)\n"
   ]
  },
  {
   "cell_type": "code",
   "execution_count": 58,
   "id": "30d97243-97b8-47a1-a18f-b579e5fe6727",
   "metadata": {},
   "outputs": [
    {
     "name": "stdout",
     "output_type": "stream",
     "text": [
      "Common elements: [3, 4, 5]\n"
     ]
    }
   ],
   "source": [
    "\"\"\"Q46. Find the common elements between a set and a list\"\"\"\n",
    "\n",
    "# creating a set and a list\n",
    "my_set = {1, 2, 3, 4, 5}\n",
    "my_list = [3, 4, 5, 6, 7]\n",
    "\n",
    "# Find common elements using list comprehension\n",
    "common_elements = [x for x in my_list if x in my_set]\n",
    "\n",
    "# Display the common elements\n",
    "print(\"Common elements:\", common_elements)\n"
   ]
  },
  {
   "cell_type": "code",
   "execution_count": 60,
   "id": "51810995-68d6-4d26-b0d8-952eddd83942",
   "metadata": {},
   "outputs": [
    {
     "name": "stdin",
     "output_type": "stream",
     "text": [
      "Enter the triangular number you want:-  6\n"
     ]
    },
    {
     "name": "stdout",
     "output_type": "stream",
     "text": [
      "Triangular number:-  {1, 3, 6, 10, 15, 21}\n"
     ]
    }
   ],
   "source": [
    "\"\"\"Q47. Create a set of the first n triangular numbers\"\"\"\n",
    "\n",
    "# creating the  function\n",
    "def triangular_number_set(n):\n",
    "    # performing operations in the set\n",
    "    triang_set=set()\n",
    "    for i in range(1,n+1):\n",
    "        triang_num=i * (i+1) // 2  # formula '//' gives floor vaue like 4.5 it gives 4\n",
    "        triang_set.add(triang_num)\n",
    "    # typecast the list into tuple\n",
    "    return triang_set\n",
    "\n",
    "n=int(input(\"Enter the triangular number you want:- \"))\n",
    "final=triangular_number_set(n)\n",
    "# printing the tuple\n",
    "print(\"Triangular number:- \",final)\n"
   ]
  },
  {
   "cell_type": "code",
   "execution_count": 61,
   "id": "35fb82b7-1ff4-4a15-aaf2-4dd0c2410771",
   "metadata": {},
   "outputs": [
    {
     "name": "stdout",
     "output_type": "stream",
     "text": [
      "Set1 is subset of set2\n"
     ]
    }
   ],
   "source": [
    "\"\"\"Q48. Check if a set contains another set as a subset\"\"\"\n",
    "\n",
    "# creating the two sets\n",
    "set1={1,2,3}\n",
    "set2={1,2,3,4,5,6,7,8}\n",
    "\n",
    "# checking the set contains another as subset  using issubset() function\n",
    "is_sub=set1.issubset(set2)\n",
    "\n",
    "if is_sub:\n",
    "    print(\"Set1 is subset of set2\")\n",
    "else:\n",
    "    print(\"set1 is not subset of set2\")\n"
   ]
  },
  {
   "cell_type": "code",
   "execution_count": 63,
   "id": "01e03a6b-be13-451a-81ac-22768cef31fc",
   "metadata": {},
   "outputs": [
    {
     "name": "stdin",
     "output_type": "stream",
     "text": [
      "Enter the length of alternate set:-  2\n"
     ]
    },
    {
     "name": "stdout",
     "output_type": "stream",
     "text": [
      "{0, 1}\n"
     ]
    }
   ],
   "source": [
    "\"\"\"Q49. Create a set of alternating 1s and 0s of length n\"\"\"\n",
    "\n",
    "# creating the set comprehension for getting alternate 1s and 0s\n",
    "n=int(input(\"Enter the length of alternate set:- \")) # user input\n",
    "\n",
    "set1={1 if i % 2 == 0 else 0 for i in range(n)}\n",
    "\n",
    "# 1 if number is even\n",
    "# 0 if number is odd\n",
    "\n",
    "# printing the set\n",
    "print(set1)\n"
   ]
  },
  {
   "cell_type": "code",
   "execution_count": 64,
   "id": "acdac5cc-e83f-404c-a9ba-a0f159db485d",
   "metadata": {},
   "outputs": [
    {
     "name": "stdout",
     "output_type": "stream",
     "text": [
      "Merged set:-  {1, 2, 3, 4, 5, 6, 7, 8, 9}\n"
     ]
    }
   ],
   "source": [
    "\"\"\"Q50. Merge multiple sets into one\"\"\"\n",
    "\n",
    "# creating the three sets\n",
    "set1={1,2,3}\n",
    "set2={4,5,6}\n",
    "set3={7,8,9}\n",
    "# merging all three sets in the set4 using the union() function\n",
    "set4=set1.union(set2,set3)\n",
    "# printing the merged set\n",
    "print(\"Merged set:- \",set4)\n"
   ]
  },
  {
   "cell_type": "code",
   "execution_count": null,
   "id": "47bbf010-39dc-4816-93d4-fa4c34b022a7",
   "metadata": {},
   "outputs": [],
   "source": []
  }
 ],
 "metadata": {
  "kernelspec": {
   "display_name": "Python 3 (ipykernel)",
   "language": "python",
   "name": "python3"
  },
  "language_info": {
   "codemirror_mode": {
    "name": "ipython",
    "version": 3
   },
   "file_extension": ".py",
   "mimetype": "text/x-python",
   "name": "python",
   "nbconvert_exporter": "python",
   "pygments_lexer": "ipython3",
   "version": "3.11.5"
  }
 },
 "nbformat": 4,
 "nbformat_minor": 5
}
