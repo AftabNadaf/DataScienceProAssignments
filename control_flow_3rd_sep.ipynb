{
 "cells": [
  {
   "cell_type": "markdown",
   "id": "f2f2551c-9342-48ff-8a07-fa0d3a37a19f",
   "metadata": {},
   "source": [
    "Basic if-else statements:"
   ]
  },
  {
   "cell_type": "markdown",
   "id": "ab732d07-044a-44e5-9991-4e992cb1bac3",
   "metadata": {},
   "source": [
    "1) Write a Python program to check if a given number is positive or negative."
   ]
  },
  {
   "cell_type": "code",
   "execution_count": 2,
   "id": "ffe43c1b-d43e-47b0-af95-19dac9d2da9b",
   "metadata": {},
   "outputs": [
    {
     "name": "stdin",
     "output_type": "stream",
     "text": [
      "Enter any number to check it is positive or negative:-  11\n"
     ]
    },
    {
     "name": "stdout",
     "output_type": "stream",
     "text": [
      "11 is positive number\n"
     ]
    }
   ],
   "source": [
    "n=int(input(\"Enter any number to check it is positive or negative:- \"))\n",
    "\n",
    "if (n<0):\n",
    "    print(f\"{n} is negative number\")\n",
    "elif (n==0):\n",
    "    print(f\"{n} is zero\")\n",
    "else:\n",
    "    print(f\"{n} is positive number\")"
   ]
  },
  {
   "cell_type": "markdown",
   "id": "47403656-f306-42fd-bbe9-6d129ba1ca50",
   "metadata": {},
   "source": [
    "2) Create a program that determines if a person is eligible to vote based on their age."
   ]
  },
  {
   "cell_type": "code",
   "execution_count": 4,
   "id": "58060b7f-179b-498e-985e-dfbaaa274dc9",
   "metadata": {},
   "outputs": [
    {
     "name": "stdin",
     "output_type": "stream",
     "text": [
      "Enter your age to check you are eligible for vote or not:-  22\n"
     ]
    },
    {
     "name": "stdout",
     "output_type": "stream",
     "text": [
      "The person having age 22 can vote\n"
     ]
    }
   ],
   "source": [
    "age=int(input(\"Enter your age to check you are eligible for vote or not:- \"))\n",
    "\n",
    "if (age>=18):\n",
    "    print(f\"The person having age {age} can vote\")\n",
    "else:\n",
    "    print(f\"The person having the age {age} cannot eligible for voting\")"
   ]
  },
  {
   "cell_type": "markdown",
   "id": "491106bb-0dce-446d-b1b7-8e2b39415431",
   "metadata": {},
   "source": [
    "3) Develop a program to find the maximum of two numbers using if-else statements."
   ]
  },
  {
   "cell_type": "code",
   "execution_count": 5,
   "id": "6f21f255-35ef-4d4e-b6fc-400f59f478a1",
   "metadata": {},
   "outputs": [
    {
     "name": "stdin",
     "output_type": "stream",
     "text": [
      "Enter the first number:-  4\n",
      "Enter the second number:-  5\n"
     ]
    },
    {
     "name": "stdout",
     "output_type": "stream",
     "text": [
      "5 is greater than 4\n"
     ]
    }
   ],
   "source": [
    "n1=int(input(\"Enter the first number:- \"))\n",
    "n2=int(input(\"Enter the second number:- \"))\n",
    "\n",
    "if (n1>n2):\n",
    "    print(f\" {n1} is greater than {n2}\")\n",
    "elif (n1==n2):\n",
    "    print(f\"{n1} and {n2} are equal\")\n",
    "else:\n",
    "    print(f\"{n2} is greater than {n1}\")"
   ]
  },
  {
   "cell_type": "markdown",
   "id": "e6fd111f-3533-4320-b70b-96843f3dea25",
   "metadata": {},
   "source": [
    "4)Write a Python script to classify a given year as a leap year or not."
   ]
  },
  {
   "cell_type": "code",
   "execution_count": 6,
   "id": "ee76a0ee-48cd-437f-9260-a206e07b158e",
   "metadata": {},
   "outputs": [
    {
     "name": "stdin",
     "output_type": "stream",
     "text": [
      "Enter a year:  2004\n"
     ]
    },
    {
     "name": "stdout",
     "output_type": "stream",
     "text": [
      "2004 is a leap year\n"
     ]
    }
   ],
   "source": [
    "# Input a year from the user.\n",
    "year = int(input(\"Enter a year: \"))\n",
    "\n",
    "# Check if it's a leap year.\n",
    "if (year % 4 == 0 and year % 100 != 0) or (year % 400 == 0):\n",
    "    print(f\"{year} is a leap year\")\n",
    "else:\n",
    "    print(f\"{year} is not a leap year\")"
   ]
  },
  {
   "cell_type": "markdown",
   "id": "254c81b1-a974-4066-bbf9-7acab7dfa89c",
   "metadata": {},
   "source": [
    "5)Create a program that checks whether a character is a vowel or a consonant."
   ]
  },
  {
   "cell_type": "code",
   "execution_count": 10,
   "id": "77b1ec63-64d9-4674-8c43-4d648d9ad2e4",
   "metadata": {},
   "outputs": [
    {
     "name": "stdin",
     "output_type": "stream",
     "text": [
      "Enter a character:  a\n"
     ]
    },
    {
     "name": "stdout",
     "output_type": "stream",
     "text": [
      "a is a vowel\n"
     ]
    }
   ],
   "source": [
    "# Input a character from the user (assuming a single character is entered).\n",
    "char = input(\"Enter a character: \")\n",
    "\n",
    "# Check if the character is a vowel or a consonant.\n",
    "if char.isalpha() and len(char) == 1:\n",
    "    if char in 'aeiouAEIOU':\n",
    "        print(f\"{char} is a vowel\")\n",
    "    else:\n",
    "        print(f\"{char} is a consonant\")\n",
    "else:\n",
    "    print(\"Invalid input. Please enter a single alphabetic character.\")"
   ]
  },
  {
   "cell_type": "markdown",
   "id": "c80ffeb0-f548-4a23-96e5-9b4d49a43fb4",
   "metadata": {},
   "source": [
    "6)Implement a program to determine whether a given number is even or odd."
   ]
  },
  {
   "cell_type": "code",
   "execution_count": 11,
   "id": "4bd2c45e-45af-4518-97d7-b364b87965c4",
   "metadata": {},
   "outputs": [
    {
     "name": "stdin",
     "output_type": "stream",
     "text": [
      "Enter the number to check whether it is even or odd:-  4\n"
     ]
    },
    {
     "name": "stdout",
     "output_type": "stream",
     "text": [
      " 4 is even number\n"
     ]
    }
   ],
   "source": [
    "n=int(input(\"Enter the number to check whether it is even or odd:- \"))\n",
    "\n",
    "if (n%2==0):\n",
    "    print(f\" {n} is even number\")\n",
    "else:\n",
    "    print(f\" {n} is odd number\")"
   ]
  },
  {
   "cell_type": "markdown",
   "id": "3ff8fc4b-90e0-49b5-9165-1c9ea986778e",
   "metadata": {},
   "source": [
    "7) Write a Python function to calculate the absolute value of a number without using the abs() function."
   ]
  },
  {
   "cell_type": "code",
   "execution_count": 13,
   "id": "349dae40-fb2e-4b43-ba0d-3fee15f0f0dc",
   "metadata": {},
   "outputs": [
    {
     "name": "stdin",
     "output_type": "stream",
     "text": [
      "Enter any number:-  4\n"
     ]
    },
    {
     "name": "stdout",
     "output_type": "stream",
     "text": [
      "the absolute value of 4 is: 4\n"
     ]
    }
   ],
   "source": [
    "def absolute_num(n):\n",
    "    if (n>=0):\n",
    "        return n\n",
    "    else:\n",
    "        return (-n)\n",
    "    \n",
    "num=int(input(\"Enter any number:- \"))\n",
    "\n",
    "result=absolute_num(num)\n",
    "\n",
    "print(f\"the absolute value of {num} is: {result}\")"
   ]
  },
  {
   "cell_type": "markdown",
   "id": "5de4fd89-ffa2-4bdb-b2de-1ed68ecf4ccd",
   "metadata": {},
   "source": [
    "8)Develop a program that determines the largest of three given numbers using if-else statements."
   ]
  },
  {
   "cell_type": "code",
   "execution_count": 14,
   "id": "b6e458a8-d5a5-4219-b770-a6db27126e3f",
   "metadata": {},
   "outputs": [
    {
     "name": "stdin",
     "output_type": "stream",
     "text": [
      "Enter the first number:-  3\n",
      "Enter the secondmnumber:-  5\n",
      "Enter the second number:-  6\n"
     ]
    },
    {
     "name": "stdout",
     "output_type": "stream",
     "text": [
      "6 is greater than 3 and 5\n"
     ]
    }
   ],
   "source": [
    "a=int(input(\"Enter the first number:- \"))\n",
    "b=int(input(\"Enter the secondmnumber:- \"))\n",
    "c=int(input(\"Enter the second number:- \"))\n",
    "\n",
    "if ((a>=b) and (a>=c)):\n",
    "    print(f\" {a} is greater than {b} and {c}\")\n",
    "elif ((b>=a) and (b>=c)):\n",
    "    print(f\"{b} is greater than {a} and {c}\")\n",
    "else:\n",
    "    print(f\"{c} is greater than {a} and {b}\")"
   ]
  },
  {
   "cell_type": "markdown",
   "id": "b3752dad-a852-46c9-b954-ac69f0295b0c",
   "metadata": {},
   "source": [
    "9)Create a program that checks if a given string is a palindrome."
   ]
  },
  {
   "cell_type": "code",
   "execution_count": 15,
   "id": "531854c8-9e72-4eab-aa7d-19ff4494e68d",
   "metadata": {},
   "outputs": [
    {
     "name": "stdin",
     "output_type": "stream",
     "text": [
      "enter any string:-  aftab\n"
     ]
    },
    {
     "name": "stdout",
     "output_type": "stream",
     "text": [
      " 'aftab' is not palindrome\n"
     ]
    }
   ],
   "source": [
    "string=input(\"enter any string:- \")\n",
    "\n",
    "if (string==string[::-1]):\n",
    "    print(f\" '{string}' is palindrome\")\n",
    "else:\n",
    "    print(f\" '{string}' is not palindrome\")"
   ]
  },
  {
   "cell_type": "markdown",
   "id": "81b1edd0-fe9f-4cf4-b00e-782f498b1cf9",
   "metadata": {},
   "source": [
    "10)Write a Python program to calculate the grade based on a student's score."
   ]
  },
  {
   "cell_type": "code",
   "execution_count": 17,
   "id": "e7b8142e-be6c-4b57-ba52-19831c0a56d3",
   "metadata": {},
   "outputs": [
    {
     "name": "stdin",
     "output_type": "stream",
     "text": [
      "Enter the student's score:  80\n"
     ]
    },
    {
     "name": "stdout",
     "output_type": "stream",
     "text": [
      "The student's grade is: B\n"
     ]
    }
   ],
   "source": [
    "# Input the student's score from the user.\n",
    "score = float(input(\"Enter the student's score: \"))\n",
    "\n",
    "# Define the grading criteria.\n",
    "if score >= 90:\n",
    "    grade = 'A'\n",
    "elif score >= 80:\n",
    "    grade = 'B'\n",
    "elif score >= 70:\n",
    "    grade = 'c'\n",
    "elif score >= 60:\n",
    "    grade = 'D'\n",
    "else:\n",
    "    grade = 'F'\n",
    "\n",
    "# Display the student's grade.\n",
    "print(f\"The student's grade is: {grade}\")"
   ]
  },
  {
   "cell_type": "markdown",
   "id": "8e97d0b0-d342-44fb-a99a-e674691773c8",
   "metadata": {},
   "source": [
    "Nested if-else statement:"
   ]
  },
  {
   "cell_type": "markdown",
   "id": "49a66fa9-bdf1-41dd-8adf-1bb17620e58d",
   "metadata": {},
   "source": [
    "11)Write a program to find the largest among three numbers using nested if-else statements."
   ]
  },
  {
   "cell_type": "code",
   "execution_count": 18,
   "id": "a05d3905-53b9-4c8c-830e-ea0d7d622fd2",
   "metadata": {},
   "outputs": [
    {
     "name": "stdin",
     "output_type": "stream",
     "text": [
      "Enter the first number:  2\n",
      "Enter the second number:  3\n",
      "Enter the third number:  4\n"
     ]
    },
    {
     "name": "stdout",
     "output_type": "stream",
     "text": [
      "The largest number among 2, 3, and 4 is: 4\n"
     ]
    }
   ],
   "source": [
    "# Input three numbers from the user.\n",
    "num1 = int(input(\"Enter the first number: \"))\n",
    "num2 = int(input(\"Enter the second number: \"))\n",
    "num3 = int(input(\"Enter the third number: \"))\n",
    "\n",
    "# Use nested if-else statements to find the largest number.\n",
    "if num1 >= num2:\n",
    "    if num1 >= num3:\n",
    "        largest = num1\n",
    "    else:\n",
    "        largest = num3\n",
    "else:\n",
    "    if num2 >= num3:\n",
    "        largest = num2\n",
    "    else:\n",
    "        largest = num3\n",
    "\n",
    "# Display the largest number.\n",
    "print(f\"The largest number among {num1}, {num2}, and {num3} is: {largest}\")"
   ]
  },
  {
   "cell_type": "markdown",
   "id": "29e16788-542f-4500-a6e8-828f335648d9",
   "metadata": {},
   "source": [
    "12)Implement a program to determine if a triangle is equilateral, isosceles, or scalene."
   ]
  },
  {
   "cell_type": "code",
   "execution_count": 20,
   "id": "170fb808-5901-401b-b13e-6299e7338b74",
   "metadata": {},
   "outputs": [
    {
     "name": "stdin",
     "output_type": "stream",
     "text": [
      "Enter the length of the first side:  3\n",
      "Enter the length of the second side:  5\n",
      "Enter the length of the third side:  6\n"
     ]
    },
    {
     "name": "stdout",
     "output_type": "stream",
     "text": [
      "The triangle with side lengths 3, 5, and 6 is scalene.\n"
     ]
    }
   ],
   "source": [
    "# Input the lengths of the three sides of the triangle.\n",
    "side1 = int(input(\"Enter the length of the first side: \"))\n",
    "side2 = int(input(\"Enter the length of the second side: \"))\n",
    "side3 = int(input(\"Enter the length of the third side: \"))\n",
    "\n",
    "# Initialize the triangle type as \"scalene\" by default.\n",
    "triangle_type = \"scalene\"\n",
    "\n",
    "# Check if it's an equilateral triangle.\n",
    "if side1 == side2 and side2 == side3:\n",
    "    triangle_type = \"equilateral\"\n",
    "else:\n",
    "    # Check if it's an isosceles triangle.\n",
    "    if side1 == side2 or side1 == side3 or side2 == side3:\n",
    "        triangle_type = \"isosceles\"\n",
    "\n",
    "# Display the type of triangle.\n",
    "print(f\"The triangle with side lengths {side1}, {side2}, and {side3} is {triangle_type}.\")"
   ]
  },
  {
   "cell_type": "markdown",
   "id": "8233e334-1806-4cf0-8112-3a7620713a96",
   "metadata": {},
   "source": [
    "13)Develop a program that checks if a year is a leap year and also if it is a century year."
   ]
  },
  {
   "cell_type": "code",
   "execution_count": 21,
   "id": "bdca82d9-3420-4c1d-8685-2ba7a1812f5d",
   "metadata": {},
   "outputs": [
    {
     "name": "stdin",
     "output_type": "stream",
     "text": [
      "Enter a year:  2004\n"
     ]
    },
    {
     "name": "stdout",
     "output_type": "stream",
     "text": [
      "2004 is a leap year but not a century year.\n"
     ]
    }
   ],
   "source": [
    "# Input a year from the user.\n",
    "year = int(input(\"Enter a year: \"))\n",
    "\n",
    "# Check if it's a leap year.\n",
    "is_leap_year = (year % 4 == 0 and year % 100 != 0) or (year % 400 == 0)\n",
    "\n",
    "# Check if it's a century year.\n",
    "is_century_year = year % 100 == 0\n",
    "\n",
    "# Display the results.\n",
    "if is_leap_year:\n",
    "    if is_century_year:\n",
    "        print(f\"{year} is a leap year and a century year.\")\n",
    "    else:\n",
    "        print(f\"{year} is a leap year but not a century year.\")\n",
    "else:\n",
    "    if is_century_year:\n",
    "        print(f\"{year} is not a leap year but a century year.\")\n",
    "    else:\n",
    "        print(f\"{year} is not a leap year and not a century year.\")"
   ]
  },
  {
   "cell_type": "markdown",
   "id": "a2c8485f-d492-4230-87cb-8fccc058437d",
   "metadata": {},
   "source": [
    "14) Write a Python script to determine if a number is positive, negative, or zero."
   ]
  },
  {
   "cell_type": "code",
   "execution_count": 22,
   "id": "c1ab27fe-20d5-4339-a673-d6e300f74ed4",
   "metadata": {},
   "outputs": [
    {
     "name": "stdin",
     "output_type": "stream",
     "text": [
      "Enter the number to check it is postive or negative:-  3\n"
     ]
    },
    {
     "name": "stdout",
     "output_type": "stream",
     "text": [
      " 3 is positive number\n"
     ]
    }
   ],
   "source": [
    "n=int(input(\"Enter the number to check it is postive or negative:- \"))\n",
    "\n",
    "if n>=0:\n",
    "    if n==0:\n",
    "        print(f\" {n} is zero\")\n",
    "    else:\n",
    "        print(f\" {n} is positive number\")\n",
    "else:\n",
    "    print(f\" {n} is negative number\")"
   ]
  },
  {
   "cell_type": "markdown",
   "id": "e9d4bc9d-42db-4744-9495-b946973f12b0",
   "metadata": {},
   "source": [
    "15)Create a program to check if a person is a teenager (between 13 and 19 years old)."
   ]
  },
  {
   "cell_type": "code",
   "execution_count": 23,
   "id": "164f459b-bb47-49bd-a8d4-f62bdbddfdfc",
   "metadata": {},
   "outputs": [
    {
     "name": "stdin",
     "output_type": "stream",
     "text": [
      "Enter the person's age:  12\n"
     ]
    },
    {
     "name": "stdout",
     "output_type": "stream",
     "text": [
      "The person is not a teenager.\n"
     ]
    }
   ],
   "source": [
    "# Input the age of the person.\n",
    "age = int(input(\"Enter the person's age: \"))\n",
    "\n",
    "# Check if the age falls within the teenager range using nested if-else statements.\n",
    "if age >= 13 and age <= 19:\n",
    "    print(\"The person is a teenager.\")\n",
    "else:\n",
    "    print(\"The person is not a teenager.\")"
   ]
  },
  {
   "cell_type": "markdown",
   "id": "4eb7721b-747e-486f-b2d8-1fbfa5e5cebb",
   "metadata": {},
   "source": [
    "16)Develop a program that determines the type of angle based on its measure (acute, obtuse, or right)"
   ]
  },
  {
   "cell_type": "code",
   "execution_count": 24,
   "id": "65460579-f6eb-445f-b749-59092760095a",
   "metadata": {},
   "outputs": [
    {
     "name": "stdin",
     "output_type": "stream",
     "text": [
      "Enter the angle:  12\n"
     ]
    },
    {
     "name": "stdout",
     "output_type": "stream",
     "text": [
      "Acute-angled triangle\n"
     ]
    }
   ],
   "source": [
    "def classify_angles(angle1):\n",
    "    # Check if the sum of angles is 180 degrees (valid triangle)\n",
    "    if angle<180:\n",
    "        # Check the type of triangle based on its angles\n",
    "        if angle == 90:\n",
    "            return \"Right-angled triangle\"\n",
    "        elif angle > 90 and angle < 180:\n",
    "            return \"Obtuse-angled triangle\"\n",
    "        else:\n",
    "            return \"Acute-angled triangle\"\n",
    "    else:\n",
    "        return \"Not a valid triangle\"\n",
    "\n",
    "# Input the angles of the triangle\n",
    "angle = int(input(\"Enter the angle: \"))\n",
    "\n",
    "\n",
    "# Call the function and display the result\n",
    "triangle_type = classify_angles(angle)\n",
    "print(triangle_type)"
   ]
  },
  {
   "cell_type": "markdown",
   "id": "f15471dc-bd77-4262-a1be-40ea09a430d7",
   "metadata": {},
   "source": [
    "17)Write a Python program to calculate the roots of a quadratic equation."
   ]
  },
  {
   "cell_type": "code",
   "execution_count": 26,
   "id": "6067bba3-7609-4e19-9949-51b7c51b3eac",
   "metadata": {},
   "outputs": [
    {
     "name": "stdin",
     "output_type": "stream",
     "text": [
      "Enter the coefficient a:  12\n",
      "Enter the coefficient b:  14\n",
      "Enter the coefficient c:  15\n"
     ]
    },
    {
     "name": "stdout",
     "output_type": "stream",
     "text": [
      "The equation has complex roots:\n",
      "Complex Root 1: -0.5833333333333334 + 0.9537935951882998i\n",
      "Complex Root 2: -0.5833333333333334 - 0.9537935951882998i\n"
     ]
    }
   ],
   "source": [
    "# Input the coefficients a, b, and c from the user.\n",
    "a = float(input(\"Enter the coefficient a: \"))\n",
    "b = float(input(\"Enter the coefficient b: \"))\n",
    "c = float(input(\"Enter the coefficient c: \"))\n",
    "\n",
    "# Calculate the discriminant (the value inside the square root).\n",
    "discriminant = b**2 - 4 * a * c\n",
    "\n",
    "# Check the number of roots and calculate them using if-else statements.\n",
    "if discriminant > 0:\n",
    "    # Two real and distinct roots.\n",
    "    root1 = (-b + (discriminant**0.5)) / (2 * a)\n",
    "    root2 = (-b - (discriminant**0.5)) / (2 * a)\n",
    "    print(f\"The equation has two real and distinct roots:\")\n",
    "    print(f\"Root 1: {root1}\")\n",
    "    print(f\"Root 2: {root2}\")\n",
    "elif discriminant == 0:\n",
    "    # One real root (repeated root).\n",
    "    root = -b / (2 * a)\n",
    "    print(f\"The equation has one real root:\")\n",
    "    print(f\"Root: {root}\")\n",
    "else:\n",
    "    # Complex roots (no real roots).\n",
    "    real_part = -b / (2 * a)\n",
    "    imaginary_part = ((-discriminant)**0.5) / (2 * a)\n",
    "    print(f\"The equation has complex roots:\")\n",
    "    print(f\"Complex Root 1: {real_part} + {imaginary_part}i\")\n",
    "    print(f\"Complex Root 2: {real_part} - {imaginary_part}i\")"
   ]
  },
  {
   "cell_type": "markdown",
   "id": "afe4f0ab-5ed6-4a0a-a9e9-0409819cd21b",
   "metadata": {},
   "source": [
    "18) Implement a program to determine the day of the week based on a user-provided number (1 for Monday, 2 for Tuesday, etc.)."
   ]
  },
  {
   "cell_type": "code",
   "execution_count": 28,
   "id": "a8f23b05-558c-4d48-bff1-2d356a99bd9e",
   "metadata": {},
   "outputs": [
    {
     "name": "stdin",
     "output_type": "stream",
     "text": [
      "Enter a number (1-7) to determine the day of the week:  6\n"
     ]
    },
    {
     "name": "stdout",
     "output_type": "stream",
     "text": [
      "The day corresponding to 6 is Saturday.\n"
     ]
    }
   ],
   "source": [
    "# Input the day number from the user.\n",
    "day_number = int(input(\"Enter a number (1-7) to determine the day of the week: \"))\n",
    "\n",
    "# Defining a list of day names.\n",
    "days_of_week = [\"Monday\", \"Tuesday\", \"Wednesday\", \"Thursday\", \"Friday\", \"Saturday\", \"Sunday\"]\n",
    "\n",
    "# Checking if the input is within a valid range.\n",
    "if 1 <= day_number <= 7:\n",
    "    # Subtract 1 from the input to access the corresponding day in the list.\n",
    "    day_name = days_of_week[day_number - 1]\n",
    "    print(f\"The day corresponding to {day_number} is {day_name}.\")\n",
    "else:\n",
    "    print(\"Invalid input. Please enter a number between 1 and 7.\")"
   ]
  },
  {
   "cell_type": "markdown",
   "id": "638dfa75-ffd5-4451-b416-ce123eea75c4",
   "metadata": {},
   "source": [
    "19)Create a program that determines if a year is a leap year and also if it is evenly divisible by 400."
   ]
  },
  {
   "cell_type": "code",
   "execution_count": 29,
   "id": "3b2d35a5-b987-454a-b8b8-4bafd7f40cdf",
   "metadata": {},
   "outputs": [
    {
     "name": "stdin",
     "output_type": "stream",
     "text": [
      "Enter the year:-  2001\n"
     ]
    },
    {
     "name": "stdout",
     "output_type": "stream",
     "text": [
      "2001 is not a leap year\n"
     ]
    }
   ],
   "source": [
    "year=int(input(\"Enter the year:- \"))\n",
    "\n",
    "if (year%4==0 and year%100!=0) or year%400==0:\n",
    "    print(f\"{year} is leap year and evenly divisible by 400\")\n",
    "else:\n",
    "    print(f\"{year} is not a leap year\")"
   ]
  },
  {
   "cell_type": "markdown",
   "id": "dca0e90b-c3ee-4b7b-a54c-db07f7a6d3e0",
   "metadata": {},
   "source": [
    "20).Develop a program that checks if a given number is prime or not using nested if-else statements."
   ]
  },
  {
   "cell_type": "code",
   "execution_count": 30,
   "id": "4b2f956d-bdb5-45da-8470-a9937c891619",
   "metadata": {},
   "outputs": [
    {
     "name": "stdin",
     "output_type": "stream",
     "text": [
      "Enter the number for checking whether it is prime or not:-  5\n"
     ]
    },
    {
     "name": "stdout",
     "output_type": "stream",
     "text": [
      "5 is a prime number.\n"
     ]
    }
   ],
   "source": [
    "n=int(input(\"Enter the number for checking whether it is prime or not:- \"))\n",
    "\n",
    "if n>1:\n",
    "    for i in range(2,int(n**0.5)+1):\n",
    "        if(n%i==0):\n",
    "            print(f\"{n} is not a prime number.\")\n",
    "            break\n",
    "    else:\n",
    "        print(f\"{n} is a prime number.\")\n",
    "else:\n",
    "    print(f\"{n} is not a prime number.\")"
   ]
  },
  {
   "cell_type": "markdown",
   "id": "8f3a4e17-a5b0-4035-85c6-3f5ade4a4ad3",
   "metadata": {},
   "source": [
    "Elif statements:"
   ]
  },
  {
   "cell_type": "markdown",
   "id": "97965129-4c2f-4ca7-bfb7-28b78924cc42",
   "metadata": {},
   "source": [
    "21)Write a Python program to assign grades based on different ranges of scores using elif statements."
   ]
  },
  {
   "cell_type": "code",
   "execution_count": 1,
   "id": "80dd3324-004e-4435-8d5e-e4589a619e4d",
   "metadata": {},
   "outputs": [
    {
     "name": "stdin",
     "output_type": "stream",
     "text": [
      "Enter the marks to check the grade:-  77\n"
     ]
    },
    {
     "name": "stdout",
     "output_type": "stream",
     "text": [
      "The student having the marks 77.0 having the grade is 'B++' \n"
     ]
    }
   ],
   "source": [
    "marks=float(input(\"Enter the marks to check the grade:- \"))\n",
    "\n",
    "if marks>=90:\n",
    "    grade=\"A++\"\n",
    "elif marks>=80:\n",
    "    grade=\"A\"\n",
    "elif marks>=70:\n",
    "    grade=\"B++\"\n",
    "elif marks>=60:\n",
    "    grade=\"B\"\n",
    "elif marks>=50:\n",
    "    grade=\"C\"\n",
    "elif marks>=40:\n",
    "    grade=\"D\"\n",
    "else:\n",
    "    grade=\"Fail\"\n",
    "    \n",
    "print(f\"The student having the marks {marks} having the grade is '{grade}' \")\n"
   ]
  },
  {
   "cell_type": "markdown",
   "id": "ce50cecb-c5d6-47e9-93ea-6905fcd90c84",
   "metadata": {},
   "source": [
    "22)Implement a program to determine the type of a triangle based on its angles."
   ]
  },
  {
   "cell_type": "code",
   "execution_count": 2,
   "id": "379051c7-0328-489b-b14f-110ebc2b8168",
   "metadata": {},
   "outputs": [
    {
     "name": "stdin",
     "output_type": "stream",
     "text": [
      "Enter the angle:-  2\n"
     ]
    },
    {
     "name": "stdout",
     "output_type": "stream",
     "text": [
      "2 is acute-angled triangle\n"
     ]
    }
   ],
   "source": [
    "angle=int(input(\"Enter the angle:- \"))\n",
    "\n",
    "if angle==90:\n",
    "    print(f\"{angle} is the right-angled triangle\")\n",
    "elif angle>90 and angle<180:\n",
    "    print(f\"{angle} is obtuse-angled triangle\")\n",
    "elif angle<90:\n",
    "    print(f\"{angle} is acute-angled triangle\")\n",
    "    \n",
    "else:\n",
    "    print(f\"{angle} is out of range\")"
   ]
  },
  {
   "cell_type": "markdown",
   "id": "c17275d8-395b-42d7-93ce-c38fd93ea22b",
   "metadata": {},
   "source": [
    "23)Develop a program to categorize a given person's BMI into underweight, normal, overweight, or obese using elif statements"
   ]
  },
  {
   "cell_type": "code",
   "execution_count": 3,
   "id": "21453c46-b0a3-4b76-bd34-8a96b59ea873",
   "metadata": {},
   "outputs": [
    {
     "name": "stdin",
     "output_type": "stream",
     "text": [
      "Enter your weight in kilograms:  99\n",
      "Enter your height in meters:  6\n"
     ]
    },
    {
     "name": "stdout",
     "output_type": "stream",
     "text": [
      "Your BMI is 2.75, which is categorized as Underweight.\n"
     ]
    }
   ],
   "source": [
    "def calculate_bmi(weight_kg, height_m):\n",
    "    # Calculate BMI using the formula: BMI = weight (kg) / (height (m) ^ 2)\n",
    "    return weight_kg / (height_m ** 2)\n",
    "\n",
    "def categorize_bmi(bmi):\n",
    "    if bmi < 18.5:\n",
    "        return \"Underweight\"\n",
    "    elif 18.5 <= bmi < 24.9:\n",
    "        return \"Normal Weight\"\n",
    "    elif 25 <= bmi < 29.9:\n",
    "        return \"Overweight\"\n",
    "    else:\n",
    "        return \"Obese\"\n",
    "\n",
    "# Input weight and height from the user\n",
    "weight_kg = float(input(\"Enter your weight in kilograms: \"))\n",
    "height_m = float(input(\"Enter your height in meters: \"))\n",
    "\n",
    "# Calculate BMI\n",
    "bmi = calculate_bmi(weight_kg, height_m)\n",
    "\n",
    "# Categorize BMI and display the result\n",
    "bmi_category = categorize_bmi(bmi)\n",
    "print(f\"Your BMI is {bmi:.2f}, which is categorized as {bmi_category}.\")"
   ]
  },
  {
   "cell_type": "markdown",
   "id": "81cb50b3-abb0-45d9-9774-201ba658dfb9",
   "metadata": {},
   "source": [
    "24)Create a program that determines whether a given number is positive, negative, or zero using elif statements."
   ]
  },
  {
   "cell_type": "code",
   "execution_count": 4,
   "id": "b5a8db0d-c93a-4cd6-82ca-d4f90bb49d65",
   "metadata": {},
   "outputs": [
    {
     "name": "stdin",
     "output_type": "stream",
     "text": [
      "Enter a number:  2\n"
     ]
    },
    {
     "name": "stdout",
     "output_type": "stream",
     "text": [
      "The number is positive.\n"
     ]
    }
   ],
   "source": [
    "# Input a number from the user\n",
    "num = float(input(\"Enter a number: \"))\n",
    "\n",
    "# Use elif statements to categorize the number\n",
    "if num > 0:\n",
    "    print(\"The number is positive.\")\n",
    "elif num < 0:\n",
    "    print(\"The number is negative.\")\n",
    "else:\n",
    "    print(\"The number is zero.\")"
   ]
  },
  {
   "cell_type": "markdown",
   "id": "c62ace6f-dd3c-4fc4-9f1d-afcd1c375b0a",
   "metadata": {},
   "source": [
    "25) Write a Python script to determine the type of a character (uppercase, lowercase, or special) using elif statements."
   ]
  },
  {
   "cell_type": "code",
   "execution_count": 6,
   "id": "0a4a27f8-2a8c-404f-94e6-ee0dfdc746a6",
   "metadata": {},
   "outputs": [
    {
     "name": "stdin",
     "output_type": "stream",
     "text": [
      "Enter the alphabetic character to check it is uppercase or lowercase:-  Aftab\n"
     ]
    },
    {
     "name": "stdout",
     "output_type": "stream",
     "text": [
      "'Aftab' is Uppercase character\n"
     ]
    }
   ],
   "source": [
    "char=input(\"Enter the alphabetic character to check it is uppercase or lowercase:- \")\n",
    "\n",
    "if (char>='a' and char<='z'):\n",
    "    print(f\"'{char}' is Lowercase character\")\n",
    "elif (char>='A' and char<='Z'):\n",
    "    print(f\"'{char}' is Uppercase character\")\n",
    "else:\n",
    "    print(f\"'{char}' is not a valid alphabetic character\")"
   ]
  },
  {
   "cell_type": "markdown",
   "id": "14551170-a23b-47a0-aad6-0917a7f974bd",
   "metadata": {},
   "source": [
    "26)Implement a program to calculate the discounted price based on different purchase amounts using elif statements"
   ]
  },
  {
   "cell_type": "code",
   "execution_count": 7,
   "id": "3d62a89b-89a1-47b4-a2ad-53df7345100a",
   "metadata": {},
   "outputs": [
    {
     "name": "stdin",
     "output_type": "stream",
     "text": [
      "Enter the purchase amount in Indian Rupees:  100\n"
     ]
    },
    {
     "name": "stdout",
     "output_type": "stream",
     "text": [
      "The discounted price is: 100.00 Indian Rupees\n"
     ]
    }
   ],
   "source": [
    "# Input the purchase amount in Indian Rupees\n",
    "purchase_amount = float(input(\"Enter the purchase amount in Indian Rupees: \"))\n",
    "\n",
    "# Initialize variables for discount rates\n",
    "discount_rate_1 = 0.05  # 5% discount\n",
    "discount_rate_2 = 0.10  # 10% discount\n",
    "discount_rate_3 = 0.15  # 15% discount\n",
    "\n",
    "# Apply discounts based on different purchase amounts using elif statements\n",
    "if purchase_amount < 1000:\n",
    "    discounted_price = purchase_amount\n",
    "elif 1000 <= purchase_amount < 5000:\n",
    "    discounted_price = purchase_amount - (purchase_amount * discount_rate_1)\n",
    "elif 5000 <= purchase_amount < 10000:\n",
    "    discounted_price = purchase_amount - (purchase_amount * discount_rate_2)\n",
    "else:\n",
    "    discounted_price = purchase_amount - (purchase_amount * discount_rate_3)\n",
    "\n",
    "# Display the discounted price\n",
    "print(f\"The discounted price is: {discounted_price:.2f} Indian Rupees\")\n"
   ]
  },
  {
   "cell_type": "markdown",
   "id": "bdf622d5-f15f-47ef-baa3-c290c49de739",
   "metadata": {},
   "source": [
    "27)Develop a program to calculate the electricity bill based on different consumption slabs using elif statements."
   ]
  },
  {
   "cell_type": "code",
   "execution_count": 8,
   "id": "af612a48-5dd8-4c57-ab53-969796eb8a9e",
   "metadata": {},
   "outputs": [
    {
     "name": "stdin",
     "output_type": "stream",
     "text": [
      "Enter your electricity consumption (kWh):  100\n"
     ]
    },
    {
     "name": "stdout",
     "output_type": "stream",
     "text": [
      "Your electricity bill is: ₹500.00\n"
     ]
    }
   ],
   "source": [
    "# Input the electricity consumption in kilowatt-hours (kWh)\n",
    "consumption = float(input(\"Enter your electricity consumption (kWh): \"))\n",
    "\n",
    "# Define the electricity rates for different slabs in INR\n",
    "rate_slab1_inr = 5.00  # ₹5.00 per kWh for the first 100 kWh\n",
    "rate_slab2_inr = 6.50  # ₹6.50 per kWh for consumption above 100 kWh up to 200 kWh\n",
    "rate_slab3_inr = 7.50  # ₹7.50 per kWh for consumption above 200 kWh\n",
    "\n",
    "# Initialize the total bill variable in INR\n",
    "total_bill_inr = 0\n",
    "\n",
    "# Calculate the electricity bill using elif statements for different slabs\n",
    "if consumption <= 100:\n",
    "    total_bill_inr = consumption * rate_slab1_inr\n",
    "elif consumption <= 200:\n",
    "    total_bill_inr = (100 * rate_slab1_inr) + ((consumption - 100) * rate_slab2_inr)\n",
    "else:\n",
    "    total_bill_inr = (100 * rate_slab1_inr) + (100 * rate_slab2_inr) + ((consumption - 200) * rate_slab3_inr)\n",
    "\n",
    "# Display the electricity bill in Indian Rupees to the user\n",
    "print(f\"Your electricity bill is: ₹{total_bill_inr:.2f}\")"
   ]
  },
  {
   "cell_type": "markdown",
   "id": "eae1eb92-458a-46b2-af32-30064329aa1a",
   "metadata": {},
   "source": [
    "28)Create a program to determine the type of quadrilateral based on its angles and sides using elif statements."
   ]
  },
  {
   "cell_type": "code",
   "execution_count": 9,
   "id": "aa060be3-35f8-4034-9c54-b8d97983f1f4",
   "metadata": {},
   "outputs": [
    {
     "name": "stdin",
     "output_type": "stream",
     "text": [
      "Enter the first angle in degrees:  2\n",
      "Enter the second angle in degrees:  3\n",
      "Enter the third angle in degrees:  4\n",
      "Enter the fourth angle in degrees:  5\n",
      "Enter the length of the first side:  6\n",
      "Enter the length of the second side:  7\n",
      "Enter the length of the third side:  8\n",
      "Enter the length of the fourth side:  9\n"
     ]
    },
    {
     "name": "stdout",
     "output_type": "stream",
     "text": [
      "The quadrilateral is a Quadrilateral (General).\n"
     ]
    }
   ],
   "source": [
    "# Input angles and sides of the quadrilateral\n",
    "angle1 = int(input(\"Enter the first angle in degrees: \"))\n",
    "angle2 = int(input(\"Enter the second angle in degrees: \"))\n",
    "angle3 = int(input(\"Enter the third angle in degrees: \"))\n",
    "angle4 = int(input(\"Enter the fourth angle in degrees: \"))\n",
    "\n",
    "side1 = float(input(\"Enter the length of the first side: \"))\n",
    "side2 = float(input(\"Enter the length of the second side: \"))\n",
    "side3 = float(input(\"Enter the length of the third side: \"))\n",
    "side4 = float(input(\"Enter the length of the fourth side: \"))\n",
    "\n",
    "# Determine the type of quadrilateral using elif statements\n",
    "if angle1 == angle2 == angle3 == angle4 == 90:\n",
    "    if side1 == side2 == side3 == side4:\n",
    "        quadrilateral_type = \"Square\"\n",
    "    elif side1 == side3 and side2 == side4:\n",
    "        quadrilateral_type = \"Rectangle\"\n",
    "    else:\n",
    "        quadrilateral_type = \"Quadrilateral (Right Angles)\"\n",
    "elif angle1 == angle3 and angle2 == angle4:\n",
    "    if side1 == side2 == side3 == side4:\n",
    "        quadrilateral_type = \"Rhombus\"\n",
    "    else:\n",
    "        quadrilateral_type = \"Quadrilateral (Opposite Angles Equal)\"\n",
    "elif side1 == side2 == side3 == side4:\n",
    "    quadrilateral_type = \"Trapezoid\"\n",
    "else:\n",
    "    quadrilateral_type = \"Quadrilateral (General)\"\n",
    "\n",
    "# Display the type of quadrilateral\n",
    "print(f\"The quadrilateral is a {quadrilateral_type}.\")"
   ]
  },
  {
   "cell_type": "markdown",
   "id": "a174d5ac-8365-406a-8f29-5c4562855d5c",
   "metadata": {},
   "source": [
    "29)Write a Python script to determine the season based on a user-provided month using elif statements."
   ]
  },
  {
   "cell_type": "code",
   "execution_count": 10,
   "id": "5a8e6486-5b5c-4353-8275-4651a092fa39",
   "metadata": {},
   "outputs": [
    {
     "name": "stdin",
     "output_type": "stream",
     "text": [
      "Enter the name of the month:-  april\n"
     ]
    },
    {
     "name": "stdout",
     "output_type": "stream",
     "text": [
      "During the 'april' there is 'Summer' season\n"
     ]
    }
   ],
   "source": [
    "month=input(\"Enter the name of the month:- \").lower()\n",
    "\n",
    "if month in [\"october\",\"november\",\"december\",\"january\",\"february\"]:\n",
    "    season=\"winter\"\n",
    "elif month in [\"march\",\"april\",\"may\"]:\n",
    "    season=\"Summer\"\n",
    "elif month in [\"june\",\"july\",\"august\",\"September\"]:\n",
    "    season=\"monsoon\"\n",
    "else:\n",
    "    season=\"invalid month\"\n",
    "\n",
    "    \n",
    "print(f\"During the '{month}' there is '{season}' season\")"
   ]
  },
  {
   "cell_type": "markdown",
   "id": "64ac6cf3-6db4-48c6-812d-7bd826d9abb9",
   "metadata": {},
   "source": [
    "30)Implement a program to determine the type of a year (leap or common) and month (30 or 31 days) using elif statements"
   ]
  },
  {
   "cell_type": "code",
   "execution_count": 13,
   "id": "45a8f722-d0b0-4147-8e0d-8e7e641998eb",
   "metadata": {},
   "outputs": [
    {
     "name": "stdin",
     "output_type": "stream",
     "text": [
      "Enter the year:-  2004\n",
      "Enter the month between 1 - 12:-  3\n"
     ]
    },
    {
     "name": "stdout",
     "output_type": "stream",
     "text": [
      "The year 2004 is a Leap year, and the month 3 has 31 days\n"
     ]
    }
   ],
   "source": [
    "year=int(input(\"Enter the year:- \"))\n",
    "month=int(input(\"Enter the month between 1 - 12:- \"))\n",
    "\n",
    "# conditions for leap year\n",
    "\n",
    "if (year%4==0 and year%100!=0) or year%400==0:\n",
    "    year_type=\"Leap\"\n",
    "else:\n",
    "    year_type=\"Common\"\n",
    "    \n",
    "# conditions for the days in a month\n",
    "\n",
    "if month in [1,3,5,7,8,10,12]:\n",
    "    month_days=31\n",
    "elif month in [4,6,9,11]:\n",
    "    month_days=30\n",
    "elif month==2:\n",
    "    if year_type==\"Leap\":\n",
    "        month_days=29\n",
    "    else:\n",
    "        month_days=28\n",
    "else:\n",
    "    month_days=\"Invalid month\"\n",
    "    \n",
    "if month_days!=\"invalid month\":\n",
    "    print(f\"The year {year} is a {year_type} year, and the month {month} has {month_days} days\")\n",
    "    \n",
    "else:\n",
    "    print(\"Invalid month entered\")"
   ]
  },
  {
   "cell_type": "code",
   "execution_count": null,
   "id": "e57aaec0-b77e-4b25-a604-5bf0bbf631a0",
   "metadata": {},
   "outputs": [],
   "source": [
    "Basic level:"
   ]
  },
  {
   "cell_type": "markdown",
   "id": "8a0d51ff-e1d5-4cdf-ba26-c1225d1512e6",
   "metadata": {},
   "source": [
    "1)Write a Python program that checks if a given number is positive, negative, or zero."
   ]
  },
  {
   "cell_type": "code",
   "execution_count": 1,
   "id": "bd1ab6d5-d846-45db-a5db-dcab94770bdb",
   "metadata": {},
   "outputs": [
    {
     "name": "stdin",
     "output_type": "stream",
     "text": [
      "Enter the number:-  12\n"
     ]
    },
    {
     "name": "stdout",
     "output_type": "stream",
     "text": [
      "The number is positive\n"
     ]
    }
   ],
   "source": [
    "n=int(input(\"Enter the number:- \")) # taking the input from the user\n",
    "\n",
    "if n<0:       # condition for -ve numbers\n",
    "    print(\"The number is negative\")\n",
    "elif n>0:     # condition for +ve numbers\n",
    "    print(\"The number is positive\")\n",
    "else:         # condition for the number==0\n",
    "    print(\"The number is zero\")"
   ]
  },
  {
   "cell_type": "markdown",
   "id": "8852d029-1221-49dc-8f13-0235926eb655",
   "metadata": {},
   "source": [
    "2)Create a program to determine if a person is eligible to vote based on their age"
   ]
  },
  {
   "cell_type": "code",
   "execution_count": 2,
   "id": "2f5d15b2-4b13-4ae6-9570-a185947f9500",
   "metadata": {},
   "outputs": [
    {
     "name": "stdin",
     "output_type": "stream",
     "text": [
      "Enter the age of the person to check whether he is eligible for voting or not:-  22\n"
     ]
    },
    {
     "name": "stdout",
     "output_type": "stream",
     "text": [
      "The person is  eligible for voting\n"
     ]
    }
   ],
   "source": [
    "# taking the age input from the user\n",
    "age=int(input(\"Enter the age of the person to check whether he is eligible for voting or not:- \"))\n",
    "\n",
    "if age>=18:    # if conditions true person can vote\n",
    "    print(\"The person is  eligible for voting\")\n",
    "else:          # else not eligible to vote\n",
    "    print(\"The person is not eligible for voting\")"
   ]
  },
  {
   "cell_type": "markdown",
   "id": "54681c97-d505-4355-a9e9-139bf1f97e3e",
   "metadata": {},
   "source": [
    "3)Write a program to find the maximum of two given numbers using conditional statements."
   ]
  },
  {
   "cell_type": "code",
   "execution_count": 3,
   "id": "18cecada-e374-4591-92f0-4d9bc22e5ec6",
   "metadata": {},
   "outputs": [
    {
     "name": "stdin",
     "output_type": "stream",
     "text": [
      "Enter the first number:-  2\n",
      "Enter the second number:-  3\n"
     ]
    },
    {
     "name": "stdout",
     "output_type": "stream",
     "text": [
      "3 is greater than 2\n"
     ]
    }
   ],
   "source": [
    "a=int(input(\"Enter the first number:- \"))  # input first number from user\n",
    "b=int(input(\"Enter the second number:- \"))  # second number from user\n",
    "\n",
    "if a>=b:    # condion for a>b\n",
    "    print(f\"{a} is greater than {b}\")\n",
    "else:       # else b>a\n",
    "    print(f\"{b} is greater than {a}\")"
   ]
  },
  {
   "cell_type": "markdown",
   "id": "e7f221eb-d726-46db-9b7a-a7b43d69a01d",
   "metadata": {},
   "source": [
    "4)Develop a program that calculates the grade of a student based on their exam score."
   ]
  },
  {
   "cell_type": "code",
   "execution_count": 4,
   "id": "6ddeb7bb-cdf6-4e43-a279-8e31c8cf490d",
   "metadata": {},
   "outputs": [
    {
     "name": "stdin",
     "output_type": "stream",
     "text": [
      "Enter the marks to check the grade:-  93\n"
     ]
    },
    {
     "name": "stdout",
     "output_type": "stream",
     "text": [
      "The student having the marks 93.0 having the grade is 'A++' \n"
     ]
    }
   ],
   "source": [
    "marks=float(input(\"Enter the marks to check the grade:- \"))\n",
    "\n",
    "if marks>=90:\n",
    "    grade=\"A++\"\n",
    "elif marks>=80:\n",
    "    grade=\"A\"\n",
    "elif marks>=70:\n",
    "    grade=\"B++\"\n",
    "elif marks>=60:\n",
    "    grade=\"B\"\n",
    "elif marks>=50:\n",
    "    grade=\"C\"\n",
    "elif marks>=40:\n",
    "    grade=\"D\"\n",
    "else:\n",
    "    grade=\"Fail\"\n",
    "    \n",
    "print(f\"The student having the marks {marks} having the grade is '{grade}' \")"
   ]
  },
  {
   "cell_type": "markdown",
   "id": "cb6dbd15-6f03-4296-ac47-b7cd34d3144b",
   "metadata": {},
   "source": [
    "5)Create a program that checks if a year is a leap year or not."
   ]
  },
  {
   "cell_type": "code",
   "execution_count": 5,
   "id": "39b1c7e8-d6d8-4fd2-95e6-efee2bdb0e1e",
   "metadata": {},
   "outputs": [
    {
     "name": "stdin",
     "output_type": "stream",
     "text": [
      "Enter the year to check whether it is leap year or common year:-  2024\n"
     ]
    },
    {
     "name": "stdout",
     "output_type": "stream",
     "text": [
      "This is leap year\n"
     ]
    }
   ],
   "source": [
    "# taking the iput as year from the user\n",
    "year=int(input(\"Enter the year to check whether it is leap year or common year:- \"))\n",
    "\n",
    "if (year%4==0 and year%100!=0) or year%400==0:  # condition for leap year\n",
    "    print(\"This is leap year\")\n",
    "else:                                           # else not a leap year\n",
    "    print(\"This is not a leap year\")"
   ]
  },
  {
   "cell_type": "markdown",
   "id": "5611ef91-c040-4934-a545-867fba9e0923",
   "metadata": {},
   "source": [
    "6)Write a program to classify a triangle based on its sides' lengths."
   ]
  },
  {
   "cell_type": "code",
   "execution_count": 6,
   "id": "6494963a-bdbe-47ba-8218-bbfc213e7062",
   "metadata": {},
   "outputs": [
    {
     "name": "stdin",
     "output_type": "stream",
     "text": [
      "Enter the first side:-  1\n",
      "Enter the second side:-  2\n",
      "Enter the third side:-  3\n"
     ]
    },
    {
     "name": "stdout",
     "output_type": "stream",
     "text": [
      "Scalene triangle\n"
     ]
    }
   ],
   "source": [
    "# taking sides input from the user\n",
    "s1=float(input(\"Enter the first side:- \"))\n",
    "s2=float(input(\"Enter the second side:- \"))\n",
    "s3=float(input(\"Enter the third side:- \"))\n",
    "\n",
    "if s1==s2==s3:   # if all the sides are equal\n",
    "    print(\"Equilateral triangle\")\n",
    "elif (s1==s2 or s1==s3 or s2==s3):   # if any two sides are equal\n",
    "    print(\"isosceles triangle\")\n",
    "else:             # if any of the sides are not equals to each other\n",
    "    print(\"Scalene triangle\")"
   ]
  },
  {
   "cell_type": "markdown",
   "id": "b7fdde37-dbc6-4583-a11a-c85e17832991",
   "metadata": {},
   "source": [
    "7)Build a program that determines the largest of three given numbers."
   ]
  },
  {
   "cell_type": "code",
   "execution_count": 7,
   "id": "cfc3ed0a-19d4-477a-b234-9f16814ec9a7",
   "metadata": {},
   "outputs": [
    {
     "name": "stdin",
     "output_type": "stream",
     "text": [
      "Enter the first number:  12\n",
      "Enter the second number:  13\n",
      "Enter the third number:  14\n"
     ]
    },
    {
     "name": "stdout",
     "output_type": "stream",
     "text": [
      "14 is greater than or equal to 12 and 13\n"
     ]
    }
   ],
   "source": [
    "# Input three numbers from the user\n",
    "a = int(input(\"Enter the first number: \"))\n",
    "b = int(input(\"Enter the second number: \"))\n",
    "c = int(input(\"Enter the third number: \"))\n",
    "\n",
    "# Check which number is greater using if-elif-else statements\n",
    "if a >= b and a >= c:\n",
    "    # If 'a' is greater than or equal to 'b' and 'c'\n",
    "    print(f\"{a} is greater than or equal to {b} and {c}\")\n",
    "elif b >= c and b >= a:\n",
    "    # If 'b' is greater than or equal to 'c' and 'a'\n",
    "    print(f\"{b} is greater than or equal to {a} and {c}\")\n",
    "else:\n",
    "    # If 'c' is greater than or equal to 'a' and 'b'\n",
    "    print(f\"{c} is greater than or equal to {a} and {b}\")"
   ]
  },
  {
   "cell_type": "markdown",
   "id": "8f707bf9-9204-4bea-84e5-846e163fd7a9",
   "metadata": {},
   "source": [
    "8)Develop a program that checks whether a character is a vowel or a consonant."
   ]
  },
  {
   "cell_type": "code",
   "execution_count": 9,
   "id": "0559e948-4a89-4dcd-9504-4ae93242935a",
   "metadata": {},
   "outputs": [
    {
     "name": "stdin",
     "output_type": "stream",
     "text": [
      "Enter the character:-  a\n"
     ]
    },
    {
     "name": "stdout",
     "output_type": "stream",
     "text": [
      "'a' is a vowel\n"
     ]
    }
   ],
   "source": [
    "ch=input(\"Enter the character:- \")\n",
    "vowels='aeiouAEIOU'\n",
    "\n",
    "if ch.isalpha() and len(ch)==1:\n",
    "    if ch in vowels:\n",
    "        print(f\"'{ch}' is a vowel\")\n",
    "    else:\n",
    "        print(f\"'{ch}' is a consonant\")\n",
    "else:\n",
    "    print(f\"'{ch}' invalid character\") "
   ]
  },
  {
   "cell_type": "markdown",
   "id": "6ba9e58f-1fe4-4675-9655-deb57aa27c8b",
   "metadata": {},
   "source": [
    "9)Create a program to calculate the total cost of a shopping cart based on discounts"
   ]
  },
  {
   "cell_type": "code",
   "execution_count": 11,
   "id": "31b5396e-980b-4875-a654-3b7a5948a4c5",
   "metadata": {},
   "outputs": [
    {
     "name": "stdin",
     "output_type": "stream",
     "text": [
      "Enter the price of item 1:  12000\n",
      "Enter the price of item 2:  22222\n",
      "Enter the price of item 3:  222\n",
      "Enter the quantity of item 1:  22\n",
      "Enter the quantity of item 2:  22\n",
      "Enter the quantity of item 3:  22\n"
     ]
    },
    {
     "name": "stdout",
     "output_type": "stream",
     "text": [
      "You get 10.0% discount on your actual price Rs.757768.0, so your discounted bill is Rs.681991.20\n"
     ]
    }
   ],
   "source": [
    "# Input the prices of items bought by the user\n",
    "item1 = float(input(\"Enter the price of item 1: \"))\n",
    "item2 = float(input(\"Enter the price of item 2: \"))\n",
    "item3 = float(input(\"Enter the price of item 3: \"))\n",
    "\n",
    "# Input the quantity of each item bought by the user\n",
    "item1_qty = int(input(\"Enter the quantity of item 1: \"))\n",
    "item2_qty = int(input(\"Enter the quantity of item 2: \"))\n",
    "item3_qty = int(input(\"Enter the quantity of item 3: \"))\n",
    "\n",
    "# Calculate the total cost before discounts\n",
    "total_cost = (item1 * item1_qty) + (item2 * item2_qty) + (item3 * item3_qty)\n",
    "\n",
    "# Check for and apply discounts based on predefined rules\n",
    "if total_cost >= 10000:  # If the total cost is greater than or equal to Rs. 10,000\n",
    "    discount = 0.1  # 10% discount\n",
    "    discounted_bill = total_cost - (total_cost * discount)\n",
    "    print(f\"You get {discount*100}% discount on your actual price Rs.{total_cost}, so your discounted bill is Rs.{discounted_bill:.2f}\")\n",
    "elif total_cost >= 5000:  # If the total cost is greater than or equal to Rs. 5,000\n",
    "    discount = 0.05  # 5% discount\n",
    "    discounted_bill = total_cost - (total_cost * discount)\n",
    "    print(f\"You get {discount*100}% discount on your actual price Rs.{total_cost}, so your discounted bill is Rs.{discounted_bill:.2f}\")\n",
    "else:\n",
    "    # If the total cost is less than Rs. 5,000, no discount is applied\n",
    "    discounted_bill = total_cost\n",
    "    print(f\"You have purchased the items less than Rs. 5,000, so you are not getting any discount. Your total bill is Rs.{discounted_bill:.2f}\")"
   ]
  },
  {
   "cell_type": "markdown",
   "id": "cb6749ad-80db-4d27-af97-55e2f5d2c9fa",
   "metadata": {},
   "source": [
    "10)Write a program that checks if a given number is even or odd."
   ]
  },
  {
   "cell_type": "code",
   "execution_count": 12,
   "id": "9e802cb4-d29e-467d-a0c5-c614da814a62",
   "metadata": {},
   "outputs": [
    {
     "name": "stdin",
     "output_type": "stream",
     "text": [
      "Enter the number:  12\n"
     ]
    },
    {
     "name": "stdout",
     "output_type": "stream",
     "text": [
      "Even number\n"
     ]
    }
   ],
   "source": [
    "# Input a number from the user\n",
    "n = int(input(\"Enter the number: \"))\n",
    "\n",
    "# Check if the number is even or odd using the modulo operator (%)\n",
    "if n % 2 == 0:\n",
    "    # If the remainder when n is divided by 2 is 0, it's an even number\n",
    "    print(\"Even number\")\n",
    "else:\n",
    "    # If the remainder when n is divided by 2 is not 0, it's an odd number\n",
    "    print(\"Odd number\")"
   ]
  },
  {
   "cell_type": "markdown",
   "id": "e54ce40f-078d-4718-b13e-7ccdf4bcfa9a",
   "metadata": {},
   "source": [
    "intrmediate level:\n"
   ]
  },
  {
   "cell_type": "markdown",
   "id": "7686607e-3f2f-4f07-82ce-2c623a5da9f5",
   "metadata": {},
   "source": [
    "11)Write a program that calculates the roots of a quadratic equation ."
   ]
  },
  {
   "cell_type": "code",
   "execution_count": 1,
   "id": "ed996dd0-be61-4904-982d-3fff9d28ab1c",
   "metadata": {},
   "outputs": [
    {
     "name": "stdin",
     "output_type": "stream",
     "text": [
      "Enter the coefficient a:  33\n",
      "Enter the coefficient b:  33\n",
      "Enter the coefficient c:  33\n"
     ]
    },
    {
     "name": "stdout",
     "output_type": "stream",
     "text": [
      "The roots are complex: (-0.5+0.8660254037844387j) and (-0.5-0.8660254037844387j)\n"
     ]
    }
   ],
   "source": [
    "import math\n",
    "\n",
    "# Input coefficients a, b, and c from the user\n",
    "a = float(input(\"Enter the coefficient a: \"))\n",
    "b = float(input(\"Enter the coefficient b: \"))\n",
    "c = float(input(\"Enter the coefficient c: \"))\n",
    "\n",
    "# Calculate the discriminant (the value inside the square root)\n",
    "discriminant = b**2 - 4*a*c\n",
    "\n",
    "# Check the nature of the roots based on the discriminant\n",
    "if discriminant > 0:\n",
    "    # Two real and distinct roots\n",
    "    root1 = (-b + math.sqrt(discriminant)) / (2*a)\n",
    "    root2 = (-b - math.sqrt(discriminant)) / (2*a)\n",
    "    print(f\"The roots are real and distinct: {root1} and {root2}\")\n",
    "elif discriminant == 0:\n",
    "    # One real root (repeated)\n",
    "    root = -b / (2*a)\n",
    "    print(f\"The root is real and repeated: {root}\")\n",
    "else:\n",
    "    # Complex roots\n",
    "    real_part = -b / (2*a)\n",
    "    imaginary_part = math.sqrt(-discriminant) / (2*a)\n",
    "    root1 = complex(real_part, imaginary_part)\n",
    "    root2 = complex(real_part, -imaginary_part)\n",
    "    print(f\"The roots are complex: {root1} and {root2}\")"
   ]
  },
  {
   "cell_type": "markdown",
   "id": "9f06c982-213d-4a1f-8b59-923ebed11e3a",
   "metadata": {},
   "source": [
    "12)Create a program that determines the day of the week based on the day number (1-7)."
   ]
  },
  {
   "cell_type": "code",
   "execution_count": 14,
   "id": "393ae1c9-f7be-49a1-a270-f3cc50d9d201",
   "metadata": {},
   "outputs": [
    {
     "name": "stdin",
     "output_type": "stream",
     "text": [
      "Enter the number of the day between (1-7):-  2\n"
     ]
    },
    {
     "name": "stdout",
     "output_type": "stream",
     "text": [
      "on the 2th day the name of the day is tuesday\n"
     ]
    }
   ],
   "source": [
    "day_names=[\"monday\",\"tuesday\",\"wednesday\",\"thursday\",\"friday\",\"saturday\",\"sunday\"]\n",
    "day_number=int(input(\"Enter the number of the day between (1-7):- \"))\n",
    "\n",
    "if 1<= day_number <=7:\n",
    "    day_name=day_names[day_number-1]\n",
    "    \n",
    "else:\n",
    "    day_name=\"invalid day\"\n",
    "    \n",
    "print(f\"on the {day_number}th day the name of the day is {day_name}\")"
   ]
  },
  {
   "cell_type": "markdown",
   "id": "d8614fe1-0417-4222-95ec-11865f001608",
   "metadata": {},
   "source": [
    "13)Develop a program that calculates the factorial of a given number using recursion."
   ]
  },
  {
   "cell_type": "code",
   "execution_count": 15,
   "id": "2e15eebe-afeb-419c-899d-4e720d7cee76",
   "metadata": {},
   "outputs": [
    {
     "name": "stdin",
     "output_type": "stream",
     "text": [
      "Enter the number:  2\n"
     ]
    },
    {
     "name": "stdout",
     "output_type": "stream",
     "text": [
      "The factorial of the given number 2 is: 2\n"
     ]
    }
   ],
   "source": [
    "# Define a recursive function to calculate the factorial of a number 'n'\n",
    "def factorial(n):\n",
    "    # Base case: If 'n' is 0, return 1, as 0! is defined as 1\n",
    "    if n == 0:\n",
    "        return 1\n",
    "    else:\n",
    "        # Recursive case: Calculate factorial by multiplying 'n' with factorial of (n-1)\n",
    "        return n * factorial(n - 1)\n",
    "\n",
    "# Get user input for the number for which you want to calculate the factorial\n",
    "n = int(input(\"Enter the number: \"))\n",
    "\n",
    "# Check if the input number is negative\n",
    "if n < 0:\n",
    "    print(\"Factorial of a negative number is not defined.\")\n",
    "else:\n",
    "    # Call the 'factorial' function to calculate the factorial of 'n'\n",
    "    result = factorial(n)\n",
    "    # Print the result\n",
    "    print(f\"The factorial of the given number {n} is: {result}\")"
   ]
  },
  {
   "cell_type": "markdown",
   "id": "e8481545-f5fc-46a6-8f17-428c5490b4ee",
   "metadata": {},
   "source": [
    "14)Write a program to find the largest among three numbers without using the max() function."
   ]
  },
  {
   "cell_type": "code",
   "execution_count": 1,
   "id": "e55e06dc-f718-4c68-83f7-c4fc5f42c746",
   "metadata": {},
   "outputs": [
    {
     "name": "stdin",
     "output_type": "stream",
     "text": [
      "Enter the first number:  1\n",
      "Enter the second number:  2\n",
      "Enter the third number:  3\n"
     ]
    },
    {
     "name": "stdout",
     "output_type": "stream",
     "text": [
      "The largest number among 1.0 , 2.0 and 3.0 is: 3.0\n"
     ]
    }
   ],
   "source": [
    "# Get input for three numbers from the user\n",
    "num1 = float(input(\"Enter the first number: \"))\n",
    "num2 = float(input(\"Enter the second number: \"))\n",
    "num3 = float(input(\"Enter the third number: \"))\n",
    "\n",
    "# Compare the numbers to find the largest\n",
    "if num1 >= num2 and num1 >= num3:\n",
    "    largest = num1\n",
    "elif num2 >= num1 and num2 >= num3:\n",
    "    largest = num2\n",
    "else:\n",
    "    largest = num3\n",
    "\n",
    "# Print the largest number\n",
    "print(\"The largest number among\", num1, \",\", num2, \"and\", num3, \"is:\", largest)"
   ]
  },
  {
   "cell_type": "markdown",
   "id": "dea52546-d3a5-42d5-af2e-68ca7bdf4bda",
   "metadata": {},
   "source": [
    "15)Create a program that simulates a basic ATM transaction menu."
   ]
  },
  {
   "cell_type": "code",
   "execution_count": null,
   "id": "6a30c46f-c748-4d72-9a25-f5264aa5ffbd",
   "metadata": {},
   "outputs": [],
   "source": []
  },
  {
   "cell_type": "markdown",
   "id": "38c5273d-9443-47b5-9055-4504e1cda91d",
   "metadata": {},
   "source": [
    "16)Build a program that checks if a given string is a palindrome or not."
   ]
  },
  {
   "cell_type": "code",
   "execution_count": 3,
   "id": "9f5f6fe7-785e-4bd1-9499-dacccc316358",
   "metadata": {},
   "outputs": [
    {
     "name": "stdin",
     "output_type": "stream",
     "text": [
      "Enter the string:-  aftab\n"
     ]
    },
    {
     "name": "stdout",
     "output_type": "stream",
     "text": [
      "The string is not palindrome\n"
     ]
    }
   ],
   "source": [
    "# Ask the user to input a string and store it in the 'string' variable.\n",
    "string = input(\"Enter the string:- \")\n",
    "\n",
    "# Reverse the input string using slicing ([::-1]) and store it in 'reverse_str'.\n",
    "reverse_str = string[::-1]\n",
    "\n",
    "# Check if the original string is equal to its reverse.\n",
    "if string == reverse_str:\n",
    "    # If they are equal, print that the string is a palindrome.\n",
    "    print(\"The string is palindrome\")\n",
    "else:\n",
    "    # If they are not equal, print that the string is not a palindrome.\n",
    "    print(\"The string is not palindrome\")"
   ]
  },
  {
   "cell_type": "markdown",
   "id": "a565247a-3f58-4248-9d1e-d716fc3113c7",
   "metadata": {},
   "source": [
    "17)Write a program that calculates the average of a list of numbers, excluding the smallest and largest values."
   ]
  },
  {
   "cell_type": "code",
   "execution_count": 3,
   "id": "315ee8ed-e106-47e6-8c53-a6646c365203",
   "metadata": {},
   "outputs": [
    {
     "name": "stdout",
     "output_type": "stream",
     "text": [
      "The average excluding extremes is: 4.5\n"
     ]
    }
   ],
   "source": [
    "def calculate_average_excluding_extremes(numbers):\n",
    "    # Check if the list has at least 3 elements\n",
    "    if len(numbers) < 3:\n",
    "        return \"List must have at least 3 elements for valid calculation.\"\n",
    "\n",
    "    # Remove the smallest and largest values from the list\n",
    "    numbers.remove(min(numbers))\n",
    "    numbers.remove(max(numbers))\n",
    "\n",
    "    # Calculate the average of the remaining values\n",
    "    average = sum(numbers) / len(numbers)\n",
    "\n",
    "    return average\n",
    "\n",
    "# Example usage:\n",
    "numbers_list = [3, 8, 1, 6, 4, 7, 2, 5]\n",
    "result = calculate_average_excluding_extremes(numbers_list)\n",
    "print(f\"The average excluding extremes is: {result}\")\n"
   ]
  },
  {
   "cell_type": "markdown",
   "id": "565d5d86-dbdc-4dc8-8e93-38b55e3bbe9c",
   "metadata": {},
   "source": [
    "18)Develop a program that converts a given temperature from Celsius to Fahrenheit."
   ]
  },
  {
   "cell_type": "code",
   "execution_count": 7,
   "id": "e7b23e94-ae4f-4fd2-a1db-349fa7af67da",
   "metadata": {},
   "outputs": [
    {
     "name": "stdin",
     "output_type": "stream",
     "text": [
      "Enter temperature in Celsius:  12\n"
     ]
    },
    {
     "name": "stdout",
     "output_type": "stream",
     "text": [
      "12.0 degrees Celsius is equal to 53.6 degrees Fahrenheit\n"
     ]
    }
   ],
   "source": [
    "# Function to convert Celsius to Fahrenheit\n",
    "def celsius_to_fahrenheit(celsius):\n",
    "    fahrenheit = (celsius * 9/5) + 32\n",
    "    return fahrenheit\n",
    "\n",
    "# Input temperature in Celsius from the user\n",
    "celsius = float(input(\"Enter temperature in Celsius: \"))\n",
    "\n",
    "# Call the function to perform the conversion\n",
    "fahrenheit = celsius_to_fahrenheit(celsius)\n",
    "\n",
    "# Display the result\n",
    "print(f\"{celsius} degrees Celsius is equal to {fahrenheit} degrees Fahrenheit\")"
   ]
  },
  {
   "cell_type": "markdown",
   "id": "9d438273-2b3b-4df3-8457-f135144870ca",
   "metadata": {},
   "source": [
    "19)Create a program that simulates a basic calculator for addition, subtraction, multiplication, and division."
   ]
  },
  {
   "cell_type": "code",
   "execution_count": 10,
   "id": "48e6c32b-06e4-4eab-9864-4d9120f55818",
   "metadata": {},
   "outputs": [
    {
     "name": "stdin",
     "output_type": "stream",
     "text": [
      "Enter the first number:-  12\n",
      "Enter the second number:-  14\n"
     ]
    },
    {
     "name": "stdout",
     "output_type": "stream",
     "text": [
      "Enter + for addition!\n",
      "Enter - for subbtraction!\n",
      "Enter * for multiplication!\n",
      "Enter / for division!\n"
     ]
    },
    {
     "name": "stdin",
     "output_type": "stream",
     "text": [
      "Enter the operation you have to perform:-  -\n"
     ]
    },
    {
     "name": "stdout",
     "output_type": "stream",
     "text": [
      "The result is:-  -2\n"
     ]
    }
   ],
   "source": [
    "a=int(input(\"Enter the first number:- \"))\n",
    "b=int(input(\"Enter the second number:- \"))\n",
    "\n",
    "print(\"Enter + for addition!\")\n",
    "print(\"Enter - for subbtraction!\")\n",
    "print(\"Enter * for multiplication!\")\n",
    "print(\"Enter / for division!\")\n",
    "operation=input(\"Enter the operation you have to perform:- \")\n",
    "\n",
    "if operation=='+':\n",
    "    result=a+b\n",
    "elif operation=='-':\n",
    "    result=a-b\n",
    "elif operation=='*':\n",
    "    result=a*b\n",
    "elif operation=='/':\n",
    "    result=a/b\n",
    "else:\n",
    "    result=\"invalid operation\"\n",
    "    \n",
    "print(\"The result is:- \",result)"
   ]
  },
  {
   "cell_type": "markdown",
   "id": "68e22666-7ce3-4ed6-9033-acd832ac6667",
   "metadata": {},
   "source": [
    "20) Write a program that determines the roots of a cubic equation using the Cardano formula."
   ]
  },
  {
   "cell_type": "code",
   "execution_count": 11,
   "id": "95199da9-1162-4fc2-9f70-48cd6ad2b592",
   "metadata": {},
   "outputs": [
    {
     "name": "stdin",
     "output_type": "stream",
     "text": [
      "Enter coefficient a:  2\n",
      "Enter coefficient b:  3\n",
      "Enter coefficient c:  4\n",
      "Enter coefficient d:  5\n"
     ]
    },
    {
     "name": "stdout",
     "output_type": "stream",
     "text": [
      "The roots of the cubic equation are:\n",
      "Root 1: -1.450278-1.051593j\n"
     ]
    }
   ],
   "source": [
    "import math\n",
    "\n",
    "# Function to find the roots of a cubic equation using Cardano's method\n",
    "def cubic_roots(a, b, c, d):\n",
    "    # Calculate the discriminant and its components\n",
    "    p = c / a - (b ** 2) / (3 * (a ** 2))\n",
    "    q = (2 * (b ** 3)) / (27 * (a ** 3)) - (b * c) / (3 * (a ** 2)) + d / a\n",
    "    discriminant = (q ** 2) / 4 + (p ** 3) / 27\n",
    "\n",
    "    # Check the discriminant for different cases\n",
    "    if discriminant > 0:\n",
    "        u = ((-q / 2) + math.sqrt(discriminant)) ** (1 / 3)\n",
    "        v = ((-q / 2) - math.sqrt(discriminant)) ** (1 / 3)\n",
    "        real_root = -b / (3 * a) - u - v\n",
    "        return [real_root]\n",
    "\n",
    "    elif discriminant == 0:\n",
    "        u = ((-q / 2) + math.sqrt(discriminant)) ** (1 / 3)\n",
    "        v = ((-q / 2) - math.sqrt(discriminant)) ** (1 / 3)\n",
    "        real_root = -b / (3 * a) - u - v\n",
    "        imaginary_root = (u + v) / 2 * math.sqrt(3)\n",
    "        return [real_root, imaginary_root, imaginary_root]\n",
    "\n",
    "    else:\n",
    "        r = math.sqrt((-(p ** 3)) / 27)\n",
    "        theta = math.acos(-q / (2 * r))\n",
    "        root1 = 2 * math.sqrt(-p / 3) * math.cos(theta / 3) - b / (3 * a)\n",
    "        root2 = 2 * math.sqrt(-p / 3) * math.cos((theta + 2 * math.pi) / 3) - b / (3 * a)\n",
    "        root3 = 2 * math.sqrt(-p / 3) * math.cos((theta + 4 * math.pi) / 3) - b / (3 * a)\n",
    "        return [root1, root2, root3]\n",
    "\n",
    "# Input coefficients a, b, c, and d of the cubic equation\n",
    "a = float(input(\"Enter coefficient a: \"))\n",
    "b = float(input(\"Enter coefficient b: \"))\n",
    "c = float(input(\"Enter coefficient c: \"))\n",
    "d = float(input(\"Enter coefficient d: \"))\n",
    "\n",
    "# Calculate and display the roots\n",
    "roots = cubic_roots(a, b, c, d)\n",
    "print(\"The roots of the cubic equation are:\")\n",
    "for i, root in enumerate(roots):\n",
    "    print(f\"Root {i+1}: {root:.6f}\")"
   ]
  },
  {
   "cell_type": "markdown",
   "id": "72734a07-9dc5-4eaf-a4c8-1e3baf6dbc50",
   "metadata": {},
   "source": [
    "Advanced level:"
   ]
  },
  {
   "cell_type": "code",
   "execution_count": null,
   "id": "1797101e-12b1-45fa-a8c8-d82a97f3f836",
   "metadata": {},
   "outputs": [],
   "source": [
    "21)Create a program that calculates the income tax based on the user's income and tax brackets."
   ]
  },
  {
   "cell_type": "code",
   "execution_count": 12,
   "id": "2f0e788f-3386-42e5-a871-d98a0078d317",
   "metadata": {},
   "outputs": [
    {
     "name": "stdin",
     "output_type": "stream",
     "text": [
      "Enter your income:  100000\n"
     ]
    },
    {
     "name": "stdout",
     "output_type": "stream",
     "text": [
      "Your income tax is: -3000.20\n"
     ]
    }
   ],
   "source": [
    "# Define tax brackets and their corresponding tax rates\n",
    "tax_brackets = [\n",
    "    (0, 10000, 0.10),\n",
    "    (10001, 40000, 0.20),\n",
    "    (40001, 80000, 0.30),\n",
    "    (80001, float('inf'), 0.40)\n",
    "]\n",
    "\n",
    "# Input the user's income\n",
    "try:\n",
    "    income = float(input(\"Enter your income: \"))\n",
    "except ValueError:\n",
    "    print(\"Please enter a valid income.\")\n",
    "    exit(1)\n",
    "\n",
    "# Calculate the income tax\n",
    "tax_owed = 0\n",
    "\n",
    "for bracket in tax_brackets:\n",
    "    min_income, max_income, tax_rate = bracket\n",
    "    if income <= 0:\n",
    "        break\n",
    "    if income > max_income:\n",
    "        taxable_amount = max_income - min_income\n",
    "    else:\n",
    "        taxable_amount = income - min_income\n",
    "\n",
    "    tax_owed += taxable_amount * tax_rate\n",
    "    income -= taxable_amount\n",
    "\n",
    "# Display the calculated income tax\n",
    "print(f\"Your income tax is: {tax_owed:.2f}\")"
   ]
  },
  {
   "cell_type": "markdown",
   "id": "52a3b312-c648-4210-a399-5b3e608253fb",
   "metadata": {},
   "source": [
    "22)Write a program that simulates a rock-paper-scissors game against the computer."
   ]
  },
  {
   "cell_type": "code",
   "execution_count": 13,
   "id": "869c32de-1ab3-4fd5-a0e1-dde0da5af575",
   "metadata": {},
   "outputs": [
    {
     "name": "stdout",
     "output_type": "stream",
     "text": [
      "Let's play Rock-Paper-Scissors against the computer!\n"
     ]
    },
    {
     "name": "stdin",
     "output_type": "stream",
     "text": [
      "Choose rock, paper, or scissors:  paper\n"
     ]
    },
    {
     "name": "stdout",
     "output_type": "stream",
     "text": [
      "You chose paper.\n",
      "Computer chose paper.\n",
      "It's a tie!\n"
     ]
    },
    {
     "name": "stdin",
     "output_type": "stream",
     "text": [
      "Play again? (yes/no):  \n"
     ]
    },
    {
     "name": "stdout",
     "output_type": "stream",
     "text": [
      "Thanks for playing!\n"
     ]
    }
   ],
   "source": [
    "import random\n",
    "\n",
    "def get_user_choice():\n",
    "    \"\"\"Get the user's choice (rock, paper, or scissors).\"\"\"\n",
    "    while True:\n",
    "        user_choice = input(\"Choose rock, paper, or scissors: \").lower()\n",
    "        if user_choice in [\"rock\", \"paper\", \"scissors\"]:\n",
    "            return user_choice\n",
    "        else:\n",
    "            print(\"Invalid choice. Please choose rock, paper, or scissors.\")\n",
    "\n",
    "def get_computer_choice():\n",
    "    \"\"\"Generate the computer's choice (randomly).\"\"\"\n",
    "    choices = [\"rock\", \"paper\", \"scissors\"]\n",
    "    return random.choice(choices)\n",
    "\n",
    "def determine_winner(user_choice, computer_choice):\n",
    "    \"\"\"Determine the winner of the game.\"\"\"\n",
    "    if user_choice == computer_choice:\n",
    "        return \"It's a tie!\"\n",
    "    elif (\n",
    "        (user_choice == \"rock\" and computer_choice == \"scissors\")\n",
    "        or (user_choice == \"paper\" and computer_choice == \"rock\")\n",
    "        or (user_choice == \"scissors\" and computer_choice == \"paper\")\n",
    "    ):\n",
    "        return \"You win!\"\n",
    "    else:\n",
    "        return \"Computer wins!\"\n",
    "\n",
    "def play_game():\n",
    "    \"\"\"Play the rock-paper-scissors game.\"\"\"\n",
    "    print(\"Let's play Rock-Paper-Scissors against the computer!\")\n",
    "\n",
    "    while True:\n",
    "        user_choice = get_user_choice()\n",
    "        computer_choice = get_computer_choice()\n",
    "\n",
    "        print(f\"You chose {user_choice}.\")\n",
    "        print(f\"Computer chose {computer_choice}.\")\n",
    "\n",
    "        result = determine_winner(user_choice, computer_choice)\n",
    "        print(result)\n",
    "\n",
    "        play_again = input(\"Play again? (yes/no): \").lower()\n",
    "        if play_again != \"yes\":\n",
    "            print(\"Thanks for playing!\")\n",
    "            break\n",
    "\n",
    "if __name__ == \"__main__\":\n",
    "    play_game()\n"
   ]
  },
  {
   "cell_type": "markdown",
   "id": "eace3683-66f4-477f-b406-e1c08eb36e5f",
   "metadata": {},
   "source": [
    "23)Develop a program that generates a random password based on user preferences (length, complexity)."
   ]
  },
  {
   "cell_type": "code",
   "execution_count": 16,
   "id": "813f271e-4e10-4ebe-bf1d-b4ec98d0ba5f",
   "metadata": {},
   "outputs": [
    {
     "name": "stdout",
     "output_type": "stream",
     "text": [
      "-----------Password generator------------\n",
      "--------Generates a stronger password-------\n"
     ]
    },
    {
     "name": "stdin",
     "output_type": "stream",
     "text": [
      "Enter the length of the password:  6\n",
      "Enter the complexity of the password ('high', 'low', or 'medium'):  low\n"
     ]
    },
    {
     "name": "stdout",
     "output_type": "stream",
     "text": [
      "Your password is: 'vYwgih'\n"
     ]
    }
   ],
   "source": [
    "# Import necessary modules\n",
    "import random\n",
    "import string as st\n",
    "\n",
    "# Function to generate a random password\n",
    "def password_generator(length, complexity):\n",
    "    # Define character sets based on complexity level\n",
    "    if complexity == \"low\":\n",
    "        characters = st.ascii_letters  # Letters only\n",
    "    elif complexity == \"medium\":\n",
    "        characters = st.ascii_letters + st.digits  # Letters and digits\n",
    "    elif complexity == \"hard\":\n",
    "        characters = st.ascii_letters + st.digits + st.punctuation  # Letters, digits, and punctuation\n",
    "    else:\n",
    "        print(\"Invalid complexity. Please enter 'high', 'low', or 'medium'.\")\n",
    "        return None\n",
    "    \n",
    "    # Generate a random password by selecting characters from the chosen set\n",
    "    password = ''.join(random.choice(characters) for _ in range(length))\n",
    "    return password\n",
    "\n",
    "# Main function to take user input and generate a password\n",
    "def main():\n",
    "    print(\"-----------Password generator------------\")\n",
    "    print(\"--------Generates a stronger password-------\")\n",
    "    \n",
    "    # Prompt the user for password length and complexity\n",
    "    length = int(input(\"Enter the length of the password: \"))\n",
    "    complexity = input(\"Enter the complexity of the password ('high', 'low', or 'medium'): \")\n",
    "    \n",
    "    # Generate the password using the provided inputs\n",
    "    pass_gen = password_generator(length, complexity)\n",
    "    \n",
    "    # Display the generated password\n",
    "    if pass_gen:\n",
    "        print(f\"Your password is: '{pass_gen}'\")\n",
    "\n",
    "# Check if the script is being run as the main program\n",
    "if __name__ == \"__main__\":\n",
    "    main()"
   ]
  },
  {
   "cell_type": "markdown",
   "id": "a7f04817-450b-4495-93e5-be4e9e07aa62",
   "metadata": {},
   "source": [
    "24)Create a program that implements a simple text-based adventure game with branching scenarios.\n"
   ]
  },
  {
   "cell_type": "code",
   "execution_count": 3,
   "id": "be220521-05c7-487e-9ba2-d877404bd01a",
   "metadata": {},
   "outputs": [
    {
     "name": "stdout",
     "output_type": "stream",
     "text": [
      "Welcome to the Text Adventure Game!\n",
      "You find yourself at a crossroads. Which path will you choose?\n",
      "1. Go left\n",
      "2. Go right\n"
     ]
    },
    {
     "name": "stdin",
     "output_type": "stream",
     "text": [
      "Enter 1 or 2:  2\n"
     ]
    },
    {
     "name": "stdout",
     "output_type": "stream",
     "text": [
      "You chose to go right.\n",
      "The sun sets, and there's a beautiful river nearby.\n",
      "1. Relax by the river\n",
      "2. Continue exploring\n"
     ]
    },
    {
     "name": "stdin",
     "output_type": "stream",
     "text": [
      "Enter 1 or 2:  1\n"
     ]
    },
    {
     "name": "stdout",
     "output_type": "stream",
     "text": [
      "You spend a peaceful night on the bank of river, feeling refreshed.\n",
      "Thanks for playing the Text Adventure Game.\n"
     ]
    },
    {
     "name": "stdin",
     "output_type": "stream",
     "text": [
      "Do you want to play again? (yes/no):  no\n"
     ]
    },
    {
     "name": "stdout",
     "output_type": "stream",
     "text": [
      "Thanks for playing! Goodbye.\n"
     ]
    }
   ],
   "source": [
    "def start_game():\n",
    "    print(\"Welcome to the Text Adventure Game!\")\n",
    "    print(\"You find yourself at a crossroads. Which path will you choose?\")\n",
    "    print(\"1. Go left\")\n",
    "    print(\"2. Go right\")\n",
    "\n",
    "    choice = input(\"Enter 1 or 2: \")\n",
    "\n",
    "    if choice == \"1\":\n",
    "        path_left()\n",
    "    elif choice == \"2\":\n",
    "        path_right()\n",
    "    else:\n",
    "        print(\"Invalid choice. Please enter 1 or 2.\")\n",
    "        start_game()\n",
    "\n",
    "def path_left():\n",
    "    print(\"You chose to go left and find a treasure around you in the forest.\")\n",
    "    print(\"You can hear strange noises in the distance.\")\n",
    "    print(\"1. Enter the forest\")\n",
    "    print(\"2. Turn back\")\n",
    "\n",
    "    choice = input(\"Enter 1 or 2: \")\n",
    "\n",
    "    if choice == \"1\":\n",
    "        explore_forest()\n",
    "    elif choice == \"2\":\n",
    "        start_game()\n",
    "    else:\n",
    "        print(\"Invalid choice. Please enter 1 or 2.\")\n",
    "        path_left()\n",
    "\n",
    "def path_right():\n",
    "    print(\"You chose to go right.\")\n",
    "    print(\"The sun sets, and there's a beautiful river nearby.\")\n",
    "    print(\"1. Relax by the river\")\n",
    "    print(\"2. Continue exploring\")\n",
    "\n",
    "    choice = input(\"Enter 1 or 2: \")\n",
    "\n",
    "    if choice == \"1\":\n",
    "        relax_by_river()\n",
    "    elif choice == \"2\":\n",
    "        continue_exploring()\n",
    "    else:\n",
    "        print(\"Invalid choice. Please enter 1 or 2.\")\n",
    "        path_right()\n",
    "\n",
    "def explore_forest():\n",
    "    print(\"You venture into the forest and discover a hidden treasure chest!\")\n",
    "    print(\"Congratulations! You've won the game.\")\n",
    "    play_again()\n",
    "\n",
    "def relax_by_river():\n",
    "    print(\"You spend a peaceful night on the bank of river, feeling refreshed.\")\n",
    "    print(\"Thanks for playing the Text Adventure Game.\")\n",
    "    play_again()\n",
    "\n",
    "def continue_exploring():\n",
    "    print(\"You continue exploring the meadow and come across a friendly unicorn!\")\n",
    "    print(\"The unicorn offers to take you on a magical journey.\")\n",
    "    print(\"You've completed the adventure. Well done!\")\n",
    "    play_again()\n",
    "\n",
    "def play_again():\n",
    "    play_again = input(\"Do you want to play again? (yes/no): \").lower()\n",
    "    if play_again == \"yes\":\n",
    "        start_game()\n",
    "    elif play_again == \"no\":\n",
    "        print(\"Thanks for playing! Goodbye.\")\n",
    "    else:\n",
    "        print(\"Invalid choice. Please enter 'yes' or 'no'.\")\n",
    "        play_again()\n",
    "\n",
    "# Start the game\n",
    "start_game()"
   ]
  },
  {
   "cell_type": "markdown",
   "id": "9aaaf4c5-8829-4b91-8a74-77322661f0d2",
   "metadata": {},
   "source": [
    "25)Build a program that solves a linear equation for x, considering different cases."
   ]
  },
  {
   "cell_type": "code",
   "execution_count": 4,
   "id": "180d109c-53c1-44b9-b3c8-2c6b9f0fea1f",
   "metadata": {},
   "outputs": [
    {
     "name": "stdout",
     "output_type": "stream",
     "text": [
      "Linear Equation Solver\n",
      "Enter a linear equation in the form 'ax + b = 0'\n"
     ]
    },
    {
     "name": "stdin",
     "output_type": "stream",
     "text": [
      "Enter the value of 'a':  13\n",
      "Enter the value of 'b':  16\n"
     ]
    },
    {
     "name": "stdout",
     "output_type": "stream",
     "text": [
      "The solution is x = -1.2307692307692308\n"
     ]
    }
   ],
   "source": [
    "# Define a function to solve a linear equation ax + b = 0\n",
    "def solve_linear_equation(a, b):\n",
    "    if a == 0:\n",
    "        if b == 0:\n",
    "            # Case 1: Infinite solutions (identity equation)\n",
    "            return \"Infinite solutions (identity equation)\"\n",
    "        else:\n",
    "            # Case 2: No solution (contradiction)\n",
    "            return \"No solution (contradiction)\"\n",
    "    else:\n",
    "        # Case 3: Calculate and return the solution x\n",
    "        x = -b / a\n",
    "        return f\"The solution is x = {x}\"\n",
    "\n",
    "# Define the main function\n",
    "def main():\n",
    "    print(\"Linear Equation Solver\")\n",
    "    print(\"Enter a linear equation in the form 'ax + b = 0'\")\n",
    "\n",
    "    try:\n",
    "        # Get user input for coefficients 'a' and 'b' as floating-point numbers\n",
    "        a = float(input(\"Enter the value of 'a': \"))\n",
    "        b = float(input(\"Enter the value of 'b': \"))\n",
    "    except ValueError:\n",
    "        # Handle invalid input (non-numeric values)\n",
    "        print(\"Invalid input. Please enter numeric values for 'a' and 'b'.\")\n",
    "        return\n",
    "\n",
    "    # Call the solve_linear_equation function to calculate the solution\n",
    "    result = solve_linear_equation(a, b)\n",
    "    \n",
    "    # Display the result (either the solution or a message about infinite/no solutions)\n",
    "    print(result)\n",
    "\n",
    "# Check if the script is being run as the main program\n",
    "if __name__ == \"__main__\":\n",
    "    # Call the main function to start the program\n",
    "    main()"
   ]
  },
  {
   "cell_type": "markdown",
   "id": "d2814dd1-54d4-4f54-859c-221e49bd1c10",
   "metadata": {},
   "source": [
    "26) Write a program that simulates a basic quiz game with multiple-choice questions and scoring."
   ]
  },
  {
   "cell_type": "code",
   "execution_count": 5,
   "id": "785b6e35-8b4c-4268-bdfb-39bf0d466a6c",
   "metadata": {},
   "outputs": [
    {
     "name": "stdout",
     "output_type": "stream",
     "text": [
      "Welcome to the quiz game-----------\n",
      "Q1. what is the full form of Ml:- \n",
      "A) machine learning\n",
      "B) man learning\n",
      "C) mutual learning\n"
     ]
    },
    {
     "name": "stdin",
     "output_type": "stream",
     "text": [
      "choose any one of them A,B or C:-  a\n"
     ]
    },
    {
     "name": "stdout",
     "output_type": "stream",
     "text": [
      "Your answer is correct\n",
      "Q2. what is the full form of DL:- \n",
      "A) dear learning\n",
      "B) deep learning\n",
      "C) do learning\n"
     ]
    },
    {
     "name": "stdin",
     "output_type": "stream",
     "text": [
      "choose any one of them A,B or C:-  b\n"
     ]
    },
    {
     "name": "stdout",
     "output_type": "stream",
     "text": [
      "Your answer is correct\n",
      "Q3. what is the full form of LLM:- \n",
      "A) Large Language Model\n",
      "B) Large Language machine\n",
      "C) Learn Language model\n"
     ]
    },
    {
     "name": "stdin",
     "output_type": "stream",
     "text": [
      "choose any one of them A,B or C:-  a\n"
     ]
    },
    {
     "name": "stdout",
     "output_type": "stream",
     "text": [
      "Your answer is correct\n",
      "Your Total score in the quiz is 3/3\n"
     ]
    }
   ],
   "source": [
    "def quiz_game():\n",
    "    print(\"Welcome to the quiz game-----------\")\n",
    "    score=0\n",
    "    # question 1\n",
    "    print(\"Q1. what is the full form of Ml:- \")\n",
    "    print(\"A) machine learning\")\n",
    "    print(\"B) man learning\")\n",
    "    print(\"C) mutual learning\")\n",
    "    \n",
    "    answer1=input(\"choose any one of them A,B or C:- \").upper()\n",
    "    if answer1==\"A\":\n",
    "        print(\"Your answer is correct\")\n",
    "        score+=1\n",
    "    else:\n",
    "        print(\"Incorrect answer\")\n",
    "    \n",
    "    # question 2\n",
    "    \n",
    "    print(\"Q2. what is the full form of DL:- \")\n",
    "    print(\"A) dear learning\")\n",
    "    print(\"B) deep learning\")\n",
    "    print(\"C) do learning\")\n",
    "    \n",
    "    answer2=input(\"choose any one of them A,B or C:- \").upper()\n",
    "    if answer2==\"B\":\n",
    "        print(\"Your answer is correct\")\n",
    "        score+=1\n",
    "    else:\n",
    "        print(\"Incorrect answer\")\n",
    "        \n",
    "    # question 3\n",
    "    \n",
    "    print(\"Q3. what is the full form of LLM:- \")\n",
    "    print(\"A) Large Language Model\")\n",
    "    print(\"B) Large Language machine\")\n",
    "    print(\"C) Learn Language model\")\n",
    "    \n",
    "    answer3=input(\"choose any one of them A,B or C:- \").upper()\n",
    "    if answer3==\"A\":\n",
    "        print(\"Your answer is correct\")\n",
    "        score+=1\n",
    "    else:\n",
    "        print(\"Incorrect answer\")\n",
    "    \n",
    "    \n",
    "    print(f\"Your Total score in the quiz is {score}/3\")\n",
    "if __name__ == \"__main__\":\n",
    "    quiz_game()"
   ]
  },
  {
   "cell_type": "markdown",
   "id": "58910f2f-0786-4adf-b7c0-21cf8fe58891",
   "metadata": {},
   "source": [
    "27)Develop a program that determines whether a given is a prime number or not."
   ]
  },
  {
   "cell_type": "code",
   "execution_count": 6,
   "id": "9cf48a7d-ce79-41c7-80c6-c6090be38457",
   "metadata": {},
   "outputs": [
    {
     "name": "stdout",
     "output_type": "stream",
     "text": [
      "--------prime year checker---------\n"
     ]
    },
    {
     "name": "stdin",
     "output_type": "stream",
     "text": [
      "Enter the year to check whether it is prime or not:_  2004\n"
     ]
    },
    {
     "name": "stdout",
     "output_type": "stream",
     "text": [
      "No the given year 2004 is not a prime number\n"
     ]
    }
   ],
   "source": [
    "def prime_year(year):\n",
    "    if year<=1:\n",
    "        return False\n",
    "    \n",
    "    for i in range(2,int(year**0.5)+1):\n",
    "        if (year%i==0):\n",
    "            return False\n",
    "    return True\n",
    "\n",
    "def main():\n",
    "    print(\"--------prime year checker---------\")\n",
    "    \n",
    "    \n",
    "    try:\n",
    "        year=int(input(\"Enter the year to check whether it is prime or not:_ \"))\n",
    "        if prime_year(year==4):\n",
    "            print(f\"Yes the given year {year} is a prime number\")\n",
    "        else:\n",
    "            print(f\"No the given year {year} is not a prime number\")\n",
    "            \n",
    "    except ValueError:\n",
    "        print(\"Enter the valid year\")\n",
    "\n",
    "if __name__==\"__main__\":\n",
    "    main()\n"
   ]
  },
  {
   "cell_type": "markdown",
   "id": "856579db-ac0c-4f75-ae1e-950809638d27",
   "metadata": {},
   "source": [
    "28)Create a program that sorts three numbers in ascending order using conditional statements."
   ]
  },
  {
   "cell_type": "code",
   "execution_count": 8,
   "id": "af4ddbc4-ab59-4189-b634-543b168f493b",
   "metadata": {},
   "outputs": [
    {
     "name": "stdout",
     "output_type": "stream",
     "text": [
      "Ascending Order Sorter\n"
     ]
    },
    {
     "name": "stdin",
     "output_type": "stream",
     "text": [
      "Enter the first number:  1\n",
      "Enter the second number:  7\n",
      "Enter the third number:  4\n"
     ]
    },
    {
     "name": "stdout",
     "output_type": "stream",
     "text": [
      "Sorted numbers in ascending order: (1, 4, 7)\n"
     ]
    }
   ],
   "source": [
    "def sort_numbers(num1, num2, num3):\n",
    "    if num1 <= num2 and num1 <= num3:\n",
    "        if num2 <= num3:\n",
    "            return num1, num2, num3\n",
    "        else:\n",
    "            return num1, num3, num2\n",
    "    elif num2 <= num1 and num2 <= num3:\n",
    "        if num1 <= num3:\n",
    "            return num2, num1, num3\n",
    "        else:\n",
    "            return num2, num3, num1\n",
    "    else:\n",
    "        if num1 <= num2:\n",
    "            return num3, num1, num2\n",
    "        else:\n",
    "            return num3, num2, num1\n",
    "\n",
    "def main():\n",
    "    print(\"Ascending Order Sorter\")\n",
    "    try:\n",
    "        num1 = int(input(\"Enter the first number: \"))\n",
    "        num2 = int(input(\"Enter the second number: \"))\n",
    "        num3 = int(input(\"Enter the third number: \"))\n",
    "        \n",
    "        sorted_nums = sort_numbers(num1, num2, num3)\n",
    "        \n",
    "        print(\"Sorted numbers in ascending order:\", sorted_nums)\n",
    "    except ValueError:\n",
    "        print(\"Invalid input. Please enter valid numeric values.\")\n",
    "\n",
    "if __name__ == \"__main__\":\n",
    "    main()"
   ]
  },
  {
   "cell_type": "markdown",
   "id": "413f1a14-2057-4837-8911-cce55d4ecc3a",
   "metadata": {},
   "source": [
    "29)Build a program that determines the roots of a quartic equation using numerical methods."
   ]
  },
  {
   "cell_type": "code",
   "execution_count": null,
   "id": "3929585d-4838-4aed-87b9-ce9fe7cfd7ef",
   "metadata": {},
   "outputs": [],
   "source": [
    "import numpy as np\n",
    "from scipy.optimize import fsolve\n",
    "\n",
    "def quartic_equation(coefficients, x):\n",
    "    \"\"\"\n",
    "    Define the quartic equation function.\n",
    "    coefficients: list of coefficients [a, b, c, d, e] for the equation ax^4 + bx^3 + cx^2 + dx + e = 0\n",
    "    x: input value\n",
    "    \"\"\"\n",
    "    a, b, c, d, e = coefficients\n",
    "    return a*x**4 + b*x**3 + c*x**2 + d*x + e\n",
    "\n",
    "def solve_quartic(coefficients):\n",
    "    \"\"\"\n",
    "    Solve the quartic equation numerically.\n",
    "    coefficients: list of coefficients [a, b, c, d, e] for the equation ax^4 + bx^3 + cx^2 + dx + e = 0\n",
    "    \"\"\"\n",
    "    # Define a function that takes x and returns the quartic equation\n",
    "    equation = lambda x: quartic_equation(coefficients, x)\n",
    "    \n",
    "    # Initial guess for the roots\n",
    "    initial_guesses = np.linspace(-10, 10, 5)\n",
    "    \n",
    "    # Use scipy's fsolve to find the roots numerically\n",
    "    roots = []\n",
    "    for guess in initial_guesses:\n",
    "        root, info, ier, mesg = fsolve(equation, guess, full_output=True)\n",
    "        if ier == 1:\n",
    "            roots.append(root[0])\n",
    "    \n",
    "    return roots\n",
    "\n",
    "# Example usage:\n",
    "coefficients = [1, -10, 35, -50, 24]  # Example coefficients for the equation x^4 - 10x^3 + 35x^2 - 50x + 24 = 0\n",
    "roots = solve_quartic(coefficients)\n",
    "print(\"Roots of the quartic equation:\", roots)\n"
   ]
  },
  {
   "cell_type": "markdown",
   "id": "e7dcd8c2-3f4f-4802-a9e0-a3353087c7a3",
   "metadata": {},
   "source": [
    "30)Write a program that calculates the BMI (Body Mass Index) and provides health recommendations based on the user's input."
   ]
  },
  {
   "cell_type": "code",
   "execution_count": 12,
   "id": "3c23d898-8dda-4f7e-a44b-e99bb3c166e9",
   "metadata": {},
   "outputs": [
    {
     "name": "stdout",
     "output_type": "stream",
     "text": [
      "BMI Calculator and Health Recommendations\n"
     ]
    },
    {
     "name": "stdin",
     "output_type": "stream",
     "text": [
      "Enter your weight in kilograms:  100\n",
      "Enter your height in meters:  6\n"
     ]
    },
    {
     "name": "stdout",
     "output_type": "stream",
     "text": [
      "Your BMI is: 2.78\n",
      "You are underweight. Consider gaining some weight.\n"
     ]
    }
   ],
   "source": [
    "def calculate_bmi(weight, height):\n",
    "    \"\"\"\n",
    "    Calculate the Body Mass Index (BMI) using weight (in kilograms) and height (in meters).\n",
    "    Formula: BMI = weight / (height^2)\n",
    "    \"\"\"\n",
    "    if weight <= 0 or height <= 0:\n",
    "        return None  # Invalid input\n",
    "\n",
    "    bmi = weight / (height ** 2)\n",
    "    return bmi\n",
    "\n",
    "def get_health_recommendation(bmi):\n",
    "    \"\"\"\n",
    "    Provide health recommendations based on BMI.\n",
    "    \"\"\"\n",
    "    if bmi is None:\n",
    "        return \"Invalid input. Please enter valid weight and height.\"\n",
    "    elif bmi < 18.5:\n",
    "        return \"You are underweight. Consider gaining some weight.\"\n",
    "    elif 18.5 <= bmi < 24.9:\n",
    "        return \"Your BMI is in the normal range. Maintain a healthy lifestyle.\"\n",
    "    elif 25.0 <= bmi < 29.9:\n",
    "        return \"You are overweight. Consider losing some weight.\"\n",
    "    else:\n",
    "        return \"You are obese. Consult a healthcare professional for guidance.\"\n",
    "\n",
    "def main():\n",
    "    print(\"BMI Calculator and Health Recommendations\")\n",
    "    try:\n",
    "        weight = float(input(\"Enter your weight in kilograms: \"))\n",
    "        height = float(input(\"Enter your height in meters: \"))\n",
    "\n",
    "        bmi = calculate_bmi(weight, height)\n",
    "\n",
    "        print(f\"Your BMI is: {bmi:.2f}\")\n",
    "        recommendation = get_health_recommendation(bmi)\n",
    "        print(recommendation)\n",
    "    except ValueError:\n",
    "        print(\"Invalid input. Please enter valid numeric values for weight and height.\")\n",
    "\n",
    "if __name__ == \"__main__\":\n",
    "    main()"
   ]
  },
  {
   "cell_type": "markdown",
   "id": "de63915f-c69e-4c03-a6e3-ff8e1c9b0a8a",
   "metadata": {},
   "source": [
    "Challanged level:"
   ]
  },
  {
   "cell_type": "markdown",
   "id": "90796657-954a-4606-9249-9c01fe919079",
   "metadata": {},
   "source": [
    "31)Create a program that validates a password based on complexity rules (length, characters, etc.)."
   ]
  },
  {
   "cell_type": "code",
   "execution_count": 15,
   "id": "0bce2636-f55e-498b-9302-f42be43cca27",
   "metadata": {},
   "outputs": [
    {
     "name": "stdout",
     "output_type": "stream",
     "text": [
      "-----Password Generator---------\n",
      "--------Strong Password--------\n"
     ]
    },
    {
     "name": "stdin",
     "output_type": "stream",
     "text": [
      "Enter the length of the password:  4\n",
      "Enter which type of password you want (alpha/alphanum/special):  alpha\n"
     ]
    },
    {
     "name": "stdout",
     "output_type": "stream",
     "text": [
      "Your password is: vSQf\n"
     ]
    }
   ],
   "source": [
    "import string\n",
    "import random\n",
    "\n",
    "def password_gen(length, character):\n",
    "    # Define character sets based on the user's choice\n",
    "    if character == \"alpha\":\n",
    "        pass_d = string.ascii_letters  # Password contains only alphabets\n",
    "    elif character == \"alphanum\":\n",
    "        pass_d = string.ascii_letters + string.digits  # Password contains alphabets and numbers\n",
    "    elif character == \"special\":\n",
    "        pass_d = string.punctuation + string.digits  # Password contains special characters and numbers\n",
    "    else:\n",
    "        print(\"Enter the correct type for the password!\")\n",
    "        return None\n",
    "\n",
    "    # Generate the password by randomly selecting characters from the chosen character set\n",
    "    password = ''.join(random.choice(pass_d) for _ in range(length))\n",
    "    return password\n",
    "\n",
    "def main():\n",
    "    print(\"-----Password Generator---------\")\n",
    "    print(\"--------Strong Password--------\")\n",
    "\n",
    "    # Prompt the user for password length and character type\n",
    "    length = int(input(\"Enter the length of the password: \"))\n",
    "    character = input(\"Enter which type of password you want (alpha/alphanum/special): \")\n",
    "\n",
    "    # Generate the password using the user's input\n",
    "    pass_gen = password_gen(length, character)\n",
    "\n",
    "    # Display the generated password\n",
    "    if pass_gen:\n",
    "        print(f\"Your password is: {pass_gen}\")\n",
    "\n",
    "if __name__ == \"__main__\":\n",
    "    main()"
   ]
  },
  {
   "cell_type": "markdown",
   "id": "aa6c347f-2d2f-4515-b27a-44cf4b9a619b",
   "metadata": {},
   "source": [
    "32)Develop a program that performs matrix addition and subtraction based on user input."
   ]
  },
  {
   "cell_type": "code",
   "execution_count": 2,
   "id": "4758615b-64d4-449e-9109-ee4fcfabcd5c",
   "metadata": {},
   "outputs": [
    {
     "name": "stdout",
     "output_type": "stream",
     "text": [
      "Matrix Addition and Subtraction Program\n",
      "Enter details for the first matrix:\n"
     ]
    },
    {
     "name": "stdin",
     "output_type": "stream",
     "text": [
      "Enter the number of rows:  2\n",
      "Enter the number of columns:  2\n",
      "Enter the element at position (1, 1):  1\n",
      "Enter the element at position (1, 2):  3\n",
      "Enter the element at position (2, 1):  1\n",
      "Enter the element at position (2, 2):  2\n"
     ]
    },
    {
     "name": "stdout",
     "output_type": "stream",
     "text": [
      "Enter details for the second matrix:\n"
     ]
    },
    {
     "name": "stdin",
     "output_type": "stream",
     "text": [
      "Enter the number of rows:  3\n",
      "Enter the number of columns:  3\n",
      "Enter the element at position (1, 1):  1\n",
      "Enter the element at position (1, 2):  2\n",
      "Enter the element at position (1, 3):  3\n",
      "Enter the element at position (2, 1):  4\n",
      "Enter the element at position (2, 2):  3\n",
      "Enter the element at position (2, 3):  2\n",
      "Enter the element at position (3, 1):  1\n",
      "Enter the element at position (3, 2):  2\n",
      "Enter the element at position (3, 3):  1\n"
     ]
    },
    {
     "name": "stdout",
     "output_type": "stream",
     "text": [
      "Matrix 1:\n",
      "[1.0, 3.0]\n",
      "[1.0, 2.0]\n",
      "Matrix 2:\n",
      "[1.0, 2.0, 3.0]\n",
      "[4.0, 3.0, 2.0]\n",
      "[1.0, 2.0, 1.0]\n",
      "Sum of the matrices:\n",
      "[2.0, 5.0]\n",
      "[5.0, 5.0]\n",
      "Difference of the matrices:\n",
      "[0.0, 1.0]\n",
      "[-3.0, -1.0]\n"
     ]
    }
   ],
   "source": [
    "def add_matrices(matrix1, matrix2):\n",
    "    result = []\n",
    "    for i in range(len(matrix1)):\n",
    "        row = []\n",
    "        for j in range(len(matrix1[0])):\n",
    "            row.append(matrix1[i][j] + matrix2[i][j])\n",
    "        result.append(row)\n",
    "    return result\n",
    "\n",
    "def subtract_matrices(matrix1, matrix2):\n",
    "    result = []\n",
    "    for i in range(len(matrix1)):\n",
    "        row = []\n",
    "        for j in range(len(matrix1[0])):\n",
    "            row.append(matrix1[i][j] - matrix2[i][j])\n",
    "        result.append(row)\n",
    "    return result\n",
    "\n",
    "def input_matrix():\n",
    "    rows = int(input(\"Enter the number of rows: \"))\n",
    "    columns = int(input(\"Enter the number of columns: \"))\n",
    "    \n",
    "    matrix = []\n",
    "    for i in range(rows):\n",
    "        row = []\n",
    "        for j in range(columns):\n",
    "            element = float(input(f\"Enter the element at position ({i+1}, {j+1}): \"))\n",
    "            row.append(element)\n",
    "        matrix.append(row)\n",
    "    \n",
    "    return matrix\n",
    "\n",
    "def display_matrix(matrix):\n",
    "    for row in matrix:\n",
    "        print(row)\n",
    "\n",
    "# Main program\n",
    "print(\"Matrix Addition and Subtraction Program\")\n",
    "\n",
    "print(\"Enter details for the first matrix:\")\n",
    "matrix1 = input_matrix()\n",
    "\n",
    "print(\"Enter details for the second matrix:\")\n",
    "matrix2 = input_matrix()\n",
    "\n",
    "print(\"Matrix 1:\")\n",
    "display_matrix(matrix1)\n",
    "\n",
    "print(\"Matrix 2:\")\n",
    "display_matrix(matrix2)\n",
    "\n",
    "sum_matrix = add_matrices(matrix1, matrix2)\n",
    "difference_matrix = subtract_matrices(matrix1, matrix2)\n",
    "\n",
    "print(\"Sum of the matrices:\")\n",
    "display_matrix(sum_matrix)\n",
    "\n",
    "print(\"Difference of the matrices:\")\n",
    "display_matrix(difference_matrix)\n"
   ]
  },
  {
   "cell_type": "markdown",
   "id": "606f2370-7000-4c38-8864-d7e464a9daee",
   "metadata": {},
   "source": [
    "33)Write a program that calculates the greatest common divisor (GCD) of two numbers using the Euclidean algorithm."
   ]
  },
  {
   "cell_type": "code",
   "execution_count": 3,
   "id": "b1ea12de-7036-479f-84e9-ae4dd02d5cc9",
   "metadata": {},
   "outputs": [
    {
     "name": "stdout",
     "output_type": "stream",
     "text": [
      "Greatest Common Divisor (GCD) Calculator\n"
     ]
    },
    {
     "name": "stdin",
     "output_type": "stream",
     "text": [
      "Enter the first number:  2\n",
      "Enter the second number:  3\n"
     ]
    },
    {
     "name": "stdout",
     "output_type": "stream",
     "text": [
      "The GCD of 2 and 3 is: 1\n"
     ]
    }
   ],
   "source": [
    "def euclidean_gcd(a, b):\n",
    "    \"\"\"\n",
    "    Calculate the Greatest Common Divisor (GCD) of two numbers using the Euclidean algorithm.\n",
    "    \"\"\"\n",
    "    while b:\n",
    "        a, b = b, a % b\n",
    "    return a\n",
    "\n",
    "def main():\n",
    "    print(\"Greatest Common Divisor (GCD) Calculator\")\n",
    "    try:\n",
    "        num1 = int(input(\"Enter the first number: \"))\n",
    "        num2 = int(input(\"Enter the second number: \"))\n",
    "\n",
    "        gcd = euclidean_gcd(num1, num2)\n",
    "\n",
    "        print(f\"The GCD of {num1} and {num2} is: {gcd}\")\n",
    "    except ValueError:\n",
    "        print(\"Invalid input. Please enter valid numeric values.\")\n",
    "\n",
    "if __name__ == \"__main__\":\n",
    "    main()"
   ]
  },
  {
   "cell_type": "markdown",
   "id": "9e91c1fc-d834-4f12-9eee-85b25e1f8ee9",
   "metadata": {},
   "source": [
    "34)Build a program that performs matrix multiplication using nested loops and conditional statements."
   ]
  },
  {
   "cell_type": "code",
   "execution_count": 7,
   "id": "a95bd9ec-8dc9-4d4c-be9d-fe8013ca529b",
   "metadata": {},
   "outputs": [
    {
     "name": "stdout",
     "output_type": "stream",
     "text": [
      "Matrix Multiplication\n"
     ]
    },
    {
     "name": "stdin",
     "output_type": "stream",
     "text": [
      "Enter the number of rows for first matrix:  2\n",
      "Enter the number of columns for first matrix:  3\n"
     ]
    },
    {
     "name": "stdout",
     "output_type": "stream",
     "text": [
      "Enter first matrix:\n"
     ]
    },
    {
     "name": "stdin",
     "output_type": "stream",
     "text": [
      "Enter element at row 1, column 1:  1\n",
      "Enter element at row 1, column 2:  2\n",
      "Enter element at row 1, column 3:  3\n",
      "Enter element at row 2, column 1:  4\n",
      "Enter element at row 2, column 2:  5\n",
      "Enter element at row 2, column 3:  6\n",
      "Enter the number of rows for second matrix:  3\n",
      "Enter the number of columns for second matrix:  2\n"
     ]
    },
    {
     "name": "stdout",
     "output_type": "stream",
     "text": [
      "Enter second matrix:\n"
     ]
    },
    {
     "name": "stdin",
     "output_type": "stream",
     "text": [
      "Enter element at row 1, column 1:  7\n",
      "Enter element at row 1, column 2:  8\n",
      "Enter element at row 2, column 1:  9\n",
      "Enter element at row 2, column 2:  10\n",
      "Enter element at row 3, column 1:  11\n",
      "Enter element at row 3, column 2:  12\n"
     ]
    },
    {
     "name": "stdout",
     "output_type": "stream",
     "text": [
      "\n",
      "Matrix Multiplication Result:\n",
      "[58.0, 64.0]\n",
      "[139.0, 154.0]\n"
     ]
    }
   ],
   "source": [
    "# Define a function to perform matrix multiplication between two matrices.\n",
    "def matrix_multiply(matrix1, matrix2):\n",
    "    # Get the dimensions of the input matrices.\n",
    "    rows1, cols1 = len(matrix1), len(matrix1[0])\n",
    "    rows2, cols2 = len(matrix2), len(matrix2[0])\n",
    "\n",
    "    # Check if the matrices can be multiplied (the number of columns in the first matrix must match the number of rows in the second matrix).\n",
    "    if cols1 != rows2:\n",
    "        return None  # The matrices cannot be multiplied\n",
    "\n",
    "    # Initialize an empty matrix to store the result.\n",
    "    result = []\n",
    "    for i in range(rows1):\n",
    "        row = []\n",
    "        for j in range(cols2):\n",
    "            element = 0\n",
    "            # Perform the dot product of the corresponding row from the first matrix and column from the second matrix.\n",
    "            for k in range(cols1):\n",
    "                element += matrix1[i][k] * matrix2[k][j]\n",
    "            row.append(element)\n",
    "        result.append(row)\n",
    "\n",
    "    return result\n",
    "\n",
    "# Define a function to input a matrix from the user.\n",
    "def input_matrix(prompt):\n",
    "    try:\n",
    "        rows = int(input(f\"Enter the number of rows for {prompt} matrix: \"))\n",
    "        cols = int(input(f\"Enter the number of columns for {prompt} matrix: \"))\n",
    "\n",
    "        matrix = []\n",
    "        print(f\"Enter {prompt} matrix:\")\n",
    "        for i in range(rows):\n",
    "            row = []\n",
    "            for j in range(cols):\n",
    "                element = float(input(f\"Enter element at row {i+1}, column {j+1}: \"))\n",
    "                row.append(element)\n",
    "            matrix.append(row)\n",
    "\n",
    "        return matrix\n",
    "    except ValueError:\n",
    "        print(\"Invalid input. Please enter valid numeric values for the matrix.\")\n",
    "        return None\n",
    "\n",
    "# Define the main function.\n",
    "def main():\n",
    "    print(\"Matrix Multiplication\")\n",
    "    \n",
    "    # Input the first and second matrices.\n",
    "    matrix1 = input_matrix(\"first\")\n",
    "    matrix2 = input_matrix(\"second\")\n",
    "\n",
    "    # Check if the matrices were input correctly.\n",
    "    if matrix1 is None or matrix2 is None:\n",
    "        return\n",
    "\n",
    "    # Perform matrix multiplication.\n",
    "    multiplication_result = matrix_multiply(matrix1, matrix2)\n",
    "\n",
    "    # Display the results if they are not None.\n",
    "    if multiplication_result is not None:\n",
    "        print(\"\\nMatrix Multiplication Result:\")\n",
    "        for row in multiplication_result:\n",
    "            print(row)\n",
    "\n",
    "# Check if the script is run as the main program.\n",
    "if __name__ == \"__main__\":\n",
    "    main()"
   ]
  },
  {
   "cell_type": "markdown",
   "id": "0525d3cd-2c46-4a15-8201-9a9ef908eb3f",
   "metadata": {},
   "source": [
    "35)Create a program that simulates a basic text-based tic-tac-toe game against the computer."
   ]
  },
  {
   "cell_type": "code",
   "execution_count": 1,
   "id": "e1f77dfa-44f8-4475-8be1-4ffcba5c84d4",
   "metadata": {},
   "outputs": [
    {
     "name": "stdout",
     "output_type": "stream",
     "text": [
      "Welcome to Text-based Tic-Tac-Toe!\n",
      "  |   |  \n",
      "---------\n",
      "  |   |  \n",
      "---------\n",
      "  |   |  \n",
      "---------\n"
     ]
    },
    {
     "name": "stdin",
     "output_type": "stream",
     "text": [
      "Enter the row (1, 2, or 3):  2\n",
      "Enter the column (1, 2, or 3):  2\n"
     ]
    },
    {
     "name": "stdout",
     "output_type": "stream",
     "text": [
      "Computer's turn...\n",
      "  |   | O\n",
      "---------\n",
      "  | X |  \n",
      "---------\n",
      "  |   |  \n",
      "---------\n"
     ]
    },
    {
     "name": "stdin",
     "output_type": "stream",
     "text": [
      "Enter the row (1, 2, or 3):  1\n",
      "Enter the column (1, 2, or 3):  1\n"
     ]
    },
    {
     "name": "stdout",
     "output_type": "stream",
     "text": [
      "Computer's turn...\n",
      "X |   | O\n",
      "---------\n",
      "  | X | O\n",
      "---------\n",
      "  |   |  \n",
      "---------\n"
     ]
    },
    {
     "name": "stdin",
     "output_type": "stream",
     "text": [
      "Enter the row (1, 2, or 3):  3\n",
      "Enter the column (1, 2, or 3):  3\n"
     ]
    },
    {
     "name": "stdout",
     "output_type": "stream",
     "text": [
      "X |   | O\n",
      "---------\n",
      "  | X | O\n",
      "---------\n",
      "  |   | X\n",
      "---------\n",
      "Congratulations! You win!\n"
     ]
    }
   ],
   "source": [
    "import random\n",
    "\n",
    "def print_board(board):\n",
    "    for row in board:\n",
    "        print(\" | \".join(row))\n",
    "        print(\"-\" * 9)\n",
    "\n",
    "def check_winner(board, player):\n",
    "    # Check rows and columns\n",
    "    for i in range(3):\n",
    "        if all(board[i][j] == player for j in range(3)) or all(board[j][i] == player for j in range(3)):\n",
    "            return True\n",
    "\n",
    "    # Check diagonals\n",
    "    if all(board[i][i] == player for i in range(3)) or all(board[i][2 - i] == player for i in range(3)):\n",
    "        return True\n",
    "\n",
    "    return False\n",
    "\n",
    "def is_board_full(board):\n",
    "    return all(board[i][j] != ' ' for i in range(3) for j in range(3))\n",
    "\n",
    "def get_empty_positions(board):\n",
    "    return [(i, j) for i in range(3) for j in range(3) if board[i][j] == ' ']\n",
    "\n",
    "def player_move(board):\n",
    "    while True:\n",
    "        try:\n",
    "            row = int(input(\"Enter the row (1, 2, or 3): \")) - 1\n",
    "            col = int(input(\"Enter the column (1, 2, or 3): \")) - 1\n",
    "\n",
    "            if board[row][col] == ' ':\n",
    "                return row, col\n",
    "            else:\n",
    "                print(\"Cell already taken. Try again.\")\n",
    "        except (ValueError, IndexError):\n",
    "            print(\"Invalid input. Please enter a valid row and column.\")\n",
    "\n",
    "def computer_move(board):\n",
    "    empty_positions = get_empty_positions(board)\n",
    "    return random.choice(empty_positions)\n",
    "\n",
    "def play_tic_tac_toe():\n",
    "    board = [[' ' for _ in range(3)] for _ in range(3)]\n",
    "    player_symbol = 'X'\n",
    "    computer_symbol = 'O'\n",
    "\n",
    "    print(\"Welcome to Text-based Tic-Tac-Toe!\")\n",
    "\n",
    "    while True:\n",
    "        print_board(board)\n",
    "\n",
    "        # Player's move\n",
    "        player_row, player_col = player_move(board)\n",
    "        board[player_row][player_col] = player_symbol\n",
    "\n",
    "        # Check if the player wins\n",
    "        if check_winner(board, player_symbol):\n",
    "            print_board(board)\n",
    "            print(\"Congratulations! You win!\")\n",
    "            break\n",
    "\n",
    "        # Check for a draw\n",
    "        if is_board_full(board):\n",
    "            print_board(board)\n",
    "            print(\"It's a draw!\")\n",
    "            break\n",
    "\n",
    "        # Computer's move\n",
    "        print(\"Computer's turn...\")\n",
    "        computer_row, computer_col = computer_move(board)\n",
    "        board[computer_row][computer_col] = computer_symbol\n",
    "\n",
    "        # Check if the computer wins\n",
    "        if check_winner(board, computer_symbol):\n",
    "            print_board(board)\n",
    "            print(\"Sorry, you lose! The computer wins.\")\n",
    "            break\n",
    "\n",
    "if __name__ == \"__main__\":\n",
    "    play_tic_tac_toe()\n"
   ]
  },
  {
   "cell_type": "markdown",
   "id": "432db083-8cc4-4a2a-aa89-31a775219de1",
   "metadata": {},
   "source": [
    "36)Write a program that generates Fibonacci numbers up to a specified term using iterative methods"
   ]
  },
  {
   "cell_type": "code",
   "execution_count": 2,
   "id": "69eaa8ba-3a45-4e37-8de6-a001a9a12850",
   "metadata": {},
   "outputs": [
    {
     "name": "stdout",
     "output_type": "stream",
     "text": [
      "Fibonacci Number Generator (Iterative)\n"
     ]
    },
    {
     "name": "stdin",
     "output_type": "stream",
     "text": [
      "Enter the number of Fibonacci numbers to generate:  10\n"
     ]
    },
    {
     "name": "stdout",
     "output_type": "stream",
     "text": [
      "Fibonacci sequence up to term 10:\n",
      "Term 1: 0\n",
      "Term 2: 1\n",
      "Term 3: 1\n",
      "Term 4: 2\n",
      "Term 5: 3\n",
      "Term 6: 5\n",
      "Term 7: 8\n",
      "Term 8: 13\n",
      "Term 9: 21\n",
      "Term 10: 34\n"
     ]
    }
   ],
   "source": [
    "def generate_fibonacci(n):\n",
    "    # Initialize variables to store the first two Fibonacci numbers.\n",
    "    fib_list = [0, 1]\n",
    "\n",
    "    # Generate Fibonacci numbers iteratively.\n",
    "    while len(fib_list) < n:\n",
    "        next_num = fib_list[-1] + fib_list[-2]\n",
    "        fib_list.append(next_num)\n",
    "\n",
    "    return fib_list\n",
    "\n",
    "def main():\n",
    "    print(\"Fibonacci Number Generator (Iterative)\")\n",
    "    try:\n",
    "        n = int(input(\"Enter the number of Fibonacci numbers to generate: \"))\n",
    "        if n <= 0:\n",
    "            print(\"Please enter a positive integer.\")\n",
    "            return\n",
    "\n",
    "        fibonacci_sequence = generate_fibonacci(n)\n",
    "\n",
    "        print(f\"Fibonacci sequence up to term {n}:\")\n",
    "        for term, number in enumerate(fibonacci_sequence, start=1):\n",
    "            print(f\"Term {term}: {number}\")\n",
    "    except ValueError:\n",
    "        print(\"Invalid input. Please enter a valid positive integer.\")\n",
    "\n",
    "if __name__ == \"__main__\":\n",
    "    main()"
   ]
  },
  {
   "cell_type": "markdown",
   "id": "3f844e48-0d6d-40e3-aea7-c2f9c7aaf32f",
   "metadata": {},
   "source": [
    "37)Develop a program that calculates the nth term of the Fibonacci sequence using memoization."
   ]
  },
  {
   "cell_type": "code",
   "execution_count": 3,
   "id": "44c329a7-dc29-40da-a259-9c9028ca1ad6",
   "metadata": {},
   "outputs": [
    {
     "name": "stdout",
     "output_type": "stream",
     "text": [
      "Fibonacci Number Calculator (Memoization)\n"
     ]
    },
    {
     "name": "stdin",
     "output_type": "stream",
     "text": [
      "Enter the term (n) of the Fibonacci sequence to calculate:  3\n"
     ]
    },
    {
     "name": "stdout",
     "output_type": "stream",
     "text": [
      "The 3-th term of the Fibonacci sequence is: 2\n"
     ]
    }
   ],
   "source": [
    "# Dictionary to store already computed Fibonacci numbers for memoization.\n",
    "fib_cache = {}\n",
    "\n",
    "def fibonacci_memoization(n):\n",
    "    # Base cases: Fibonacci of 0 and 1 is 0 and 1, respectively.\n",
    "    if n in fib_cache:\n",
    "        # If the result is already cached, return it.\n",
    "        return fib_cache[n]\n",
    "    if n == 0:\n",
    "        return 0\n",
    "    elif n == 1:\n",
    "        return 1\n",
    "    else:\n",
    "        # Calculate Fibonacci using recursion and memoization.\n",
    "        result = fibonacci_memoization(n - 1) + fibonacci_memoization(n - 2)\n",
    "        # Cache the result for future use.\n",
    "        fib_cache[n] = result\n",
    "        return result\n",
    "\n",
    "def main():\n",
    "    print(\"Fibonacci Number Calculator (Memoization)\")\n",
    "    try:\n",
    "        n = int(input(\"Enter the term (n) of the Fibonacci sequence to calculate: \"))\n",
    "        if n < 0:\n",
    "            print(\"Please enter a non-negative integer.\")\n",
    "            return\n",
    "\n",
    "        fibonacci_number = fibonacci_memoization(n)\n",
    "\n",
    "        print(f\"The {n}-th term of the Fibonacci sequence is: {fibonacci_number}\")\n",
    "    except ValueError:\n",
    "        print(\"Invalid input. Please enter a valid non-negative integer.\")\n",
    "\n",
    "if __name__ == \"__main__\":\n",
    "    main()"
   ]
  },
  {
   "cell_type": "markdown",
   "id": "ddfad999-66a3-4e08-bb98-39cf7ae60813",
   "metadata": {},
   "source": [
    "38) Create a program that generates a calendar for a given month and year using conditional statements."
   ]
  },
  {
   "cell_type": "code",
   "execution_count": 4,
   "id": "629a4e36-f959-4d7b-a98b-f148a3ea5cdb",
   "metadata": {},
   "outputs": [
    {
     "name": "stdout",
     "output_type": "stream",
     "text": [
      "Calendar Generator\n"
     ]
    },
    {
     "name": "stdin",
     "output_type": "stream",
     "text": [
      "Enter the year:  2004\n",
      "Enter the month (1-12):  4\n"
     ]
    },
    {
     "name": "stdout",
     "output_type": "stream",
     "text": [
      "Calendar for April 2004\n",
      "\n",
      "Mon\tTue\tWed\tThu\tFri\tSat\tSun\t\n",
      "  \t  \t  \t 1\t 2\t 3\t 4\t\n",
      " 5\t 6\t 7\t 8\t 9\t10\t11\t\n",
      "12\t13\t14\t15\t16\t17\t18\t\n",
      "19\t20\t21\t22\t23\t24\t25\t\n",
      "26\t27\t28\t29\t30\t  \t  \t\n"
     ]
    }
   ],
   "source": [
    "import calendar\n",
    "\n",
    "def generate_calendar(year, month):\n",
    "    # Create a calendar object for the specified year and month.\n",
    "    cal = calendar.monthcalendar(year, month)\n",
    "\n",
    "    # Get the names of the days of the week.\n",
    "    weekdays = ['Mon', 'Tue', 'Wed', 'Thu', 'Fri', 'Sat', 'Sun']\n",
    "\n",
    "    # Print the month and year header.\n",
    "    month_name = calendar.month_name[month]\n",
    "    print(f\"Calendar for {month_name} {year}\\n\")\n",
    "\n",
    "    # Print the day headers (Mon, Tue, ..., Sun).\n",
    "    for day in weekdays:\n",
    "        print(day, end='\\t')\n",
    "    print()  # Move to the next line\n",
    "\n",
    "    # Iterate through each week in the calendar and print the dates.\n",
    "    for week in cal:\n",
    "        for day in week:\n",
    "            if day == 0:\n",
    "                print('  ', end='\\t')  # Print two spaces for empty days\n",
    "            else:\n",
    "                print(f\"{day:2d}\", end='\\t')  # Print day with leading zero\n",
    "        print()  # Move to the next line\n",
    "\n",
    "def main():\n",
    "    print(\"Calendar Generator\")\n",
    "    try:\n",
    "        year = int(input(\"Enter the year: \"))\n",
    "        month = int(input(\"Enter the month (1-12): \"))\n",
    "\n",
    "        if 1 <= month <= 12:\n",
    "            generate_calendar(year, month)\n",
    "        else:\n",
    "            print(\"Invalid month. Please enter a number between 1 and 12.\")\n",
    "    except ValueError:\n",
    "        print(\"Invalid input. Please enter valid numeric values.\")\n",
    "\n",
    "if __name__ == \"__main__\":\n",
    "    main()"
   ]
  },
  {
   "cell_type": "markdown",
   "id": "ec6f4c96-902b-4492-aee9-9567d92cee7f",
   "metadata": {},
   "source": [
    "39)Build a program that simulates a basic text-based blackjack game against the computer."
   ]
  },
  {
   "cell_type": "code",
   "execution_count": 5,
   "id": "e517304d-4659-4278-9d6e-e86716be1a00",
   "metadata": {},
   "outputs": [
    {
     "name": "stdout",
     "output_type": "stream",
     "text": [
      "Welcome to Text-Based Blackjack!\n",
      "\n",
      "Your hand:\n",
      "King of Hearts\n",
      "Seven of Diamonds\n",
      "Total Value: 17\n",
      "\n"
     ]
    },
    {
     "name": "stdin",
     "output_type": "stream",
     "text": [
      "Do you want to 'Hit' or 'Stand'?  hit\n"
     ]
    },
    {
     "name": "stdout",
     "output_type": "stream",
     "text": [
      "\n",
      "Your hand:\n",
      "King of Hearts\n",
      "Seven of Diamonds\n",
      "Queen of Hearts\n",
      "Total Value: 27\n",
      "\n",
      "\n",
      "Computer's hand:\n",
      "Ace of Hearts\n",
      "Seven of Spades\n",
      "Total Value: 18\n",
      "\n",
      "Bust! You lose.\n"
     ]
    },
    {
     "name": "stdin",
     "output_type": "stream",
     "text": [
      "Do you want to play again? (yes/no):  no\n"
     ]
    },
    {
     "name": "stdout",
     "output_type": "stream",
     "text": [
      "Thanks for playing!\n"
     ]
    }
   ],
   "source": [
    "import random\n",
    "\n",
    "# Define card ranks, suits, and values.\n",
    "suits = ['Hearts', 'Diamonds', 'Clubs', 'Spades']\n",
    "ranks = ['Two', 'Three', 'Four', 'Five', 'Six', 'Seven', 'Eight', 'Nine', 'Ten', 'Jack', 'Queen', 'King', 'Ace']\n",
    "values = [2, 3, 4, 5, 6, 7, 8, 9, 10, 10, 10, 10, 11]\n",
    "\n",
    "# Define the maximum hand value before busting.\n",
    "max_hand_value = 21\n",
    "\n",
    "def deal_card():\n",
    "    \"\"\"Deal a random card.\"\"\"\n",
    "    suit = random.choice(suits)\n",
    "    rank = random.choice(ranks)\n",
    "    value = values[ranks.index(rank)]\n",
    "    return {'suit': suit, 'rank': rank, 'value': value}\n",
    "\n",
    "def calculate_hand_value(hand):\n",
    "    \"\"\"Calculate the value of a hand, accounting for aces.\"\"\"\n",
    "    total_value = sum(card['value'] for card in hand)\n",
    "    num_aces = sum(1 for card in hand if card['rank'] == 'Ace')\n",
    "\n",
    "    while total_value > max_hand_value and num_aces:\n",
    "        total_value -= 10\n",
    "        num_aces -= 1\n",
    "\n",
    "    return total_value\n",
    "\n",
    "def display_hand(hand):\n",
    "    \"\"\"Display a player's hand.\"\"\"\n",
    "    for card in hand:\n",
    "        print(f\"{card['rank']} of {card['suit']}\")\n",
    "\n",
    "def blackjack():\n",
    "    print(\"Welcome to Text-Based Blackjack!\")\n",
    "\n",
    "    while True:\n",
    "        player_hand = [deal_card(), deal_card()]\n",
    "        computer_hand = [deal_card()]\n",
    "\n",
    "        print(\"\\nYour hand:\")\n",
    "        display_hand(player_hand)\n",
    "        print(f\"Total Value: {calculate_hand_value(player_hand)}\\n\")\n",
    "\n",
    "        while calculate_hand_value(player_hand) < max_hand_value:\n",
    "            choice = input(\"Do you want to 'Hit' or 'Stand'? \").strip().lower()\n",
    "\n",
    "            if choice == 'hit':\n",
    "                player_hand.append(deal_card())\n",
    "                print(\"\\nYour hand:\")\n",
    "                display_hand(player_hand)\n",
    "                print(f\"Total Value: {calculate_hand_value(player_hand)}\\n\")\n",
    "            elif choice == 'stand':\n",
    "                break\n",
    "            else:\n",
    "                print(\"Invalid choice. Enter 'Hit' or 'Stand'.\")\n",
    "\n",
    "        while calculate_hand_value(computer_hand) < 17:\n",
    "            computer_hand.append(deal_card())\n",
    "\n",
    "        print(\"\\nComputer's hand:\")\n",
    "        display_hand(computer_hand)\n",
    "        print(f\"Total Value: {calculate_hand_value(computer_hand)}\\n\")\n",
    "\n",
    "        player_value = calculate_hand_value(player_hand)\n",
    "        computer_value = calculate_hand_value(computer_hand)\n",
    "\n",
    "        if player_value > max_hand_value:\n",
    "            print(\"Bust! You lose.\")\n",
    "        elif computer_value > max_hand_value:\n",
    "            print(\"Computer busts! You win.\")\n",
    "        elif player_value > computer_value:\n",
    "            print(\"You win!\")\n",
    "        elif player_value < computer_value:\n",
    "            print(\"You lose.\")\n",
    "        else:\n",
    "            print(\"It's a tie!\")\n",
    "\n",
    "        play_again = input(\"Do you want to play again? (yes/no): \").strip().lower()\n",
    "        if play_again != 'yes':\n",
    "            print(\"Thanks for playing!\")\n",
    "            break\n",
    "\n",
    "if __name__ == \"__main__\":\n",
    "    blackjack()"
   ]
  },
  {
   "cell_type": "markdown",
   "id": "2fc1d450-109a-4966-a56e-b5aaff9fcfde",
   "metadata": {},
   "source": [
    "40) Write a program that generates the prime factors of a given number using trial division."
   ]
  },
  {
   "cell_type": "code",
   "execution_count": 6,
   "id": "7e998a38-1eeb-4036-9204-e3171248744e",
   "metadata": {},
   "outputs": [
    {
     "name": "stdout",
     "output_type": "stream",
     "text": [
      "Prime Factor Generator\n"
     ]
    },
    {
     "name": "stdin",
     "output_type": "stream",
     "text": [
      "Enter a positive integer:  2\n"
     ]
    },
    {
     "name": "stdout",
     "output_type": "stream",
     "text": [
      "2 is a prime number.\n"
     ]
    }
   ],
   "source": [
    "def prime_factors(n):\n",
    "    factors = []  # Initialize an empty list to store the prime factors.\n",
    "    divisor = 2   # Start with the smallest prime divisor, which is 2.\n",
    "\n",
    "    while n > 1:\n",
    "        while n % divisor == 0:\n",
    "            # While n is divisible by the current divisor, add the divisor to the list of factors.\n",
    "            factors.append(divisor)\n",
    "            # Divide n by the divisor to reduce n.\n",
    "            n //= divisor\n",
    "        divisor += 1  # Move on to the next potential divisor.\n",
    "\n",
    "    return factors  # Return the list of prime factors once n becomes 1.\n",
    "\n",
    "def main():\n",
    "    print(\"Prime Factor Generator\")\n",
    "\n",
    "    try:\n",
    "        num = int(input(\"Enter a positive integer: \"))\n",
    "\n",
    "        if num <= 0:\n",
    "            print(\"Please enter a positive integer.\")\n",
    "        else:\n",
    "            factors = prime_factors(num)\n",
    "\n",
    "            if len(factors) == 1:\n",
    "                print(f\"{num} is a prime number.\")  # If only one factor, it's the number itself.\n",
    "            else:\n",
    "                print(f\"The prime factors of {num} are: {', '.join(map(str, factors))}\")\n",
    "                # Display the prime factors as a comma-separated string.\n",
    "    except ValueError:\n",
    "        print(\"Invalid input. Please enter a positive integer.\")\n",
    "\n",
    "if __name__ == \"__main__\":\n",
    "    main()"
   ]
  }
 ],
 "metadata": {
  "kernelspec": {
   "display_name": "Python 3 (ipykernel)",
   "language": "python",
   "name": "python3"
  },
  "language_info": {
   "codemirror_mode": {
    "name": "ipython",
    "version": 3
   },
   "file_extension": ".py",
   "mimetype": "text/x-python",
   "name": "python",
   "nbconvert_exporter": "python",
   "pygments_lexer": "ipython3",
   "version": "3.12.1"
  }
 },
 "nbformat": 4,
 "nbformat_minor": 5
}
