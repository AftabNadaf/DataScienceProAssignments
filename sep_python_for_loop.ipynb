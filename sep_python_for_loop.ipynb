{
 "cells": [
  {
   "cell_type": "markdown",
   "id": "e03a6994-2286-4957-ba0b-e4efd748a2f8",
   "metadata": {},
   "source": [
    "Basic level"
   ]
  },
  {
   "cell_type": "markdown",
   "id": "5917cf7e-81fa-4dd3-89a1-dd1bc4585c20",
   "metadata": {},
   "source": [
    "1) Write a Python program to print the numbers from 1 to 10 using a for loop.\n",
    "\n"
   ]
  },
  {
   "cell_type": "code",
   "execution_count": 4,
   "id": "84b2cf24-8610-4d06-b1de-8165de0920b6",
   "metadata": {},
   "outputs": [
    {
     "name": "stdin",
     "output_type": "stream",
     "text": [
      "Enter the range of counting:  10\n"
     ]
    },
    {
     "name": "stdout",
     "output_type": "stream",
     "text": [
      "1\n",
      "2\n",
      "3\n",
      "4\n",
      "5\n",
      "6\n",
      "7\n",
      "8\n",
      "9\n",
      "10\n"
     ]
    }
   ],
   "source": [
    "# Prompt the user to enter a range, and convert the input to an integer\n",
    "n = int(input(\"Enter the range of counting: \"))\n",
    "\n",
    "# This for loop iterates from 1 to 'n' (inclusive)\n",
    "for i in range(1, n + 1):\n",
    "    # Print the current value of 'i'\n",
    "    print(i)\n"
   ]
  },
  {
   "cell_type": "markdown",
   "id": "4fc5c973-d4fd-4090-80d1-a9280e0bbd7c",
   "metadata": {},
   "source": [
    "2) Create a program that calculates the sum of all numbers in a list using a for loop.\r\n",
    "\r\n"
   ]
  },
  {
   "cell_type": "code",
   "execution_count": 7,
   "id": "644720ff-adf3-49f3-a052-7e38d6e42821",
   "metadata": {},
   "outputs": [
    {
     "name": "stdin",
     "output_type": "stream",
     "text": [
      "Enter the numbers you want to sum:  66\n"
     ]
    },
    {
     "name": "stdout",
     "output_type": "stream",
     "text": [
      "2211\n"
     ]
    }
   ],
   "source": [
    "# Prompt the user to enter a number and convert it to an integer\n",
    "n = int(input(\"Enter the numbers you want to sum: \"))\n",
    "\n",
    "# Initialize a variable 'sum' to store the sum of numbers\n",
    "sum = 0\n",
    "\n",
    "# Start a loop that goes from 1 to 'n' (inclusive)\n",
    "for i in range(1, n + 1):\n",
    "    # Add the current value of 'i' to the running sum\n",
    "    sum = sum + i\n",
    "\n",
    "# Print the final sum\n",
    "print(sum)\n"
   ]
  },
  {
   "cell_type": "markdown",
   "id": "18388154-22c9-48d7-b2fd-5917ec24a94e",
   "metadata": {},
   "source": [
    "3) Write a program to print the characters of a string in reverse order using a for loop.\n",
    "\n"
   ]
  },
  {
   "cell_type": "code",
   "execution_count": 9,
   "id": "1d3f4659-7200-4c0e-ac88-6bf9d20f50f1",
   "metadata": {},
   "outputs": [
    {
     "name": "stdin",
     "output_type": "stream",
     "text": [
      "Enter a string:  Aftab\n"
     ]
    },
    {
     "name": "stdout",
     "output_type": "stream",
     "text": [
      "Reversed string: batfA\n"
     ]
    }
   ],
   "source": [
    "# Input a string from the user\n",
    "input_string = input(\"Enter a string: \")\n",
    "\n",
    "# Initialize an empty string to store the reversed string\n",
    "reversed_string = \"\"\n",
    "\n",
    "# Use a for loop to iterate through the input string in reverse order\n",
    "for char in reversed(input_string):\n",
    "    # Add each character to the reversed string\n",
    "    reversed_string += char\n",
    "\n",
    "# Print the reversed string\n",
    "print(\"Reversed string:\", reversed_string)"
   ]
  },
  {
   "cell_type": "markdown",
   "id": "80d2a61a-9302-4008-8be5-dd12033a753c",
   "metadata": {},
   "source": [
    "4). Develop a program that finds the factorial of a given number using a for loop."
   ]
  },
  {
   "cell_type": "code",
   "execution_count": 11,
   "id": "68fa11c6-495f-4202-8e0b-87744b8440e1",
   "metadata": {},
   "outputs": [
    {
     "name": "stdin",
     "output_type": "stream",
     "text": [
      "Enter the number for factorial:  33\n"
     ]
    },
    {
     "name": "stdout",
     "output_type": "stream",
     "text": [
      "8683317618811886495518194401280000000\n"
     ]
    }
   ],
   "source": [
    "# Prompt the user to enter a number and convert it to an integer\n",
    "n = int(input(\"Enter the number for factorial: \"))\n",
    "\n",
    "# Initialize a variable 'fact' to store the factorial, and set it to 1\n",
    "fact = 1\n",
    "\n",
    "# Start a loop that goes from 1 to 'n' (inclusive)\n",
    "for i in range(1, n + 1):\n",
    "    # Multiply 'fact' by the current value of 'i' and update 'fact'\n",
    "    fact = fact * i\n",
    "\n",
    "# Print the final factorial value\n",
    "print(fact)"
   ]
  },
  {
   "cell_type": "markdown",
   "id": "7a9afa42-780f-40ad-b98e-ed4085965924",
   "metadata": {},
   "source": [
    "5) Create a program to print the multiplication table of a given number using a for loop.\n",
    "\n"
   ]
  },
  {
   "cell_type": "code",
   "execution_count": 13,
   "id": "f69f8957-c263-4aed-aa6a-e27abca87237",
   "metadata": {},
   "outputs": [
    {
     "name": "stdin",
     "output_type": "stream",
     "text": [
      "Enter the table you want:  55\n"
     ]
    },
    {
     "name": "stdout",
     "output_type": "stream",
     "text": [
      "55 * 1 = 55\n",
      "55 * 2 = 110\n",
      "55 * 3 = 165\n",
      "55 * 4 = 220\n",
      "55 * 5 = 275\n",
      "55 * 6 = 330\n",
      "55 * 7 = 385\n",
      "55 * 8 = 440\n",
      "55 * 9 = 495\n",
      "55 * 10 = 550\n"
     ]
    }
   ],
   "source": [
    "# Prompt the user to enter a number and convert it to an integer\n",
    "table = int(input(\"Enter the table you want: \"))\n",
    "\n",
    "# Use a for loop to generate and print the multiplication table\n",
    "for i in range(1, 11):\n",
    "    # Calculate the product of 'table' and 'i' and print it in the format \"table * i = result\"\n",
    "    print(table, '*', i, '=', table * i)\n"
   ]
  },
  {
   "cell_type": "markdown",
   "id": "2f31ed2a-1f12-49ca-9cc9-6bc0d20edf4a",
   "metadata": {},
   "source": [
    "6)Write a program that counts the number of even and odd numbers in a list using a for loop.\n",
    "\n"
   ]
  },
  {
   "cell_type": "code",
   "execution_count": 15,
   "id": "b96b7186-9bee-42b0-8e01-b39a95c66c74",
   "metadata": {},
   "outputs": [
    {
     "name": "stdin",
     "output_type": "stream",
     "text": [
      "Enter the range of numbers:  22\n"
     ]
    },
    {
     "name": "stdout",
     "output_type": "stream",
     "text": [
      "The count of even numbers is: 11\n",
      "The count of odd numbers is: 11\n"
     ]
    }
   ],
   "source": [
    "# Prompt the user to enter a range (maximum number) and convert it to an integer\n",
    "n = int(input(\"Enter the range of numbers: \"))\n",
    "\n",
    "# Initialize counters for even and odd numbers to 0\n",
    "count_even = 0\n",
    "count_odd = 0\n",
    "\n",
    "# Use a for loop to iterate from 1 to 'n' (inclusive)\n",
    "for i in range(1, n + 1):\n",
    "    # Check if 'i' is even (divisible by 2)\n",
    "    if i % 2 == 0:\n",
    "        # If 'i' is even, increment the count of even numbers\n",
    "        count_even += 1\n",
    "    else:\n",
    "        # If 'i' is not even (odd), increment the count of odd numbers\n",
    "        count_odd += 1\n",
    "\n",
    "# Print the counts of even and odd numbers\n",
    "print(\"The count of even numbers is:\", count_even)\n",
    "print(\"The count of odd numbers is:\", count_odd)\n"
   ]
  },
  {
   "cell_type": "markdown",
   "id": "d787eef4-9077-463d-a659-0432573a2ce6",
   "metadata": {},
   "source": [
    "7)Develop a program that prints the squares of numbers from 1 to 5 using a for loop."
   ]
  },
  {
   "cell_type": "code",
   "execution_count": 17,
   "id": "3fe34c3a-7fb3-4849-aaef-9cc510865ea1",
   "metadata": {},
   "outputs": [
    {
     "name": "stdin",
     "output_type": "stream",
     "text": [
      "Enter the range of numbers:  10\n"
     ]
    },
    {
     "name": "stdout",
     "output_type": "stream",
     "text": [
      "1 ** 2 = 1\n",
      "2 ** 2 = 4\n",
      "3 ** 2 = 9\n",
      "4 ** 2 = 16\n",
      "5 ** 2 = 25\n",
      "6 ** 2 = 36\n",
      "7 ** 2 = 49\n",
      "8 ** 2 = 64\n",
      "9 ** 2 = 81\n",
      "10 ** 2 = 100\n"
     ]
    }
   ],
   "source": [
    "# Prompt the user to enter a range (maximum number) and convert it to an integer\n",
    "n = int(input(\"Enter the range of numbers: \"))\n",
    "\n",
    "# Use a for loop to iterate from 1 to 'n' (inclusive)\n",
    "for i in range(1, n + 1):\n",
    "    # Calculate and print the square of each number in the format \"number ** 2 = result\"\n",
    "    print(i, '**', 2, '=', i ** 2)\n"
   ]
  },
  {
   "cell_type": "markdown",
   "id": "c66c41ff-8ce1-40d9-90d3-055b239bfad3",
   "metadata": {},
   "source": [
    "8) Create a program to find the length of a string without using the len() function.\n",
    "\n"
   ]
  },
  {
   "cell_type": "code",
   "execution_count": 19,
   "id": "802768d7-0703-4318-89e9-918504956f1b",
   "metadata": {},
   "outputs": [
    {
     "name": "stdin",
     "output_type": "stream",
     "text": [
      "Enter any string:  aftab\n"
     ]
    },
    {
     "name": "stdout",
     "output_type": "stream",
     "text": [
      "The length of the string is: 5\n"
     ]
    }
   ],
   "source": [
    "# Prompt the user to enter a string and store it in the variable 'stri'\n",
    "stri = input(\"Enter any string: \")\n",
    "\n",
    "# Initialize a counter 'count' to 0 to keep track of the string's length\n",
    "count = 0\n",
    "\n",
    "# Use a for loop to iterate through each character in the string\n",
    "for _ in stri:\n",
    "    # For each character, increment the 'count' by 1\n",
    "    count += 1\n",
    "\n",
    "# Print the length of the string\n",
    "print(\"The length of the string is:\", count)\n"
   ]
  },
  {
   "cell_type": "markdown",
   "id": "4194d885-545e-407a-89d3-d6f2064de12a",
   "metadata": {},
   "source": [
    "9) Write a program that calculates the average of a list of numbers using a for loop.\n",
    "\n"
   ]
  },
  {
   "cell_type": "code",
   "execution_count": 20,
   "id": "8910e1a6-5c28-4267-b9e1-e280a45c2e1c",
   "metadata": {},
   "outputs": [
    {
     "name": "stdout",
     "output_type": "stream",
     "text": [
      "46.5\n"
     ]
    }
   ],
   "source": [
    "# Define a list of numbers\n",
    "lis = [18, 90, 88, 18, 56, 9]\n",
    "\n",
    "# Find the length of the list\n",
    "length_of_list = len(lis)\n",
    "\n",
    "# Initialize a variable 'sum' to keep track of the sum of numbers in the list\n",
    "sum = 0\n",
    "\n",
    "# Use a for loop to iterate through each number in the list\n",
    "for i in lis:\n",
    "    # Add the current number 'i' to the running sum\n",
    "    sum += i\n",
    "\n",
    "# Calculate the average by dividing the sum by the length of the list\n",
    "average = sum / length_of_list\n",
    "\n",
    "# Print the calculated average\n",
    "print(average)\n"
   ]
  },
  {
   "cell_type": "markdown",
   "id": "0e513b0c-e9f8-4d54-9908-ceaca6cd72f4",
   "metadata": {},
   "source": [
    "10) Develop a program that prints the first n Fibonacci numbers using a for loop.\n",
    "\n"
   ]
  },
  {
   "cell_type": "code",
   "execution_count": 23,
   "id": "86f388f4-8704-46f1-b882-b923c7c500a9",
   "metadata": {},
   "outputs": [
    {
     "name": "stdin",
     "output_type": "stream",
     "text": [
      "Enter the number of Fibonacci numbers you want:  10\n"
     ]
    },
    {
     "name": "stdout",
     "output_type": "stream",
     "text": [
      "[0, 1, 1, 2, 3, 5, 8, 13, 21, 34, 55]\n"
     ]
    }
   ],
   "source": [
    "# Prompt the user to enter the number of Fibonacci numbers they want\n",
    "n = int(input(\"Enter the number of Fibonacci numbers you want: \"))\n",
    "\n",
    "# Initialize a list 'first_fib' with the first two Fibonacci numbers\n",
    "first_fib = [0, 1]\n",
    "\n",
    "# Use a for loop to generate the remaining Fibonacci numbers\n",
    "for i in range(2, n + 1):\n",
    "    # Calculate the next Fibonacci number by adding the last two numbers\n",
    "    next_fib = first_fib[i - 1] + first_fib[i - 2]\n",
    "    \n",
    "    # Append the next Fibonacci number to the 'first_fib' list\n",
    "    first_fib.append(next_fib)\n",
    "\n",
    "# Print the list of Fibonacci numbers\n",
    "print(first_fib)\n"
   ]
  },
  {
   "cell_type": "markdown",
   "id": "f577932e-6923-4bad-a1e9-89ba7297f4b0",
   "metadata": {},
   "source": [
    "INTERMEDIATE LEVEL:"
   ]
  },
  {
   "cell_type": "markdown",
   "id": "a7ccccd9-2470-47e0-aed4-f6c15324d5be",
   "metadata": {},
   "source": [
    "11) Write a program to check if a given list contains any duplicates using a for loop."
   ]
  },
  {
   "cell_type": "code",
   "execution_count": 26,
   "id": "8f705990-321f-4f82-9465-89e208873821",
   "metadata": {},
   "outputs": [
    {
     "name": "stdin",
     "output_type": "stream",
     "text": [
      "Enter a list of elements separated by spaces:  AFTAB\n"
     ]
    },
    {
     "ename": "ValueError",
     "evalue": "invalid literal for int() with base 10: 'AFTAB'",
     "output_type": "error",
     "traceback": [
      "\u001b[1;31m---------------------------------------------------------------------------\u001b[0m",
      "\u001b[1;31mValueError\u001b[0m                                Traceback (most recent call last)",
      "Cell \u001b[1;32mIn[26], line 5\u001b[0m\n\u001b[0;32m      2\u001b[0m input_list \u001b[38;5;241m=\u001b[39m \u001b[38;5;28minput\u001b[39m(\u001b[38;5;124m\"\u001b[39m\u001b[38;5;124mEnter a list of elements separated by spaces: \u001b[39m\u001b[38;5;124m\"\u001b[39m)\u001b[38;5;241m.\u001b[39msplit()\n\u001b[0;32m      4\u001b[0m \u001b[38;5;66;03m# Convert the input elements to integers (assuming integers are expected)\u001b[39;00m\n\u001b[1;32m----> 5\u001b[0m input_list \u001b[38;5;241m=\u001b[39m [\u001b[38;5;28;43mint\u001b[39;49m\u001b[43m(\u001b[49m\u001b[43mitem\u001b[49m\u001b[43m)\u001b[49m \u001b[38;5;28;01mfor\u001b[39;00m item \u001b[38;5;129;01min\u001b[39;00m input_list]\n\u001b[0;32m      7\u001b[0m \u001b[38;5;66;03m# Initialize an empty list to store unique elements\u001b[39;00m\n\u001b[0;32m      8\u001b[0m unique_elements \u001b[38;5;241m=\u001b[39m []\n",
      "\u001b[1;31mValueError\u001b[0m: invalid literal for int() with base 10: 'AFTAB'"
     ]
    }
   ],
   "source": [
    "# Input a list from the user\n",
    "input_list = input(\"Enter a list of elements separated by spaces: \").split()\n",
    "\n",
    "# Convert the input elements to integers (assuming integers are expected)\n",
    "input_list = [int(item) for item in input_list]\n",
    "\n",
    "# Initialize an empty list to store unique elements\n",
    "unique_elements = []\n",
    "\n",
    "# Initialize a flag to indicate if duplicates are found\n",
    "has_duplicates = False\n",
    "\n",
    "# Use a for loop to iterate through the input list\n",
    "for item in input_list:\n",
    "    # If the current item is already in the unique_elements list, it's a duplicate\n",
    "    if item in unique_elements:\n",
    "        has_duplicates = True\n",
    "        break  # Break the loop if a duplicate is found\n",
    "    else:\n",
    "        unique_elements.append(item)  # Add the item to the unique_elements list\n",
    "\n",
    "# Check the flag and print the result\n",
    "if has_duplicates:\n",
    "    print(\"The list contains duplicates.\")\n",
    "else:\n",
    "    print(\"The list does not contain duplicates.\")"
   ]
  },
  {
   "cell_type": "markdown",
   "id": "5b7bc68c-5372-4982-81f1-29d7c64bc679",
   "metadata": {},
   "source": [
    "12) Create a program that prints the prime numbers in a given range using a for loop.\n",
    "\n"
   ]
  },
  {
   "cell_type": "code",
   "execution_count": 28,
   "id": "76c3aed4-09e4-4fe3-bbe0-8916538fcc52",
   "metadata": {},
   "outputs": [
    {
     "name": "stdin",
     "output_type": "stream",
     "text": [
      "Enter the range of the prime numbers you want:  10\n"
     ]
    },
    {
     "name": "stdout",
     "output_type": "stream",
     "text": [
      "2\n",
      "3\n",
      "5\n",
      "7\n"
     ]
    }
   ],
   "source": [
    "# Get the range of prime numbers you want from the user\n",
    "n = int(input(\"Enter the range of the prime numbers you want: \"))\n",
    "\n",
    "# Loop through numbers from 2 to the specified range (inclusive)\n",
    "for i in range(2, n + 1):\n",
    "    # For each number 'i', check its divisibility by numbers from 2 to 'i-1'\n",
    "    for j in range(2, i):\n",
    "        # If 'i' is divisible by 'j' without a remainder, it's not prime, so break the loop\n",
    "        if i % j == 0:\n",
    "            break\n",
    "    else:\n",
    "        # If 'i' is not divisible by any 'j' without a remainder, it's prime, so print it\n",
    "        print(i)\n"
   ]
  },
  {
   "cell_type": "markdown",
   "id": "f15ddc07-f4d0-47ee-b210-d1fc7515dc02",
   "metadata": {},
   "source": [
    "13) Develop a program that counts the number of vowels in a string using a for loop.\n",
    "\n"
   ]
  },
  {
   "cell_type": "code",
   "execution_count": 29,
   "id": "15762bcb-c81e-44f7-bfcc-4a94f86ab9a8",
   "metadata": {},
   "outputs": [
    {
     "name": "stdin",
     "output_type": "stream",
     "text": [
      "Enter any string:  aftab\n"
     ]
    },
    {
     "name": "stdout",
     "output_type": "stream",
     "text": [
      "The count of vowels in the string is: 2\n"
     ]
    }
   ],
   "source": [
    "# Get a string input from the user\n",
    "inp_str = input(\"Enter any string: \")\n",
    "\n",
    "# Define a string containing all the vowels (both lowercase and uppercase)\n",
    "vowels = 'aeiouAEIOU'\n",
    "\n",
    "# Initialize a counter to keep track of the count of vowels in the string\n",
    "counter = 0\n",
    "\n",
    "# Iterate through each character in the input string\n",
    "for char in inp_str:\n",
    "    # Check if the current character 'char' is in the 'vowels' string\n",
    "    if char in vowels:\n",
    "        # If 'char' is a vowel, increment the counter\n",
    "        counter += 1\n",
    "\n",
    "# Print the count of vowels found in the string\n",
    "print(\"The count of vowels in the string is:\", counter)\n"
   ]
  },
  {
   "cell_type": "markdown",
   "id": "b545ce5f-f8e7-41b7-a92b-4ceb31317787",
   "metadata": {},
   "source": [
    "14) Write a program to find the maximum element in a 2D list using a nested for loop.\n",
    "\n"
   ]
  },
  {
   "cell_type": "code",
   "execution_count": 31,
   "id": "b48a9bd7-3f71-43c0-9718-0dde00158816",
   "metadata": {},
   "outputs": [
    {
     "name": "stdout",
     "output_type": "stream",
     "text": [
      "The maximum element in the 2D list is: 6488757\n"
     ]
    }
   ],
   "source": [
    "# Given 2D list\n",
    "matrix = [[134,6488757,123,546,789]]\n",
    "\n",
    "# Initialize the maximum element with the first element of the list.\n",
    "max_element = matrix[0][0]\n",
    "\n",
    "# Use nested for loops to find the maximum element in the 2D list.\n",
    "for row in matrix:\n",
    "    for element in row:\n",
    "        if element > max_element:\n",
    "            max_element = element\n",
    "\n",
    "# Display the maximum element.\n",
    "print(f\"The maximum element in the 2D list is: {max_element}\")\n"
   ]
  },
  {
   "cell_type": "markdown",
   "id": "6ce2bda0-dd5d-4f5e-bbe5-0ed9cfc0340b",
   "metadata": {},
   "source": [
    "15) Create a program that removes all occurrences of a specific element from a list using a for loop.\n",
    "\n"
   ]
  },
  {
   "cell_type": "code",
   "execution_count": 33,
   "id": "76b1782f-6bf5-4e76-9a2d-78beddd40749",
   "metadata": {},
   "outputs": [
    {
     "name": "stdin",
     "output_type": "stream",
     "text": [
      "Enter the elements of the list separated by space:  12\n",
      "Enter the element you want to remove:  2\n"
     ]
    },
    {
     "name": "stdout",
     "output_type": "stream",
     "text": [
      "[12]\n"
     ]
    }
   ],
   "source": [
    "# Get a string of space-separated elements from the user and split it into a list\n",
    "inp_lis = input(\"Enter the elements of the list separated by space: \").split()\n",
    "\n",
    "# Convert the elements to integers and store them in inp_lis\n",
    "inp_lis = [int(i) for i in inp_lis]\n",
    "\n",
    "# Initialize an empty list to store the updated elements\n",
    "updated_lis = []\n",
    "\n",
    "# Get the element the user wants to remove\n",
    "element_to_remove = int(input(\"Enter the element you want to remove: \"))\n",
    "\n",
    "# Iterate through each element in the inp_lis\n",
    "for element in inp_lis:\n",
    "    # Check if the current element is equal to the element_to_remove\n",
    "    if element != element_to_remove:\n",
    "        # If not equal, add it to the updated_lis\n",
    "        updated_lis.append(element)\n",
    "\n",
    "# Print the updated list without the specified element\n",
    "print(updated_lis)\n"
   ]
  },
  {
   "cell_type": "markdown",
   "id": "3cdcb989-2dea-45c1-92ac-9563c200f2b1",
   "metadata": {},
   "source": [
    "16) Develop a program that generates a multiplication table for numbers from 1 to 5 using a nested for loop.\n",
    "\n"
   ]
  },
  {
   "cell_type": "code",
   "execution_count": 34,
   "id": "6485bd7b-5d53-4aa5-9267-9f4212f053fa",
   "metadata": {},
   "outputs": [
    {
     "name": "stdin",
     "output_type": "stream",
     "text": [
      "Enter the tables you want:  6\n"
     ]
    },
    {
     "name": "stdout",
     "output_type": "stream",
     "text": [
      "Table of 1:\n",
      "1 * 1 = 1\n",
      "1 * 2 = 2\n",
      "1 * 3 = 3\n",
      "1 * 4 = 4\n",
      "1 * 5 = 5\n",
      "1 * 6 = 6\n",
      "1 * 7 = 7\n",
      "1 * 8 = 8\n",
      "1 * 9 = 9\n",
      "1 * 10 = 10\n",
      "Table of 2:\n",
      "2 * 1 = 2\n",
      "2 * 2 = 4\n",
      "2 * 3 = 6\n",
      "2 * 4 = 8\n",
      "2 * 5 = 10\n",
      "2 * 6 = 12\n",
      "2 * 7 = 14\n",
      "2 * 8 = 16\n",
      "2 * 9 = 18\n",
      "2 * 10 = 20\n",
      "Table of 3:\n",
      "3 * 1 = 3\n",
      "3 * 2 = 6\n",
      "3 * 3 = 9\n",
      "3 * 4 = 12\n",
      "3 * 5 = 15\n",
      "3 * 6 = 18\n",
      "3 * 7 = 21\n",
      "3 * 8 = 24\n",
      "3 * 9 = 27\n",
      "3 * 10 = 30\n",
      "Table of 4:\n",
      "4 * 1 = 4\n",
      "4 * 2 = 8\n",
      "4 * 3 = 12\n",
      "4 * 4 = 16\n",
      "4 * 5 = 20\n",
      "4 * 6 = 24\n",
      "4 * 7 = 28\n",
      "4 * 8 = 32\n",
      "4 * 9 = 36\n",
      "4 * 10 = 40\n",
      "Table of 5:\n",
      "5 * 1 = 5\n",
      "5 * 2 = 10\n",
      "5 * 3 = 15\n",
      "5 * 4 = 20\n",
      "5 * 5 = 25\n",
      "5 * 6 = 30\n",
      "5 * 7 = 35\n",
      "5 * 8 = 40\n",
      "5 * 9 = 45\n",
      "5 * 10 = 50\n",
      "Table of 6:\n",
      "6 * 1 = 6\n",
      "6 * 2 = 12\n",
      "6 * 3 = 18\n",
      "6 * 4 = 24\n",
      "6 * 5 = 30\n",
      "6 * 6 = 36\n",
      "6 * 7 = 42\n",
      "6 * 8 = 48\n",
      "6 * 9 = 54\n",
      "6 * 10 = 60\n"
     ]
    }
   ],
   "source": [
    "# Get the number of tables the user wants to print from the user\n",
    "tbls = int(input(\"Enter the tables you want: \"))\n",
    "\n",
    "# Outer loop: Iterate through each table from 1 to the specified number\n",
    "for i in range(1, tbls + 1):\n",
    "    # Print a header indicating the current table\n",
    "    print(f\"Table of {i}:\")\n",
    "\n",
    "    # Inner loop: Iterate through numbers from 1 to 10 for multiplication\n",
    "    for j in range(1, 11):\n",
    "        # Print the multiplication expression and result\n",
    "        print(i, '*', j, '=', i * j)\n"
   ]
  },
  {
   "cell_type": "markdown",
   "id": "e12d504e-886b-470b-89bd-ea841631975d",
   "metadata": {},
   "source": [
    "17) Write a program that converts a list of Fahrenheit temperatures to Celsius using a for loop.\n",
    "\n"
   ]
  },
  {
   "cell_type": "code",
   "execution_count": 36,
   "id": "e6fe7de6-cc0c-4a89-891f-010ea1fb0ec5",
   "metadata": {},
   "outputs": [
    {
     "name": "stdout",
     "output_type": "stream",
     "text": [
      "Fahrenheit temperature list: [107.3, 100.9, 102, 97.9, 84.6, 77.6, 65.3]\n",
      "Celsius temperature list: [41.83, 38.28, 38.89, 36.61, 29.22, 25.33, 18.5]\n"
     ]
    }
   ],
   "source": [
    "# Define a list of temperatures in Fahrenheit\n",
    "farh_lis = [107.3, 100.9, 102, 97.9, 84.6, 77.6, 65.3]\n",
    "\n",
    "# Create an empty list to store the temperatures converted to Celsius\n",
    "cel_lis = []\n",
    "\n",
    "# Loop through each temperature in the farh_lis\n",
    "for temp in farh_lis:\n",
    "    # Convert each Fahrenheit temperature to Celsius using the formula: (Fahrenheit - 32) * (5/9)\n",
    "    celsius_temp = (temp - 32) * (5/9)\n",
    "    \n",
    "    # Append the converted Celsius temperature to the cel_lis\n",
    "    cel_lis.append(celsius_temp)\n",
    "\n",
    "# Use a list comprehension to round each element in cel_lis to 2 decimal places\n",
    "cel_lis = [round(num, 2) for num in cel_lis]\n",
    "\n",
    "# Print the original Fahrenheit temperature list\n",
    "print(\"Fahrenheit temperature list:\", farh_lis)\n",
    "\n",
    "# Print the converted Celsius temperature list\n",
    "print(\"Celsius temperature list:\", cel_lis)\n",
    "# Define two lists\n",
    "lis1 = [1, 2, 3, 4, 5, 6, 7, 8, 9, 10]\n",
    "lis2 = [6, 7, 8, 9, 10, 11, 12]\n",
    "\n",
    "# Initialize an empty list to store the common elements\n",
    "common_elements = []\n",
    "\n",
    "# Loop through elements in lis1\n",
    "for element1 in lis1:\n",
    "    # Loop through elements in lis2\n",
    "    for element2 in lis2:\n",
    "        # Check if the current element from lis1 is equal to the current element from lis2\n",
    "        if element1 == element2:\n",
    "            # If they are equal and not already in the common_elements list, add them\n",
    "            if element1 not in common_elements:\n",
    "                common_elements.append(element1)\n",
    "\n",
    "# Print the common elements between lis1 and lis2\n",
    "print(\"The common elements between both lists are:\", common_elements)\n"
   ]
  },
  {
   "cell_type": "markdown",
   "id": "0449ec88-0884-45fe-a64b-e5f47a59f2e2",
   "metadata": {},
   "source": [
    "18) Create a program to print the common elements from two lists using a for loop.\n",
    "\n"
   ]
  },
  {
   "cell_type": "code",
   "execution_count": 38,
   "id": "8b7b1de2-0d5b-4628-8537-7bc3cfb8b878",
   "metadata": {},
   "outputs": [
    {
     "name": "stdout",
     "output_type": "stream",
     "text": [
      "The common elements between both lists are: [6, 7, 8, 9, 10]\n"
     ]
    }
   ],
   "source": [
    "# Define two lists\n",
    "lis1 = [1, 2, 3, 4, 5, 6, 7, 8, 9, 10]\n",
    "lis2 = [6, 7, 8, 9, 10, 11, 12]\n",
    "\n",
    "# Initialize an empty list to store the common elements\n",
    "common_elements = []\n",
    "\n",
    "# Loop through elements in lis1\n",
    "for element1 in lis1:\n",
    "    # Loop through elements in lis2\n",
    "    for element2 in lis2:\n",
    "        # Check if the current element from lis1 is equal to the current element from lis2\n",
    "        if element1 == element2:\n",
    "            # If they are equal and not already in the common_elements list, add them\n",
    "            if element1 not in common_elements:\n",
    "                common_elements.append(element1)\n",
    "\n",
    "# Print the common elements between lis1 and lis2\n",
    "print(\"The common elements between both lists are:\", common_elements)\n"
   ]
  },
  {
   "cell_type": "markdown",
   "id": "581f23fa-457b-46cd-b5d6-c5cd3f8ee9fd",
   "metadata": {},
   "source": [
    "19) Develop a program that prints the pattern of right-angled triangles using a for loop. Use ‘*’ to draw the pattern"
   ]
  },
  {
   "cell_type": "code",
   "execution_count": 39,
   "id": "b262262d-623a-448c-b9f0-085fff2844bc",
   "metadata": {},
   "outputs": [
    {
     "name": "stdin",
     "output_type": "stream",
     "text": [
      "Enter the number of rows for the right-angled triangle:  6\n"
     ]
    },
    {
     "name": "stdout",
     "output_type": "stream",
     "text": [
      "* \n",
      "* * \n",
      "* * * \n",
      "* * * * \n",
      "* * * * * \n",
      "* * * * * * \n"
     ]
    }
   ],
   "source": [
    "# Define the number of rows for the triangle\n",
    "n = int(input(\"Enter the number of rows for the right-angled triangle: \"))\n",
    "\n",
    "# Outer loop: Iterate through each row\n",
    "for i in range(1, n + 1):\n",
    "    # Inner loop: Print asterisks (*) for each column in the current row\n",
    "    for j in range(i):\n",
    "        print(\"*\", end=\" \")  # Use end=\" \" to print asterisks on the same line\n",
    "    print()  # Move to the next line after printing each row"
   ]
  },
  {
   "cell_type": "markdown",
   "id": "3e8d48f9-0998-46b6-b45d-4e7df986a5b0",
   "metadata": {},
   "source": [
    "20)Write a program to find the greatest common divisor (GCD) of two numbers using a for loop.\n",
    "\n"
   ]
  },
  {
   "cell_type": "code",
   "execution_count": 41,
   "id": "07f2ed98-76c4-445c-9dfc-937bcc055e77",
   "metadata": {},
   "outputs": [
    {
     "name": "stdin",
     "output_type": "stream",
     "text": [
      "Enter the first number:  2\n",
      "Enter the second number:  3\n"
     ]
    },
    {
     "name": "stdout",
     "output_type": "stream",
     "text": [
      "The GCD of 2 and 3 is 1\n"
     ]
    }
   ],
   "source": [
    "# Function to find the GCD of two numbers using a for loop\n",
    "def gcd(num1, num2):\n",
    "    # Find the smaller of the two numbers\n",
    "    if num1 < num2:\n",
    "        smaller = num1\n",
    "    else:\n",
    "        smaller = num2\n",
    "\n",
    "    # Initialize a variable to store the GCD\n",
    "    gcd_result = 1\n",
    "\n",
    "    # Iterate from 1 to the smaller number\n",
    "    for i in range(1, smaller + 1):\n",
    "        # Check if both numbers are divisible by the current value of i\n",
    "        if num1 % i == 0 and num2 % i == 0:\n",
    "            gcd_result = i  # Update the GCD if both are divisible\n",
    "\n",
    "    return gcd_result\n",
    "\n",
    "# Get input from the user for the two numbers\n",
    "num1 = int(input(\"Enter the first number: \"))\n",
    "num2 = int(input(\"Enter the second number: \"))\n",
    "\n",
    "# Calculate the GCD using the gcd() function\n",
    "result = gcd(num1, num2)\n",
    "\n",
    "# Print the GCD\n",
    "print(f\"The GCD of {num1} and {num2} is {result}\")\n"
   ]
  },
  {
   "cell_type": "markdown",
   "id": "d31a888c-aee6-4963-8bde-a2bf34414a95",
   "metadata": {},
   "source": [
    "ADVANCED LEVEL:"
   ]
  },
  {
   "cell_type": "markdown",
   "id": "8ac47e1a-e6c7-441e-a5ac-ea2cf88a4864",
   "metadata": {},
   "source": [
    "21) Create a program that calculates the sum of the digits of numbers in a list using a list comprehension."
   ]
  },
  {
   "cell_type": "code",
   "execution_count": 43,
   "id": "3d2c2d66-9a1d-4ef0-b187-a6d2e663f837",
   "metadata": {},
   "outputs": [
    {
     "name": "stdin",
     "output_type": "stream",
     "text": [
      "Enter the elements of the list separated by space:  23\n"
     ]
    },
    {
     "ename": "TypeError",
     "evalue": "'int' object is not callable",
     "output_type": "error",
     "traceback": [
      "\u001b[1;31m---------------------------------------------------------------------------\u001b[0m",
      "\u001b[1;31mTypeError\u001b[0m                                 Traceback (most recent call last)",
      "Cell \u001b[1;32mIn[43], line 22\u001b[0m\n\u001b[0;32m     19\u001b[0m input_list \u001b[38;5;241m=\u001b[39m [\u001b[38;5;28mint\u001b[39m(i) \u001b[38;5;28;01mfor\u001b[39;00m i \u001b[38;5;129;01min\u001b[39;00m input_list]\n\u001b[0;32m     21\u001b[0m \u001b[38;5;66;03m# Call the sum_digit function with the input list and store the result in 'result'.\u001b[39;00m\n\u001b[1;32m---> 22\u001b[0m result \u001b[38;5;241m=\u001b[39m \u001b[43msum_digit\u001b[49m\u001b[43m(\u001b[49m\u001b[43minput_list\u001b[49m\u001b[43m)\u001b[49m\n\u001b[0;32m     24\u001b[0m \u001b[38;5;66;03m# Print the list of sums obtained from the function.\u001b[39;00m\n\u001b[0;32m     25\u001b[0m \u001b[38;5;28mprint\u001b[39m(\u001b[38;5;124m\"\u001b[39m\u001b[38;5;124mThe list having the sum of the digits are:\u001b[39m\u001b[38;5;124m\"\u001b[39m, result)\n",
      "Cell \u001b[1;32mIn[43], line 9\u001b[0m, in \u001b[0;36msum_digit\u001b[1;34m(numbers_list)\u001b[0m\n\u001b[0;32m      2\u001b[0m \u001b[38;5;28;01mdef\u001b[39;00m \u001b[38;5;21msum_digit\u001b[39m(numbers_list):\n\u001b[0;32m      3\u001b[0m     \u001b[38;5;66;03m# Create a new list called sum_of_digit using a list comprehension.\u001b[39;00m\n\u001b[0;32m      4\u001b[0m     \u001b[38;5;66;03m# For each number in numbers_list, do the following:\u001b[39;00m\n\u001b[1;32m   (...)\u001b[0m\n\u001b[0;32m      7\u001b[0m     \u001b[38;5;66;03m#   - Convert each digit back to an integer using int(digit).\u001b[39;00m\n\u001b[0;32m      8\u001b[0m     \u001b[38;5;66;03m#   - Calculate the sum of these digits using the sum() function.\u001b[39;00m\n\u001b[1;32m----> 9\u001b[0m     sum_of_digit \u001b[38;5;241m=\u001b[39m [\u001b[38;5;28;43msum\u001b[39;49m\u001b[43m(\u001b[49m\u001b[38;5;28;43mint\u001b[39;49m\u001b[43m(\u001b[49m\u001b[43mdigit\u001b[49m\u001b[43m)\u001b[49m\u001b[43m \u001b[49m\u001b[38;5;28;43;01mfor\u001b[39;49;00m\u001b[43m \u001b[49m\u001b[43mdigit\u001b[49m\u001b[43m \u001b[49m\u001b[38;5;129;43;01min\u001b[39;49;00m\u001b[43m \u001b[49m\u001b[38;5;28;43mstr\u001b[39;49m\u001b[43m(\u001b[49m\u001b[43mnumber\u001b[49m\u001b[43m)\u001b[49m\u001b[43m)\u001b[49m \u001b[38;5;28;01mfor\u001b[39;00m number \u001b[38;5;129;01min\u001b[39;00m numbers_list]\n\u001b[0;32m     11\u001b[0m     \u001b[38;5;66;03m# Return the list of sums.\u001b[39;00m\n\u001b[0;32m     12\u001b[0m     \u001b[38;5;28;01mreturn\u001b[39;00m sum_of_digit\n",
      "\u001b[1;31mTypeError\u001b[0m: 'int' object is not callable"
     ]
    }
   ],
   "source": [
    "# Define a function called sum_digit that takes a list of numbers as input.\n",
    "def sum_digit(numbers_list):\n",
    "    # Create a new list called sum_of_digit using a list comprehension.\n",
    "    # For each number in numbers_list, do the following:\n",
    "    #   - Convert the number to a string using str(number).\n",
    "    #   - Iterate through the digits in the string representation.\n",
    "    #   - Convert each digit back to an integer using int(digit).\n",
    "    #   - Calculate the sum of these digits using the sum() function.\n",
    "    sum_of_digit = [sum(int(digit) for digit in str(number)) for number in numbers_list]\n",
    "    \n",
    "    # Return the list of sums.\n",
    "    return sum_of_digit\n",
    "\n",
    "# Ask the user to input a list of numbers separated by spaces and split them into a list.\n",
    "input_str = input(\"Enter the elements of the list separated by space: \")\n",
    "input_list = input_str.split()\n",
    "\n",
    "# Convert the elements in the input list from strings to integers.\n",
    "input_list = [int(i) for i in input_list]\n",
    "\n",
    "# Call the sum_digit function with the input list and store the result in 'result'.\n",
    "result = sum_digit(input_list)\n",
    "\n",
    "# Print the list of sums obtained from the function.\n",
    "print(\"The list having the sum of the digits are:\", result)\n"
   ]
  },
  {
   "cell_type": "code",
   "execution_count": null,
   "id": "64c46cc4-d8ad-4baf-a05b-91e40d29fab6",
   "metadata": {},
   "outputs": [],
   "source": []
  }
 ],
 "metadata": {
  "kernelspec": {
   "display_name": "Python 3 (ipykernel)",
   "language": "python",
   "name": "python3"
  },
  "language_info": {
   "codemirror_mode": {
    "name": "ipython",
    "version": 3
   },
   "file_extension": ".py",
   "mimetype": "text/x-python",
   "name": "python",
   "nbconvert_exporter": "python",
   "pygments_lexer": "ipython3",
   "version": "3.12.1"
  }
 },
 "nbformat": 4,
 "nbformat_minor": 5
}
